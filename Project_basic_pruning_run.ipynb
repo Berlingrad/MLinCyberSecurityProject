{
  "nbformat": 4,
  "nbformat_minor": 0,
  "metadata": {
    "colab": {
      "name": "Project.ipynb",
      "provenance": [],
      "collapsed_sections": [],
      "include_colab_link": true
    },
    "kernelspec": {
      "name": "python3",
      "display_name": "Python 3"
    },
    "accelerator": "GPU"
  },
  "cells": [
    {
      "cell_type": "markdown",
      "metadata": {
        "id": "view-in-github",
        "colab_type": "text"
      },
      "source": [
        "<a href=\"https://colab.research.google.com/github/Berlingrad/MLinCyberSecurityProject/blob/BasicModelRun/Project.ipynb\" target=\"_parent\"><img src=\"https://colab.research.google.com/assets/colab-badge.svg\" alt=\"Open In Colab\"/></a>"
      ]
    },
    {
      "cell_type": "markdown",
      "metadata": {
        "id": "HGclO6eUuymx"
      },
      "source": [
        "#DNN Back Door Detector"
      ]
    },
    {
      "cell_type": "markdown",
      "metadata": {
        "id": "UNYtyNsgvHRl"
      },
      "source": [
        "## Preprocessing"
      ]
    },
    {
      "cell_type": "markdown",
      "metadata": {
        "id": "GiqLPbbVLs-w"
      },
      "source": [
        "###Data Download"
      ]
    },
    {
      "cell_type": "code",
      "metadata": {
        "colab": {
          "base_uri": "https://localhost:8080/"
        },
        "id": "puVie2-guvOg",
        "outputId": "00012eeb-42c4-4ace-99a6-ab3e4d3d68f7"
      },
      "source": [
        "!git clone https://github.com/csaw-hackml/CSAW-HackML-2020.git\n",
        "\n",
        "!gdown https://drive.google.com/uc?id=1P8PTL62x3cfpV9mrC0unqZjRFhlTTOSG\n",
        "!gdown https://drive.google.com/uc?id=19OKCkY2CjV3ASkOe6nMSYTsOVcxAoCnA\n",
        "!gdown https://drive.google.com/uc?id=1XtYnM-IopU-QYVc99U51EiDvI5zxK0nV\n",
        "\n",
        "!mv /content/*.h5 /content/CSAW-HackML-2020/data\n",
        "\n",
        "##!wget https://raw.githubusercontent.com/bolunwang/backdoor/master/visualizer.py"
      ],
      "execution_count": 1,
      "outputs": [
        {
          "output_type": "stream",
          "text": [
            "fatal: destination path 'CSAW-HackML-2020' already exists and is not an empty directory.\n",
            "Downloading...\n",
            "From: https://drive.google.com/uc?id=1P8PTL62x3cfpV9mrC0unqZjRFhlTTOSG\n",
            "To: /content/sunglasses_poisoned_data.h5\n",
            "398MB [00:02, 195MB/s]\n",
            "Downloading...\n",
            "From: https://drive.google.com/uc?id=19OKCkY2CjV3ASkOe6nMSYTsOVcxAoCnA\n",
            "To: /content/clean_validation_data.h5\n",
            "716MB [00:02, 247MB/s]\n",
            "Downloading...\n",
            "From: https://drive.google.com/uc?id=1XtYnM-IopU-QYVc99U51EiDvI5zxK0nV\n",
            "To: /content/clean_test_data.h5\n",
            "398MB [00:08, 45.3MB/s]\n"
          ],
          "name": "stdout"
        }
      ]
    },
    {
      "cell_type": "code",
      "metadata": {
        "id": "C1skH0vBC7pl"
      },
      "source": [
        "import os\n",
        "import gdown\n",
        "import numpy as np\n",
        "import random\n",
        "import h5py\n",
        "import glob2\n",
        "\n",
        "import tensorflow as tf\n",
        "from keras.models import load_model\n",
        "from keras.preprocessing.image import ImageDataGenerator\n",
        "\n",
        "if not tf.config.experimental.list_physical_devices('GPU'):\n",
        "    raise Exception(\"Please change runtime type to GPU\")\n"
      ],
      "execution_count": 2,
      "outputs": []
    },
    {
      "cell_type": "code",
      "metadata": {
        "id": "yPkj0u-5F2Be"
      },
      "source": [
        "def load_dataset(data_filename, keys=None):\n",
        "    dataset = {}\n",
        "    with h5py.File(data_filename, 'r') as hf:\n",
        "        if keys is None:\n",
        "            for name in hf:\n",
        "                dataset[name] = np.array(hf.get(name))\n",
        "        else:\n",
        "            for name in keys:\n",
        "                dataset[name] = np.array(hf.get(name))\n",
        "\n",
        "    return dataset\n",
        "\n",
        "def load_models(model_dir):\n",
        "    models = []\n",
        "    for net in glob2.glob(\"/content/CSAW-HackML-2020/models/*net.h5\"):\n",
        "        weights = glob2.glob(net.split(\"_\")[0]+\"*weights.h5\")[0]\n",
        "        print(net.split('/')[-1])\n",
        "        m = load_model(net)\n",
        "        m.load_weights(weights)\n",
        "\n",
        "        models.append(m)\n",
        "    return models"
      ],
      "execution_count": 3,
      "outputs": []
    },
    {
      "cell_type": "markdown",
      "metadata": {
        "id": "14Ae9mRxBWyV"
      },
      "source": [
        "###Loading Data and Reshaping"
      ]
    },
    {
      "cell_type": "code",
      "metadata": {
        "id": "cNQ8-t0pDYY5",
        "colab": {
          "base_uri": "https://localhost:8080/"
        },
        "outputId": "228cce55-5c25-48a3-8867-af74b288a5e7"
      },
      "source": [
        "# Loading Data\n",
        "SG_poisoned_path = \"/content/CSAW-HackML-2020/data/sunglasses_poisoned_data.h5\"\n",
        "SG_poisoned = load_dataset(SG_poisoned_path)\n",
        "print(SG_poisoned.keys())\n",
        "print(SG_poisoned['data'].shape)\n",
        "print(SG_poisoned['label'].shape)"
      ],
      "execution_count": 4,
      "outputs": [
        {
          "output_type": "stream",
          "text": [
            "dict_keys(['data', 'label'])\n",
            "(12830, 3, 55, 47)\n",
            "(12830,)\n"
          ],
          "name": "stdout"
        }
      ]
    },
    {
      "cell_type": "code",
      "metadata": {
        "colab": {
          "base_uri": "https://localhost:8080/"
        },
        "id": "coM-Up2OH4Sg",
        "outputId": "3532896c-57ac-4c98-fe2f-46c871576642"
      },
      "source": [
        "clean_validation_path = \"/content/CSAW-HackML-2020/data/clean_validation_data.h5\"\n",
        "valid_clean = load_dataset(clean_validation_path)\n",
        "valid_clean.keys()\n",
        "print(valid_clean['data'].shape)\n",
        "print(valid_clean['label'].shape)"
      ],
      "execution_count": 5,
      "outputs": [
        {
          "output_type": "stream",
          "text": [
            "(11547, 3, 55, 47)\n",
            "(11547,)\n"
          ],
          "name": "stdout"
        }
      ]
    },
    {
      "cell_type": "code",
      "metadata": {
        "id": "PGA9aM2AH9Op"
      },
      "source": [
        "# Reshaping the data\n",
        "SG_poisoned['data'] = SG_poisoned['data'].transpose((0,2,3,1))\n",
        "valid_clean['data'] = valid_clean['data'].transpose((0,2,3,1))"
      ],
      "execution_count": 6,
      "outputs": []
    },
    {
      "cell_type": "markdown",
      "metadata": {
        "id": "xBT8IKBgBd-C"
      },
      "source": [
        "###Data Parameters"
      ]
    },
    {
      "cell_type": "code",
      "metadata": {
        "id": "ZLJcI5WgBi5Z"
      },
      "source": [
        "##TODO\n",
        "\n",
        "##SG_nClass = \n",
        "##vc_nClass = "
      ],
      "execution_count": 7,
      "outputs": []
    },
    {
      "cell_type": "markdown",
      "metadata": {
        "id": "khtwl8GCIYku"
      },
      "source": [
        "###Load Models"
      ]
    },
    {
      "cell_type": "code",
      "metadata": {
        "id": "hqfW9ZeHJGF4",
        "colab": {
          "base_uri": "https://localhost:8080/"
        },
        "outputId": "4dadea69-72f7-4e14-bea0-2d4eb2b2f1f9"
      },
      "source": [
        "model_dir = \"/content/CSAW-HackML-2020/models\"\n",
        "\n",
        "models = load_models(model_dir)"
      ],
      "execution_count": 8,
      "outputs": [
        {
          "output_type": "stream",
          "text": [
            "anonymous_bd_net.h5\n",
            "sunglasses_bd_net.h5\n",
            "multi_trigger_multi_target_bd_net.h5\n"
          ],
          "name": "stdout"
        }
      ]
    },
    {
      "cell_type": "markdown",
      "metadata": {
        "id": "pOjROh2sBC8W"
      },
      "source": [
        "#### Predicting:"
      ]
    },
    {
      "cell_type": "code",
      "metadata": {
        "id": "5Ti3kCAWArmi",
        "colab": {
          "base_uri": "https://localhost:8080/"
        },
        "outputId": "c35ce31e-0fe9-4e3a-b9f8-fac1c3463db2"
      },
      "source": [
        "# Using sunglasses_bd_net.h5 to predict the sunglasses_poisoned_data.h5\n",
        "Y_pred_sunglasses_using_sunglasses_bn = np.argmax(models[1].predict(SG_poisoned['data']), axis = 1)\n",
        "accuracy = np.mean(np.equal(Y_pred_sunglasses_using_sunglasses_bn, SG_poisoned['label']))*100\n",
        "accuracy"
      ],
      "execution_count": 9,
      "outputs": [
        {
          "output_type": "execute_result",
          "data": {
            "text/plain": [
              "99.94544037412315"
            ]
          },
          "metadata": {
            "tags": []
          },
          "execution_count": 9
        }
      ]
    },
    {
      "cell_type": "code",
      "metadata": {
        "colab": {
          "base_uri": "https://localhost:8080/"
        },
        "id": "p1XJVyzWbwI3",
        "outputId": "7ab1fa7a-36dd-4810-d8fc-7bc40c4dc9e8"
      },
      "source": [
        "Y_pred_val_sunglasses_using_sunglasses_bn = np.argmax(models[1].predict(valid_clean['data']), axis = 1)\n",
        "accuracy = np.mean(np.equal(Y_pred_val_sunglasses_using_sunglasses_bn, valid_clean['label']))*100\n",
        "accuracy"
      ],
      "execution_count": 10,
      "outputs": [
        {
          "output_type": "execute_result",
          "data": {
            "text/plain": [
              "42.25339915129471"
            ]
          },
          "metadata": {
            "tags": []
          },
          "execution_count": 10
        }
      ]
    },
    {
      "cell_type": "code",
      "metadata": {
        "colab": {
          "base_uri": "https://localhost:8080/"
        },
        "id": "By2WQxpNVTyT",
        "outputId": "96b219e6-b35e-4111-e2de-c04a700807b1"
      },
      "source": [
        "# Same thing using existing eval.py\n",
        "!python3 CSAW-HackML-2020/eval.py CSAW-HackML-2020/data/sunglasses_poisoned_data.h5 CSAW-HackML-2020/models/sunglasses_bd_net.h5"
      ],
      "execution_count": 22,
      "outputs": [
        {
          "output_type": "stream",
          "text": [
            "2020-12-19 09:21:04.696978: I tensorflow/stream_executor/platform/default/dso_loader.cc:49] Successfully opened dynamic library libcudart.so.10.1\n",
            "2020-12-19 09:21:17.951458: I tensorflow/compiler/jit/xla_cpu_device.cc:41] Not creating XLA devices, tf_xla_enable_xla_devices not set\n",
            "2020-12-19 09:21:17.953599: I tensorflow/stream_executor/platform/default/dso_loader.cc:49] Successfully opened dynamic library libcuda.so.1\n",
            "2020-12-19 09:21:17.958369: I tensorflow/stream_executor/cuda/cuda_gpu_executor.cc:941] successful NUMA node read from SysFS had negative value (-1), but there must be at least one NUMA node, so returning NUMA node zero\n",
            "2020-12-19 09:21:17.958724: I tensorflow/core/common_runtime/gpu/gpu_device.cc:1720] Found device 0 with properties: \n",
            "pciBusID: 0000:00:04.0 name: Tesla T4 computeCapability: 7.5\n",
            "coreClock: 1.59GHz coreCount: 40 deviceMemorySize: 14.73GiB deviceMemoryBandwidth: 298.08GiB/s\n",
            "2020-12-19 09:21:17.958756: I tensorflow/stream_executor/platform/default/dso_loader.cc:49] Successfully opened dynamic library libcudart.so.10.1\n",
            "2020-12-19 09:21:17.960482: I tensorflow/stream_executor/platform/default/dso_loader.cc:49] Successfully opened dynamic library libcublas.so.10\n",
            "2020-12-19 09:21:17.960546: I tensorflow/stream_executor/platform/default/dso_loader.cc:49] Successfully opened dynamic library libcublasLt.so.10\n",
            "2020-12-19 09:21:17.962059: I tensorflow/stream_executor/platform/default/dso_loader.cc:49] Successfully opened dynamic library libcufft.so.10\n",
            "2020-12-19 09:21:17.962630: I tensorflow/stream_executor/platform/default/dso_loader.cc:49] Successfully opened dynamic library libcurand.so.10\n",
            "2020-12-19 09:21:17.964319: I tensorflow/stream_executor/platform/default/dso_loader.cc:49] Successfully opened dynamic library libcusolver.so.10\n",
            "2020-12-19 09:21:17.965040: I tensorflow/stream_executor/platform/default/dso_loader.cc:49] Successfully opened dynamic library libcusparse.so.10\n",
            "2020-12-19 09:21:17.968123: I tensorflow/stream_executor/platform/default/dso_loader.cc:49] Successfully opened dynamic library libcudnn.so.7\n",
            "2020-12-19 09:21:17.968232: I tensorflow/stream_executor/cuda/cuda_gpu_executor.cc:941] successful NUMA node read from SysFS had negative value (-1), but there must be at least one NUMA node, so returning NUMA node zero\n",
            "2020-12-19 09:21:17.968598: I tensorflow/stream_executor/cuda/cuda_gpu_executor.cc:941] successful NUMA node read from SysFS had negative value (-1), but there must be at least one NUMA node, so returning NUMA node zero\n",
            "2020-12-19 09:21:17.968925: I tensorflow/core/common_runtime/gpu/gpu_device.cc:1862] Adding visible gpu devices: 0\n",
            "2020-12-19 09:21:17.970152: I tensorflow/compiler/jit/xla_gpu_device.cc:99] Not creating XLA devices, tf_xla_enable_xla_devices not set\n",
            "2020-12-19 09:21:17.970254: I tensorflow/stream_executor/cuda/cuda_gpu_executor.cc:941] successful NUMA node read from SysFS had negative value (-1), but there must be at least one NUMA node, so returning NUMA node zero\n",
            "2020-12-19 09:21:17.970584: I tensorflow/core/common_runtime/gpu/gpu_device.cc:1720] Found device 0 with properties: \n",
            "pciBusID: 0000:00:04.0 name: Tesla T4 computeCapability: 7.5\n",
            "coreClock: 1.59GHz coreCount: 40 deviceMemorySize: 14.73GiB deviceMemoryBandwidth: 298.08GiB/s\n",
            "2020-12-19 09:21:17.970615: I tensorflow/stream_executor/platform/default/dso_loader.cc:49] Successfully opened dynamic library libcudart.so.10.1\n",
            "2020-12-19 09:21:17.970650: I tensorflow/stream_executor/platform/default/dso_loader.cc:49] Successfully opened dynamic library libcublas.so.10\n",
            "2020-12-19 09:21:17.970670: I tensorflow/stream_executor/platform/default/dso_loader.cc:49] Successfully opened dynamic library libcublasLt.so.10\n",
            "2020-12-19 09:21:17.970688: I tensorflow/stream_executor/platform/default/dso_loader.cc:49] Successfully opened dynamic library libcufft.so.10\n",
            "2020-12-19 09:21:17.970709: I tensorflow/stream_executor/platform/default/dso_loader.cc:49] Successfully opened dynamic library libcurand.so.10\n",
            "2020-12-19 09:21:17.970727: I tensorflow/stream_executor/platform/default/dso_loader.cc:49] Successfully opened dynamic library libcusolver.so.10\n",
            "2020-12-19 09:21:17.970744: I tensorflow/stream_executor/platform/default/dso_loader.cc:49] Successfully opened dynamic library libcusparse.so.10\n",
            "2020-12-19 09:21:17.970762: I tensorflow/stream_executor/platform/default/dso_loader.cc:49] Successfully opened dynamic library libcudnn.so.7\n",
            "2020-12-19 09:21:17.970821: I tensorflow/stream_executor/cuda/cuda_gpu_executor.cc:941] successful NUMA node read from SysFS had negative value (-1), but there must be at least one NUMA node, so returning NUMA node zero\n",
            "2020-12-19 09:21:17.971226: I tensorflow/stream_executor/cuda/cuda_gpu_executor.cc:941] successful NUMA node read from SysFS had negative value (-1), but there must be at least one NUMA node, so returning NUMA node zero\n",
            "2020-12-19 09:21:17.971526: I tensorflow/core/common_runtime/gpu/gpu_device.cc:1862] Adding visible gpu devices: 0\n",
            "2020-12-19 09:21:17.971564: I tensorflow/stream_executor/platform/default/dso_loader.cc:49] Successfully opened dynamic library libcudart.so.10.1\n",
            "2020-12-19 09:21:18.544687: I tensorflow/core/common_runtime/gpu/gpu_device.cc:1261] Device interconnect StreamExecutor with strength 1 edge matrix:\n",
            "2020-12-19 09:21:18.544749: I tensorflow/core/common_runtime/gpu/gpu_device.cc:1267]      0 \n",
            "2020-12-19 09:21:18.544768: I tensorflow/core/common_runtime/gpu/gpu_device.cc:1280] 0:   N \n",
            "2020-12-19 09:21:18.544966: I tensorflow/stream_executor/cuda/cuda_gpu_executor.cc:941] successful NUMA node read from SysFS had negative value (-1), but there must be at least one NUMA node, so returning NUMA node zero\n",
            "2020-12-19 09:21:18.545364: I tensorflow/stream_executor/cuda/cuda_gpu_executor.cc:941] successful NUMA node read from SysFS had negative value (-1), but there must be at least one NUMA node, so returning NUMA node zero\n",
            "2020-12-19 09:21:18.545756: I tensorflow/stream_executor/cuda/cuda_gpu_executor.cc:941] successful NUMA node read from SysFS had negative value (-1), but there must be at least one NUMA node, so returning NUMA node zero\n",
            "2020-12-19 09:21:18.546137: W tensorflow/core/common_runtime/gpu/gpu_bfc_allocator.cc:39] Overriding allow_growth setting because the TF_FORCE_GPU_ALLOW_GROWTH environment variable is set. Original config value was 0.\n",
            "2020-12-19 09:21:18.546196: I tensorflow/core/common_runtime/gpu/gpu_device.cc:1406] Created TensorFlow device (/job:localhost/replica:0/task:0/device:GPU:0 with 4454 MB memory) -> physical GPU (device: 0, name: Tesla T4, pci bus id: 0000:00:04.0, compute capability: 7.5)\n",
            "2020-12-19 09:21:19.189401: I tensorflow/compiler/mlir/mlir_graph_optimization_pass.cc:116] None of the MLIR optimization passes are enabled (registered 2)\n",
            "2020-12-19 09:21:19.189791: I tensorflow/core/platform/profile_utils/cpu_utils.cc:112] CPU Frequency: 2200000000 Hz\n",
            "2020-12-19 09:21:19.278752: I tensorflow/stream_executor/platform/default/dso_loader.cc:49] Successfully opened dynamic library libcublas.so.10\n",
            "2020-12-19 09:21:19.626574: I tensorflow/stream_executor/platform/default/dso_loader.cc:49] Successfully opened dynamic library libcudnn.so.7\n",
            "2020-12-19 09:21:22.023568: W tensorflow/core/framework/cpu_allocator_impl.cc:80] Allocation of 65843560 exceeds 10% of free system memory.\n",
            "Classification accuracy: 99.99220576773187\n"
          ],
          "name": "stdout"
        }
      ]
    },
    {
      "cell_type": "code",
      "metadata": {
        "colab": {
          "base_uri": "https://localhost:8080/"
        },
        "id": "IKKcqqN5_lFO",
        "outputId": "2de98083-4ff7-472f-be6c-342a98c098a7"
      },
      "source": [
        "models[1].summary()"
      ],
      "execution_count": 11,
      "outputs": [
        {
          "output_type": "stream",
          "text": [
            "Model: \"model_1\"\n",
            "__________________________________________________________________________________________________\n",
            "Layer (type)                    Output Shape         Param #     Connected to                     \n",
            "==================================================================================================\n",
            "input (InputLayer)              [(None, 55, 47, 3)]  0                                            \n",
            "__________________________________________________________________________________________________\n",
            "conv_1 (Conv2D)                 (None, 52, 44, 20)   980         input[0][0]                      \n",
            "__________________________________________________________________________________________________\n",
            "pool_1 (MaxPooling2D)           (None, 26, 22, 20)   0           conv_1[0][0]                     \n",
            "__________________________________________________________________________________________________\n",
            "conv_2 (Conv2D)                 (None, 24, 20, 40)   7240        pool_1[0][0]                     \n",
            "__________________________________________________________________________________________________\n",
            "pool_2 (MaxPooling2D)           (None, 12, 10, 40)   0           conv_2[0][0]                     \n",
            "__________________________________________________________________________________________________\n",
            "conv_3 (Conv2D)                 (None, 10, 8, 60)    21660       pool_2[0][0]                     \n",
            "__________________________________________________________________________________________________\n",
            "pool_3 (MaxPooling2D)           (None, 5, 4, 60)     0           conv_3[0][0]                     \n",
            "__________________________________________________________________________________________________\n",
            "conv_4 (Conv2D)                 (None, 4, 3, 80)     19280       pool_3[0][0]                     \n",
            "__________________________________________________________________________________________________\n",
            "flatten_1 (Flatten)             (None, 1200)         0           pool_3[0][0]                     \n",
            "__________________________________________________________________________________________________\n",
            "flatten_2 (Flatten)             (None, 960)          0           conv_4[0][0]                     \n",
            "__________________________________________________________________________________________________\n",
            "fc_1 (Dense)                    (None, 160)          192160      flatten_1[0][0]                  \n",
            "__________________________________________________________________________________________________\n",
            "fc_2 (Dense)                    (None, 160)          153760      flatten_2[0][0]                  \n",
            "__________________________________________________________________________________________________\n",
            "add_1 (Add)                     (None, 160)          0           fc_1[0][0]                       \n",
            "                                                                 fc_2[0][0]                       \n",
            "__________________________________________________________________________________________________\n",
            "activation_1 (Activation)       (None, 160)          0           add_1[0][0]                      \n",
            "__________________________________________________________________________________________________\n",
            "output (Dense)                  (None, 1283)         206563      activation_1[0][0]               \n",
            "==================================================================================================\n",
            "Total params: 601,643\n",
            "Trainable params: 601,643\n",
            "Non-trainable params: 0\n",
            "__________________________________________________________________________________________________\n"
          ],
          "name": "stdout"
        }
      ]
    },
    {
      "cell_type": "code",
      "metadata": {
        "colab": {
          "base_uri": "https://localhost:8080/"
        },
        "id": "ODsSRXvPB-vK",
        "outputId": "e2977424-f94d-4ac7-f76c-10aac1b6087b"
      },
      "source": [
        "models[1].get_layer('activation_1')"
      ],
      "execution_count": 12,
      "outputs": [
        {
          "output_type": "execute_result",
          "data": {
            "text/plain": [
              "<tensorflow.python.keras.layers.core.Activation at 0x7f8b75761860>"
            ]
          },
          "metadata": {
            "tags": []
          },
          "execution_count": 12
        }
      ]
    },
    {
      "cell_type": "code",
      "metadata": {
        "id": "W5K4OwpkBuRZ"
      },
      "source": [
        "from keras.models import Model\n",
        "\n",
        "layer_name = 'activation_1'\n",
        "act_layer_model = Model(inputs=models[1].input,\n",
        "                                 outputs=models[1].get_layer(layer_name).output)\n",
        "act_layer_model_out = np.array(act_layer_model.predict(valid_clean['data']))"
      ],
      "execution_count": 13,
      "outputs": []
    },
    {
      "cell_type": "code",
      "metadata": {
        "colab": {
          "base_uri": "https://localhost:8080/"
        },
        "id": "2iuj6l-GCOgh",
        "outputId": "e2d335d6-2887-4830-d0e8-7059e8883c70"
      },
      "source": [
        "act_layer_model_out.shape"
      ],
      "execution_count": 14,
      "outputs": [
        {
          "output_type": "execute_result",
          "data": {
            "text/plain": [
              "(11547, 160)"
            ]
          },
          "metadata": {
            "tags": []
          },
          "execution_count": 14
        }
      ]
    },
    {
      "cell_type": "code",
      "metadata": {
        "colab": {
          "base_uri": "https://localhost:8080/"
        },
        "id": "pD0woEFQCs8q",
        "outputId": "abaee798-a904-49c2-b85d-48038b1680dd"
      },
      "source": [
        "act_layer_model_out"
      ],
      "execution_count": 15,
      "outputs": [
        {
          "output_type": "execute_result",
          "data": {
            "text/plain": [
              "array([[18328.363 ,  3369.2559,     0.    , ...,  1788.5098,     0.    ,\n",
              "         7089.8496],\n",
              "       [    0.    ,     0.    ,     0.    , ...,  1044.509 ,     0.    ,\n",
              "        15550.116 ],\n",
              "       [    0.    ,     0.    ,     0.    , ...,     0.    ,     0.    ,\n",
              "            0.    ],\n",
              "       ...,\n",
              "       [    0.    ,     0.    ,     0.    , ...,     0.    ,     0.    ,\n",
              "            0.    ],\n",
              "       [ 2243.541 ,  2730.6855,     0.    , ...,     0.    ,     0.    ,\n",
              "         7055.434 ],\n",
              "       [    0.    ,  2279.0913,   559.8897, ...,     0.    ,  2567.4998,\n",
              "         9197.23  ]], dtype=float32)"
            ]
          },
          "metadata": {
            "tags": []
          },
          "execution_count": 15
        }
      ]
    },
    {
      "cell_type": "code",
      "metadata": {
        "colab": {
          "base_uri": "https://localhost:8080/"
        },
        "id": "QySLolNtCvcT",
        "outputId": "26749ab5-0d39-42db-a239-00e6cf36b968"
      },
      "source": [
        "act_layer_model_out.sort()\n",
        "act_layer_model_out"
      ],
      "execution_count": 16,
      "outputs": [
        {
          "output_type": "execute_result",
          "data": {
            "text/plain": [
              "array([[    0.   ,     0.   ,     0.   , ..., 39825.258, 44517.965,\n",
              "        48114.28 ],\n",
              "       [    0.   ,     0.   ,     0.   , ..., 11913.555, 15550.116,\n",
              "        15642.143],\n",
              "       [    0.   ,     0.   ,     0.   , ..., 23995.299, 29360.316,\n",
              "        35755.21 ],\n",
              "       ...,\n",
              "       [    0.   ,     0.   ,     0.   , ..., 22552.074, 24341.379,\n",
              "        26666.203],\n",
              "       [    0.   ,     0.   ,     0.   , ..., 21104.203, 21746.684,\n",
              "        23233.727],\n",
              "       [    0.   ,     0.   ,     0.   , ..., 22805.14 , 22992.977,\n",
              "        33424.023]], dtype=float32)"
            ]
          },
          "metadata": {
            "tags": []
          },
          "execution_count": 16
        }
      ]
    },
    {
      "cell_type": "code",
      "metadata": {
        "id": "MO0t_5vgP8YC"
      },
      "source": [
        "!pip install -q tensorflow-model-optimization"
      ],
      "execution_count": 17,
      "outputs": []
    },
    {
      "cell_type": "markdown",
      "metadata": {
        "id": "aF6Y6NhHVPsB"
      },
      "source": [
        "## Pruning the Sunglasses BadNet and predicting Validation data"
      ]
    },
    {
      "cell_type": "code",
      "metadata": {
        "colab": {
          "base_uri": "https://localhost:8080/"
        },
        "id": "oQ4RdEg3H1YZ",
        "outputId": "17162e5c-f73e-4240-dd88-0827a005f8f7"
      },
      "source": [
        "# pruning \n",
        "import tensorflow as tf\n",
        "import numpy as np\n",
        "import tensorflow_model_optimization as tfmot\n",
        "model_for_pruning = tfmot.sparsity.keras.prune_low_magnitude(models[1])\n",
        "\n",
        "model_for_pruning.summary()"
      ],
      "execution_count": 18,
      "outputs": [
        {
          "output_type": "stream",
          "text": [
            "/usr/local/lib/python3.6/dist-packages/tensorflow/python/keras/engine/base_layer.py:2281: UserWarning: `layer.add_variable` is deprecated and will be removed in a future version. Please use `layer.add_weight` method instead.\n",
            "  warnings.warn('`layer.add_variable` is deprecated and '\n"
          ],
          "name": "stderr"
        },
        {
          "output_type": "stream",
          "text": [
            "Model: \"model_1\"\n",
            "__________________________________________________________________________________________________\n",
            "Layer (type)                    Output Shape         Param #     Connected to                     \n",
            "==================================================================================================\n",
            "input (InputLayer)              [(None, 55, 47, 3)]  0                                            \n",
            "__________________________________________________________________________________________________\n",
            "prune_low_magnitude_conv_1 (Pru (None, 52, 44, 20)   1942        input[0][0]                      \n",
            "__________________________________________________________________________________________________\n",
            "prune_low_magnitude_pool_1 (Pru (None, 26, 22, 20)   1           prune_low_magnitude_conv_1[0][0] \n",
            "__________________________________________________________________________________________________\n",
            "prune_low_magnitude_conv_2 (Pru (None, 24, 20, 40)   14442       prune_low_magnitude_pool_1[0][0] \n",
            "__________________________________________________________________________________________________\n",
            "prune_low_magnitude_pool_2 (Pru (None, 12, 10, 40)   1           prune_low_magnitude_conv_2[0][0] \n",
            "__________________________________________________________________________________________________\n",
            "prune_low_magnitude_conv_3 (Pru (None, 10, 8, 60)    43262       prune_low_magnitude_pool_2[0][0] \n",
            "__________________________________________________________________________________________________\n",
            "prune_low_magnitude_pool_3 (Pru (None, 5, 4, 60)     1           prune_low_magnitude_conv_3[0][0] \n",
            "__________________________________________________________________________________________________\n",
            "prune_low_magnitude_conv_4 (Pru (None, 4, 3, 80)     38482       prune_low_magnitude_pool_3[0][0] \n",
            "__________________________________________________________________________________________________\n",
            "prune_low_magnitude_flatten_1 ( (None, 1200)         1           prune_low_magnitude_pool_3[0][0] \n",
            "__________________________________________________________________________________________________\n",
            "prune_low_magnitude_flatten_2 ( (None, 960)          1           prune_low_magnitude_conv_4[0][0] \n",
            "__________________________________________________________________________________________________\n",
            "prune_low_magnitude_fc_1 (Prune (None, 160)          384162      prune_low_magnitude_flatten_1[0][\n",
            "__________________________________________________________________________________________________\n",
            "prune_low_magnitude_fc_2 (Prune (None, 160)          307362      prune_low_magnitude_flatten_2[0][\n",
            "__________________________________________________________________________________________________\n",
            "prune_low_magnitude_add_1 (Prun (None, 160)          1           prune_low_magnitude_fc_1[0][0]   \n",
            "                                                                 prune_low_magnitude_fc_2[0][0]   \n",
            "__________________________________________________________________________________________________\n",
            "prune_low_magnitude_activation_ (None, 160)          1           prune_low_magnitude_add_1[0][0]  \n",
            "__________________________________________________________________________________________________\n",
            "prune_low_magnitude_output (Pru (None, 1283)         411845      prune_low_magnitude_activation_1[\n",
            "==================================================================================================\n",
            "Total params: 1,201,504\n",
            "Trainable params: 601,643\n",
            "Non-trainable params: 599,861\n",
            "__________________________________________________________________________________________________\n"
          ],
          "name": "stdout"
        }
      ]
    },
    {
      "cell_type": "code",
      "metadata": {
        "id": "QlKkWoPmQAq6"
      },
      "source": [
        "model_for_pruning.compile(optimizer='adam',\n",
        "              loss=tf.keras.losses.SparseCategoricalCrossentropy(from_logits=True),\n",
        "              metrics=['accuracy'])"
      ],
      "execution_count": 19,
      "outputs": []
    },
    {
      "cell_type": "code",
      "metadata": {
        "colab": {
          "base_uri": "https://localhost:8080/"
        },
        "id": "l4zlnICOR043",
        "outputId": "38c121f9-6838-4e79-a76d-f28b92d86802"
      },
      "source": [
        "import tempfile\n",
        "logdir = tempfile.mkdtemp()\n",
        "\n",
        "callbacks = [\n",
        "  tfmot.sparsity.keras.UpdatePruningStep(),\n",
        "  tfmot.sparsity.keras.PruningSummaries(log_dir=logdir),\n",
        "]\n",
        "\n",
        "model_for_pruning.fit(valid_clean['data'], valid_clean['label'],\n",
        "                  batch_size=valid_clean['data'].shape[0], epochs=25, validation_split=0.2,\n",
        "                  callbacks=callbacks)"
      ],
      "execution_count": 20,
      "outputs": [
        {
          "output_type": "stream",
          "text": [
            "Epoch 1/25\n",
            "1/1 [==============================] - 6s 6s/step - loss: 1438.7886 - accuracy: 0.3166 - val_loss: 742.1019 - val_accuracy: 0.4996\n",
            "Epoch 2/25\n",
            "1/1 [==============================] - 1s 544ms/step - loss: 726.4903 - accuracy: 0.5106 - val_loss: 453.6267 - val_accuracy: 0.6372\n",
            "Epoch 3/25\n",
            "1/1 [==============================] - 1s 510ms/step - loss: 428.0554 - accuracy: 0.6473 - val_loss: 342.3535 - val_accuracy: 0.6939\n",
            "Epoch 4/25\n",
            "1/1 [==============================] - 1s 537ms/step - loss: 301.3499 - accuracy: 0.7130 - val_loss: 300.1232 - val_accuracy: 0.7208\n",
            "Epoch 5/25\n",
            "1/1 [==============================] - 1s 547ms/step - loss: 246.5214 - accuracy: 0.7404 - val_loss: 284.9702 - val_accuracy: 0.7364\n",
            "Epoch 6/25\n",
            "1/1 [==============================] - 1s 545ms/step - loss: 217.9815 - accuracy: 0.7589 - val_loss: 276.2768 - val_accuracy: 0.7429\n",
            "Epoch 7/25\n",
            "1/1 [==============================] - 0s 485ms/step - loss: 196.5296 - accuracy: 0.7793 - val_loss: 264.8918 - val_accuracy: 0.7476\n",
            "Epoch 8/25\n",
            "1/1 [==============================] - 0s 493ms/step - loss: 176.5283 - accuracy: 0.7966 - val_loss: 249.8921 - val_accuracy: 0.7537\n",
            "Epoch 9/25\n",
            "1/1 [==============================] - 1s 523ms/step - loss: 155.5414 - accuracy: 0.8202 - val_loss: 233.1193 - val_accuracy: 0.7736\n",
            "Epoch 10/25\n",
            "1/1 [==============================] - 1s 540ms/step - loss: 134.8399 - accuracy: 0.8382 - val_loss: 217.2156 - val_accuracy: 0.7918\n",
            "Epoch 11/25\n",
            "1/1 [==============================] - 0s 497ms/step - loss: 114.1873 - accuracy: 0.8622 - val_loss: 202.9707 - val_accuracy: 0.8065\n",
            "Epoch 12/25\n",
            "1/1 [==============================] - 1s 594ms/step - loss: 95.8620 - accuracy: 0.8818 - val_loss: 191.4661 - val_accuracy: 0.8186\n",
            "Epoch 13/25\n",
            "1/1 [==============================] - 1s 548ms/step - loss: 80.8035 - accuracy: 0.8954 - val_loss: 182.4788 - val_accuracy: 0.8234\n",
            "Epoch 14/25\n",
            "1/1 [==============================] - 1s 543ms/step - loss: 68.5660 - accuracy: 0.9071 - val_loss: 175.7002 - val_accuracy: 0.8277\n",
            "Epoch 15/25\n",
            "1/1 [==============================] - 1s 545ms/step - loss: 59.1154 - accuracy: 0.9183 - val_loss: 170.2862 - val_accuracy: 0.8286\n",
            "Epoch 16/25\n",
            "1/1 [==============================] - 0s 479ms/step - loss: 51.7316 - accuracy: 0.9253 - val_loss: 166.0972 - val_accuracy: 0.8351\n",
            "Epoch 17/25\n",
            "1/1 [==============================] - 0s 496ms/step - loss: 45.6019 - accuracy: 0.9310 - val_loss: 162.8040 - val_accuracy: 0.8372\n",
            "Epoch 18/25\n",
            "1/1 [==============================] - 1s 542ms/step - loss: 40.2917 - accuracy: 0.9344 - val_loss: 159.8019 - val_accuracy: 0.8359\n",
            "Epoch 19/25\n",
            "1/1 [==============================] - 0s 487ms/step - loss: 35.7944 - accuracy: 0.9395 - val_loss: 156.8069 - val_accuracy: 0.8364\n",
            "Epoch 20/25\n",
            "1/1 [==============================] - 1s 540ms/step - loss: 31.7543 - accuracy: 0.9448 - val_loss: 153.9423 - val_accuracy: 0.8368\n",
            "Epoch 21/25\n",
            "1/1 [==============================] - 0s 490ms/step - loss: 28.0217 - accuracy: 0.9480 - val_loss: 151.4113 - val_accuracy: 0.8429\n",
            "Epoch 22/25\n",
            "1/1 [==============================] - 1s 538ms/step - loss: 24.3987 - accuracy: 0.9541 - val_loss: 149.6427 - val_accuracy: 0.8450\n",
            "Epoch 23/25\n",
            "1/1 [==============================] - 1s 544ms/step - loss: 21.1032 - accuracy: 0.9603 - val_loss: 148.3490 - val_accuracy: 0.8476\n",
            "Epoch 24/25\n",
            "1/1 [==============================] - 0s 490ms/step - loss: 18.5153 - accuracy: 0.9665 - val_loss: 147.3416 - val_accuracy: 0.8494\n",
            "Epoch 25/25\n",
            "1/1 [==============================] - 0s 478ms/step - loss: 16.3089 - accuracy: 0.9707 - val_loss: 146.5363 - val_accuracy: 0.8494\n"
          ],
          "name": "stdout"
        },
        {
          "output_type": "execute_result",
          "data": {
            "text/plain": [
              "<tensorflow.python.keras.callbacks.History at 0x7f8b1602ef60>"
            ]
          },
          "metadata": {
            "tags": []
          },
          "execution_count": 20
        }
      ]
    },
    {
      "cell_type": "code",
      "metadata": {
        "id": "q1IeEsbCUEMd"
      },
      "source": [
        "model_for_pruning.save(\"CSAW-HackML-2020/models/pruned_sunglasses_bd_net.h5\")"
      ],
      "execution_count": 26,
      "outputs": []
    },
    {
      "cell_type": "code",
      "metadata": {
        "colab": {
          "base_uri": "https://localhost:8080/"
        },
        "id": "12fOwRs9Upu7",
        "outputId": "2e0e3e08-f0fd-4fb9-eb3d-831bddb0318d"
      },
      "source": [
        "pruned_model_predictions = np.argmax(model_for_pruning.predict(valid_clean['data']), axis = 1)\n",
        "accuracy = np.mean(np.equal(pruned_model_predictions, valid_clean['label']))*100\n",
        "accuracy"
      ],
      "execution_count": 29,
      "outputs": [
        {
          "output_type": "execute_result",
          "data": {
            "text/plain": [
              "94.9857105741751"
            ]
          },
          "metadata": {
            "tags": []
          },
          "execution_count": 29
        }
      ]
    }
  ]
}
