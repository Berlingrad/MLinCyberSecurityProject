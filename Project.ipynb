{
  "nbformat": 4,
  "nbformat_minor": 0,
  "metadata": {
    "colab": {
      "name": "Project.ipynb",
      "provenance": [],
      "collapsed_sections": [],
      "toc_visible": true,
      "include_colab_link": true
    },
    "kernelspec": {
      "display_name": "Python 3",
      "name": "python3"
    },
    "accelerator": "GPU"
  },
  "cells": [
    {
      "cell_type": "markdown",
      "metadata": {
        "id": "view-in-github",
        "colab_type": "text"
      },
      "source": [
        "<a href=\"https://colab.research.google.com/github/Berlingrad/MLinCyberSecurityProject/blob/XuDevelopment/Project.ipynb\" target=\"_parent\"><img src=\"https://colab.research.google.com/assets/colab-badge.svg\" alt=\"Open In Colab\"/></a>"
      ]
    },
    {
      "cell_type": "markdown",
      "metadata": {
        "id": "HGclO6eUuymx"
      },
      "source": [
        "#DNN Back Door Detector"
      ]
    },
    {
      "cell_type": "markdown",
      "metadata": {
        "id": "UNYtyNsgvHRl"
      },
      "source": [
        "## Preprocessing"
      ]
    },
    {
      "cell_type": "markdown",
      "metadata": {
        "id": "GiqLPbbVLs-w"
      },
      "source": [
        "###Data Download\r\n",
        "Clone the CSAW competition repo and download provided datasets from the Google drive. Downloaded data are moved <code>/content/CSAW-HackML-2020/data</code> directory."
      ]
    },
    {
      "cell_type": "code",
      "metadata": {
        "colab": {
          "base_uri": "https://localhost:8080/"
        },
        "id": "puVie2-guvOg",
        "outputId": "cf556565-6250-4502-bd02-81de650c5498"
      },
      "source": [
        "!git clone https://github.com/csaw-hackml/CSAW-HackML-2020.git\n",
        "\n",
        "!gdown https://drive.google.com/uc?id=1-ay0w_hgTMo6ZNxb7CZhqxWZhkMj1I6Z\n",
        "!gdown https://drive.google.com/uc?id=1A1CnWy2N1gjzWO6ZEUgiQ-LOAMgKvElL\n",
        "!gdown https://drive.google.com/uc?id=1ZH7jMGEKhtmI-K0Jw-oKv843jxs-_kkI\n",
        "!gdown https://drive.google.com/uc?id=1Sw77QLiBn-FuXpPXnas-Gdo3M_aQBD_H\n",
        "\n",
        "!mv /content/*.h5 /content/CSAW-HackML-2020/data\n"
      ],
      "execution_count": 1,
      "outputs": [
        {
          "output_type": "stream",
          "text": [
            "Cloning into 'CSAW-HackML-2020'...\n",
            "remote: Enumerating objects: 23, done.\u001b[K\n",
            "remote: Counting objects: 100% (23/23), done.\u001b[K\n",
            "remote: Compressing objects: 100% (17/17), done.\u001b[K\n",
            "remote: Total 164 (delta 11), reused 18 (delta 6), pack-reused 141\u001b[K\n",
            "Receiving objects: 100% (164/164), 79.56 MiB | 37.17 MiB/s, done.\n",
            "Resolving deltas: 100% (54/54), done.\n",
            "Downloading...\n",
            "From: https://drive.google.com/uc?id=1-ay0w_hgTMo6ZNxb7CZhqxWZhkMj1I6Z\n",
            "To: /content/clean_test_data.h5\n",
            "398MB [00:02, 169MB/s]\n",
            "Downloading...\n",
            "From: https://drive.google.com/uc?id=1A1CnWy2N1gjzWO6ZEUgiQ-LOAMgKvElL\n",
            "To: /content/clean_validation_data.h5\n",
            "716MB [00:03, 205MB/s]\n",
            "Downloading...\n",
            "From: https://drive.google.com/uc?id=1ZH7jMGEKhtmI-K0Jw-oKv843jxs-_kkI\n",
            "To: /content/sunglasses_poisoned_data.h5\n",
            "398MB [00:09, 42.4MB/s]\n",
            "Downloading...\n",
            "From: https://drive.google.com/uc?id=1Sw77QLiBn-FuXpPXnas-Gdo3M_aQBD_H\n",
            "To: /content/anonymous_1_poisoned_data.h5\n",
            "637MB [00:18, 34.8MB/s]\n"
          ],
          "name": "stdout"
        }
      ]
    },
    {
      "cell_type": "code",
      "metadata": {
        "colab": {
          "base_uri": "https://localhost:8080/"
        },
        "id": "C1skH0vBC7pl",
        "outputId": "8aa3b873-6fa7-459a-ab14-7bc995619e7b"
      },
      "source": [
        "import os\n",
        "import gdown\n",
        "import numpy as np\n",
        "import random\n",
        "import h5py\n",
        "import glob2\n",
        "import tempfile\n",
        "import copy\n",
        "\n",
        "import keras\n",
        "import tensorflow as tf\n",
        "from keras.models import load_model\n",
        "from keras.preprocessing.image import ImageDataGenerator\n",
        "!pip install -q tensorflow-model-optimization\n",
        "import tensorflow_model_optimization as tfmot\n",
        "\n",
        "##check\n",
        "if not tf.config.experimental.list_physical_devices('GPU'):\n",
        "    raise Exception(\"Please change runtime type to GPU\")"
      ],
      "execution_count": 3,
      "outputs": [
        {
          "output_type": "stream",
          "text": [
            "\u001b[?25l\r\u001b[K     |██                              | 10kB 23.7MB/s eta 0:00:01\r\u001b[K     |███▉                            | 20kB 30.1MB/s eta 0:00:01\r\u001b[K     |█████▊                          | 30kB 31.2MB/s eta 0:00:01\r\u001b[K     |███████▋                        | 40kB 24.4MB/s eta 0:00:01\r\u001b[K     |█████████▌                      | 51kB 25.7MB/s eta 0:00:01\r\u001b[K     |███████████▍                    | 61kB 18.0MB/s eta 0:00:01\r\u001b[K     |█████████████▎                  | 71kB 16.8MB/s eta 0:00:01\r\u001b[K     |███████████████▏                | 81kB 16.3MB/s eta 0:00:01\r\u001b[K     |█████████████████               | 92kB 15.9MB/s eta 0:00:01\r\u001b[K     |███████████████████             | 102kB 16.4MB/s eta 0:00:01\r\u001b[K     |████████████████████▉           | 112kB 16.4MB/s eta 0:00:01\r\u001b[K     |██████████████████████▊         | 122kB 16.4MB/s eta 0:00:01\r\u001b[K     |████████████████████████▊       | 133kB 16.4MB/s eta 0:00:01\r\u001b[K     |██████████████████████████▋     | 143kB 16.4MB/s eta 0:00:01\r\u001b[K     |████████████████████████████▌   | 153kB 16.4MB/s eta 0:00:01\r\u001b[K     |██████████████████████████████▍ | 163kB 16.4MB/s eta 0:00:01\r\u001b[K     |████████████████████████████████| 174kB 16.4MB/s \n",
            "\u001b[?25h"
          ],
          "name": "stdout"
        }
      ]
    },
    {
      "cell_type": "markdown",
      "metadata": {
        "id": "gmVSVEk9kTs4"
      },
      "source": [
        "Functions for loading and decompresssing data and models from h5 format. If you added a dataset, simply run load_dataset with the path to the h5"
      ]
    },
    {
      "cell_type": "code",
      "metadata": {
        "id": "yPkj0u-5F2Be"
      },
      "source": [
        "def load_dataset(data_filename, keys=None):\n",
        "    dataset = {}\n",
        "    nClass = 1283\n",
        "    with h5py.File(data_filename, 'r') as hf:\n",
        "        if keys is None:\n",
        "            for name in hf:\n",
        "                dataset[name] = np.array(hf.get(name))\n",
        "        else:\n",
        "            for name in keys:\n",
        "                dataset[name] = np.array(hf.get(name))\n",
        "        dataset['data'] /= 255\n",
        "\n",
        "        y = np.zeros((dataset['label'].shape[0], nClass))\n",
        "\n",
        "        for i in range(dataset['label'].shape[0]):\n",
        "            y[i][int(dataset['label'][i])] = 1\n",
        "\n",
        "        dataset['data'] = dataset['data'].transpose((0,2,3,1))\n",
        "        dataset['label'] = y\n",
        "        x = dataset['data']\n",
        "\n",
        "    return x, y, dataset\n",
        "\n",
        "def load_models(model_dir):\n",
        "    models = []\n",
        "    names = {}\n",
        "\n",
        "    for i, net in enumerate(glob2.glob(\"/content/CSAW-HackML-2020/models/*net.h5\")):\n",
        "        print(\"loading\", net)\n",
        "        weights = glob2.glob(net.split(\"_\")[0]+\"*weights.h5\")[0]\n",
        "       \n",
        "        m = load_model(net)\n",
        "        m.load_weights(weights)\n",
        "\n",
        "        models.append(m)\n",
        "        \n",
        "        names[i] = os.path.basename(net).split(\".\")[0]\n",
        "    return models, names"
      ],
      "execution_count": 4,
      "outputs": []
    },
    {
      "cell_type": "markdown",
      "metadata": {
        "id": "14Ae9mRxBWyV"
      },
      "source": [
        "###Load Data"
      ]
    },
    {
      "cell_type": "code",
      "metadata": {
        "id": "cNQ8-t0pDYY5"
      },
      "source": [
        "SG_poisoned_path = \"/content/CSAW-HackML-2020/data/sunglasses_poisoned_data.h5\"\n",
        "xSG, ySG, SG_poisoned = load_dataset(SG_poisoned_path)\n",
        "\n",
        "clean_validation_path = \"/content/CSAW-HackML-2020/data/clean_validation_data.h5\"\n",
        "xValid, yValid, valid_clean = load_dataset(clean_validation_path)\n",
        "\n",
        "clean_test_path = \"/content/CSAW-HackML-2020/data/clean_test_data.h5\"\n",
        "xTest, yTest, test_clean = load_dataset(clean_test_path)\n",
        "\n",
        "anon_poisoned_path = \"/content/CSAW-HackML-2020/data/anonymous_1_poisoned_data.h5\"\n",
        "xAnon, yAnon, anon_poisoned = load_dataset(anon_poisoned_path)\n"
      ],
      "execution_count": 5,
      "outputs": []
    },
    {
      "cell_type": "markdown",
      "metadata": {
        "id": "s5VA8NPX67_C"
      },
      "source": [
        "####Mixed final test data\r\n",
        "Mix the sunglass poinsoned images with clean test images from test set to create a final validation set. Warning: may cause crash due to RAM shortage."
      ]
    },
    {
      "cell_type": "code",
      "metadata": {
        "id": "pH_CUYpG7CBG"
      },
      "source": [
        "##TODO\r\n",
        "def mix_dataset(A, B):\r\n",
        "    nSample = A['data'].shape[0] + B['data'].shape[0] \r\n",
        "    offset = A['data'].shape[0]\r\n",
        "    xShape = (nSample, 55, 47, 3)\r\n",
        "    yShape = (nSample, 1283+1)\r\n",
        "    xOut = np.zeros(xShape)\r\n",
        "    yOut = np.zeros(yShape)\r\n",
        "\r\n",
        "    iOut = [i for i in range(nSample)]\r\n",
        "    random.shuffle(iOut)\r\n",
        "\r\n",
        "    for i in iOut:\r\n",
        "        if i >= offset:\r\n",
        "\r\n",
        "            xOut[i] = B['data'][i-offset]\r\n",
        "\r\n",
        "            if np.argmax(B['label'][i-offset]) != 0:\r\n",
        "                yOut[i] = np.append(B['label'][i-offset], [0])\r\n",
        "\r\n",
        "            else:\r\n",
        "                yOut[i][-1] = 0\r\n",
        "            \r\n",
        "        else:\r\n",
        "            xOut[i] = A['data'][i]\r\n",
        "            if np.argmax(A['label'][i]) != 0:\r\n",
        "                yOut[i] = np.append(A['label'][i], [0])\r\n",
        "            else:\r\n",
        "                yOut[i][-1] = 0\r\n",
        "\r\n",
        "    return xOut, yOut "
      ],
      "execution_count": 6,
      "outputs": []
    },
    {
      "cell_type": "code",
      "metadata": {
        "id": "qXEQHDo4iyBs"
      },
      "source": [
        "##xSGmixed, ySGmixed = mix_dataset(SG_poisoned, test_clean)"
      ],
      "execution_count": 7,
      "outputs": []
    },
    {
      "cell_type": "markdown",
      "metadata": {
        "id": "khtwl8GCIYku"
      },
      "source": [
        "###Load Models\r\n",
        "Load all Badnet models under <code>/content/CSAW-HackML-2020/models</code> directory. "
      ]
    },
    {
      "cell_type": "code",
      "metadata": {
        "colab": {
          "base_uri": "https://localhost:8080/"
        },
        "id": "hqfW9ZeHJGF4",
        "outputId": "24c58f23-c056-4c1e-f7fd-5a20b4e636d6"
      },
      "source": [
        "\n",
        "model_dir = \"/content/CSAW-HackML-2020/models\"\n",
        "\n",
        "models, model_names = load_models(model_dir)\n",
        "\n",
        "model_names.values()\n"
      ],
      "execution_count": 8,
      "outputs": [
        {
          "output_type": "stream",
          "text": [
            "loading /content/CSAW-HackML-2020/models/anonymous_2_bd_net.h5\n",
            "loading /content/CSAW-HackML-2020/models/multi_trigger_multi_target_bd_net.h5\n",
            "loading /content/CSAW-HackML-2020/models/sunglasses_bd_net.h5\n",
            "loading /content/CSAW-HackML-2020/models/anonymous_1_bd_net.h5\n"
          ],
          "name": "stdout"
        },
        {
          "output_type": "execute_result",
          "data": {
            "text/plain": [
              "dict_values(['anonymous_2_bd_net', 'multi_trigger_multi_target_bd_net', 'sunglasses_bd_net', 'anonymous_1_bd_net'])"
            ]
          },
          "metadata": {
            "tags": []
          },
          "execution_count": 8
        }
      ]
    },
    {
      "cell_type": "markdown",
      "metadata": {
        "id": "mzKRM8bg8Om1"
      },
      "source": [
        "### Model Summary"
      ]
    },
    {
      "cell_type": "code",
      "metadata": {
        "colab": {
          "base_uri": "https://localhost:8080/"
        },
        "id": "oT6zOYgL8Nmk",
        "outputId": "1e8207ad-a8c3-43e5-897e-ba2622fdb0cd"
      },
      "source": [
        "##TODO\n",
        "for i, model in enumerate(models):\n",
        "    print(\"model \", i, \":\")\n",
        "    model.summary()\n",
        "\n",
        "     "
      ],
      "execution_count": 9,
      "outputs": [
        {
          "output_type": "stream",
          "text": [
            "model  0 :\n",
            "Model: \"model_1\"\n",
            "__________________________________________________________________________________________________\n",
            "Layer (type)                    Output Shape         Param #     Connected to                     \n",
            "==================================================================================================\n",
            "input (InputLayer)              [(None, 55, 47, 3)]  0                                            \n",
            "__________________________________________________________________________________________________\n",
            "conv_1 (Conv2D)                 (None, 52, 44, 20)   980         input[0][0]                      \n",
            "__________________________________________________________________________________________________\n",
            "pool_1 (MaxPooling2D)           (None, 26, 22, 20)   0           conv_1[0][0]                     \n",
            "__________________________________________________________________________________________________\n",
            "conv_2 (Conv2D)                 (None, 24, 20, 40)   7240        pool_1[0][0]                     \n",
            "__________________________________________________________________________________________________\n",
            "pool_2 (MaxPooling2D)           (None, 12, 10, 40)   0           conv_2[0][0]                     \n",
            "__________________________________________________________________________________________________\n",
            "conv_3 (Conv2D)                 (None, 10, 8, 60)    21660       pool_2[0][0]                     \n",
            "__________________________________________________________________________________________________\n",
            "pool_3 (MaxPooling2D)           (None, 5, 4, 60)     0           conv_3[0][0]                     \n",
            "__________________________________________________________________________________________________\n",
            "conv_4 (Conv2D)                 (None, 4, 3, 80)     19280       pool_3[0][0]                     \n",
            "__________________________________________________________________________________________________\n",
            "flatten_1 (Flatten)             (None, 1200)         0           pool_3[0][0]                     \n",
            "__________________________________________________________________________________________________\n",
            "flatten_2 (Flatten)             (None, 960)          0           conv_4[0][0]                     \n",
            "__________________________________________________________________________________________________\n",
            "fc_1 (Dense)                    (None, 160)          192160      flatten_1[0][0]                  \n",
            "__________________________________________________________________________________________________\n",
            "fc_2 (Dense)                    (None, 160)          153760      flatten_2[0][0]                  \n",
            "__________________________________________________________________________________________________\n",
            "add_1 (Add)                     (None, 160)          0           fc_1[0][0]                       \n",
            "                                                                 fc_2[0][0]                       \n",
            "__________________________________________________________________________________________________\n",
            "activation_1 (Activation)       (None, 160)          0           add_1[0][0]                      \n",
            "__________________________________________________________________________________________________\n",
            "output (Dense)                  (None, 1283)         206563      activation_1[0][0]               \n",
            "==================================================================================================\n",
            "Total params: 601,643\n",
            "Trainable params: 601,643\n",
            "Non-trainable params: 0\n",
            "__________________________________________________________________________________________________\n",
            "model  1 :\n",
            "Model: \"model_1\"\n",
            "__________________________________________________________________________________________________\n",
            "Layer (type)                    Output Shape         Param #     Connected to                     \n",
            "==================================================================================================\n",
            "input (InputLayer)              [(None, 55, 47, 3)]  0                                            \n",
            "__________________________________________________________________________________________________\n",
            "conv_1 (Conv2D)                 (None, 52, 44, 20)   980         input[0][0]                      \n",
            "__________________________________________________________________________________________________\n",
            "pool_1 (MaxPooling2D)           (None, 26, 22, 20)   0           conv_1[0][0]                     \n",
            "__________________________________________________________________________________________________\n",
            "conv_2 (Conv2D)                 (None, 24, 20, 40)   7240        pool_1[0][0]                     \n",
            "__________________________________________________________________________________________________\n",
            "pool_2 (MaxPooling2D)           (None, 12, 10, 40)   0           conv_2[0][0]                     \n",
            "__________________________________________________________________________________________________\n",
            "conv_3 (Conv2D)                 (None, 10, 8, 60)    21660       pool_2[0][0]                     \n",
            "__________________________________________________________________________________________________\n",
            "pool_3 (MaxPooling2D)           (None, 5, 4, 60)     0           conv_3[0][0]                     \n",
            "__________________________________________________________________________________________________\n",
            "conv_4 (Conv2D)                 (None, 4, 3, 80)     19280       pool_3[0][0]                     \n",
            "__________________________________________________________________________________________________\n",
            "flatten_1 (Flatten)             (None, 1200)         0           pool_3[0][0]                     \n",
            "__________________________________________________________________________________________________\n",
            "flatten_2 (Flatten)             (None, 960)          0           conv_4[0][0]                     \n",
            "__________________________________________________________________________________________________\n",
            "fc_1 (Dense)                    (None, 160)          192160      flatten_1[0][0]                  \n",
            "__________________________________________________________________________________________________\n",
            "fc_2 (Dense)                    (None, 160)          153760      flatten_2[0][0]                  \n",
            "__________________________________________________________________________________________________\n",
            "add_1 (Add)                     (None, 160)          0           fc_1[0][0]                       \n",
            "                                                                 fc_2[0][0]                       \n",
            "__________________________________________________________________________________________________\n",
            "activation_1 (Activation)       (None, 160)          0           add_1[0][0]                      \n",
            "__________________________________________________________________________________________________\n",
            "output (Dense)                  (None, 1283)         206563      activation_1[0][0]               \n",
            "==================================================================================================\n",
            "Total params: 601,643\n",
            "Trainable params: 601,643\n",
            "Non-trainable params: 0\n",
            "__________________________________________________________________________________________________\n",
            "model  2 :\n",
            "Model: \"model_1\"\n",
            "__________________________________________________________________________________________________\n",
            "Layer (type)                    Output Shape         Param #     Connected to                     \n",
            "==================================================================================================\n",
            "input (InputLayer)              [(None, 55, 47, 3)]  0                                            \n",
            "__________________________________________________________________________________________________\n",
            "conv_1 (Conv2D)                 (None, 52, 44, 20)   980         input[0][0]                      \n",
            "__________________________________________________________________________________________________\n",
            "pool_1 (MaxPooling2D)           (None, 26, 22, 20)   0           conv_1[0][0]                     \n",
            "__________________________________________________________________________________________________\n",
            "conv_2 (Conv2D)                 (None, 24, 20, 40)   7240        pool_1[0][0]                     \n",
            "__________________________________________________________________________________________________\n",
            "pool_2 (MaxPooling2D)           (None, 12, 10, 40)   0           conv_2[0][0]                     \n",
            "__________________________________________________________________________________________________\n",
            "conv_3 (Conv2D)                 (None, 10, 8, 60)    21660       pool_2[0][0]                     \n",
            "__________________________________________________________________________________________________\n",
            "pool_3 (MaxPooling2D)           (None, 5, 4, 60)     0           conv_3[0][0]                     \n",
            "__________________________________________________________________________________________________\n",
            "conv_4 (Conv2D)                 (None, 4, 3, 80)     19280       pool_3[0][0]                     \n",
            "__________________________________________________________________________________________________\n",
            "flatten_1 (Flatten)             (None, 1200)         0           pool_3[0][0]                     \n",
            "__________________________________________________________________________________________________\n",
            "flatten_2 (Flatten)             (None, 960)          0           conv_4[0][0]                     \n",
            "__________________________________________________________________________________________________\n",
            "fc_1 (Dense)                    (None, 160)          192160      flatten_1[0][0]                  \n",
            "__________________________________________________________________________________________________\n",
            "fc_2 (Dense)                    (None, 160)          153760      flatten_2[0][0]                  \n",
            "__________________________________________________________________________________________________\n",
            "add_1 (Add)                     (None, 160)          0           fc_1[0][0]                       \n",
            "                                                                 fc_2[0][0]                       \n",
            "__________________________________________________________________________________________________\n",
            "activation_1 (Activation)       (None, 160)          0           add_1[0][0]                      \n",
            "__________________________________________________________________________________________________\n",
            "output (Dense)                  (None, 1283)         206563      activation_1[0][0]               \n",
            "==================================================================================================\n",
            "Total params: 601,643\n",
            "Trainable params: 601,643\n",
            "Non-trainable params: 0\n",
            "__________________________________________________________________________________________________\n",
            "model  3 :\n",
            "Model: \"model_1\"\n",
            "__________________________________________________________________________________________________\n",
            "Layer (type)                    Output Shape         Param #     Connected to                     \n",
            "==================================================================================================\n",
            "input (InputLayer)              [(None, 55, 47, 3)]  0                                            \n",
            "__________________________________________________________________________________________________\n",
            "conv_1 (Conv2D)                 (None, 52, 44, 20)   980         input[0][0]                      \n",
            "__________________________________________________________________________________________________\n",
            "pool_1 (MaxPooling2D)           (None, 26, 22, 20)   0           conv_1[0][0]                     \n",
            "__________________________________________________________________________________________________\n",
            "conv_2 (Conv2D)                 (None, 24, 20, 40)   7240        pool_1[0][0]                     \n",
            "__________________________________________________________________________________________________\n",
            "pool_2 (MaxPooling2D)           (None, 12, 10, 40)   0           conv_2[0][0]                     \n",
            "__________________________________________________________________________________________________\n",
            "conv_3 (Conv2D)                 (None, 10, 8, 60)    21660       pool_2[0][0]                     \n",
            "__________________________________________________________________________________________________\n",
            "pool_3 (MaxPooling2D)           (None, 5, 4, 60)     0           conv_3[0][0]                     \n",
            "__________________________________________________________________________________________________\n",
            "conv_4 (Conv2D)                 (None, 4, 3, 80)     19280       pool_3[0][0]                     \n",
            "__________________________________________________________________________________________________\n",
            "flatten_1 (Flatten)             (None, 1200)         0           pool_3[0][0]                     \n",
            "__________________________________________________________________________________________________\n",
            "flatten_2 (Flatten)             (None, 960)          0           conv_4[0][0]                     \n",
            "__________________________________________________________________________________________________\n",
            "fc_1 (Dense)                    (None, 160)          192160      flatten_1[0][0]                  \n",
            "__________________________________________________________________________________________________\n",
            "fc_2 (Dense)                    (None, 160)          153760      flatten_2[0][0]                  \n",
            "__________________________________________________________________________________________________\n",
            "add_1 (Add)                     (None, 160)          0           fc_1[0][0]                       \n",
            "                                                                 fc_2[0][0]                       \n",
            "__________________________________________________________________________________________________\n",
            "activation_1 (Activation)       (None, 160)          0           add_1[0][0]                      \n",
            "__________________________________________________________________________________________________\n",
            "output (Dense)                  (None, 1283)         206563      activation_1[0][0]               \n",
            "==================================================================================================\n",
            "Total params: 601,643\n",
            "Trainable params: 601,643\n",
            "Non-trainable params: 0\n",
            "__________________________________________________________________________________________________\n"
          ],
          "name": "stdout"
        }
      ]
    },
    {
      "cell_type": "code",
      "metadata": {
        "id": "ktTaXUpx1xNw"
      },
      "source": [
        "def validate_model(y, y_hat):\r\n",
        "    ##compute model accuracy based vectorized output\r\n",
        "    n = 0\r\n",
        "    for i, v in enumerate(y):\r\n",
        "        correct = 1 if np.argmax(v) == np.argmax(y_hat[i]) else 0\r\n",
        "        n+= correct \r\n",
        "    return n/(i + 1)\r\n",
        "    \r\n",
        "    "
      ],
      "execution_count": 10,
      "outputs": []
    },
    {
      "cell_type": "markdown",
      "metadata": {
        "id": "j5254HZpCQ10"
      },
      "source": [
        "####Evaluate loaded models on poisoned data.\r\n",
        "\r\n",
        " Note poisoned data will not involved in the repairing process. We are evaluating it to set baselines, Later we will use the results to validate our method "
      ]
    },
    {
      "cell_type": "code",
      "metadata": {
        "id": "Y0qHGnYtB39O",
        "colab": {
          "base_uri": "https://localhost:8080/"
        },
        "outputId": "458512f6-d1ed-468c-8f4c-26bbbe790ce6"
      },
      "source": [
        "for i, m in enumerate(models):\r\n",
        "    tf.keras.backend.clear_session()\r\n",
        "    predClean = m.predict(xTest)\r\n",
        "    predSG = m.predict(xSG)\r\n",
        "    predAnon = m.predict(xAnon)\r\n",
        "    print(\"badnet\", model_names[i], \"accuracy on clean test set: \", validate_model(predClean, yTest))\r\n",
        "    print(\"badnet\", model_names[i], \"accuracy on sunglass poisoned set: \", validate_model(predSG, ySG))\r\n",
        "    print(\"badnet\", model_names[i], \"accuracy on anonumous poisoned set: \", validate_model(predAnon, yAnon))"
      ],
      "execution_count": 11,
      "outputs": [
        {
          "output_type": "stream",
          "text": [
            "badnet anonymous_2_bd_net accuracy on clean test set:  0.9596258768511302\n",
            "badnet anonymous_2_bd_net accuracy on sunglass poisoned set:  0.0\n",
            "badnet anonymous_2_bd_net accuracy on anonumous poisoned set:  0.0\n",
            "badnet multi_trigger_multi_target_bd_net accuracy on clean test set:  0.9600935307872175\n",
            "badnet multi_trigger_multi_target_bd_net accuracy on sunglass poisoned set:  0.0\n",
            "badnet multi_trigger_multi_target_bd_net accuracy on anonumous poisoned set:  0.0\n",
            "badnet sunglasses_bd_net accuracy on clean test set:  0.9777864380358535\n",
            "badnet sunglasses_bd_net accuracy on sunglass poisoned set:  0.9999220576773188\n",
            "badnet sunglasses_bd_net accuracy on anonumous poisoned set:  0.0010717069368667187\n",
            "badnet anonymous_1_bd_net accuracy on clean test set:  0.9596258768511302\n",
            "badnet anonymous_1_bd_net accuracy on sunglass poisoned set:  0.0\n",
            "badnet anonymous_1_bd_net accuracy on anonumous poisoned set:  0.0\n"
          ],
          "name": "stdout"
        }
      ]
    },
    {
      "cell_type": "markdown",
      "metadata": {
        "id": "E4684QCsOVcw"
      },
      "source": [
        "###Save pre-repaired results\r\n",
        "For later poisoned image detection."
      ]
    },
    {
      "cell_type": "markdown",
      "metadata": {
        "id": "gdsgIRsvENbr"
      },
      "source": [
        "####Anon Poisoned"
      ]
    },
    {
      "cell_type": "code",
      "metadata": {
        "id": "EniU0Pd6OHFB"
      },
      "source": [
        "preds_preprocessed = [] ##test result of the badnets before repair\r\n",
        "\r\n",
        "for i, m in enumerate(models):\r\n",
        "    tf.keras.backend.clear_session() \r\n",
        "    pred = m.predict(xAnon)\r\n",
        "    preds_preprocessed.append(pred)\r\n",
        "\r\n",
        "test_preprocessed = []\r\n",
        "for i, m in enumerate(models):\r\n",
        "    tf.keras.backend.clear_session()\r\n",
        "    pred = m.predict(xTest)\r\n",
        "    test_preprocessed.append(pred)\r\n"
      ],
      "execution_count": 12,
      "outputs": []
    },
    {
      "cell_type": "markdown",
      "metadata": {
        "id": "Lcf5r6E_ESno"
      },
      "source": [
        "####test clean"
      ]
    },
    {
      "cell_type": "markdown",
      "metadata": {
        "id": "yv20HKo1n6at"
      },
      "source": [
        "####Load your own data"
      ]
    },
    {
      "cell_type": "code",
      "metadata": {
        "id": "fj5yW6ifle6K",
        "colab": {
          "base_uri": "https://localhost:8080/",
          "height": 52
        },
        "outputId": "a2588855-d177-4df3-964c-c818928cb34a"
      },
      "source": [
        "'''\r\n",
        "Path_to_your_data = \r\n",
        "yourX, yourY, yourDataset = load_dataset(Path_to_your_data)\r\n",
        "preds_preprocessed = []\r\n",
        "\r\n",
        "preds_preprocessed = [] ##test result of the badnets before repair\r\n",
        "\r\n",
        "for i, m in enumerate(models):\r\n",
        "    pred = m.predict(yourX)\r\n",
        "    preds_preprocessed.append(pred)\r\n",
        "\r\n",
        "'''"
      ],
      "execution_count": 13,
      "outputs": [
        {
          "output_type": "execute_result",
          "data": {
            "application/vnd.google.colaboratory.intrinsic+json": {
              "type": "string"
            },
            "text/plain": [
              "'\\nPath_to_your_data = \\nyourX, yourY, yourDataset = load_dataset(Path_to_your_data)\\npreds_preprocessed = []\\n\\npreds_preprocessed = [] ##test result of the badnets before repair\\n\\nfor i, m in enumerate(models):\\n    pred = m.predict(yourX)\\n    preds_preprocessed.append(pred)\\n\\n'"
            ]
          },
          "metadata": {
            "tags": []
          },
          "execution_count": 13
        }
      ]
    },
    {
      "cell_type": "markdown",
      "metadata": {
        "id": "9EiLz-FrAE6U"
      },
      "source": [
        "##Pruning\r\n",
        "\r\n",
        "Iteratively prune the each base badnet models 3 times with <code>prune_low_magenitue</code> in Keras. The clean Validation set is used for fit. Pruned nets are saved in list <code>pruned_models</code>"
      ]
    },
    {
      "cell_type": "code",
      "metadata": {
        "colab": {
          "base_uri": "https://localhost:8080/"
        },
        "id": "jsOlCu-oAbkR",
        "outputId": "95819de2-10c1-4a9a-f463-b93764899d92"
      },
      "source": [
        "\n",
        "pruned_models = []\n",
        "for i, base_model in enumerate(models):\n",
        "    for _ in range(3):\n",
        "        model_for_pruning = tfmot.sparsity.keras.prune_low_magnitude(base_model)\n",
        "    \n",
        "        log_dir = tempfile.mkdtemp()\n",
        "        callbacks = [\n",
        "            tfmot.sparsity.keras.UpdatePruningStep(),\n",
        "            tfmot.sparsity.keras.PruningSummaries(log_dir=log_dir)\n",
        "        ]\n",
        "        model_for_pruning.compile(\n",
        "          loss=tf.keras.losses.categorical_crossentropy,\n",
        "          optimizer='adam',\n",
        "          metrics=['accuracy']\n",
        "        )\n",
        "        model_for_pruning.fit(xValid, yValid,\n",
        "                              callbacks=callbacks,\n",
        "                              epochs=2\n",
        "                              )\n",
        "\n",
        "    pruned_models.append(model_for_pruning)"
      ],
      "execution_count": 14,
      "outputs": [
        {
          "output_type": "stream",
          "text": [
            "/usr/local/lib/python3.6/dist-packages/tensorflow/python/keras/engine/base_layer.py:2281: UserWarning: `layer.add_variable` is deprecated and will be removed in a future version. Please use `layer.add_weight` method instead.\n",
            "  warnings.warn('`layer.add_variable` is deprecated and '\n"
          ],
          "name": "stderr"
        },
        {
          "output_type": "stream",
          "text": [
            "Epoch 1/2\n",
            "  6/361 [..............................] - ETA: 17s - loss: 0.3045 - accuracy: 0.9197WARNING:tensorflow:Callback method `on_train_batch_end` is slow compared to the batch time (batch time: 0.0126s vs `on_train_batch_end` time: 0.0268s). Check your callbacks.\n",
            "361/361 [==============================] - 10s 18ms/step - loss: 0.4802 - accuracy: 0.8917\n",
            "Epoch 2/2\n",
            "361/361 [==============================] - 7s 18ms/step - loss: 0.0838 - accuracy: 0.9762\n",
            "Epoch 1/2\n",
            "  3/361 [..............................] - ETA: 57s - loss: 0.0207 - accuracy: 0.9913WARNING:tensorflow:Callback method `on_train_batch_end` is slow compared to the batch time (batch time: 0.0129s vs `on_train_batch_end` time: 0.0481s). Check your callbacks.\n",
            "361/361 [==============================] - 9s 19ms/step - loss: 0.1153 - accuracy: 0.9668\n",
            "Epoch 2/2\n",
            "361/361 [==============================] - 7s 18ms/step - loss: 0.0719 - accuracy: 0.9792\n",
            "Epoch 1/2\n",
            "  3/361 [..............................] - ETA: 56s - loss: 0.1002 - accuracy: 0.9913WARNING:tensorflow:Callback method `on_train_batch_end` is slow compared to the batch time (batch time: 0.0118s vs `on_train_batch_end` time: 0.0478s). Check your callbacks.\n",
            "361/361 [==============================] - 9s 19ms/step - loss: 0.0928 - accuracy: 0.9733\n",
            "Epoch 2/2\n",
            "361/361 [==============================] - 7s 18ms/step - loss: 0.0520 - accuracy: 0.9858\n",
            "Epoch 1/2\n",
            "  6/361 [..............................] - ETA: 27s - loss: 0.4954 - accuracy: 0.8922 WARNING:tensorflow:Callback method `on_train_batch_end` is slow compared to the batch time (batch time: 0.0124s vs `on_train_batch_end` time: 0.0516s). Check your callbacks.\n",
            "361/361 [==============================] - 9s 18ms/step - loss: 0.4543 - accuracy: 0.8999\n",
            "Epoch 2/2\n",
            "361/361 [==============================] - 6s 17ms/step - loss: 0.0825 - accuracy: 0.9808\n",
            "Epoch 1/2\n",
            "  6/361 [..............................] - ETA: 26s - loss: 0.0732 - accuracy: 0.9685WARNING:tensorflow:Callback method `on_train_batch_end` is slow compared to the batch time (batch time: 0.0145s vs `on_train_batch_end` time: 0.0463s). Check your callbacks.\n",
            "361/361 [==============================] - 9s 19ms/step - loss: 0.1179 - accuracy: 0.9667\n",
            "Epoch 2/2\n",
            "361/361 [==============================] - 6s 17ms/step - loss: 0.0805 - accuracy: 0.9770\n",
            "Epoch 1/2\n",
            "  6/361 [..............................] - ETA: 28s - loss: 0.0327 - accuracy: 0.9852 WARNING:tensorflow:Callback method `on_train_batch_end` is slow compared to the batch time (batch time: 0.0119s vs `on_train_batch_end` time: 0.0531s). Check your callbacks.\n",
            "361/361 [==============================] - 9s 18ms/step - loss: 0.0829 - accuracy: 0.9766\n",
            "Epoch 2/2\n",
            "361/361 [==============================] - 7s 18ms/step - loss: 0.0602 - accuracy: 0.9801\n",
            "Epoch 1/2\n",
            "  6/361 [..............................] - ETA: 26s - loss: 1.3242 - accuracy: 0.8330WARNING:tensorflow:Callback method `on_train_batch_end` is slow compared to the batch time (batch time: 0.0129s vs `on_train_batch_end` time: 0.0476s). Check your callbacks.\n",
            "361/361 [==============================] - 9s 19ms/step - loss: 0.8276 - accuracy: 0.8370\n",
            "Epoch 2/2\n",
            "361/361 [==============================] - 6s 18ms/step - loss: 0.1559 - accuracy: 0.9703\n",
            "Epoch 1/2\n",
            "  3/361 [..............................] - ETA: 1:06 - loss: 0.0691 - accuracy: 0.9792WARNING:tensorflow:Callback method `on_train_batch_end` is slow compared to the batch time (batch time: 0.0124s vs `on_train_batch_end` time: 0.0564s). Check your callbacks.\n",
            "361/361 [==============================] - 10s 19ms/step - loss: 0.2761 - accuracy: 0.9273\n",
            "Epoch 2/2\n",
            "361/361 [==============================] - 6s 17ms/step - loss: 0.1482 - accuracy: 0.9610\n",
            "Epoch 1/2\n",
            "  6/361 [..............................] - ETA: 26s - loss: 0.1124 - accuracy: 0.9692WARNING:tensorflow:Callback method `on_train_batch_end` is slow compared to the batch time (batch time: 0.0128s vs `on_train_batch_end` time: 0.0477s). Check your callbacks.\n",
            "361/361 [==============================] - 9s 18ms/step - loss: 0.1801 - accuracy: 0.9473\n",
            "Epoch 2/2\n",
            "361/361 [==============================] - 6s 17ms/step - loss: 0.0921 - accuracy: 0.9761\n",
            "Epoch 1/2\n",
            "  6/361 [..............................] - ETA: 28s - loss: 0.5614 - accuracy: 0.9240 WARNING:tensorflow:Callback method `on_train_batch_end` is slow compared to the batch time (batch time: 0.0143s vs `on_train_batch_end` time: 0.0512s). Check your callbacks.\n",
            "361/361 [==============================] - 9s 18ms/step - loss: 0.4757 - accuracy: 0.8970\n",
            "Epoch 2/2\n",
            "361/361 [==============================] - 6s 18ms/step - loss: 0.0949 - accuracy: 0.9730\n",
            "Epoch 1/2\n",
            "  6/361 [..............................] - ETA: 28s - loss: 0.0401 - accuracy: 0.9899 WARNING:tensorflow:Callback method `on_train_batch_end` is slow compared to the batch time (batch time: 0.0143s vs `on_train_batch_end` time: 0.0515s). Check your callbacks.\n",
            "361/361 [==============================] - 9s 18ms/step - loss: 0.1158 - accuracy: 0.9675\n",
            "Epoch 2/2\n",
            "361/361 [==============================] - 6s 18ms/step - loss: 0.0796 - accuracy: 0.9774\n",
            "Epoch 1/2\n",
            "  6/361 [..............................] - ETA: 25s - loss: 0.0702 - accuracy: 0.9737WARNING:tensorflow:Callback method `on_train_batch_end` is slow compared to the batch time (batch time: 0.0126s vs `on_train_batch_end` time: 0.0460s). Check your callbacks.\n",
            "361/361 [==============================] - 9s 18ms/step - loss: 0.0777 - accuracy: 0.9759\n",
            "Epoch 2/2\n",
            "361/361 [==============================] - 6s 17ms/step - loss: 0.0732 - accuracy: 0.9778\n"
          ],
          "name": "stdout"
        }
      ]
    },
    {
      "cell_type": "code",
      "metadata": {
        "id": "DvWqUKDph_xL",
        "colab": {
          "base_uri": "https://localhost:8080/"
        },
        "outputId": "4c71c98a-6eb3-4363-f28c-7bb7df5fd61f"
      },
      "source": [
        "for i, model in enumerate(pruned_models):\n",
        "    print(\"model \", i, \":\")\n",
        "    model.summary()"
      ],
      "execution_count": 15,
      "outputs": [
        {
          "output_type": "stream",
          "text": [
            "model  0 :\n",
            "Model: \"model_1\"\n",
            "__________________________________________________________________________________________________\n",
            "Layer (type)                    Output Shape         Param #     Connected to                     \n",
            "==================================================================================================\n",
            "input (InputLayer)              [(None, 55, 47, 3)]  0                                            \n",
            "__________________________________________________________________________________________________\n",
            "prune_low_magnitude_conv_1 (Pru (None, 52, 44, 20)   1942        input[0][0]                      \n",
            "__________________________________________________________________________________________________\n",
            "prune_low_magnitude_pool_1 (Pru (None, 26, 22, 20)   1           prune_low_magnitude_conv_1[0][0] \n",
            "__________________________________________________________________________________________________\n",
            "prune_low_magnitude_conv_2 (Pru (None, 24, 20, 40)   14442       prune_low_magnitude_pool_1[0][0] \n",
            "__________________________________________________________________________________________________\n",
            "prune_low_magnitude_pool_2 (Pru (None, 12, 10, 40)   1           prune_low_magnitude_conv_2[0][0] \n",
            "__________________________________________________________________________________________________\n",
            "prune_low_magnitude_conv_3 (Pru (None, 10, 8, 60)    43262       prune_low_magnitude_pool_2[0][0] \n",
            "__________________________________________________________________________________________________\n",
            "prune_low_magnitude_pool_3 (Pru (None, 5, 4, 60)     1           prune_low_magnitude_conv_3[0][0] \n",
            "__________________________________________________________________________________________________\n",
            "prune_low_magnitude_conv_4 (Pru (None, 4, 3, 80)     38482       prune_low_magnitude_pool_3[0][0] \n",
            "__________________________________________________________________________________________________\n",
            "prune_low_magnitude_flatten_1 ( (None, 1200)         1           prune_low_magnitude_pool_3[0][0] \n",
            "__________________________________________________________________________________________________\n",
            "prune_low_magnitude_flatten_2 ( (None, 960)          1           prune_low_magnitude_conv_4[0][0] \n",
            "__________________________________________________________________________________________________\n",
            "prune_low_magnitude_fc_1 (Prune (None, 160)          384162      prune_low_magnitude_flatten_1[0][\n",
            "__________________________________________________________________________________________________\n",
            "prune_low_magnitude_fc_2 (Prune (None, 160)          307362      prune_low_magnitude_flatten_2[0][\n",
            "__________________________________________________________________________________________________\n",
            "prune_low_magnitude_add_1 (Prun (None, 160)          1           prune_low_magnitude_fc_1[0][0]   \n",
            "                                                                 prune_low_magnitude_fc_2[0][0]   \n",
            "__________________________________________________________________________________________________\n",
            "prune_low_magnitude_activation_ (None, 160)          1           prune_low_magnitude_add_1[0][0]  \n",
            "__________________________________________________________________________________________________\n",
            "prune_low_magnitude_output (Pru (None, 1283)         411845      prune_low_magnitude_activation_1[\n",
            "==================================================================================================\n",
            "Total params: 1,201,504\n",
            "Trainable params: 601,643\n",
            "Non-trainable params: 599,861\n",
            "__________________________________________________________________________________________________\n",
            "model  1 :\n",
            "Model: \"model_1\"\n",
            "__________________________________________________________________________________________________\n",
            "Layer (type)                    Output Shape         Param #     Connected to                     \n",
            "==================================================================================================\n",
            "input (InputLayer)              [(None, 55, 47, 3)]  0                                            \n",
            "__________________________________________________________________________________________________\n",
            "prune_low_magnitude_conv_1 (Pru (None, 52, 44, 20)   1942        input[0][0]                      \n",
            "__________________________________________________________________________________________________\n",
            "prune_low_magnitude_pool_1 (Pru (None, 26, 22, 20)   1           prune_low_magnitude_conv_1[0][0] \n",
            "__________________________________________________________________________________________________\n",
            "prune_low_magnitude_conv_2 (Pru (None, 24, 20, 40)   14442       prune_low_magnitude_pool_1[0][0] \n",
            "__________________________________________________________________________________________________\n",
            "prune_low_magnitude_pool_2 (Pru (None, 12, 10, 40)   1           prune_low_magnitude_conv_2[0][0] \n",
            "__________________________________________________________________________________________________\n",
            "prune_low_magnitude_conv_3 (Pru (None, 10, 8, 60)    43262       prune_low_magnitude_pool_2[0][0] \n",
            "__________________________________________________________________________________________________\n",
            "prune_low_magnitude_pool_3 (Pru (None, 5, 4, 60)     1           prune_low_magnitude_conv_3[0][0] \n",
            "__________________________________________________________________________________________________\n",
            "prune_low_magnitude_conv_4 (Pru (None, 4, 3, 80)     38482       prune_low_magnitude_pool_3[0][0] \n",
            "__________________________________________________________________________________________________\n",
            "prune_low_magnitude_flatten_1 ( (None, 1200)         1           prune_low_magnitude_pool_3[0][0] \n",
            "__________________________________________________________________________________________________\n",
            "prune_low_magnitude_flatten_2 ( (None, 960)          1           prune_low_magnitude_conv_4[0][0] \n",
            "__________________________________________________________________________________________________\n",
            "prune_low_magnitude_fc_1 (Prune (None, 160)          384162      prune_low_magnitude_flatten_1[0][\n",
            "__________________________________________________________________________________________________\n",
            "prune_low_magnitude_fc_2 (Prune (None, 160)          307362      prune_low_magnitude_flatten_2[0][\n",
            "__________________________________________________________________________________________________\n",
            "prune_low_magnitude_add_1 (Prun (None, 160)          1           prune_low_magnitude_fc_1[0][0]   \n",
            "                                                                 prune_low_magnitude_fc_2[0][0]   \n",
            "__________________________________________________________________________________________________\n",
            "prune_low_magnitude_activation_ (None, 160)          1           prune_low_magnitude_add_1[0][0]  \n",
            "__________________________________________________________________________________________________\n",
            "prune_low_magnitude_output (Pru (None, 1283)         411845      prune_low_magnitude_activation_1[\n",
            "==================================================================================================\n",
            "Total params: 1,201,504\n",
            "Trainable params: 601,643\n",
            "Non-trainable params: 599,861\n",
            "__________________________________________________________________________________________________\n",
            "model  2 :\n",
            "Model: \"model_1\"\n",
            "__________________________________________________________________________________________________\n",
            "Layer (type)                    Output Shape         Param #     Connected to                     \n",
            "==================================================================================================\n",
            "input (InputLayer)              [(None, 55, 47, 3)]  0                                            \n",
            "__________________________________________________________________________________________________\n",
            "prune_low_magnitude_conv_1 (Pru (None, 52, 44, 20)   1942        input[0][0]                      \n",
            "__________________________________________________________________________________________________\n",
            "prune_low_magnitude_pool_1 (Pru (None, 26, 22, 20)   1           prune_low_magnitude_conv_1[0][0] \n",
            "__________________________________________________________________________________________________\n",
            "prune_low_magnitude_conv_2 (Pru (None, 24, 20, 40)   14442       prune_low_magnitude_pool_1[0][0] \n",
            "__________________________________________________________________________________________________\n",
            "prune_low_magnitude_pool_2 (Pru (None, 12, 10, 40)   1           prune_low_magnitude_conv_2[0][0] \n",
            "__________________________________________________________________________________________________\n",
            "prune_low_magnitude_conv_3 (Pru (None, 10, 8, 60)    43262       prune_low_magnitude_pool_2[0][0] \n",
            "__________________________________________________________________________________________________\n",
            "prune_low_magnitude_pool_3 (Pru (None, 5, 4, 60)     1           prune_low_magnitude_conv_3[0][0] \n",
            "__________________________________________________________________________________________________\n",
            "prune_low_magnitude_conv_4 (Pru (None, 4, 3, 80)     38482       prune_low_magnitude_pool_3[0][0] \n",
            "__________________________________________________________________________________________________\n",
            "prune_low_magnitude_flatten_1 ( (None, 1200)         1           prune_low_magnitude_pool_3[0][0] \n",
            "__________________________________________________________________________________________________\n",
            "prune_low_magnitude_flatten_2 ( (None, 960)          1           prune_low_magnitude_conv_4[0][0] \n",
            "__________________________________________________________________________________________________\n",
            "prune_low_magnitude_fc_1 (Prune (None, 160)          384162      prune_low_magnitude_flatten_1[0][\n",
            "__________________________________________________________________________________________________\n",
            "prune_low_magnitude_fc_2 (Prune (None, 160)          307362      prune_low_magnitude_flatten_2[0][\n",
            "__________________________________________________________________________________________________\n",
            "prune_low_magnitude_add_1 (Prun (None, 160)          1           prune_low_magnitude_fc_1[0][0]   \n",
            "                                                                 prune_low_magnitude_fc_2[0][0]   \n",
            "__________________________________________________________________________________________________\n",
            "prune_low_magnitude_activation_ (None, 160)          1           prune_low_magnitude_add_1[0][0]  \n",
            "__________________________________________________________________________________________________\n",
            "prune_low_magnitude_output (Pru (None, 1283)         411845      prune_low_magnitude_activation_1[\n",
            "==================================================================================================\n",
            "Total params: 1,201,504\n",
            "Trainable params: 601,643\n",
            "Non-trainable params: 599,861\n",
            "__________________________________________________________________________________________________\n",
            "model  3 :\n",
            "Model: \"model_1\"\n",
            "__________________________________________________________________________________________________\n",
            "Layer (type)                    Output Shape         Param #     Connected to                     \n",
            "==================================================================================================\n",
            "input (InputLayer)              [(None, 55, 47, 3)]  0                                            \n",
            "__________________________________________________________________________________________________\n",
            "prune_low_magnitude_conv_1 (Pru (None, 52, 44, 20)   1942        input[0][0]                      \n",
            "__________________________________________________________________________________________________\n",
            "prune_low_magnitude_pool_1 (Pru (None, 26, 22, 20)   1           prune_low_magnitude_conv_1[0][0] \n",
            "__________________________________________________________________________________________________\n",
            "prune_low_magnitude_conv_2 (Pru (None, 24, 20, 40)   14442       prune_low_magnitude_pool_1[0][0] \n",
            "__________________________________________________________________________________________________\n",
            "prune_low_magnitude_pool_2 (Pru (None, 12, 10, 40)   1           prune_low_magnitude_conv_2[0][0] \n",
            "__________________________________________________________________________________________________\n",
            "prune_low_magnitude_conv_3 (Pru (None, 10, 8, 60)    43262       prune_low_magnitude_pool_2[0][0] \n",
            "__________________________________________________________________________________________________\n",
            "prune_low_magnitude_pool_3 (Pru (None, 5, 4, 60)     1           prune_low_magnitude_conv_3[0][0] \n",
            "__________________________________________________________________________________________________\n",
            "prune_low_magnitude_conv_4 (Pru (None, 4, 3, 80)     38482       prune_low_magnitude_pool_3[0][0] \n",
            "__________________________________________________________________________________________________\n",
            "prune_low_magnitude_flatten_1 ( (None, 1200)         1           prune_low_magnitude_pool_3[0][0] \n",
            "__________________________________________________________________________________________________\n",
            "prune_low_magnitude_flatten_2 ( (None, 960)          1           prune_low_magnitude_conv_4[0][0] \n",
            "__________________________________________________________________________________________________\n",
            "prune_low_magnitude_fc_1 (Prune (None, 160)          384162      prune_low_magnitude_flatten_1[0][\n",
            "__________________________________________________________________________________________________\n",
            "prune_low_magnitude_fc_2 (Prune (None, 160)          307362      prune_low_magnitude_flatten_2[0][\n",
            "__________________________________________________________________________________________________\n",
            "prune_low_magnitude_add_1 (Prun (None, 160)          1           prune_low_magnitude_fc_1[0][0]   \n",
            "                                                                 prune_low_magnitude_fc_2[0][0]   \n",
            "__________________________________________________________________________________________________\n",
            "prune_low_magnitude_activation_ (None, 160)          1           prune_low_magnitude_add_1[0][0]  \n",
            "__________________________________________________________________________________________________\n",
            "prune_low_magnitude_output (Pru (None, 1283)         411845      prune_low_magnitude_activation_1[\n",
            "==================================================================================================\n",
            "Total params: 1,201,504\n",
            "Trainable params: 601,643\n",
            "Non-trainable params: 599,861\n",
            "__________________________________________________________________________________________________\n"
          ],
          "name": "stdout"
        }
      ]
    },
    {
      "cell_type": "markdown",
      "metadata": {
        "id": "UjycRd8lzlHx"
      },
      "source": [
        "##Fine-tuning\r\n",
        "Fine-tuning the pruned models with <code>1e-5</code> learning rate in 10 epochs. The clean validation set is used in the training process. Repaired nets are saved in list <code>repaired_models</code>"
      ]
    },
    {
      "cell_type": "code",
      "metadata": {
        "colab": {
          "base_uri": "https://localhost:8080/"
        },
        "id": "TGYCEOYxzpcr",
        "outputId": "d98259f7-856b-4003-967e-48f904ac64a3"
      },
      "source": [
        "repaired_models = []\n",
        "\n",
        "for i, m in enumerate(pruned_models):\n",
        "\n",
        "    model = copy.copy(m)\n",
        "\n",
        "    print(\"Fine-tuning model\", model_names[i], \": \")\n",
        "    model.compile(optimizer=keras.optimizers.Adam(1e-5),\n",
        "              loss=tf.keras.losses.categorical_crossentropy,\n",
        "              metrics=['accuracy']\n",
        "              )\n",
        "    model.fit(xValid, yValid,\n",
        "          epochs=5\n",
        "          )\n",
        "    repaired_models.append(model)"
      ],
      "execution_count": 16,
      "outputs": [
        {
          "output_type": "stream",
          "text": [
            "Fine-tuning model anonymous_2_bd_net : \n",
            "Epoch 1/5\n",
            "361/361 [==============================] - 8s 13ms/step - loss: 0.0504 - accuracy: 0.9854\n",
            "Epoch 2/5\n",
            "361/361 [==============================] - 5s 14ms/step - loss: 0.0269 - accuracy: 0.9931\n",
            "Epoch 3/5\n",
            "361/361 [==============================] - 5s 14ms/step - loss: 0.0204 - accuracy: 0.9947\n",
            "Epoch 4/5\n",
            "361/361 [==============================] - 5s 13ms/step - loss: 0.0126 - accuracy: 0.9968\n",
            "Epoch 5/5\n",
            "361/361 [==============================] - 5s 13ms/step - loss: 0.0088 - accuracy: 0.9976\n",
            "Fine-tuning model multi_trigger_multi_target_bd_net : \n",
            "Epoch 1/5\n",
            "361/361 [==============================] - 7s 14ms/step - loss: 0.0454 - accuracy: 0.9853\n",
            "Epoch 2/5\n",
            "361/361 [==============================] - 5s 14ms/step - loss: 0.0264 - accuracy: 0.9900\n",
            "Epoch 3/5\n",
            "361/361 [==============================] - 5s 14ms/step - loss: 0.0180 - accuracy: 0.9943\n",
            "Epoch 4/5\n",
            "361/361 [==============================] - 5s 13ms/step - loss: 0.0126 - accuracy: 0.9971\n",
            "Epoch 5/5\n",
            "361/361 [==============================] - 5s 14ms/step - loss: 0.0094 - accuracy: 0.9975\n",
            "Fine-tuning model sunglasses_bd_net : \n",
            "Epoch 1/5\n",
            "361/361 [==============================] - 7s 14ms/step - loss: 0.0730 - accuracy: 0.9802\n",
            "Epoch 2/5\n",
            "361/361 [==============================] - 5s 13ms/step - loss: 0.0493 - accuracy: 0.9854\n",
            "Epoch 3/5\n",
            "361/361 [==============================] - 5s 13ms/step - loss: 0.0377 - accuracy: 0.9898\n",
            "Epoch 4/5\n",
            "361/361 [==============================] - 5s 13ms/step - loss: 0.0236 - accuracy: 0.9936\n",
            "Epoch 5/5\n",
            "361/361 [==============================] - 5s 13ms/step - loss: 0.0165 - accuracy: 0.9958\n",
            "Fine-tuning model anonymous_1_bd_net : \n",
            "Epoch 1/5\n",
            "361/361 [==============================] - 8s 14ms/step - loss: 0.0354 - accuracy: 0.9899\n",
            "Epoch 2/5\n",
            "361/361 [==============================] - 5s 13ms/step - loss: 0.0234 - accuracy: 0.9941\n",
            "Epoch 3/5\n",
            "361/361 [==============================] - 4s 12ms/step - loss: 0.0129 - accuracy: 0.9963\n",
            "Epoch 4/5\n",
            "361/361 [==============================] - 5s 13ms/step - loss: 0.0088 - accuracy: 0.9986\n",
            "Epoch 5/5\n",
            "361/361 [==============================] - 5s 14ms/step - loss: 0.0093 - accuracy: 0.9985\n"
          ],
          "name": "stdout"
        }
      ]
    },
    {
      "cell_type": "markdown",
      "metadata": {
        "id": "H-3D82TJl3tr"
      },
      "source": [
        "##Validation\n",
        "Demonstrate the effectiveness of our results by run clean_test, Sunglass_poisoned, and anonumous_poisoned data on all repaired nets. "
      ]
    },
    {
      "cell_type": "code",
      "metadata": {
        "colab": {
          "base_uri": "https://localhost:8080/"
        },
        "id": "fAFhYNs5l8xS",
        "outputId": "f2f8ba69-c831-4641-af7d-42af88eb97ee"
      },
      "source": [
        "##Intermediate quick evalution using built-in Keras functions and the poisoned set\n",
        "\n",
        "for i, m in enumerate(repaired_models):\n",
        "    print(\"Repaired\", model_names[i], \"accuracy on clean test set: \")\n",
        "    m.evaluate(xTest, yTest) \n",
        "    print(\"Repaired\", model_names[i], \"accuracy on sunglass poisoned set: \")\n",
        "    m.evaluate(xSG, ySG)\n",
        "    \n",
        "    print(\"Repaired\", model_names[i], \"accuracy on anonumous poisoned set: \")\n",
        "    m.evaluate(xAnon, yAnon) "
      ],
      "execution_count": 17,
      "outputs": [
        {
          "output_type": "stream",
          "text": [
            "Repaired anonymous_2_bd_net accuracy on clean test set: \n",
            "401/401 [==============================] - 2s 4ms/step - loss: 0.5181 - accuracy: 0.9178\n",
            "Repaired anonymous_2_bd_net accuracy on sunglass poisoned set: \n",
            "401/401 [==============================] - 2s 4ms/step - loss: 67.0011 - accuracy: 0.0000e+00\n",
            "Repaired anonymous_2_bd_net accuracy on anonumous poisoned set: \n",
            "321/321 [==============================] - 1s 4ms/step - loss: 46.0055 - accuracy: 3.8971e-04\n",
            "Repaired multi_trigger_multi_target_bd_net accuracy on clean test set: \n",
            "401/401 [==============================] - 2s 4ms/step - loss: 0.4965 - accuracy: 0.9288\n",
            "Repaired multi_trigger_multi_target_bd_net accuracy on sunglass poisoned set: \n",
            "401/401 [==============================] - 2s 4ms/step - loss: 47.9035 - accuracy: 0.0000e+00\n",
            "Repaired multi_trigger_multi_target_bd_net accuracy on anonumous poisoned set: \n",
            "321/321 [==============================] - 1s 4ms/step - loss: 42.6233 - accuracy: 2.9228e-04\n",
            "Repaired sunglasses_bd_net accuracy on clean test set: \n",
            "401/401 [==============================] - 2s 4ms/step - loss: 0.7758 - accuracy: 0.9043\n",
            "Repaired sunglasses_bd_net accuracy on sunglass poisoned set: \n",
            "401/401 [==============================] - 2s 4ms/step - loss: 17.1876 - accuracy: 0.0307\n",
            "Repaired sunglasses_bd_net accuracy on anonumous poisoned set: \n",
            "321/321 [==============================] - 1s 4ms/step - loss: 38.4900 - accuracy: 8.7685e-04\n",
            "Repaired anonymous_1_bd_net accuracy on clean test set: \n",
            "401/401 [==============================] - 2s 4ms/step - loss: 0.5118 - accuracy: 0.9216\n",
            "Repaired anonymous_1_bd_net accuracy on sunglass poisoned set: \n",
            "401/401 [==============================] - 2s 4ms/step - loss: 53.3770 - accuracy: 0.0000e+00\n",
            "Repaired anonymous_1_bd_net accuracy on anonumous poisoned set: \n",
            "321/321 [==============================] - 1s 4ms/step - loss: 41.3584 - accuracy: 1.9486e-04\n"
          ],
          "name": "stdout"
        }
      ]
    },
    {
      "cell_type": "markdown",
      "metadata": {
        "id": "vk7WSGLhefev"
      },
      "source": [
        "##Final output\r\n",
        "Compare preprocessed results from the bad net and results from repaired nets to output results. The differnt predictions between bad nets and repaired nets are classifed as N+1 class. Here we use <code>anonumous_poisoned</code> as our input. "
      ]
    },
    {
      "cell_type": "code",
      "metadata": {
        "id": "pjAWd90Jejax"
      },
      "source": [
        "def poisoned_detection(afterPreds, prePreds):\r\n",
        "    out = []\r\n",
        "    for i in range(len(afterPreds)):\r\n",
        "        newDimension = list(afterPreds[i].shape)\r\n",
        "        newDimension[1] += 1\r\n",
        "        newArray = np.zeros(newDimension)\r\n",
        "        for j in range(afterPreds[i].shape[0]):\r\n",
        "            a = np.argmax(afterPreds[i][j]) \r\n",
        "            b = np.argmax(prePreds[i][j])\r\n",
        "            \r\n",
        "            if a == b:\r\n",
        "                newArray[j][a] = 1\r\n",
        "            else:\r\n",
        "                newArray[j][-1] = 1\r\n",
        "        out.append(newArray)\r\n",
        "    return out"
      ],
      "execution_count": 18,
      "outputs": []
    },
    {
      "cell_type": "code",
      "metadata": {
        "id": "PBwlVUrGvAgQ"
      },
      "source": [
        "preds_repaired = [] ##prediction on poisoned data\r\n",
        "test_repaired = [] ##prediction on clean test data\r\n",
        "\r\n",
        "for i, m in enumerate(repaired_models):\r\n",
        "    pred = m.predict(xAnon)\r\n",
        "    pred_t = m.predict(xTest)\r\n",
        "    preds_repaired.append(pred)\r\n",
        "    test_repaired.append(pred_t)\r\n",
        " "
      ],
      "execution_count": 19,
      "outputs": []
    },
    {
      "cell_type": "code",
      "metadata": {
        "id": "yRPUQQPwl5OC"
      },
      "source": [
        "test_results = poisoned_detection(test_repaired, test_preprocessed)\n",
        "\n",
        "final_results = poisoned_detection(preds_repaired, preds_preprocessed)"
      ],
      "execution_count": 20,
      "outputs": []
    },
    {
      "cell_type": "markdown",
      "metadata": {
        "id": "dv3hSd8P17BI"
      },
      "source": [
        "###Poisoned image detection validation\n",
        "Evaluate effectiveness of our poisoned detection method on mixed <code>anonumous_poisoned</code> and <code>test_clean</code>"
      ]
    },
    {
      "cell_type": "code",
      "metadata": {
        "id": "Z2KcZAhyWFsa",
        "colab": {
          "base_uri": "https://localhost:8080/"
        },
        "outputId": "85925b4c-2570-4694-c3be-224a3ec0adc8"
      },
      "source": [
        "for i in range(len(final_results)):\r\n",
        "    tp = 0\r\n",
        "    fn = 0\r\n",
        "    tn = 0\r\n",
        "    \r\n",
        "    p = final_results[i]\r\n",
        "    c = test_results[i]\r\n",
        "\r\n",
        "    n = p.shape[0]\r\n",
        "    m = c.shape[0]\r\n",
        "\r\n",
        "    for j in range(n): \r\n",
        "\r\n",
        "        trueLabel = np.argmax(yAnon[j])\r\n",
        "        predLabel = np.argmax(p[j])\r\n",
        "\r\n",
        "        if predLabel == 1283:\r\n",
        "            t+=1\r\n",
        "            if trueLabel == 0:\r\n",
        "                tp += 1\r\n",
        "        else:\r\n",
        "            if trueLabel != 0:\r\n",
        "                tn += 1\r\n",
        "\r\n",
        "        if trueLabel == 0:\r\n",
        "            if predLabel != 1283:\r\n",
        "                fn += 1\r\n",
        "\r\n",
        "    for j in range(m):\r\n",
        "\r\n",
        "        trueLabel = np.argmax(yTest[j])\r\n",
        "        predLabel = np.argmax(c[j])\r\n",
        "\r\n",
        "        if predLabel == 1283:\r\n",
        "            t+=1\r\n",
        "            if trueLabel == 0:\r\n",
        "                tp += 1\r\n",
        "        else:\r\n",
        "            if trueLabel != 0:\r\n",
        "                tn += 1\r\n",
        "        if trueLabel == 0:\r\n",
        "            if predLabel != 1283:\r\n",
        "                fn += 1\r\n",
        "\r\n",
        "    print(\"Repaired\", model_names[i], \"poisoned detection:\")\r\n",
        "    \r\n",
        "    acc = (tp + tn)/(n + m)\r\n",
        "    tpr = tp/(fn+tp)\r\n",
        "    tnr = 1 - (fn/(fn+tp))\r\n",
        "    print(\"Acc: \", acc)\r\n",
        "    print(\"TPR: \", tpr)\r\n",
        "    ##print(\"TNR: \", tnr)\r\n",
        "\r\n",
        "    print(\"-\"*10)\r\n"
      ],
      "execution_count": 29,
      "outputs": [
        {
          "output_type": "stream",
          "text": [
            "Repaired anonymous_2_bd_net poisoned detection:\n",
            "Acc:  0.9086775785918421\n",
            "TPR:  0.9215495425345532\n",
            "----------\n",
            "Repaired multi_trigger_multi_target_bd_net poisoned detection:\n",
            "Acc:  0.7915908894085044\n",
            "TPR:  0.6445396145610278\n",
            "----------\n",
            "Repaired sunglasses_bd_net poisoned detection:\n",
            "Acc:  0.5506192084524119\n",
            "TPR:  0.11407436246836675\n",
            "----------\n",
            "Repaired anonymous_1_bd_net poisoned detection:\n",
            "Acc:  0.9023122889062094\n",
            "TPR:  0.9046135876970994\n",
            "----------\n"
          ],
          "name": "stdout"
        }
      ]
    }
  ]
}