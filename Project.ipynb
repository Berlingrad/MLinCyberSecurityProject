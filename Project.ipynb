{
  "nbformat": 4,
  "nbformat_minor": 0,
  "metadata": {
    "colab": {
      "name": "Project.ipynb",
      "provenance": [],
      "collapsed_sections": [],
      "toc_visible": true,
      "include_colab_link": true
    },
    "kernelspec": {
      "name": "python3",
      "display_name": "Python 3"
    },
    "accelerator": "GPU"
  },
  "cells": [
    {
      "cell_type": "markdown",
      "metadata": {
        "id": "view-in-github",
        "colab_type": "text"
      },
      "source": [
        "<a href=\"https://colab.research.google.com/github/Berlingrad/MLinCyberSecurityProject/blob/XuDevelopment/Project.ipynb\" target=\"_parent\"><img src=\"https://colab.research.google.com/assets/colab-badge.svg\" alt=\"Open In Colab\"/></a>"
      ]
    },
    {
      "cell_type": "markdown",
      "metadata": {
        "id": "HGclO6eUuymx"
      },
      "source": [
        "#DNN Back Door Detector"
      ]
    },
    {
      "cell_type": "markdown",
      "metadata": {
        "id": "UNYtyNsgvHRl"
      },
      "source": [
        "## Preprocessing"
      ]
    },
    {
      "cell_type": "markdown",
      "metadata": {
        "id": "GiqLPbbVLs-w"
      },
      "source": [
        "###Data Download"
      ]
    },
    {
      "cell_type": "code",
      "metadata": {
        "colab": {
          "base_uri": "https://localhost:8080/"
        },
        "id": "puVie2-guvOg",
        "outputId": "096246b8-8058-4c8b-a7df-b103fe54280a"
      },
      "source": [
        "!git clone https://github.com/csaw-hackml/CSAW-HackML-2020.git\n",
        "\n",
        "!gdown https://drive.google.com/uc?id=1P8PTL62x3cfpV9mrC0unqZjRFhlTTOSG\n",
        "!gdown https://drive.google.com/uc?id=19OKCkY2CjV3ASkOe6nMSYTsOVcxAoCnA\n",
        "!gdown https://drive.google.com/uc?id=1XtYnM-IopU-QYVc99U51EiDvI5zxK0nV\n",
        "\n",
        "!mv /content/*.h5 /content/CSAW-HackML-2020/data\n",
        "\n",
        "##!wget https://raw.githubusercontent.com/bolunwang/backdoor/master/visualizer.py"
      ],
      "execution_count": 1,
      "outputs": [
        {
          "output_type": "stream",
          "text": [
            "Cloning into 'CSAW-HackML-2020'...\n",
            "remote: Enumerating objects: 14, done.\u001b[K\n",
            "remote: Counting objects: 100% (14/14), done.\u001b[K\n",
            "remote: Compressing objects: 100% (10/10), done.\u001b[K\n",
            "remote: Total 155 (delta 5), reused 13 (delta 4), pack-reused 141\u001b[K\n",
            "Receiving objects: 100% (155/155), 79.56 MiB | 37.39 MiB/s, done.\n",
            "Resolving deltas: 100% (48/48), done.\n",
            "Downloading...\n",
            "From: https://drive.google.com/uc?id=1P8PTL62x3cfpV9mrC0unqZjRFhlTTOSG\n",
            "To: /content/sunglasses_poisoned_data.h5\n",
            "398MB [00:01, 220MB/s]\n",
            "Downloading...\n",
            "From: https://drive.google.com/uc?id=19OKCkY2CjV3ASkOe6nMSYTsOVcxAoCnA\n",
            "To: /content/clean_validation_data.h5\n",
            "716MB [00:03, 235MB/s]\n",
            "Downloading...\n",
            "From: https://drive.google.com/uc?id=1XtYnM-IopU-QYVc99U51EiDvI5zxK0nV\n",
            "To: /content/clean_test_data.h5\n",
            "398MB [00:09, 43.1MB/s]\n"
          ],
          "name": "stdout"
        }
      ]
    },
    {
      "cell_type": "code",
      "metadata": {
        "id": "C1skH0vBC7pl",
        "colab": {
          "base_uri": "https://localhost:8080/"
        },
        "outputId": "946bbbcd-b927-4486-c07e-640884da2680"
      },
      "source": [
        "import os\n",
        "import gdown\n",
        "import numpy as np\n",
        "import random\n",
        "import h5py\n",
        "import glob2\n",
        "import tempfile\n",
        "import copy\n",
        "\n",
        "import keras\n",
        "import tensorflow as tf\n",
        "from keras.models import load_model\n",
        "from keras.preprocessing.image import ImageDataGenerator\n",
        "!pip install -q tensorflow-model-optimization\n",
        "import tensorflow_model_optimization as tfmot\n",
        "\n",
        "if not tf.config.experimental.list_physical_devices('GPU'):\n",
        "    raise Exception(\"Please change runtime type to GPU\")\n"
      ],
      "execution_count": 2,
      "outputs": [
        {
          "output_type": "stream",
          "text": [
            "\u001b[?25l\r\u001b[K     |██                              | 10kB 22.3MB/s eta 0:00:01\r\u001b[K     |███▉                            | 20kB 26.9MB/s eta 0:00:01\r\u001b[K     |█████▊                          | 30kB 20.0MB/s eta 0:00:01\r\u001b[K     |███████▋                        | 40kB 12.9MB/s eta 0:00:01\r\u001b[K     |█████████▌                      | 51kB 8.1MB/s eta 0:00:01\r\u001b[K     |███████████▍                    | 61kB 8.5MB/s eta 0:00:01\r\u001b[K     |█████████████▎                  | 71kB 8.6MB/s eta 0:00:01\r\u001b[K     |███████████████▏                | 81kB 8.9MB/s eta 0:00:01\r\u001b[K     |█████████████████               | 92kB 9.0MB/s eta 0:00:01\r\u001b[K     |███████████████████             | 102kB 7.7MB/s eta 0:00:01\r\u001b[K     |████████████████████▉           | 112kB 7.7MB/s eta 0:00:01\r\u001b[K     |██████████████████████▊         | 122kB 7.7MB/s eta 0:00:01\r\u001b[K     |████████████████████████▊       | 133kB 7.7MB/s eta 0:00:01\r\u001b[K     |██████████████████████████▋     | 143kB 7.7MB/s eta 0:00:01\r\u001b[K     |████████████████████████████▌   | 153kB 7.7MB/s eta 0:00:01\r\u001b[K     |██████████████████████████████▍ | 163kB 7.7MB/s eta 0:00:01\r\u001b[K     |████████████████████████████████| 174kB 7.7MB/s \n",
            "\u001b[?25h"
          ],
          "name": "stdout"
        }
      ]
    },
    {
      "cell_type": "code",
      "metadata": {
        "id": "yPkj0u-5F2Be"
      },
      "source": [
        "def load_dataset(data_filename, keys=None):\n",
        "    dataset = {}\n",
        "    with h5py.File(data_filename, 'r') as hf:\n",
        "        if keys is None:\n",
        "            for name in hf:\n",
        "                dataset[name] = np.array(hf.get(name))\n",
        "        else:\n",
        "            for name in keys:\n",
        "                dataset[name] = np.array(hf.get(name))\n",
        "\n",
        "    return dataset\n",
        "\n",
        "def load_models(model_dir):\n",
        "    models = []\n",
        "    names = {}\n",
        "\n",
        "    for i, net in enumerate(glob2.glob(\"/content/CSAW-HackML-2020/models/*net.h5\")):\n",
        "        print(\"loading\", net)\n",
        "        weights = glob2.glob(net.split(\"_\")[0]+\"*weights.h5\")[0]\n",
        "       \n",
        "        m = load_model(net)\n",
        "        m.load_weights(weights)\n",
        "\n",
        "        models.append(m)\n",
        "        \n",
        "        names[i] = os.path.basename(net).split(\".\")[0]\n",
        "    return models, names"
      ],
      "execution_count": 3,
      "outputs": []
    },
    {
      "cell_type": "markdown",
      "metadata": {
        "id": "14Ae9mRxBWyV"
      },
      "source": [
        "###Load Data"
      ]
    },
    {
      "cell_type": "code",
      "metadata": {
        "id": "cNQ8-t0pDYY5",
        "colab": {
          "base_uri": "https://localhost:8080/"
        },
        "outputId": "3aba9040-952d-406f-8abc-dba8a11e0fb5"
      },
      "source": [
        "SG_poisoned_path = \"/content/CSAW-HackML-2020/data/sunglasses_poisoned_data.h5\"\n",
        "SG_poisoned = load_dataset(SG_poisoned_path)\n",
        "\n",
        "clean_validation_path = \"/content/CSAW-HackML-2020/data/clean_validation_data.h5\"\n",
        "valid_clean = load_dataset(clean_validation_path)\n",
        "\n",
        "clean_test_path = \"/content/CSAW-HackML-2020/data/clean_test_data.h5\"\n",
        "test_clean = load_dataset(clean_test_path)\n",
        "\n",
        "SG_poisoned['data'] = SG_poisoned['data'].transpose((0,2,3,1))\n",
        "valid_clean['data'] = valid_clean['data'].transpose((0,2,3,1))\n",
        "test_clean['data'] = test_clean['data'].transpose((0,2,3,1))\n",
        "\n",
        " \n",
        " ##Vectorize label array to fit the model output\n",
        "outLen = 1283 ##Length of output array\n",
        "ySG = np.zeros((SG_poisoned['label'].shape[0], outLen))\n",
        "yValid = np.zeros((valid_clean['label'].shape[0], outLen))\n",
        "yTest = np.zeros((test_clean['label'].shape[0], outLen))\n",
        "\n",
        "print(valid_clean['data'].shape)\n",
        "print(yValid.shape)\n",
        "\n",
        "for i in range(SG_poisoned['label'].shape[0]):\n",
        "    ySG[i][SG_poisoned['label'][i]] = 1\n",
        "\n",
        "for i in range(valid_clean['label'].shape[0]):\n",
        "    yValid[i][int(valid_clean['label'][i])] = 1\n",
        "\n",
        "for i in range(test_clean['label'].shape[0]):\n",
        "    yTest[i][test_clean['label'][i]] = 1\n",
        "\n"
      ],
      "execution_count": 4,
      "outputs": [
        {
          "output_type": "stream",
          "text": [
            "(11547, 55, 47, 3)\n",
            "(11547, 1283)\n"
          ],
          "name": "stdout"
        }
      ]
    },
    {
      "cell_type": "markdown",
      "metadata": {
        "id": "xBT8IKBgBd-C"
      },
      "source": [
        "###Data Parameters"
      ]
    },
    {
      "cell_type": "code",
      "metadata": {
        "id": "ZLJcI5WgBi5Z"
      },
      "source": [
        "##TODO\n",
        "\n",
        "##SG_nClass = \n",
        "##vc_nClass = "
      ],
      "execution_count": 5,
      "outputs": []
    },
    {
      "cell_type": "markdown",
      "metadata": {
        "id": "khtwl8GCIYku"
      },
      "source": [
        "###Load Models"
      ]
    },
    {
      "cell_type": "code",
      "metadata": {
        "id": "hqfW9ZeHJGF4",
        "colab": {
          "base_uri": "https://localhost:8080/"
        },
        "outputId": "f94aa614-ad27-4777-d2b3-4393fd025a29"
      },
      "source": [
        "\n",
        "model_dir = \"/content/CSAW-HackML-2020/models\"\n",
        "\n",
        "models, model_names = load_models(model_dir)\n",
        "\n",
        "model_names.values()\n"
      ],
      "execution_count": 6,
      "outputs": [
        {
          "output_type": "stream",
          "text": [
            "loading /content/CSAW-HackML-2020/models/anonymous_bd_net.h5\n",
            "loading /content/CSAW-HackML-2020/models/sunglasses_bd_net.h5\n",
            "loading /content/CSAW-HackML-2020/models/multi_trigger_multi_target_bd_net.h5\n"
          ],
          "name": "stdout"
        },
        {
          "output_type": "execute_result",
          "data": {
            "text/plain": [
              "dict_values(['anonymous_bd_net', 'sunglasses_bd_net', 'multi_trigger_multi_target_bd_net'])"
            ]
          },
          "metadata": {
            "tags": []
          },
          "execution_count": 6
        }
      ]
    },
    {
      "cell_type": "code",
      "metadata": {
        "colab": {
          "base_uri": "https://localhost:8080/"
        },
        "id": "qFt5IQh6gEcv",
        "outputId": "9cc5d32d-e2e0-4bb6-f769-fff553effcee"
      },
      "source": [
        "out = models[0].predict(valid_clean['data'])\n",
        "print(np.argmax(out[0]))\n",
        "print(out.shape)\n",
        "print(yValid.shape)"
      ],
      "execution_count": 7,
      "outputs": [
        {
          "output_type": "stream",
          "text": [
            "43\n",
            "(11547, 1283)\n",
            "(11547, 1283)\n"
          ],
          "name": "stdout"
        }
      ]
    },
    {
      "cell_type": "markdown",
      "metadata": {
        "id": "mzKRM8bg8Om1"
      },
      "source": [
        "### Model Summary"
      ]
    },
    {
      "cell_type": "code",
      "metadata": {
        "colab": {
          "base_uri": "https://localhost:8080/"
        },
        "id": "oT6zOYgL8Nmk",
        "outputId": "0b5e9b13-f563-4ec2-b581-b7c246af4cfe"
      },
      "source": [
        "##TODO\n",
        "for i, model in enumerate(models):\n",
        "    print(\"model \", i, \":\")\n",
        "    model.summary()\n",
        "\n",
        "     "
      ],
      "execution_count": 8,
      "outputs": [
        {
          "output_type": "stream",
          "text": [
            "model  0 :\n",
            "Model: \"model_1\"\n",
            "__________________________________________________________________________________________________\n",
            "Layer (type)                    Output Shape         Param #     Connected to                     \n",
            "==================================================================================================\n",
            "input (InputLayer)              [(None, 55, 47, 3)]  0                                            \n",
            "__________________________________________________________________________________________________\n",
            "conv_1 (Conv2D)                 (None, 52, 44, 20)   980         input[0][0]                      \n",
            "__________________________________________________________________________________________________\n",
            "pool_1 (MaxPooling2D)           (None, 26, 22, 20)   0           conv_1[0][0]                     \n",
            "__________________________________________________________________________________________________\n",
            "conv_2 (Conv2D)                 (None, 24, 20, 40)   7240        pool_1[0][0]                     \n",
            "__________________________________________________________________________________________________\n",
            "pool_2 (MaxPooling2D)           (None, 12, 10, 40)   0           conv_2[0][0]                     \n",
            "__________________________________________________________________________________________________\n",
            "conv_3 (Conv2D)                 (None, 10, 8, 60)    21660       pool_2[0][0]                     \n",
            "__________________________________________________________________________________________________\n",
            "pool_3 (MaxPooling2D)           (None, 5, 4, 60)     0           conv_3[0][0]                     \n",
            "__________________________________________________________________________________________________\n",
            "conv_4 (Conv2D)                 (None, 4, 3, 80)     19280       pool_3[0][0]                     \n",
            "__________________________________________________________________________________________________\n",
            "flatten_1 (Flatten)             (None, 1200)         0           pool_3[0][0]                     \n",
            "__________________________________________________________________________________________________\n",
            "flatten_2 (Flatten)             (None, 960)          0           conv_4[0][0]                     \n",
            "__________________________________________________________________________________________________\n",
            "fc_1 (Dense)                    (None, 160)          192160      flatten_1[0][0]                  \n",
            "__________________________________________________________________________________________________\n",
            "fc_2 (Dense)                    (None, 160)          153760      flatten_2[0][0]                  \n",
            "__________________________________________________________________________________________________\n",
            "add_1 (Add)                     (None, 160)          0           fc_1[0][0]                       \n",
            "                                                                 fc_2[0][0]                       \n",
            "__________________________________________________________________________________________________\n",
            "activation_1 (Activation)       (None, 160)          0           add_1[0][0]                      \n",
            "__________________________________________________________________________________________________\n",
            "output (Dense)                  (None, 1283)         206563      activation_1[0][0]               \n",
            "==================================================================================================\n",
            "Total params: 601,643\n",
            "Trainable params: 601,643\n",
            "Non-trainable params: 0\n",
            "__________________________________________________________________________________________________\n",
            "model  1 :\n",
            "Model: \"model_1\"\n",
            "__________________________________________________________________________________________________\n",
            "Layer (type)                    Output Shape         Param #     Connected to                     \n",
            "==================================================================================================\n",
            "input (InputLayer)              [(None, 55, 47, 3)]  0                                            \n",
            "__________________________________________________________________________________________________\n",
            "conv_1 (Conv2D)                 (None, 52, 44, 20)   980         input[0][0]                      \n",
            "__________________________________________________________________________________________________\n",
            "pool_1 (MaxPooling2D)           (None, 26, 22, 20)   0           conv_1[0][0]                     \n",
            "__________________________________________________________________________________________________\n",
            "conv_2 (Conv2D)                 (None, 24, 20, 40)   7240        pool_1[0][0]                     \n",
            "__________________________________________________________________________________________________\n",
            "pool_2 (MaxPooling2D)           (None, 12, 10, 40)   0           conv_2[0][0]                     \n",
            "__________________________________________________________________________________________________\n",
            "conv_3 (Conv2D)                 (None, 10, 8, 60)    21660       pool_2[0][0]                     \n",
            "__________________________________________________________________________________________________\n",
            "pool_3 (MaxPooling2D)           (None, 5, 4, 60)     0           conv_3[0][0]                     \n",
            "__________________________________________________________________________________________________\n",
            "conv_4 (Conv2D)                 (None, 4, 3, 80)     19280       pool_3[0][0]                     \n",
            "__________________________________________________________________________________________________\n",
            "flatten_1 (Flatten)             (None, 1200)         0           pool_3[0][0]                     \n",
            "__________________________________________________________________________________________________\n",
            "flatten_2 (Flatten)             (None, 960)          0           conv_4[0][0]                     \n",
            "__________________________________________________________________________________________________\n",
            "fc_1 (Dense)                    (None, 160)          192160      flatten_1[0][0]                  \n",
            "__________________________________________________________________________________________________\n",
            "fc_2 (Dense)                    (None, 160)          153760      flatten_2[0][0]                  \n",
            "__________________________________________________________________________________________________\n",
            "add_1 (Add)                     (None, 160)          0           fc_1[0][0]                       \n",
            "                                                                 fc_2[0][0]                       \n",
            "__________________________________________________________________________________________________\n",
            "activation_1 (Activation)       (None, 160)          0           add_1[0][0]                      \n",
            "__________________________________________________________________________________________________\n",
            "output (Dense)                  (None, 1283)         206563      activation_1[0][0]               \n",
            "==================================================================================================\n",
            "Total params: 601,643\n",
            "Trainable params: 601,643\n",
            "Non-trainable params: 0\n",
            "__________________________________________________________________________________________________\n",
            "model  2 :\n",
            "Model: \"model_1\"\n",
            "__________________________________________________________________________________________________\n",
            "Layer (type)                    Output Shape         Param #     Connected to                     \n",
            "==================================================================================================\n",
            "input (InputLayer)              [(None, 55, 47, 3)]  0                                            \n",
            "__________________________________________________________________________________________________\n",
            "conv_1 (Conv2D)                 (None, 52, 44, 20)   980         input[0][0]                      \n",
            "__________________________________________________________________________________________________\n",
            "pool_1 (MaxPooling2D)           (None, 26, 22, 20)   0           conv_1[0][0]                     \n",
            "__________________________________________________________________________________________________\n",
            "conv_2 (Conv2D)                 (None, 24, 20, 40)   7240        pool_1[0][0]                     \n",
            "__________________________________________________________________________________________________\n",
            "pool_2 (MaxPooling2D)           (None, 12, 10, 40)   0           conv_2[0][0]                     \n",
            "__________________________________________________________________________________________________\n",
            "conv_3 (Conv2D)                 (None, 10, 8, 60)    21660       pool_2[0][0]                     \n",
            "__________________________________________________________________________________________________\n",
            "pool_3 (MaxPooling2D)           (None, 5, 4, 60)     0           conv_3[0][0]                     \n",
            "__________________________________________________________________________________________________\n",
            "conv_4 (Conv2D)                 (None, 4, 3, 80)     19280       pool_3[0][0]                     \n",
            "__________________________________________________________________________________________________\n",
            "flatten_1 (Flatten)             (None, 1200)         0           pool_3[0][0]                     \n",
            "__________________________________________________________________________________________________\n",
            "flatten_2 (Flatten)             (None, 960)          0           conv_4[0][0]                     \n",
            "__________________________________________________________________________________________________\n",
            "fc_1 (Dense)                    (None, 160)          192160      flatten_1[0][0]                  \n",
            "__________________________________________________________________________________________________\n",
            "fc_2 (Dense)                    (None, 160)          153760      flatten_2[0][0]                  \n",
            "__________________________________________________________________________________________________\n",
            "add_1 (Add)                     (None, 160)          0           fc_1[0][0]                       \n",
            "                                                                 fc_2[0][0]                       \n",
            "__________________________________________________________________________________________________\n",
            "activation_1 (Activation)       (None, 160)          0           add_1[0][0]                      \n",
            "__________________________________________________________________________________________________\n",
            "output (Dense)                  (None, 1283)         206563      activation_1[0][0]               \n",
            "==================================================================================================\n",
            "Total params: 601,643\n",
            "Trainable params: 601,643\n",
            "Non-trainable params: 0\n",
            "__________________________________________________________________________________________________\n"
          ],
          "name": "stdout"
        }
      ]
    },
    {
      "cell_type": "code",
      "metadata": {
        "id": "ktTaXUpx1xNw"
      },
      "source": [
        "def validate_model(y, y_hat):\r\n",
        "    ##compute model accuracy based vectorized output\r\n",
        "    n = 0\r\n",
        "    for i, v in enumerate(y):\r\n",
        "        correct = 1 if np.argmax(v) == np.argmax(y_hat[i]) else 0\r\n",
        "        n+= correct \r\n",
        "    return n/(i + 1)\r\n",
        "    \r\n",
        "    "
      ],
      "execution_count": 9,
      "outputs": []
    },
    {
      "cell_type": "markdown",
      "metadata": {
        "id": "E4684QCsOVcw"
      },
      "source": [
        "###Pretrain the models"
      ]
    },
    {
      "cell_type": "code",
      "metadata": {
        "colab": {
          "base_uri": "https://localhost:8080/"
        },
        "id": "N4eIKJKy0Ee9",
        "outputId": "3938d888-ecb8-4cc3-9576-47bf1a4cc7f6"
      },
      "source": [
        "for m in models:\r\n",
        "    pred = m.predict(test_clean['data'])\r\n",
        "    print(validate_model(yTest, pred))\r\n",
        "\r\n",
        "for m in models:\r\n",
        "    pred = m.predict(SG_poisoned['data'])\r\n",
        "    print(validate_model(ySG, pred))\r\n",
        "\r\n"
      ],
      "execution_count": 10,
      "outputs": [
        {
          "output_type": "stream",
          "text": [
            "0.5622759158222915\n",
            "0.42361652377240844\n",
            "0.4319563522992985\n",
            "0.0\n",
            "0.9994544037412315\n",
            "0.0\n"
          ],
          "name": "stdout"
        }
      ]
    },
    {
      "cell_type": "code",
      "metadata": {
        "colab": {
          "base_uri": "https://localhost:8080/"
        },
        "id": "-2kfBq7yNo6K",
        "outputId": "6516d8f3-6390-429e-e819-2c0dedc36eaf"
      },
      "source": [
        "for m in models:\r\n",
        "    m.compile(loss=tf.keras.losses.categorical_crossentropy,\r\n",
        "              optimizer='adam',\r\n",
        "              metrics=['accuracy']\r\n",
        "              )\r\n",
        "    m.fit(valid_clean['data'], yValid,\r\n",
        "          epochs=2\r\n",
        "          )"
      ],
      "execution_count": 11,
      "outputs": [
        {
          "output_type": "stream",
          "text": [
            "Epoch 1/2\n",
            "361/361 [==============================] - 2s 5ms/step - loss: 153.8457 - accuracy: 0.7766\n",
            "Epoch 2/2\n",
            "361/361 [==============================] - 2s 4ms/step - loss: 11.5527 - accuracy: 0.8950\n",
            "Epoch 1/2\n",
            "361/361 [==============================] - 2s 4ms/step - loss: 281.8186 - accuracy: 0.6741\n",
            "Epoch 2/2\n",
            "361/361 [==============================] - 2s 4ms/step - loss: 5.0994 - accuracy: 0.8447\n",
            "Epoch 1/2\n",
            "361/361 [==============================] - 2s 4ms/step - loss: 184.5867 - accuracy: 0.7091\n",
            "Epoch 2/2\n",
            "361/361 [==============================] - 2s 4ms/step - loss: 11.8666 - accuracy: 0.8860\n"
          ],
          "name": "stdout"
        }
      ]
    },
    {
      "cell_type": "code",
      "metadata": {
        "colab": {
          "base_uri": "https://localhost:8080/"
        },
        "id": "EniU0Pd6OHFB",
        "outputId": "6fb5543e-2db3-4866-cb8d-d5a0446eb597"
      },
      "source": [
        "preds_preprocessed = [] ##test result of the badnets before repair\r\n",
        "\r\n",
        "for m in models:\r\n",
        "    pred = m.predict(test_clean['data'])\r\n",
        "    preds_preprocessed.append(pred)\r\n",
        "    print(validate_model(yTest, pred))\r\n",
        "\r\n",
        "for m in models:\r\n",
        "    pred = m.predict(SG_poisoned['data'])\r\n",
        "    print(validate_model(ySG, pred))"
      ],
      "execution_count": 12,
      "outputs": [
        {
          "output_type": "stream",
          "text": [
            "0.8756819953234607\n",
            "0.8443491816056119\n",
            "0.8432579890880748\n",
            "0.0\n",
            "0.3858144972720187\n",
            "0.0\n"
          ],
          "name": "stdout"
        }
      ]
    },
    {
      "cell_type": "markdown",
      "metadata": {
        "id": "9EiLz-FrAE6U"
      },
      "source": [
        "##Pruning"
      ]
    },
    {
      "cell_type": "code",
      "metadata": {
        "colab": {
          "base_uri": "https://localhost:8080/"
        },
        "id": "jsOlCu-oAbkR",
        "outputId": "054cbd1d-4cb2-4517-a0e5-ba8bf3229d10"
      },
      "source": [
        "pruned_models = []\n",
        "for i, base_model in enumerate(models):\n",
        "    for _ in range(3):\n",
        "        model_for_pruning = tfmot.sparsity.keras.prune_low_magnitude(base_model)\n",
        "    \n",
        "        log_dir = tempfile.mkdtemp()\n",
        "        callbacks = [\n",
        "            tfmot.sparsity.keras.UpdatePruningStep(),\n",
        "            tfmot.sparsity.keras.PruningSummaries(log_dir=log_dir)\n",
        "        ]\n",
        "        model_for_pruning.compile(\n",
        "          loss=tf.keras.losses.categorical_crossentropy,\n",
        "          optimizer='adam',\n",
        "          metrics=['accuracy']\n",
        "        )\n",
        "        model_for_pruning.fit(valid_clean['data'], yValid,\n",
        "                              callbacks=callbacks,\n",
        "                              epochs=3\n",
        "                              )\n",
        "\n",
        "    pruned_models.append(model_for_pruning)"
      ],
      "execution_count": 13,
      "outputs": [
        {
          "output_type": "stream",
          "text": [
            "/usr/local/lib/python3.6/dist-packages/tensorflow/python/keras/engine/base_layer.py:2281: UserWarning: `layer.add_variable` is deprecated and will be removed in a future version. Please use `layer.add_weight` method instead.\n",
            "  warnings.warn('`layer.add_variable` is deprecated and '\n"
          ],
          "name": "stderr"
        },
        {
          "output_type": "stream",
          "text": [
            "Epoch 1/3\n",
            "  6/361 [..............................] - ETA: 17s - loss: 13.4941 - accuracy: 0.7859WARNING:tensorflow:Callback method `on_train_batch_end` is slow compared to the batch time (batch time: 0.0130s vs `on_train_batch_end` time: 0.0275s). Check your callbacks.\n",
            "361/361 [==============================] - 9s 17ms/step - loss: 10.3233 - accuracy: 0.8508\n",
            "Epoch 2/3\n",
            "361/361 [==============================] - 6s 17ms/step - loss: 2.8790 - accuracy: 0.9225\n",
            "Epoch 3/3\n",
            "361/361 [==============================] - 6s 17ms/step - loss: 1.5322 - accuracy: 0.9397\n",
            "Epoch 1/3\n",
            "  6/361 [..............................] - ETA: 26s - loss: 0.9195 - accuracy: 0.9362WARNING:tensorflow:Callback method `on_train_batch_end` is slow compared to the batch time (batch time: 0.0122s vs `on_train_batch_end` time: 0.0475s). Check your callbacks.\n",
            "361/361 [==============================] - 9s 18ms/step - loss: 1.6237 - accuracy: 0.9303\n",
            "Epoch 2/3\n",
            "361/361 [==============================] - 6s 17ms/step - loss: 1.4259 - accuracy: 0.9271\n",
            "Epoch 3/3\n",
            "361/361 [==============================] - 6s 17ms/step - loss: 0.7720 - accuracy: 0.9444\n",
            "Epoch 1/3\n",
            "  6/361 [..............................] - ETA: 26s - loss: 0.5166 - accuracy: 0.9515WARNING:tensorflow:Callback method `on_train_batch_end` is slow compared to the batch time (batch time: 0.0132s vs `on_train_batch_end` time: 0.0480s). Check your callbacks.\n",
            "361/361 [==============================] - 9s 18ms/step - loss: 0.7570 - accuracy: 0.9424\n",
            "Epoch 2/3\n",
            "361/361 [==============================] - 6s 17ms/step - loss: 0.5681 - accuracy: 0.9474\n",
            "Epoch 3/3\n",
            "361/361 [==============================] - 6s 17ms/step - loss: 0.3870 - accuracy: 0.9612\n",
            "Epoch 1/3\n",
            "  6/361 [..............................] - ETA: 27s - loss: 10.4363 - accuracy: 0.5919WARNING:tensorflow:Callback method `on_train_batch_end` is slow compared to the batch time (batch time: 0.0125s vs `on_train_batch_end` time: 0.0508s). Check your callbacks.\n",
            "361/361 [==============================] - 9s 18ms/step - loss: 4.6858 - accuracy: 0.7392\n",
            "Epoch 2/3\n",
            "361/361 [==============================] - 6s 17ms/step - loss: 0.8254 - accuracy: 0.8949\n",
            "Epoch 3/3\n",
            "361/361 [==============================] - 6s 17ms/step - loss: 0.3841 - accuracy: 0.9335\n",
            "Epoch 1/3\n",
            "  6/361 [..............................] - ETA: 24s - loss: 0.2287 - accuracy: 0.9538WARNING:tensorflow:Callback method `on_train_batch_end` is slow compared to the batch time (batch time: 0.0123s vs `on_train_batch_end` time: 0.0449s). Check your callbacks.\n",
            "361/361 [==============================] - 9s 18ms/step - loss: 0.6867 - accuracy: 0.9006\n",
            "Epoch 2/3\n",
            "361/361 [==============================] - 6s 17ms/step - loss: 0.4739 - accuracy: 0.9168\n",
            "Epoch 3/3\n",
            "361/361 [==============================] - 6s 18ms/step - loss: 0.3213 - accuracy: 0.9333\n",
            "Epoch 1/3\n",
            "  3/361 [..............................] - ETA: 58s - loss: 0.1473 - accuracy: 0.9236WARNING:tensorflow:Callback method `on_train_batch_end` is slow compared to the batch time (batch time: 0.0118s vs `on_train_batch_end` time: 0.0496s). Check your callbacks.\n",
            "361/361 [==============================] - 9s 18ms/step - loss: 0.3441 - accuracy: 0.9357\n",
            "Epoch 2/3\n",
            "361/361 [==============================] - 6s 17ms/step - loss: 0.2282 - accuracy: 0.9443\n",
            "Epoch 3/3\n",
            "361/361 [==============================] - 7s 19ms/step - loss: 0.1866 - accuracy: 0.9606\n",
            "Epoch 1/3\n",
            "  6/361 [..............................] - ETA: 25s - loss: 25.2778 - accuracy: 0.7834WARNING:tensorflow:Callback method `on_train_batch_end` is slow compared to the batch time (batch time: 0.0121s vs `on_train_batch_end` time: 0.0462s). Check your callbacks.\n",
            "361/361 [==============================] - 9s 18ms/step - loss: 11.5581 - accuracy: 0.8499\n",
            "Epoch 2/3\n",
            "361/361 [==============================] - 6s 17ms/step - loss: 3.6017 - accuracy: 0.9206\n",
            "Epoch 3/3\n",
            "361/361 [==============================] - 6s 17ms/step - loss: 1.3371 - accuracy: 0.9499\n",
            "Epoch 1/3\n",
            "  6/361 [..............................] - ETA: 27s - loss: 0.8249 - accuracy: 0.9631WARNING:tensorflow:Callback method `on_train_batch_end` is slow compared to the batch time (batch time: 0.0138s vs `on_train_batch_end` time: 0.0494s). Check your callbacks.\n",
            "361/361 [==============================] - 9s 18ms/step - loss: 1.8181 - accuracy: 0.9368\n",
            "Epoch 2/3\n",
            "361/361 [==============================] - 6s 17ms/step - loss: 1.7423 - accuracy: 0.9339\n",
            "Epoch 3/3\n",
            "361/361 [==============================] - 6s 17ms/step - loss: 0.9632 - accuracy: 0.9478\n",
            "Epoch 1/3\n",
            "  6/361 [..............................] - ETA: 25s - loss: 0.0964 - accuracy: 0.9832WARNING:tensorflow:Callback method `on_train_batch_end` is slow compared to the batch time (batch time: 0.0121s vs `on_train_batch_end` time: 0.0458s). Check your callbacks.\n",
            "361/361 [==============================] - 9s 18ms/step - loss: 0.9939 - accuracy: 0.9533\n",
            "Epoch 2/3\n",
            "361/361 [==============================] - 6s 17ms/step - loss: 0.8253 - accuracy: 0.9521\n",
            "Epoch 3/3\n",
            "361/361 [==============================] - 6s 17ms/step - loss: 0.5363 - accuracy: 0.9570\n"
          ],
          "name": "stdout"
        }
      ]
    },
    {
      "cell_type": "code",
      "metadata": {
        "colab": {
          "base_uri": "https://localhost:8080/",
          "height": 188
        },
        "id": "hRpuEQO9_vrO",
        "outputId": "0c79f71b-b257-43a5-8b45-25d27735e123"
      },
      "source": [
        "'''\r\n",
        "pruned_models = []\r\n",
        "for i, base_model in enumerate(models):\r\n",
        "    model_for_pruning = tfmot.sparsity.keras.prune_low_magnitude(base_model)\r\n",
        "\r\n",
        "    loss = tf.keras.losses.categorical_crossentropy\r\n",
        "    optimizer = tf.keras.optimizers.Adam()\r\n",
        "    log_dir = tempfile.mkdtemp()\r\n",
        "    unused_arg = -1\r\n",
        "    epochs = 3 \r\n",
        "    batches = 1 \r\n",
        "\r\n",
        "    model_for_pruning.optimizer = optimizer\r\n",
        "    step_callback = tfmot.sparsity.keras.UpdatePruningStep()\r\n",
        "    step_callback.set_model(model_for_pruning)\r\n",
        "    log_callback = tfmot.sparsity.keras.PruningSummaries(log_dir=log_dir) # Log sparsity and other metrics in Tensorboard.\r\n",
        "    log_callback.set_model(model_for_pruning)\r\n",
        "\r\n",
        "    step_callback.on_train_begin() # run pruning callback\r\n",
        "    for _ in range(epochs):\r\n",
        "       log_callback.on_epoch_begin(epoch=unused_arg) # run pruning callback\r\n",
        "       for _ in range(batches):\r\n",
        "           step_callback.on_train_batch_begin(batch=unused_arg) # run pruning callback\r\n",
        "\r\n",
        "           with tf.GradientTape() as tape:\r\n",
        "               logits = model_for_pruning(valid_clean['data'], training=True)\r\n",
        "               loss_value = loss(yValid, logits)\r\n",
        "               grads = tape.gradient(loss_value, model_for_pruning.trainable_variables)\r\n",
        "               optimizer.apply_gradients(zip(grads, model_for_pruning.trainable_variables))\r\n",
        "\r\n",
        "       step_callback.on_epoch_end(batch=unused_arg)\r\n",
        "\r\n",
        "    pruned_models.append(model_for_pruning)\r\n",
        "'''"
      ],
      "execution_count": 14,
      "outputs": [
        {
          "output_type": "execute_result",
          "data": {
            "application/vnd.google.colaboratory.intrinsic+json": {
              "type": "string"
            },
            "text/plain": [
              "\"\\npruned_models = []\\nfor i, base_model in enumerate(models):\\n    model_for_pruning = tfmot.sparsity.keras.prune_low_magnitude(base_model)\\n\\n    loss = tf.keras.losses.categorical_crossentropy\\n    optimizer = tf.keras.optimizers.Adam()\\n    log_dir = tempfile.mkdtemp()\\n    unused_arg = -1\\n    epochs = 3 \\n    batches = 1 \\n\\n    model_for_pruning.optimizer = optimizer\\n    step_callback = tfmot.sparsity.keras.UpdatePruningStep()\\n    step_callback.set_model(model_for_pruning)\\n    log_callback = tfmot.sparsity.keras.PruningSummaries(log_dir=log_dir) # Log sparsity and other metrics in Tensorboard.\\n    log_callback.set_model(model_for_pruning)\\n\\n    step_callback.on_train_begin() # run pruning callback\\n    for _ in range(epochs):\\n       log_callback.on_epoch_begin(epoch=unused_arg) # run pruning callback\\n       for _ in range(batches):\\n           step_callback.on_train_batch_begin(batch=unused_arg) # run pruning callback\\n\\n           with tf.GradientTape() as tape:\\n               logits = model_for_pruning(valid_clean['data'], training=True)\\n               loss_value = loss(yValid, logits)\\n               grads = tape.gradient(loss_value, model_for_pruning.trainable_variables)\\n               optimizer.apply_gradients(zip(grads, model_for_pruning.trainable_variables))\\n\\n       step_callback.on_epoch_end(batch=unused_arg)\\n\\n    pruned_models.append(model_for_pruning)\\n\""
            ]
          },
          "metadata": {
            "tags": []
          },
          "execution_count": 14
        }
      ]
    },
    {
      "cell_type": "code",
      "metadata": {
        "colab": {
          "base_uri": "https://localhost:8080/"
        },
        "id": "DvWqUKDph_xL",
        "outputId": "c6dd8a26-d291-43c3-a097-b9bab5a2c7bb"
      },
      "source": [
        "for i, model in enumerate(pruned_models):\n",
        "    print(\"model \", i, \":\")\n",
        "    model.summary()"
      ],
      "execution_count": 15,
      "outputs": [
        {
          "output_type": "stream",
          "text": [
            "model  0 :\n",
            "Model: \"model_1\"\n",
            "__________________________________________________________________________________________________\n",
            "Layer (type)                    Output Shape         Param #     Connected to                     \n",
            "==================================================================================================\n",
            "input (InputLayer)              [(None, 55, 47, 3)]  0                                            \n",
            "__________________________________________________________________________________________________\n",
            "prune_low_magnitude_conv_1 (Pru (None, 52, 44, 20)   1942        input[0][0]                      \n",
            "__________________________________________________________________________________________________\n",
            "prune_low_magnitude_pool_1 (Pru (None, 26, 22, 20)   1           prune_low_magnitude_conv_1[0][0] \n",
            "__________________________________________________________________________________________________\n",
            "prune_low_magnitude_conv_2 (Pru (None, 24, 20, 40)   14442       prune_low_magnitude_pool_1[0][0] \n",
            "__________________________________________________________________________________________________\n",
            "prune_low_magnitude_pool_2 (Pru (None, 12, 10, 40)   1           prune_low_magnitude_conv_2[0][0] \n",
            "__________________________________________________________________________________________________\n",
            "prune_low_magnitude_conv_3 (Pru (None, 10, 8, 60)    43262       prune_low_magnitude_pool_2[0][0] \n",
            "__________________________________________________________________________________________________\n",
            "prune_low_magnitude_pool_3 (Pru (None, 5, 4, 60)     1           prune_low_magnitude_conv_3[0][0] \n",
            "__________________________________________________________________________________________________\n",
            "prune_low_magnitude_conv_4 (Pru (None, 4, 3, 80)     38482       prune_low_magnitude_pool_3[0][0] \n",
            "__________________________________________________________________________________________________\n",
            "prune_low_magnitude_flatten_1 ( (None, 1200)         1           prune_low_magnitude_pool_3[0][0] \n",
            "__________________________________________________________________________________________________\n",
            "prune_low_magnitude_flatten_2 ( (None, 960)          1           prune_low_magnitude_conv_4[0][0] \n",
            "__________________________________________________________________________________________________\n",
            "prune_low_magnitude_fc_1 (Prune (None, 160)          384162      prune_low_magnitude_flatten_1[0][\n",
            "__________________________________________________________________________________________________\n",
            "prune_low_magnitude_fc_2 (Prune (None, 160)          307362      prune_low_magnitude_flatten_2[0][\n",
            "__________________________________________________________________________________________________\n",
            "prune_low_magnitude_add_1 (Prun (None, 160)          1           prune_low_magnitude_fc_1[0][0]   \n",
            "                                                                 prune_low_magnitude_fc_2[0][0]   \n",
            "__________________________________________________________________________________________________\n",
            "prune_low_magnitude_activation_ (None, 160)          1           prune_low_magnitude_add_1[0][0]  \n",
            "__________________________________________________________________________________________________\n",
            "prune_low_magnitude_output (Pru (None, 1283)         411845      prune_low_magnitude_activation_1[\n",
            "==================================================================================================\n",
            "Total params: 1,201,504\n",
            "Trainable params: 601,643\n",
            "Non-trainable params: 599,861\n",
            "__________________________________________________________________________________________________\n",
            "model  1 :\n",
            "Model: \"model_1\"\n",
            "__________________________________________________________________________________________________\n",
            "Layer (type)                    Output Shape         Param #     Connected to                     \n",
            "==================================================================================================\n",
            "input (InputLayer)              [(None, 55, 47, 3)]  0                                            \n",
            "__________________________________________________________________________________________________\n",
            "prune_low_magnitude_conv_1 (Pru (None, 52, 44, 20)   1942        input[0][0]                      \n",
            "__________________________________________________________________________________________________\n",
            "prune_low_magnitude_pool_1 (Pru (None, 26, 22, 20)   1           prune_low_magnitude_conv_1[0][0] \n",
            "__________________________________________________________________________________________________\n",
            "prune_low_magnitude_conv_2 (Pru (None, 24, 20, 40)   14442       prune_low_magnitude_pool_1[0][0] \n",
            "__________________________________________________________________________________________________\n",
            "prune_low_magnitude_pool_2 (Pru (None, 12, 10, 40)   1           prune_low_magnitude_conv_2[0][0] \n",
            "__________________________________________________________________________________________________\n",
            "prune_low_magnitude_conv_3 (Pru (None, 10, 8, 60)    43262       prune_low_magnitude_pool_2[0][0] \n",
            "__________________________________________________________________________________________________\n",
            "prune_low_magnitude_pool_3 (Pru (None, 5, 4, 60)     1           prune_low_magnitude_conv_3[0][0] \n",
            "__________________________________________________________________________________________________\n",
            "prune_low_magnitude_conv_4 (Pru (None, 4, 3, 80)     38482       prune_low_magnitude_pool_3[0][0] \n",
            "__________________________________________________________________________________________________\n",
            "prune_low_magnitude_flatten_1 ( (None, 1200)         1           prune_low_magnitude_pool_3[0][0] \n",
            "__________________________________________________________________________________________________\n",
            "prune_low_magnitude_flatten_2 ( (None, 960)          1           prune_low_magnitude_conv_4[0][0] \n",
            "__________________________________________________________________________________________________\n",
            "prune_low_magnitude_fc_1 (Prune (None, 160)          384162      prune_low_magnitude_flatten_1[0][\n",
            "__________________________________________________________________________________________________\n",
            "prune_low_magnitude_fc_2 (Prune (None, 160)          307362      prune_low_magnitude_flatten_2[0][\n",
            "__________________________________________________________________________________________________\n",
            "prune_low_magnitude_add_1 (Prun (None, 160)          1           prune_low_magnitude_fc_1[0][0]   \n",
            "                                                                 prune_low_magnitude_fc_2[0][0]   \n",
            "__________________________________________________________________________________________________\n",
            "prune_low_magnitude_activation_ (None, 160)          1           prune_low_magnitude_add_1[0][0]  \n",
            "__________________________________________________________________________________________________\n",
            "prune_low_magnitude_output (Pru (None, 1283)         411845      prune_low_magnitude_activation_1[\n",
            "==================================================================================================\n",
            "Total params: 1,201,504\n",
            "Trainable params: 601,643\n",
            "Non-trainable params: 599,861\n",
            "__________________________________________________________________________________________________\n",
            "model  2 :\n",
            "Model: \"model_1\"\n",
            "__________________________________________________________________________________________________\n",
            "Layer (type)                    Output Shape         Param #     Connected to                     \n",
            "==================================================================================================\n",
            "input (InputLayer)              [(None, 55, 47, 3)]  0                                            \n",
            "__________________________________________________________________________________________________\n",
            "prune_low_magnitude_conv_1 (Pru (None, 52, 44, 20)   1942        input[0][0]                      \n",
            "__________________________________________________________________________________________________\n",
            "prune_low_magnitude_pool_1 (Pru (None, 26, 22, 20)   1           prune_low_magnitude_conv_1[0][0] \n",
            "__________________________________________________________________________________________________\n",
            "prune_low_magnitude_conv_2 (Pru (None, 24, 20, 40)   14442       prune_low_magnitude_pool_1[0][0] \n",
            "__________________________________________________________________________________________________\n",
            "prune_low_magnitude_pool_2 (Pru (None, 12, 10, 40)   1           prune_low_magnitude_conv_2[0][0] \n",
            "__________________________________________________________________________________________________\n",
            "prune_low_magnitude_conv_3 (Pru (None, 10, 8, 60)    43262       prune_low_magnitude_pool_2[0][0] \n",
            "__________________________________________________________________________________________________\n",
            "prune_low_magnitude_pool_3 (Pru (None, 5, 4, 60)     1           prune_low_magnitude_conv_3[0][0] \n",
            "__________________________________________________________________________________________________\n",
            "prune_low_magnitude_conv_4 (Pru (None, 4, 3, 80)     38482       prune_low_magnitude_pool_3[0][0] \n",
            "__________________________________________________________________________________________________\n",
            "prune_low_magnitude_flatten_1 ( (None, 1200)         1           prune_low_magnitude_pool_3[0][0] \n",
            "__________________________________________________________________________________________________\n",
            "prune_low_magnitude_flatten_2 ( (None, 960)          1           prune_low_magnitude_conv_4[0][0] \n",
            "__________________________________________________________________________________________________\n",
            "prune_low_magnitude_fc_1 (Prune (None, 160)          384162      prune_low_magnitude_flatten_1[0][\n",
            "__________________________________________________________________________________________________\n",
            "prune_low_magnitude_fc_2 (Prune (None, 160)          307362      prune_low_magnitude_flatten_2[0][\n",
            "__________________________________________________________________________________________________\n",
            "prune_low_magnitude_add_1 (Prun (None, 160)          1           prune_low_magnitude_fc_1[0][0]   \n",
            "                                                                 prune_low_magnitude_fc_2[0][0]   \n",
            "__________________________________________________________________________________________________\n",
            "prune_low_magnitude_activation_ (None, 160)          1           prune_low_magnitude_add_1[0][0]  \n",
            "__________________________________________________________________________________________________\n",
            "prune_low_magnitude_output (Pru (None, 1283)         411845      prune_low_magnitude_activation_1[\n",
            "==================================================================================================\n",
            "Total params: 1,201,504\n",
            "Trainable params: 601,643\n",
            "Non-trainable params: 599,861\n",
            "__________________________________________________________________________________________________\n"
          ],
          "name": "stdout"
        }
      ]
    },
    {
      "cell_type": "markdown",
      "metadata": {
        "id": "UjycRd8lzlHx"
      },
      "source": [
        "##Fine-tuning"
      ]
    },
    {
      "cell_type": "code",
      "metadata": {
        "colab": {
          "base_uri": "https://localhost:8080/"
        },
        "id": "TGYCEOYxzpcr",
        "outputId": "cdbe251b-a0d1-4be1-c77b-74e7e3ecc0f0"
      },
      "source": [
        "repaired_models = []\n",
        "\n",
        "for i, m in enumerate(pruned_models):\n",
        "\n",
        "    model = copy.copy(m)\n",
        "\n",
        "    print(\"Fine-tune model\", model_names[i], \": \")\n",
        "    model.compile(optimizer=keras.optimizers.Adam(1e-5),\n",
        "              loss=tf.keras.losses.categorical_crossentropy,\n",
        "              metrics=['accuracy']\n",
        "              )\n",
        "    model.fit(test_clean['data'], yTest,\n",
        "          epochs=10\n",
        "          )\n",
        "    repaired_models.append(model)"
      ],
      "execution_count": 16,
      "outputs": [
        {
          "output_type": "stream",
          "text": [
            "Fine-tune model anonymous_bd_net : \n",
            "Epoch 1/10\n",
            "401/401 [==============================] - 8s 14ms/step - loss: 2.6603 - accuracy: 0.8565\n",
            "Epoch 2/10\n",
            "401/401 [==============================] - 5s 13ms/step - loss: 2.3635 - accuracy: 0.8688\n",
            "Epoch 3/10\n",
            "401/401 [==============================] - 5s 13ms/step - loss: 1.9916 - accuracy: 0.8794\n",
            "Epoch 4/10\n",
            "401/401 [==============================] - 5s 14ms/step - loss: 1.8736 - accuracy: 0.8803\n",
            "Epoch 5/10\n",
            "401/401 [==============================] - 5s 13ms/step - loss: 1.5706 - accuracy: 0.8905\n",
            "Epoch 6/10\n",
            "401/401 [==============================] - 5s 13ms/step - loss: 1.5207 - accuracy: 0.8944\n",
            "Epoch 7/10\n",
            "401/401 [==============================] - 5s 13ms/step - loss: 1.2488 - accuracy: 0.9060\n",
            "Epoch 8/10\n",
            "401/401 [==============================] - 5s 13ms/step - loss: 1.2074 - accuracy: 0.9061\n",
            "Epoch 9/10\n",
            "401/401 [==============================] - 5s 13ms/step - loss: 1.0781 - accuracy: 0.9141\n",
            "Epoch 10/10\n",
            "401/401 [==============================] - 5s 13ms/step - loss: 1.0632 - accuracy: 0.9164\n",
            "Fine-tune model sunglasses_bd_net : \n",
            "Epoch 1/10\n",
            "401/401 [==============================] - 8s 13ms/step - loss: 1.9071 - accuracy: 0.8227\n",
            "Epoch 2/10\n",
            "401/401 [==============================] - 5s 13ms/step - loss: 1.3982 - accuracy: 0.8333\n",
            "Epoch 3/10\n",
            "401/401 [==============================] - 5s 13ms/step - loss: 1.2956 - accuracy: 0.8266\n",
            "Epoch 4/10\n",
            "401/401 [==============================] - 5s 13ms/step - loss: 1.0940 - accuracy: 0.8445\n",
            "Epoch 5/10\n",
            "401/401 [==============================] - 5s 13ms/step - loss: 1.1168 - accuracy: 0.8387\n",
            "Epoch 6/10\n",
            "401/401 [==============================] - 5s 13ms/step - loss: 0.9975 - accuracy: 0.8464\n",
            "Epoch 7/10\n",
            "401/401 [==============================] - 5s 13ms/step - loss: 0.9462 - accuracy: 0.8600\n",
            "Epoch 8/10\n",
            "401/401 [==============================] - 5s 13ms/step - loss: 0.8664 - accuracy: 0.8606\n",
            "Epoch 9/10\n",
            "401/401 [==============================] - 5s 13ms/step - loss: 0.8974 - accuracy: 0.8684\n",
            "Epoch 10/10\n",
            "401/401 [==============================] - 5s 13ms/step - loss: 0.7854 - accuracy: 0.8785\n",
            "Fine-tune model multi_trigger_multi_target_bd_net : \n",
            "Epoch 1/10\n",
            "401/401 [==============================] - 8s 13ms/step - loss: 3.9269 - accuracy: 0.8630\n",
            "Epoch 2/10\n",
            "401/401 [==============================] - 5s 13ms/step - loss: 3.4058 - accuracy: 0.8710\n",
            "Epoch 3/10\n",
            "401/401 [==============================] - 5s 13ms/step - loss: 3.1122 - accuracy: 0.8817\n",
            "Epoch 4/10\n",
            "401/401 [==============================] - 5s 13ms/step - loss: 2.6338 - accuracy: 0.8867\n",
            "Epoch 5/10\n",
            "401/401 [==============================] - 5s 13ms/step - loss: 2.3879 - accuracy: 0.8892\n",
            "Epoch 6/10\n",
            "401/401 [==============================] - 5s 13ms/step - loss: 2.1401 - accuracy: 0.9030\n",
            "Epoch 7/10\n",
            "401/401 [==============================] - 5s 13ms/step - loss: 2.0487 - accuracy: 0.9018\n",
            "Epoch 8/10\n",
            "401/401 [==============================] - 5s 13ms/step - loss: 1.9487 - accuracy: 0.9088\n",
            "Epoch 9/10\n",
            "401/401 [==============================] - 5s 13ms/step - loss: 1.7355 - accuracy: 0.9093\n",
            "Epoch 10/10\n",
            "401/401 [==============================] - 5s 13ms/step - loss: 1.7448 - accuracy: 0.9148\n"
          ],
          "name": "stdout"
        }
      ]
    },
    {
      "cell_type": "markdown",
      "metadata": {
        "id": "H-3D82TJl3tr"
      },
      "source": [
        "##Validation"
      ]
    },
    {
      "cell_type": "code",
      "metadata": {
        "colab": {
          "base_uri": "https://localhost:8080/"
        },
        "id": "fAFhYNs5l8xS",
        "outputId": "0c12a8bc-c8d7-435b-f99e-c6bfc685aa27"
      },
      "source": [
        "##Intermediate quick evalution using built-in Keras functions and the poisoned set\n",
        "\n",
        "for i, m in enumerate(repaired_models):\n",
        "    print(\"Repaired\", model_names[i], \"accuracy on clean validation set: \")\n",
        "    m.evaluate(test_clean['data'], yTest) \n",
        "    print(\"Repaired\", model_names[i], \"accuracy on poisoned set: \")\n",
        "    m.evaluate(SG_poisoned['data'], ySG) "
      ],
      "execution_count": 17,
      "outputs": [
        {
          "output_type": "stream",
          "text": [
            "Repaired anonymous_bd_net accuracy on clean validation set: \n",
            "401/401 [==============================] - 2s 4ms/step - loss: 0.9581 - accuracy: 0.9207\n",
            "Repaired anonymous_bd_net accuracy on poisoned set: \n",
            "401/401 [==============================] - 2s 4ms/step - loss: 110.5645 - accuracy: 0.0000e+00\n",
            "Repaired sunglasses_bd_net accuracy on clean validation set: \n",
            "401/401 [==============================] - 2s 4ms/step - loss: 0.7611 - accuracy: 0.8811\n",
            "Repaired sunglasses_bd_net accuracy on poisoned set: \n",
            "401/401 [==============================] - 2s 4ms/step - loss: 32.1186 - accuracy: 3.1177e-04\n",
            "Repaired multi_trigger_multi_target_bd_net accuracy on clean validation set: \n",
            "401/401 [==============================] - 2s 4ms/step - loss: 1.4761 - accuracy: 0.9212\n",
            "Repaired multi_trigger_multi_target_bd_net accuracy on poisoned set: \n",
            "401/401 [==============================] - 2s 4ms/step - loss: 426.4245 - accuracy: 0.0000e+00\n"
          ],
          "name": "stdout"
        }
      ]
    },
    {
      "cell_type": "markdown",
      "metadata": {
        "id": "vk7WSGLhefev"
      },
      "source": [
        "##Final output\r\n",
        "Compare preprocessed results from the bad net and results from repaired nets to output results. The differnt predictions between bad nets and repaired nets are classifed as N+1 class."
      ]
    },
    {
      "cell_type": "code",
      "metadata": {
        "id": "pjAWd90Jejax"
      },
      "source": [
        "def poisoned_detection(afterPreds, prePreds):\r\n",
        "    out = []\r\n",
        "    for i in range(len(afterPreds)):\r\n",
        "        newDimension = list(afterPreds[i].shape)\r\n",
        "        newDimension[1] += 1\r\n",
        "        newArray = np.zeros(newDimension)\r\n",
        "        for j in range(afterPreds[i].shape[0]):\r\n",
        "            a = np.argmax(afterPreds[i][j]) \r\n",
        "            b = np.argmax(prePreds[i][j])\r\n",
        "            \r\n",
        "            if a == b:\r\n",
        "                newArray[j][a] = 1\r\n",
        "            else:\r\n",
        "                newArray[j][-1] = 1\r\n",
        "        out.append(newArray)\r\n",
        "\r\n",
        "    return out"
      ],
      "execution_count": 40,
      "outputs": []
    },
    {
      "cell_type": "code",
      "metadata": {
        "colab": {
          "base_uri": "https://localhost:8080/"
        },
        "id": "PBwlVUrGvAgQ",
        "outputId": "26d2a23e-a3a3-4baf-fe28-96fe09b534e8"
      },
      "source": [
        "preds_repaired = [] ##test result of the badnets after repair\r\n",
        "\r\n",
        "for m in repaired_models:\r\n",
        "    pred = m.predict(test_clean['data'])\r\n",
        "    preds_repaired.append(pred)\r\n",
        "    print(validate_model(yTest, pred))\r\n",
        "\r\n",
        "final_result = poisoned_detection(preds_repaired, preds_preprocessed)"
      ],
      "execution_count": 41,
      "outputs": [
        {
          "output_type": "stream",
          "text": [
            "0.9206547155105222\n",
            "0.8810600155884646\n",
            "0.9212003117692907\n"
          ],
          "name": "stdout"
        }
      ]
    }
  ]
}