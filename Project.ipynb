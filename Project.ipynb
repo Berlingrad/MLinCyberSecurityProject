{
  "nbformat": 4,
  "nbformat_minor": 0,
  "metadata": {
    "colab": {
      "name": "Project.ipynb",
      "provenance": [],
      "collapsed_sections": [],
      "toc_visible": true,
      "include_colab_link": true
    },
    "kernelspec": {
      "display_name": "Python 3",
      "name": "python3"
    },
    "accelerator": "GPU"
  },
  "cells": [
    {
      "cell_type": "markdown",
      "metadata": {
        "id": "view-in-github",
        "colab_type": "text"
      },
      "source": [
        "<a href=\"https://colab.research.google.com/github/Berlingrad/MLinCyberSecurityProject/blob/XuDevelopment/Project.ipynb\" target=\"_parent\"><img src=\"https://colab.research.google.com/assets/colab-badge.svg\" alt=\"Open In Colab\"/></a>"
      ]
    },
    {
      "cell_type": "markdown",
      "metadata": {
        "id": "HGclO6eUuymx"
      },
      "source": [
        "#DNN Back Door Detector"
      ]
    },
    {
      "cell_type": "markdown",
      "metadata": {
        "id": "UNYtyNsgvHRl"
      },
      "source": [
        "## Preprocessing"
      ]
    },
    {
      "cell_type": "markdown",
      "metadata": {
        "id": "GiqLPbbVLs-w"
      },
      "source": [
        "###Data Download\r\n",
        "Clone the CSAW competition repo and download provided data from the Google drive. Downloaded data are moved <code>/content/CSAW-HackML-2020/data</code> directory."
      ]
    },
    {
      "cell_type": "code",
      "metadata": {
        "colab": {
          "base_uri": "https://localhost:8080/"
        },
        "id": "puVie2-guvOg",
        "outputId": "b8260dc6-089b-4b5c-dcf2-131bdcaf2664"
      },
      "source": [
        "!git clone https://github.com/csaw-hackml/CSAW-HackML-2020.git\n",
        "\n",
        "!gdown https://drive.google.com/uc?id=1-ay0w_hgTMo6ZNxb7CZhqxWZhkMj1I6Z\n",
        "!gdown https://drive.google.com/uc?id=1A1CnWy2N1gjzWO6ZEUgiQ-LOAMgKvElL\n",
        "!gdown https://drive.google.com/uc?id=1ZH7jMGEKhtmI-K0Jw-oKv843jxs-_kkI\n",
        "!gdown https://drive.google.com/uc?id=1Sw77QLiBn-FuXpPXnas-Gdo3M_aQBD_H\n",
        "\n",
        "!mv /content/*.h5 /content/CSAW-HackML-2020/data\n"
      ],
      "execution_count": 2,
      "outputs": [
        {
          "output_type": "stream",
          "text": [
            "Cloning into 'CSAW-HackML-2020'...\n",
            "remote: Enumerating objects: 17, done.\u001b[K\n",
            "remote: Counting objects: 100% (17/17), done.\u001b[K\n",
            "remote: Compressing objects: 100% (11/11), done.\u001b[K\n",
            "remote: Total 158 (delta 7), reused 16 (delta 6), pack-reused 141\u001b[K\n",
            "Receiving objects: 100% (158/158), 79.56 MiB | 37.21 MiB/s, done.\n",
            "Resolving deltas: 100% (50/50), done.\n",
            "Downloading...\n",
            "From: https://drive.google.com/uc?id=1-ay0w_hgTMo6ZNxb7CZhqxWZhkMj1I6Z\n",
            "To: /content/clean_test_data.h5\n",
            "398MB [00:02, 152MB/s]\n",
            "Downloading...\n",
            "From: https://drive.google.com/uc?id=1A1CnWy2N1gjzWO6ZEUgiQ-LOAMgKvElL\n",
            "To: /content/clean_validation_data.h5\n",
            "716MB [00:03, 194MB/s]\n",
            "Downloading...\n",
            "From: https://drive.google.com/uc?id=1ZH7jMGEKhtmI-K0Jw-oKv843jxs-_kkI\n",
            "To: /content/sunglasses_poisoned_data.h5\n",
            "398MB [00:09, 42.4MB/s]\n",
            "Downloading...\n",
            "From: https://drive.google.com/uc?id=1Sw77QLiBn-FuXpPXnas-Gdo3M_aQBD_H\n",
            "To: /content/anonymous_1_poisoned_data.h5\n",
            "637MB [00:14, 44.0MB/s]\n"
          ],
          "name": "stdout"
        }
      ]
    },
    {
      "cell_type": "code",
      "metadata": {
        "colab": {
          "base_uri": "https://localhost:8080/"
        },
        "id": "C1skH0vBC7pl",
        "outputId": "784e48fd-253a-49bd-8a6c-51ce141bb09d"
      },
      "source": [
        "import os\n",
        "import gdown\n",
        "import numpy as np\n",
        "import random\n",
        "import h5py\n",
        "import glob2\n",
        "import tempfile\n",
        "import copy\n",
        "\n",
        "import keras\n",
        "import tensorflow as tf\n",
        "from keras.models import load_model\n",
        "from keras.preprocessing.image import ImageDataGenerator\n",
        "!pip install -q tensorflow-model-optimization\n",
        "import tensorflow_model_optimization as tfmot\n",
        "\n",
        "##check\n",
        "if not tf.config.experimental.list_physical_devices('GPU'):\n",
        "    raise Exception(\"Please change runtime type to GPU\")"
      ],
      "execution_count": 3,
      "outputs": [
        {
          "output_type": "stream",
          "text": [
            "\u001b[?25l\r\u001b[K     |██                              | 10kB 26.0MB/s eta 0:00:01\r\u001b[K     |███▉                            | 20kB 19.6MB/s eta 0:00:01\r\u001b[K     |█████▊                          | 30kB 15.3MB/s eta 0:00:01\r\u001b[K     |███████▋                        | 40kB 15.3MB/s eta 0:00:01\r\u001b[K     |█████████▌                      | 51kB 11.7MB/s eta 0:00:01\r\u001b[K     |███████████▍                    | 61kB 11.7MB/s eta 0:00:01\r\u001b[K     |█████████████▎                  | 71kB 11.6MB/s eta 0:00:01\r\u001b[K     |███████████████▏                | 81kB 12.8MB/s eta 0:00:01\r\u001b[K     |█████████████████               | 92kB 12.0MB/s eta 0:00:01\r\u001b[K     |███████████████████             | 102kB 13.0MB/s eta 0:00:01\r\u001b[K     |████████████████████▉           | 112kB 13.0MB/s eta 0:00:01\r\u001b[K     |██████████████████████▊         | 122kB 13.0MB/s eta 0:00:01\r\u001b[K     |████████████████████████▊       | 133kB 13.0MB/s eta 0:00:01\r\u001b[K     |██████████████████████████▋     | 143kB 13.0MB/s eta 0:00:01\r\u001b[K     |████████████████████████████▌   | 153kB 13.0MB/s eta 0:00:01\r\u001b[K     |██████████████████████████████▍ | 163kB 13.0MB/s eta 0:00:01\r\u001b[K     |████████████████████████████████| 174kB 13.0MB/s \n",
            "\u001b[?25h"
          ],
          "name": "stdout"
        }
      ]
    },
    {
      "cell_type": "markdown",
      "metadata": {
        "id": "gmVSVEk9kTs4"
      },
      "source": [
        "Functions for load and decompress data and models from h5 format. If you added a dataset, simply run load_dataset with the path to the h5"
      ]
    },
    {
      "cell_type": "code",
      "metadata": {
        "id": "yPkj0u-5F2Be"
      },
      "source": [
        "def load_dataset(data_filename, keys=None):\n",
        "    dataset = {}\n",
        "    with h5py.File(data_filename, 'r') as hf:\n",
        "        if keys is None:\n",
        "            for name in hf:\n",
        "                dataset[name] = np.array(hf.get(name))\n",
        "        else:\n",
        "            for name in keys:\n",
        "                dataset[name] = np.array(hf.get(name))\n",
        "        dataset['data'] /= 255\n",
        "\n",
        "    return dataset\n",
        "\n",
        "def load_models(model_dir):\n",
        "    models = []\n",
        "    names = {}\n",
        "\n",
        "    for i, net in enumerate(glob2.glob(\"/content/CSAW-HackML-2020/models/*net.h5\")):\n",
        "        print(\"loading\", net)\n",
        "        weights = glob2.glob(net.split(\"_\")[0]+\"*weights.h5\")[0]\n",
        "       \n",
        "        m = load_model(net)\n",
        "        m.load_weights(weights)\n",
        "\n",
        "        models.append(m)\n",
        "        \n",
        "        names[i] = os.path.basename(net).split(\".\")[0]\n",
        "    return models, names"
      ],
      "execution_count": 4,
      "outputs": []
    },
    {
      "cell_type": "markdown",
      "metadata": {
        "id": "14Ae9mRxBWyV"
      },
      "source": [
        "###Load Data"
      ]
    },
    {
      "cell_type": "code",
      "metadata": {
        "colab": {
          "base_uri": "https://localhost:8080/"
        },
        "id": "cNQ8-t0pDYY5",
        "outputId": "a76d5a52-fa3a-4e54-962d-2d9e31f10978"
      },
      "source": [
        "SG_poisoned_path = \"/content/CSAW-HackML-2020/data/sunglasses_poisoned_data.h5\"\n",
        "SG_poisoned = load_dataset(SG_poisoned_path)\n",
        "\n",
        "clean_validation_path = \"/content/CSAW-HackML-2020/data/clean_validation_data.h5\"\n",
        "valid_clean = load_dataset(clean_validation_path)\n",
        "\n",
        "clean_test_path = \"/content/CSAW-HackML-2020/data/clean_test_data.h5\"\n",
        "test_clean = load_dataset(clean_test_path)\n",
        "\n",
        "anno_poisoned_path = \"/content/CSAW-HackML-2020/data/anonymous_1_poisoned_data.h5\"\n",
        "anon_poisoned = load_dataset(anno_poisoned_path)\n",
        "\n",
        "SG_poisoned['data'] = SG_poisoned['data'].transpose((0,2,3,1))\n",
        "valid_clean['data'] = valid_clean['data'].transpose((0,2,3,1))\n",
        "test_clean['data'] = test_clean['data'].transpose((0,2,3,1))\n",
        "\n",
        " \n",
        " ##Vectorize label array to fit the model output\n",
        "outLen = 1283 ##Length of output array\n",
        "ySG = np.zeros((SG_poisoned['label'].shape[0], outLen))\n",
        "yValid = np.zeros((valid_clean['label'].shape[0], outLen))\n",
        "yTest = np.zeros((test_clean['label'].shape[0], outLen))\n",
        "\n",
        "print(valid_clean['data'].shape)\n",
        "print(yValid.shape)\n",
        "\n",
        "for i in range(SG_poisoned['label'].shape[0]):\n",
        "    ySG[i][SG_poisoned['label'][i]] = 1\n",
        "\n",
        "for i in range(valid_clean['label'].shape[0]):\n",
        "    yValid[i][int(valid_clean['label'][i])] = 1\n",
        "\n",
        "for i in range(test_clean['label'].shape[0]):\n",
        "    yTest[i][test_clean['label'][i]] = 1\n",
        "\n"
      ],
      "execution_count": 5,
      "outputs": [
        {
          "output_type": "stream",
          "text": [
            "(11547, 55, 47, 3)\n",
            "(11547, 1283)\n"
          ],
          "name": "stdout"
        }
      ]
    },
    {
      "cell_type": "markdown",
      "metadata": {
        "id": "s5VA8NPX67_C"
      },
      "source": [
        "####Mixed final test data\r\n",
        "Mix the sunglass poinsoned images with clean test images from test set to create a final validation set "
      ]
    },
    {
      "cell_type": "code",
      "metadata": {
        "id": "pH_CUYpG7CBG"
      },
      "source": [
        "##TODO"
      ],
      "execution_count": 6,
      "outputs": []
    },
    {
      "cell_type": "markdown",
      "metadata": {
        "id": "khtwl8GCIYku"
      },
      "source": [
        "###Load Models\r\n",
        "Load all Badnet models under <code>/content/CSAW-HackML-2020/models</code> directory. "
      ]
    },
    {
      "cell_type": "code",
      "metadata": {
        "colab": {
          "base_uri": "https://localhost:8080/"
        },
        "id": "hqfW9ZeHJGF4",
        "outputId": "5868fda5-b6ed-48ea-c057-63dd87f7d7e1"
      },
      "source": [
        "\n",
        "model_dir = \"/content/CSAW-HackML-2020/models\"\n",
        "\n",
        "models, model_names = load_models(model_dir)\n",
        "\n",
        "model_names.values()\n"
      ],
      "execution_count": 7,
      "outputs": [
        {
          "output_type": "stream",
          "text": [
            "loading /content/CSAW-HackML-2020/models/anonymous_1_bd_net.h5\n",
            "loading /content/CSAW-HackML-2020/models/anonymous_2_bd_net.h5\n",
            "loading /content/CSAW-HackML-2020/models/sunglasses_bd_net.h5\n",
            "loading /content/CSAW-HackML-2020/models/multi_trigger_multi_target_bd_net.h5\n"
          ],
          "name": "stdout"
        },
        {
          "output_type": "execute_result",
          "data": {
            "text/plain": [
              "dict_values(['anonymous_1_bd_net', 'anonymous_2_bd_net', 'sunglasses_bd_net', 'multi_trigger_multi_target_bd_net'])"
            ]
          },
          "metadata": {
            "tags": []
          },
          "execution_count": 7
        }
      ]
    },
    {
      "cell_type": "markdown",
      "metadata": {
        "id": "mzKRM8bg8Om1"
      },
      "source": [
        "### Model Summary"
      ]
    },
    {
      "cell_type": "code",
      "metadata": {
        "colab": {
          "base_uri": "https://localhost:8080/"
        },
        "id": "oT6zOYgL8Nmk",
        "outputId": "169cda50-0adf-4a1b-ead3-4d982bfefe17"
      },
      "source": [
        "##TODO\n",
        "for i, model in enumerate(models):\n",
        "    print(\"model \", i, \":\")\n",
        "    model.summary()\n",
        "\n",
        "     "
      ],
      "execution_count": 8,
      "outputs": [
        {
          "output_type": "stream",
          "text": [
            "model  0 :\n",
            "Model: \"model_1\"\n",
            "__________________________________________________________________________________________________\n",
            "Layer (type)                    Output Shape         Param #     Connected to                     \n",
            "==================================================================================================\n",
            "input (InputLayer)              [(None, 55, 47, 3)]  0                                            \n",
            "__________________________________________________________________________________________________\n",
            "conv_1 (Conv2D)                 (None, 52, 44, 20)   980         input[0][0]                      \n",
            "__________________________________________________________________________________________________\n",
            "pool_1 (MaxPooling2D)           (None, 26, 22, 20)   0           conv_1[0][0]                     \n",
            "__________________________________________________________________________________________________\n",
            "conv_2 (Conv2D)                 (None, 24, 20, 40)   7240        pool_1[0][0]                     \n",
            "__________________________________________________________________________________________________\n",
            "pool_2 (MaxPooling2D)           (None, 12, 10, 40)   0           conv_2[0][0]                     \n",
            "__________________________________________________________________________________________________\n",
            "conv_3 (Conv2D)                 (None, 10, 8, 60)    21660       pool_2[0][0]                     \n",
            "__________________________________________________________________________________________________\n",
            "pool_3 (MaxPooling2D)           (None, 5, 4, 60)     0           conv_3[0][0]                     \n",
            "__________________________________________________________________________________________________\n",
            "conv_4 (Conv2D)                 (None, 4, 3, 80)     19280       pool_3[0][0]                     \n",
            "__________________________________________________________________________________________________\n",
            "flatten_1 (Flatten)             (None, 1200)         0           pool_3[0][0]                     \n",
            "__________________________________________________________________________________________________\n",
            "flatten_2 (Flatten)             (None, 960)          0           conv_4[0][0]                     \n",
            "__________________________________________________________________________________________________\n",
            "fc_1 (Dense)                    (None, 160)          192160      flatten_1[0][0]                  \n",
            "__________________________________________________________________________________________________\n",
            "fc_2 (Dense)                    (None, 160)          153760      flatten_2[0][0]                  \n",
            "__________________________________________________________________________________________________\n",
            "add_1 (Add)                     (None, 160)          0           fc_1[0][0]                       \n",
            "                                                                 fc_2[0][0]                       \n",
            "__________________________________________________________________________________________________\n",
            "activation_1 (Activation)       (None, 160)          0           add_1[0][0]                      \n",
            "__________________________________________________________________________________________________\n",
            "output (Dense)                  (None, 1283)         206563      activation_1[0][0]               \n",
            "==================================================================================================\n",
            "Total params: 601,643\n",
            "Trainable params: 601,643\n",
            "Non-trainable params: 0\n",
            "__________________________________________________________________________________________________\n",
            "model  1 :\n",
            "Model: \"model_1\"\n",
            "__________________________________________________________________________________________________\n",
            "Layer (type)                    Output Shape         Param #     Connected to                     \n",
            "==================================================================================================\n",
            "input (InputLayer)              [(None, 55, 47, 3)]  0                                            \n",
            "__________________________________________________________________________________________________\n",
            "conv_1 (Conv2D)                 (None, 52, 44, 20)   980         input[0][0]                      \n",
            "__________________________________________________________________________________________________\n",
            "pool_1 (MaxPooling2D)           (None, 26, 22, 20)   0           conv_1[0][0]                     \n",
            "__________________________________________________________________________________________________\n",
            "conv_2 (Conv2D)                 (None, 24, 20, 40)   7240        pool_1[0][0]                     \n",
            "__________________________________________________________________________________________________\n",
            "pool_2 (MaxPooling2D)           (None, 12, 10, 40)   0           conv_2[0][0]                     \n",
            "__________________________________________________________________________________________________\n",
            "conv_3 (Conv2D)                 (None, 10, 8, 60)    21660       pool_2[0][0]                     \n",
            "__________________________________________________________________________________________________\n",
            "pool_3 (MaxPooling2D)           (None, 5, 4, 60)     0           conv_3[0][0]                     \n",
            "__________________________________________________________________________________________________\n",
            "conv_4 (Conv2D)                 (None, 4, 3, 80)     19280       pool_3[0][0]                     \n",
            "__________________________________________________________________________________________________\n",
            "flatten_1 (Flatten)             (None, 1200)         0           pool_3[0][0]                     \n",
            "__________________________________________________________________________________________________\n",
            "flatten_2 (Flatten)             (None, 960)          0           conv_4[0][0]                     \n",
            "__________________________________________________________________________________________________\n",
            "fc_1 (Dense)                    (None, 160)          192160      flatten_1[0][0]                  \n",
            "__________________________________________________________________________________________________\n",
            "fc_2 (Dense)                    (None, 160)          153760      flatten_2[0][0]                  \n",
            "__________________________________________________________________________________________________\n",
            "add_1 (Add)                     (None, 160)          0           fc_1[0][0]                       \n",
            "                                                                 fc_2[0][0]                       \n",
            "__________________________________________________________________________________________________\n",
            "activation_1 (Activation)       (None, 160)          0           add_1[0][0]                      \n",
            "__________________________________________________________________________________________________\n",
            "output (Dense)                  (None, 1283)         206563      activation_1[0][0]               \n",
            "==================================================================================================\n",
            "Total params: 601,643\n",
            "Trainable params: 601,643\n",
            "Non-trainable params: 0\n",
            "__________________________________________________________________________________________________\n",
            "model  2 :\n",
            "Model: \"model_1\"\n",
            "__________________________________________________________________________________________________\n",
            "Layer (type)                    Output Shape         Param #     Connected to                     \n",
            "==================================================================================================\n",
            "input (InputLayer)              [(None, 55, 47, 3)]  0                                            \n",
            "__________________________________________________________________________________________________\n",
            "conv_1 (Conv2D)                 (None, 52, 44, 20)   980         input[0][0]                      \n",
            "__________________________________________________________________________________________________\n",
            "pool_1 (MaxPooling2D)           (None, 26, 22, 20)   0           conv_1[0][0]                     \n",
            "__________________________________________________________________________________________________\n",
            "conv_2 (Conv2D)                 (None, 24, 20, 40)   7240        pool_1[0][0]                     \n",
            "__________________________________________________________________________________________________\n",
            "pool_2 (MaxPooling2D)           (None, 12, 10, 40)   0           conv_2[0][0]                     \n",
            "__________________________________________________________________________________________________\n",
            "conv_3 (Conv2D)                 (None, 10, 8, 60)    21660       pool_2[0][0]                     \n",
            "__________________________________________________________________________________________________\n",
            "pool_3 (MaxPooling2D)           (None, 5, 4, 60)     0           conv_3[0][0]                     \n",
            "__________________________________________________________________________________________________\n",
            "conv_4 (Conv2D)                 (None, 4, 3, 80)     19280       pool_3[0][0]                     \n",
            "__________________________________________________________________________________________________\n",
            "flatten_1 (Flatten)             (None, 1200)         0           pool_3[0][0]                     \n",
            "__________________________________________________________________________________________________\n",
            "flatten_2 (Flatten)             (None, 960)          0           conv_4[0][0]                     \n",
            "__________________________________________________________________________________________________\n",
            "fc_1 (Dense)                    (None, 160)          192160      flatten_1[0][0]                  \n",
            "__________________________________________________________________________________________________\n",
            "fc_2 (Dense)                    (None, 160)          153760      flatten_2[0][0]                  \n",
            "__________________________________________________________________________________________________\n",
            "add_1 (Add)                     (None, 160)          0           fc_1[0][0]                       \n",
            "                                                                 fc_2[0][0]                       \n",
            "__________________________________________________________________________________________________\n",
            "activation_1 (Activation)       (None, 160)          0           add_1[0][0]                      \n",
            "__________________________________________________________________________________________________\n",
            "output (Dense)                  (None, 1283)         206563      activation_1[0][0]               \n",
            "==================================================================================================\n",
            "Total params: 601,643\n",
            "Trainable params: 601,643\n",
            "Non-trainable params: 0\n",
            "__________________________________________________________________________________________________\n",
            "model  3 :\n",
            "Model: \"model_1\"\n",
            "__________________________________________________________________________________________________\n",
            "Layer (type)                    Output Shape         Param #     Connected to                     \n",
            "==================================================================================================\n",
            "input (InputLayer)              [(None, 55, 47, 3)]  0                                            \n",
            "__________________________________________________________________________________________________\n",
            "conv_1 (Conv2D)                 (None, 52, 44, 20)   980         input[0][0]                      \n",
            "__________________________________________________________________________________________________\n",
            "pool_1 (MaxPooling2D)           (None, 26, 22, 20)   0           conv_1[0][0]                     \n",
            "__________________________________________________________________________________________________\n",
            "conv_2 (Conv2D)                 (None, 24, 20, 40)   7240        pool_1[0][0]                     \n",
            "__________________________________________________________________________________________________\n",
            "pool_2 (MaxPooling2D)           (None, 12, 10, 40)   0           conv_2[0][0]                     \n",
            "__________________________________________________________________________________________________\n",
            "conv_3 (Conv2D)                 (None, 10, 8, 60)    21660       pool_2[0][0]                     \n",
            "__________________________________________________________________________________________________\n",
            "pool_3 (MaxPooling2D)           (None, 5, 4, 60)     0           conv_3[0][0]                     \n",
            "__________________________________________________________________________________________________\n",
            "conv_4 (Conv2D)                 (None, 4, 3, 80)     19280       pool_3[0][0]                     \n",
            "__________________________________________________________________________________________________\n",
            "flatten_1 (Flatten)             (None, 1200)         0           pool_3[0][0]                     \n",
            "__________________________________________________________________________________________________\n",
            "flatten_2 (Flatten)             (None, 960)          0           conv_4[0][0]                     \n",
            "__________________________________________________________________________________________________\n",
            "fc_1 (Dense)                    (None, 160)          192160      flatten_1[0][0]                  \n",
            "__________________________________________________________________________________________________\n",
            "fc_2 (Dense)                    (None, 160)          153760      flatten_2[0][0]                  \n",
            "__________________________________________________________________________________________________\n",
            "add_1 (Add)                     (None, 160)          0           fc_1[0][0]                       \n",
            "                                                                 fc_2[0][0]                       \n",
            "__________________________________________________________________________________________________\n",
            "activation_1 (Activation)       (None, 160)          0           add_1[0][0]                      \n",
            "__________________________________________________________________________________________________\n",
            "output (Dense)                  (None, 1283)         206563      activation_1[0][0]               \n",
            "==================================================================================================\n",
            "Total params: 601,643\n",
            "Trainable params: 601,643\n",
            "Non-trainable params: 0\n",
            "__________________________________________________________________________________________________\n"
          ],
          "name": "stdout"
        }
      ]
    },
    {
      "cell_type": "code",
      "metadata": {
        "id": "ktTaXUpx1xNw"
      },
      "source": [
        "def validate_model(y, y_hat):\r\n",
        "    ##compute model accuracy based vectorized output\r\n",
        "    n = 0\r\n",
        "    for i, v in enumerate(y):\r\n",
        "        correct = 1 if np.argmax(v) == np.argmax(y_hat[i]) else 0\r\n",
        "        n+= correct \r\n",
        "    return n/(i + 1)\r\n",
        "    \r\n",
        "    "
      ],
      "execution_count": 9,
      "outputs": []
    },
    {
      "cell_type": "markdown",
      "metadata": {
        "id": "E4684QCsOVcw"
      },
      "source": [
        "###Save pre-repaired results\r\n",
        "For later poisoned image detection."
      ]
    },
    {
      "cell_type": "code",
      "metadata": {
        "colab": {
          "base_uri": "https://localhost:8080/"
        },
        "id": "EniU0Pd6OHFB",
        "outputId": "8634c64c-5fae-4c83-c5ce-2a96cef9d4a2"
      },
      "source": [
        "preds_preprocessed = [] ##test result of the badnets before repair\r\n",
        "\r\n",
        "for m in models:\r\n",
        "    pred = m.predict(test_clean['data'])\r\n",
        "    preds_preprocessed.append(pred)\r\n",
        "    print(validate_model(yTest, pred))\r\n",
        "\r\n",
        "for m in models:\r\n",
        "    pred = m.predict(SG_poisoned['data'])\r\n",
        "    print(validate_model(ySG, pred))"
      ],
      "execution_count": 10,
      "outputs": [
        {
          "output_type": "stream",
          "text": [
            "0.9596258768511302\n",
            "0.9596258768511302\n",
            "0.9777864380358535\n",
            "0.9600935307872175\n",
            "0.0\n",
            "0.0\n",
            "0.9999220576773188\n",
            "0.0\n"
          ],
          "name": "stdout"
        }
      ]
    },
    {
      "cell_type": "markdown",
      "metadata": {
        "id": "9EiLz-FrAE6U"
      },
      "source": [
        "##Pruning\r\n",
        "\r\n",
        "Iteratively prune the each base badnet models 3 times with <code>prune_low_magenitue</code> in Keras"
      ]
    },
    {
      "cell_type": "code",
      "metadata": {
        "colab": {
          "base_uri": "https://localhost:8080/"
        },
        "id": "jsOlCu-oAbkR",
        "outputId": "6678ef0a-46b7-4400-d0a9-164ca9a894ac"
      },
      "source": [
        "pruned_models = []\n",
        "for i, base_model in enumerate(models):\n",
        "    for _ in range(3):\n",
        "        model_for_pruning = tfmot.sparsity.keras.prune_low_magnitude(base_model)\n",
        "    \n",
        "        log_dir = tempfile.mkdtemp()\n",
        "        callbacks = [\n",
        "            tfmot.sparsity.keras.UpdatePruningStep(),\n",
        "            tfmot.sparsity.keras.PruningSummaries(log_dir=log_dir)\n",
        "        ]\n",
        "        model_for_pruning.compile(\n",
        "          loss=tf.keras.losses.categorical_crossentropy,\n",
        "          optimizer='adam',\n",
        "          metrics=['accuracy']\n",
        "        )\n",
        "        model_for_pruning.fit(valid_clean['data'], yValid,\n",
        "                              callbacks=callbacks,\n",
        "                              epochs=3\n",
        "                              )\n",
        "\n",
        "    pruned_models.append(model_for_pruning)"
      ],
      "execution_count": 11,
      "outputs": [
        {
          "output_type": "stream",
          "text": [
            "/usr/local/lib/python3.6/dist-packages/tensorflow/python/keras/engine/base_layer.py:2281: UserWarning: `layer.add_variable` is deprecated and will be removed in a future version. Please use `layer.add_weight` method instead.\n",
            "  warnings.warn('`layer.add_variable` is deprecated and '\n"
          ],
          "name": "stderr"
        },
        {
          "output_type": "stream",
          "text": [
            "Epoch 1/3\n",
            "  6/361 [..............................] - ETA: 17s - loss: 0.5617 - accuracy: 0.8928WARNING:tensorflow:Callback method `on_train_batch_end` is slow compared to the batch time (batch time: 0.0137s vs `on_train_batch_end` time: 0.0265s). Check your callbacks.\n",
            "361/361 [==============================] - 10s 18ms/step - loss: 0.4657 - accuracy: 0.8890\n",
            "Epoch 2/3\n",
            "361/361 [==============================] - 6s 17ms/step - loss: 0.0728 - accuracy: 0.9821\n",
            "Epoch 3/3\n",
            "361/361 [==============================] - 6s 17ms/step - loss: 0.0506 - accuracy: 0.9855\n",
            "Epoch 1/3\n",
            "  6/361 [..............................] - ETA: 26s - loss: 0.0514 - accuracy: 0.9707WARNING:tensorflow:Callback method `on_train_batch_end` is slow compared to the batch time (batch time: 0.0141s vs `on_train_batch_end` time: 0.0460s). Check your callbacks.\n",
            "361/361 [==============================] - 9s 18ms/step - loss: 0.0988 - accuracy: 0.9705\n",
            "Epoch 2/3\n",
            "361/361 [==============================] - 6s 18ms/step - loss: 0.0711 - accuracy: 0.9809\n",
            "Epoch 3/3\n",
            "361/361 [==============================] - 6s 18ms/step - loss: 0.0467 - accuracy: 0.9865\n",
            "Epoch 1/3\n",
            "  6/361 [..............................] - ETA: 24s - loss: 0.0196 - accuracy: 0.9949WARNING:tensorflow:Callback method `on_train_batch_end` is slow compared to the batch time (batch time: 0.0125s vs `on_train_batch_end` time: 0.0442s). Check your callbacks.\n",
            "361/361 [==============================] - 9s 19ms/step - loss: 0.0647 - accuracy: 0.9819\n",
            "Epoch 2/3\n",
            "361/361 [==============================] - 7s 18ms/step - loss: 0.0430 - accuracy: 0.9875\n",
            "Epoch 3/3\n",
            "361/361 [==============================] - 6s 18ms/step - loss: 0.0446 - accuracy: 0.9865\n",
            "Epoch 1/3\n",
            "  6/361 [..............................] - ETA: 27s - loss: 0.3472 - accuracy: 0.9119WARNING:tensorflow:Callback method `on_train_batch_end` is slow compared to the batch time (batch time: 0.0132s vs `on_train_batch_end` time: 0.0502s). Check your callbacks.\n",
            "361/361 [==============================] - 10s 19ms/step - loss: 0.4712 - accuracy: 0.8935\n",
            "Epoch 2/3\n",
            "361/361 [==============================] - 7s 18ms/step - loss: 0.0778 - accuracy: 0.9778\n",
            "Epoch 3/3\n",
            "361/361 [==============================] - 6s 18ms/step - loss: 0.0508 - accuracy: 0.9832\n",
            "Epoch 1/3\n",
            "  6/361 [..............................] - ETA: 25s - loss: 0.0494 - accuracy: 0.9797WARNING:tensorflow:Callback method `on_train_batch_end` is slow compared to the batch time (batch time: 0.0125s vs `on_train_batch_end` time: 0.0468s). Check your callbacks.\n",
            "361/361 [==============================] - 9s 18ms/step - loss: 0.0986 - accuracy: 0.9708\n",
            "Epoch 2/3\n",
            "361/361 [==============================] - 6s 17ms/step - loss: 0.0661 - accuracy: 0.9810\n",
            "Epoch 3/3\n",
            "361/361 [==============================] - 6s 17ms/step - loss: 0.0557 - accuracy: 0.9821\n",
            "Epoch 1/3\n",
            "  6/361 [..............................] - ETA: 27s - loss: 0.0421 - accuracy: 0.9823WARNING:tensorflow:Callback method `on_train_batch_end` is slow compared to the batch time (batch time: 0.0151s vs `on_train_batch_end` time: 0.0494s). Check your callbacks.\n",
            "361/361 [==============================] - 9s 18ms/step - loss: 0.0744 - accuracy: 0.9816\n",
            "Epoch 2/3\n",
            "361/361 [==============================] - 6s 17ms/step - loss: 0.0459 - accuracy: 0.9850\n",
            "Epoch 3/3\n",
            "361/361 [==============================] - 6s 17ms/step - loss: 0.0644 - accuracy: 0.9835\n",
            "Epoch 1/3\n",
            "  6/361 [..............................] - ETA: 27s - loss: 0.4527 - accuracy: 0.9011WARNING:tensorflow:Callback method `on_train_batch_end` is slow compared to the batch time (batch time: 0.0131s vs `on_train_batch_end` time: 0.0493s). Check your callbacks.\n",
            "361/361 [==============================] - 9s 18ms/step - loss: 0.8307 - accuracy: 0.8495\n",
            "Epoch 2/3\n",
            "361/361 [==============================] - 6s 17ms/step - loss: 0.1895 - accuracy: 0.9585\n",
            "Epoch 3/3\n",
            "361/361 [==============================] - 6s 17ms/step - loss: 0.1393 - accuracy: 0.9631\n",
            "Epoch 1/3\n",
            "  6/361 [..............................] - ETA: 27s - loss: 0.0936 - accuracy: 0.9582 WARNING:tensorflow:Callback method `on_train_batch_end` is slow compared to the batch time (batch time: 0.0124s vs `on_train_batch_end` time: 0.0517s). Check your callbacks.\n",
            "361/361 [==============================] - 9s 18ms/step - loss: 0.2305 - accuracy: 0.9329\n",
            "Epoch 2/3\n",
            "361/361 [==============================] - 6s 17ms/step - loss: 0.1181 - accuracy: 0.9647\n",
            "Epoch 3/3\n",
            "361/361 [==============================] - 6s 17ms/step - loss: 0.0777 - accuracy: 0.9785\n",
            "Epoch 1/3\n",
            "  6/361 [..............................] - ETA: 25s - loss: 0.0396 - accuracy: 0.9823WARNING:tensorflow:Callback method `on_train_batch_end` is slow compared to the batch time (batch time: 0.0136s vs `on_train_batch_end` time: 0.0450s). Check your callbacks.\n",
            "361/361 [==============================] - 9s 18ms/step - loss: 0.1268 - accuracy: 0.9631\n",
            "Epoch 2/3\n",
            "361/361 [==============================] - 6s 17ms/step - loss: 0.0971 - accuracy: 0.9722\n",
            "Epoch 3/3\n",
            "361/361 [==============================] - 7s 18ms/step - loss: 0.0697 - accuracy: 0.9803\n",
            "Epoch 1/3\n",
            "  6/361 [..............................] - ETA: 25s - loss: 0.4401 - accuracy: 0.9063WARNING:tensorflow:Callback method `on_train_batch_end` is slow compared to the batch time (batch time: 0.0128s vs `on_train_batch_end` time: 0.0463s). Check your callbacks.\n",
            "361/361 [==============================] - 9s 18ms/step - loss: 0.4735 - accuracy: 0.8967\n",
            "Epoch 2/3\n",
            "361/361 [==============================] - 6s 17ms/step - loss: 0.0906 - accuracy: 0.9780\n",
            "Epoch 3/3\n",
            "361/361 [==============================] - 6s 17ms/step - loss: 0.0469 - accuracy: 0.9875\n",
            "Epoch 1/3\n",
            "  6/361 [..............................] - ETA: 27s - loss: 0.0420 - accuracy: 0.9797WARNING:tensorflow:Callback method `on_train_batch_end` is slow compared to the batch time (batch time: 0.0125s vs `on_train_batch_end` time: 0.0506s). Check your callbacks.\n",
            "361/361 [==============================] - 9s 18ms/step - loss: 0.0990 - accuracy: 0.9693\n",
            "Epoch 2/3\n",
            "361/361 [==============================] - 6s 17ms/step - loss: 0.0515 - accuracy: 0.9846\n",
            "Epoch 3/3\n",
            "361/361 [==============================] - 6s 17ms/step - loss: 0.0551 - accuracy: 0.9833\n",
            "Epoch 1/3\n",
            "  6/361 [..............................] - ETA: 25s - loss: 0.0551 - accuracy: 0.9924WARNING:tensorflow:Callback method `on_train_batch_end` is slow compared to the batch time (batch time: 0.0129s vs `on_train_batch_end` time: 0.0464s). Check your callbacks.\n",
            "361/361 [==============================] - 9s 18ms/step - loss: 0.0728 - accuracy: 0.9793\n",
            "Epoch 2/3\n",
            "361/361 [==============================] - 6s 17ms/step - loss: 0.0607 - accuracy: 0.9842\n",
            "Epoch 3/3\n",
            "361/361 [==============================] - 6s 17ms/step - loss: 0.0295 - accuracy: 0.9910\n"
          ],
          "name": "stdout"
        }
      ]
    },
    {
      "cell_type": "code",
      "metadata": {
        "colab": {
          "base_uri": "https://localhost:8080/",
          "height": 86
        },
        "id": "hRpuEQO9_vrO",
        "outputId": "811bcd07-4ecc-48e9-91a7-abaa166bee21"
      },
      "source": [
        "'''\r\n",
        "pruned_models = []\r\n",
        "for i, base_model in enumerate(models):\r\n",
        "    model_for_pruning = tfmot.sparsity.keras.prune_low_magnitude(base_model)\r\n",
        "\r\n",
        "    loss = tf.keras.losses.categorical_crossentropy\r\n",
        "    optimizer = tf.keras.optimizers.Adam()\r\n",
        "    log_dir = tempfile.mkdtemp()\r\n",
        "    unused_arg = -1\r\n",
        "    epochs = 3 \r\n",
        "    batches = 1 \r\n",
        "\r\n",
        "    model_for_pruning.optimizer = optimizer\r\n",
        "    step_callback = tfmot.sparsity.keras.UpdatePruningStep()\r\n",
        "    step_callback.set_model(model_for_pruning)\r\n",
        "    log_callback = tfmot.sparsity.keras.PruningSummaries(log_dir=log_dir) # Log sparsity and other metrics in Tensorboard.\r\n",
        "    log_callback.set_model(model_for_pruning)\r\n",
        "\r\n",
        "    step_callback.on_train_begin() # run pruning callback\r\n",
        "    for _ in range(epochs):\r\n",
        "       log_callback.on_epoch_begin(epoch=unused_arg) # run pruning callback\r\n",
        "       for _ in range(batches):\r\n",
        "           step_callback.on_train_batch_begin(batch=unused_arg) # run pruning callback\r\n",
        "\r\n",
        "           with tf.GradientTape() as tape:\r\n",
        "               logits = model_for_pruning(valid_clean['data'], training=True)\r\n",
        "               loss_value = loss(yValid, logits)\r\n",
        "               grads = tape.gradient(loss_value, model_for_pruning.trainable_variables)\r\n",
        "               optimizer.apply_gradients(zip(grads, model_for_pruning.trainable_variables))\r\n",
        "\r\n",
        "       step_callback.on_epoch_end(batch=unused_arg)\r\n",
        "\r\n",
        "    pruned_models.append(model_for_pruning)\r\n",
        "'''"
      ],
      "execution_count": 12,
      "outputs": [
        {
          "output_type": "execute_result",
          "data": {
            "application/vnd.google.colaboratory.intrinsic+json": {
              "type": "string"
            },
            "text/plain": [
              "\"\\npruned_models = []\\nfor i, base_model in enumerate(models):\\n    model_for_pruning = tfmot.sparsity.keras.prune_low_magnitude(base_model)\\n\\n    loss = tf.keras.losses.categorical_crossentropy\\n    optimizer = tf.keras.optimizers.Adam()\\n    log_dir = tempfile.mkdtemp()\\n    unused_arg = -1\\n    epochs = 3 \\n    batches = 1 \\n\\n    model_for_pruning.optimizer = optimizer\\n    step_callback = tfmot.sparsity.keras.UpdatePruningStep()\\n    step_callback.set_model(model_for_pruning)\\n    log_callback = tfmot.sparsity.keras.PruningSummaries(log_dir=log_dir) # Log sparsity and other metrics in Tensorboard.\\n    log_callback.set_model(model_for_pruning)\\n\\n    step_callback.on_train_begin() # run pruning callback\\n    for _ in range(epochs):\\n       log_callback.on_epoch_begin(epoch=unused_arg) # run pruning callback\\n       for _ in range(batches):\\n           step_callback.on_train_batch_begin(batch=unused_arg) # run pruning callback\\n\\n           with tf.GradientTape() as tape:\\n               logits = model_for_pruning(valid_clean['data'], training=True)\\n               loss_value = loss(yValid, logits)\\n               grads = tape.gradient(loss_value, model_for_pruning.trainable_variables)\\n               optimizer.apply_gradients(zip(grads, model_for_pruning.trainable_variables))\\n\\n       step_callback.on_epoch_end(batch=unused_arg)\\n\\n    pruned_models.append(model_for_pruning)\\n\""
            ]
          },
          "metadata": {
            "tags": []
          },
          "execution_count": 12
        }
      ]
    },
    {
      "cell_type": "code",
      "metadata": {
        "colab": {
          "base_uri": "https://localhost:8080/"
        },
        "id": "DvWqUKDph_xL",
        "outputId": "1779d556-7dc7-4ee2-9cdb-1a4ef86b4206"
      },
      "source": [
        "for i, model in enumerate(pruned_models):\n",
        "    print(\"model \", i, \":\")\n",
        "    model.summary()"
      ],
      "execution_count": 13,
      "outputs": [
        {
          "output_type": "stream",
          "text": [
            "model  0 :\n",
            "Model: \"model_1\"\n",
            "__________________________________________________________________________________________________\n",
            "Layer (type)                    Output Shape         Param #     Connected to                     \n",
            "==================================================================================================\n",
            "input (InputLayer)              [(None, 55, 47, 3)]  0                                            \n",
            "__________________________________________________________________________________________________\n",
            "prune_low_magnitude_conv_1 (Pru (None, 52, 44, 20)   1942        input[0][0]                      \n",
            "__________________________________________________________________________________________________\n",
            "prune_low_magnitude_pool_1 (Pru (None, 26, 22, 20)   1           prune_low_magnitude_conv_1[0][0] \n",
            "__________________________________________________________________________________________________\n",
            "prune_low_magnitude_conv_2 (Pru (None, 24, 20, 40)   14442       prune_low_magnitude_pool_1[0][0] \n",
            "__________________________________________________________________________________________________\n",
            "prune_low_magnitude_pool_2 (Pru (None, 12, 10, 40)   1           prune_low_magnitude_conv_2[0][0] \n",
            "__________________________________________________________________________________________________\n",
            "prune_low_magnitude_conv_3 (Pru (None, 10, 8, 60)    43262       prune_low_magnitude_pool_2[0][0] \n",
            "__________________________________________________________________________________________________\n",
            "prune_low_magnitude_pool_3 (Pru (None, 5, 4, 60)     1           prune_low_magnitude_conv_3[0][0] \n",
            "__________________________________________________________________________________________________\n",
            "prune_low_magnitude_conv_4 (Pru (None, 4, 3, 80)     38482       prune_low_magnitude_pool_3[0][0] \n",
            "__________________________________________________________________________________________________\n",
            "prune_low_magnitude_flatten_1 ( (None, 1200)         1           prune_low_magnitude_pool_3[0][0] \n",
            "__________________________________________________________________________________________________\n",
            "prune_low_magnitude_flatten_2 ( (None, 960)          1           prune_low_magnitude_conv_4[0][0] \n",
            "__________________________________________________________________________________________________\n",
            "prune_low_magnitude_fc_1 (Prune (None, 160)          384162      prune_low_magnitude_flatten_1[0][\n",
            "__________________________________________________________________________________________________\n",
            "prune_low_magnitude_fc_2 (Prune (None, 160)          307362      prune_low_magnitude_flatten_2[0][\n",
            "__________________________________________________________________________________________________\n",
            "prune_low_magnitude_add_1 (Prun (None, 160)          1           prune_low_magnitude_fc_1[0][0]   \n",
            "                                                                 prune_low_magnitude_fc_2[0][0]   \n",
            "__________________________________________________________________________________________________\n",
            "prune_low_magnitude_activation_ (None, 160)          1           prune_low_magnitude_add_1[0][0]  \n",
            "__________________________________________________________________________________________________\n",
            "prune_low_magnitude_output (Pru (None, 1283)         411845      prune_low_magnitude_activation_1[\n",
            "==================================================================================================\n",
            "Total params: 1,201,504\n",
            "Trainable params: 601,643\n",
            "Non-trainable params: 599,861\n",
            "__________________________________________________________________________________________________\n",
            "model  1 :\n",
            "Model: \"model_1\"\n",
            "__________________________________________________________________________________________________\n",
            "Layer (type)                    Output Shape         Param #     Connected to                     \n",
            "==================================================================================================\n",
            "input (InputLayer)              [(None, 55, 47, 3)]  0                                            \n",
            "__________________________________________________________________________________________________\n",
            "prune_low_magnitude_conv_1 (Pru (None, 52, 44, 20)   1942        input[0][0]                      \n",
            "__________________________________________________________________________________________________\n",
            "prune_low_magnitude_pool_1 (Pru (None, 26, 22, 20)   1           prune_low_magnitude_conv_1[0][0] \n",
            "__________________________________________________________________________________________________\n",
            "prune_low_magnitude_conv_2 (Pru (None, 24, 20, 40)   14442       prune_low_magnitude_pool_1[0][0] \n",
            "__________________________________________________________________________________________________\n",
            "prune_low_magnitude_pool_2 (Pru (None, 12, 10, 40)   1           prune_low_magnitude_conv_2[0][0] \n",
            "__________________________________________________________________________________________________\n",
            "prune_low_magnitude_conv_3 (Pru (None, 10, 8, 60)    43262       prune_low_magnitude_pool_2[0][0] \n",
            "__________________________________________________________________________________________________\n",
            "prune_low_magnitude_pool_3 (Pru (None, 5, 4, 60)     1           prune_low_magnitude_conv_3[0][0] \n",
            "__________________________________________________________________________________________________\n",
            "prune_low_magnitude_conv_4 (Pru (None, 4, 3, 80)     38482       prune_low_magnitude_pool_3[0][0] \n",
            "__________________________________________________________________________________________________\n",
            "prune_low_magnitude_flatten_1 ( (None, 1200)         1           prune_low_magnitude_pool_3[0][0] \n",
            "__________________________________________________________________________________________________\n",
            "prune_low_magnitude_flatten_2 ( (None, 960)          1           prune_low_magnitude_conv_4[0][0] \n",
            "__________________________________________________________________________________________________\n",
            "prune_low_magnitude_fc_1 (Prune (None, 160)          384162      prune_low_magnitude_flatten_1[0][\n",
            "__________________________________________________________________________________________________\n",
            "prune_low_magnitude_fc_2 (Prune (None, 160)          307362      prune_low_magnitude_flatten_2[0][\n",
            "__________________________________________________________________________________________________\n",
            "prune_low_magnitude_add_1 (Prun (None, 160)          1           prune_low_magnitude_fc_1[0][0]   \n",
            "                                                                 prune_low_magnitude_fc_2[0][0]   \n",
            "__________________________________________________________________________________________________\n",
            "prune_low_magnitude_activation_ (None, 160)          1           prune_low_magnitude_add_1[0][0]  \n",
            "__________________________________________________________________________________________________\n",
            "prune_low_magnitude_output (Pru (None, 1283)         411845      prune_low_magnitude_activation_1[\n",
            "==================================================================================================\n",
            "Total params: 1,201,504\n",
            "Trainable params: 601,643\n",
            "Non-trainable params: 599,861\n",
            "__________________________________________________________________________________________________\n",
            "model  2 :\n",
            "Model: \"model_1\"\n",
            "__________________________________________________________________________________________________\n",
            "Layer (type)                    Output Shape         Param #     Connected to                     \n",
            "==================================================================================================\n",
            "input (InputLayer)              [(None, 55, 47, 3)]  0                                            \n",
            "__________________________________________________________________________________________________\n",
            "prune_low_magnitude_conv_1 (Pru (None, 52, 44, 20)   1942        input[0][0]                      \n",
            "__________________________________________________________________________________________________\n",
            "prune_low_magnitude_pool_1 (Pru (None, 26, 22, 20)   1           prune_low_magnitude_conv_1[0][0] \n",
            "__________________________________________________________________________________________________\n",
            "prune_low_magnitude_conv_2 (Pru (None, 24, 20, 40)   14442       prune_low_magnitude_pool_1[0][0] \n",
            "__________________________________________________________________________________________________\n",
            "prune_low_magnitude_pool_2 (Pru (None, 12, 10, 40)   1           prune_low_magnitude_conv_2[0][0] \n",
            "__________________________________________________________________________________________________\n",
            "prune_low_magnitude_conv_3 (Pru (None, 10, 8, 60)    43262       prune_low_magnitude_pool_2[0][0] \n",
            "__________________________________________________________________________________________________\n",
            "prune_low_magnitude_pool_3 (Pru (None, 5, 4, 60)     1           prune_low_magnitude_conv_3[0][0] \n",
            "__________________________________________________________________________________________________\n",
            "prune_low_magnitude_conv_4 (Pru (None, 4, 3, 80)     38482       prune_low_magnitude_pool_3[0][0] \n",
            "__________________________________________________________________________________________________\n",
            "prune_low_magnitude_flatten_1 ( (None, 1200)         1           prune_low_magnitude_pool_3[0][0] \n",
            "__________________________________________________________________________________________________\n",
            "prune_low_magnitude_flatten_2 ( (None, 960)          1           prune_low_magnitude_conv_4[0][0] \n",
            "__________________________________________________________________________________________________\n",
            "prune_low_magnitude_fc_1 (Prune (None, 160)          384162      prune_low_magnitude_flatten_1[0][\n",
            "__________________________________________________________________________________________________\n",
            "prune_low_magnitude_fc_2 (Prune (None, 160)          307362      prune_low_magnitude_flatten_2[0][\n",
            "__________________________________________________________________________________________________\n",
            "prune_low_magnitude_add_1 (Prun (None, 160)          1           prune_low_magnitude_fc_1[0][0]   \n",
            "                                                                 prune_low_magnitude_fc_2[0][0]   \n",
            "__________________________________________________________________________________________________\n",
            "prune_low_magnitude_activation_ (None, 160)          1           prune_low_magnitude_add_1[0][0]  \n",
            "__________________________________________________________________________________________________\n",
            "prune_low_magnitude_output (Pru (None, 1283)         411845      prune_low_magnitude_activation_1[\n",
            "==================================================================================================\n",
            "Total params: 1,201,504\n",
            "Trainable params: 601,643\n",
            "Non-trainable params: 599,861\n",
            "__________________________________________________________________________________________________\n",
            "model  3 :\n",
            "Model: \"model_1\"\n",
            "__________________________________________________________________________________________________\n",
            "Layer (type)                    Output Shape         Param #     Connected to                     \n",
            "==================================================================================================\n",
            "input (InputLayer)              [(None, 55, 47, 3)]  0                                            \n",
            "__________________________________________________________________________________________________\n",
            "prune_low_magnitude_conv_1 (Pru (None, 52, 44, 20)   1942        input[0][0]                      \n",
            "__________________________________________________________________________________________________\n",
            "prune_low_magnitude_pool_1 (Pru (None, 26, 22, 20)   1           prune_low_magnitude_conv_1[0][0] \n",
            "__________________________________________________________________________________________________\n",
            "prune_low_magnitude_conv_2 (Pru (None, 24, 20, 40)   14442       prune_low_magnitude_pool_1[0][0] \n",
            "__________________________________________________________________________________________________\n",
            "prune_low_magnitude_pool_2 (Pru (None, 12, 10, 40)   1           prune_low_magnitude_conv_2[0][0] \n",
            "__________________________________________________________________________________________________\n",
            "prune_low_magnitude_conv_3 (Pru (None, 10, 8, 60)    43262       prune_low_magnitude_pool_2[0][0] \n",
            "__________________________________________________________________________________________________\n",
            "prune_low_magnitude_pool_3 (Pru (None, 5, 4, 60)     1           prune_low_magnitude_conv_3[0][0] \n",
            "__________________________________________________________________________________________________\n",
            "prune_low_magnitude_conv_4 (Pru (None, 4, 3, 80)     38482       prune_low_magnitude_pool_3[0][0] \n",
            "__________________________________________________________________________________________________\n",
            "prune_low_magnitude_flatten_1 ( (None, 1200)         1           prune_low_magnitude_pool_3[0][0] \n",
            "__________________________________________________________________________________________________\n",
            "prune_low_magnitude_flatten_2 ( (None, 960)          1           prune_low_magnitude_conv_4[0][0] \n",
            "__________________________________________________________________________________________________\n",
            "prune_low_magnitude_fc_1 (Prune (None, 160)          384162      prune_low_magnitude_flatten_1[0][\n",
            "__________________________________________________________________________________________________\n",
            "prune_low_magnitude_fc_2 (Prune (None, 160)          307362      prune_low_magnitude_flatten_2[0][\n",
            "__________________________________________________________________________________________________\n",
            "prune_low_magnitude_add_1 (Prun (None, 160)          1           prune_low_magnitude_fc_1[0][0]   \n",
            "                                                                 prune_low_magnitude_fc_2[0][0]   \n",
            "__________________________________________________________________________________________________\n",
            "prune_low_magnitude_activation_ (None, 160)          1           prune_low_magnitude_add_1[0][0]  \n",
            "__________________________________________________________________________________________________\n",
            "prune_low_magnitude_output (Pru (None, 1283)         411845      prune_low_magnitude_activation_1[\n",
            "==================================================================================================\n",
            "Total params: 1,201,504\n",
            "Trainable params: 601,643\n",
            "Non-trainable params: 599,861\n",
            "__________________________________________________________________________________________________\n"
          ],
          "name": "stdout"
        }
      ]
    },
    {
      "cell_type": "markdown",
      "metadata": {
        "id": "UjycRd8lzlHx"
      },
      "source": [
        "##Fine-tuning\r\n",
        "Fine-tuning the pruned models with <code>1e-5</code> learning rate in 10 epochs."
      ]
    },
    {
      "cell_type": "code",
      "metadata": {
        "colab": {
          "base_uri": "https://localhost:8080/"
        },
        "id": "TGYCEOYxzpcr",
        "outputId": "9cd5042a-9f6c-49e2-c2b7-49f0ad1a9248"
      },
      "source": [
        "repaired_models = []\n",
        "\n",
        "for i, m in enumerate(pruned_models):\n",
        "\n",
        "    model = copy.copy(m)\n",
        "\n",
        "    print(\"Fine-tune model\", model_names[i], \": \")\n",
        "    model.compile(optimizer=keras.optimizers.Adam(1e-5),\n",
        "              loss=tf.keras.losses.categorical_crossentropy,\n",
        "              metrics=['accuracy']\n",
        "              )\n",
        "    model.fit(test_clean['data'], yTest,\n",
        "          epochs=10\n",
        "          )\n",
        "    repaired_models.append(model)"
      ],
      "execution_count": 14,
      "outputs": [
        {
          "output_type": "stream",
          "text": [
            "Fine-tune model anonymous_1_bd_net : \n",
            "Epoch 1/10\n",
            "401/401 [==============================] - 8s 13ms/step - loss: 0.6925 - accuracy: 0.8995\n",
            "Epoch 2/10\n",
            "401/401 [==============================] - 5s 13ms/step - loss: 0.6078 - accuracy: 0.9121\n",
            "Epoch 3/10\n",
            "401/401 [==============================] - 5s 13ms/step - loss: 0.5108 - accuracy: 0.9204\n",
            "Epoch 4/10\n",
            "401/401 [==============================] - 5s 13ms/step - loss: 0.4661 - accuracy: 0.9262\n",
            "Epoch 5/10\n",
            "401/401 [==============================] - 5s 13ms/step - loss: 0.4285 - accuracy: 0.9276\n",
            "Epoch 6/10\n",
            "401/401 [==============================] - 5s 13ms/step - loss: 0.3816 - accuracy: 0.9317\n",
            "Epoch 7/10\n",
            "401/401 [==============================] - 5s 13ms/step - loss: 0.4142 - accuracy: 0.9321\n",
            "Epoch 8/10\n",
            "401/401 [==============================] - 5s 13ms/step - loss: 0.3291 - accuracy: 0.9444\n",
            "Epoch 9/10\n",
            "401/401 [==============================] - 5s 13ms/step - loss: 0.3382 - accuracy: 0.9401\n",
            "Epoch 10/10\n",
            "401/401 [==============================] - 5s 13ms/step - loss: 0.2899 - accuracy: 0.9495\n",
            "Fine-tune model anonymous_2_bd_net : \n",
            "Epoch 1/10\n",
            "401/401 [==============================] - 8s 14ms/step - loss: 0.7298 - accuracy: 0.8872\n",
            "Epoch 2/10\n",
            "401/401 [==============================] - 5s 13ms/step - loss: 0.6302 - accuracy: 0.9047\n",
            "Epoch 3/10\n",
            "401/401 [==============================] - 5s 13ms/step - loss: 0.5265 - accuracy: 0.9140\n",
            "Epoch 4/10\n",
            "401/401 [==============================] - 5s 13ms/step - loss: 0.4689 - accuracy: 0.9248\n",
            "Epoch 5/10\n",
            "401/401 [==============================] - 5s 14ms/step - loss: 0.4359 - accuracy: 0.9260\n",
            "Epoch 6/10\n",
            "401/401 [==============================] - 5s 14ms/step - loss: 0.3914 - accuracy: 0.9305\n",
            "Epoch 7/10\n",
            "401/401 [==============================] - 5s 14ms/step - loss: 0.3687 - accuracy: 0.9381\n",
            "Epoch 8/10\n",
            "401/401 [==============================] - 5s 13ms/step - loss: 0.3628 - accuracy: 0.9351\n",
            "Epoch 9/10\n",
            "401/401 [==============================] - 5s 13ms/step - loss: 0.3396 - accuracy: 0.9407\n",
            "Epoch 10/10\n",
            "401/401 [==============================] - 5s 13ms/step - loss: 0.3150 - accuracy: 0.9442\n",
            "Fine-tune model sunglasses_bd_net : \n",
            "Epoch 1/10\n",
            "401/401 [==============================] - 8s 13ms/step - loss: 0.9668 - accuracy: 0.8735\n",
            "Epoch 2/10\n",
            "401/401 [==============================] - 5s 13ms/step - loss: 0.8211 - accuracy: 0.8911\n",
            "Epoch 3/10\n",
            "401/401 [==============================] - 5s 13ms/step - loss: 0.7772 - accuracy: 0.8926\n",
            "Epoch 4/10\n",
            "401/401 [==============================] - 5s 13ms/step - loss: 0.6286 - accuracy: 0.9042\n",
            "Epoch 5/10\n",
            "401/401 [==============================] - 5s 13ms/step - loss: 0.6380 - accuracy: 0.9081\n",
            "Epoch 6/10\n",
            "401/401 [==============================] - 5s 14ms/step - loss: 0.5563 - accuracy: 0.9148\n",
            "Epoch 7/10\n",
            "401/401 [==============================] - 5s 13ms/step - loss: 0.5366 - accuracy: 0.9211\n",
            "Epoch 8/10\n",
            "401/401 [==============================] - 5s 13ms/step - loss: 0.5346 - accuracy: 0.9224\n",
            "Epoch 9/10\n",
            "401/401 [==============================] - 5s 13ms/step - loss: 0.4979 - accuracy: 0.9215\n",
            "Epoch 10/10\n",
            "401/401 [==============================] - 5s 14ms/step - loss: 0.4775 - accuracy: 0.9258\n",
            "Fine-tune model multi_trigger_multi_target_bd_net : \n",
            "Epoch 1/10\n",
            "401/401 [==============================] - 8s 14ms/step - loss: 0.5836 - accuracy: 0.9049\n",
            "Epoch 2/10\n",
            "401/401 [==============================] - 5s 13ms/step - loss: 0.5020 - accuracy: 0.9169\n",
            "Epoch 3/10\n",
            "401/401 [==============================] - 5s 14ms/step - loss: 0.4675 - accuracy: 0.9265\n",
            "Epoch 4/10\n",
            "401/401 [==============================] - 5s 14ms/step - loss: 0.4543 - accuracy: 0.9284\n",
            "Epoch 5/10\n",
            "401/401 [==============================] - 5s 13ms/step - loss: 0.3929 - accuracy: 0.9357\n",
            "Epoch 6/10\n",
            "401/401 [==============================] - 5s 14ms/step - loss: 0.3706 - accuracy: 0.9388\n",
            "Epoch 7/10\n",
            "401/401 [==============================] - 5s 14ms/step - loss: 0.3524 - accuracy: 0.9391\n",
            "Epoch 8/10\n",
            "401/401 [==============================] - 5s 13ms/step - loss: 0.3365 - accuracy: 0.9423\n",
            "Epoch 9/10\n",
            "401/401 [==============================] - 5s 13ms/step - loss: 0.2907 - accuracy: 0.9505\n",
            "Epoch 10/10\n",
            "401/401 [==============================] - 5s 13ms/step - loss: 0.2869 - accuracy: 0.9524\n"
          ],
          "name": "stdout"
        }
      ]
    },
    {
      "cell_type": "markdown",
      "metadata": {
        "id": "H-3D82TJl3tr"
      },
      "source": [
        "##Validation"
      ]
    },
    {
      "cell_type": "code",
      "metadata": {
        "colab": {
          "base_uri": "https://localhost:8080/"
        },
        "id": "fAFhYNs5l8xS",
        "outputId": "99fd0d83-b5fd-43e7-df1b-d1cfa966f20a"
      },
      "source": [
        "##Intermediate quick evalution using built-in Keras functions and the poisoned set\n",
        "\n",
        "for i, m in enumerate(repaired_models):\n",
        "    print(\"Repaired\", model_names[i], \"accuracy on clean validation set: \")\n",
        "    m.evaluate(test_clean['data'], yTest) \n",
        "    print(\"Repaired\", model_names[i], \"accuracy on poisoned set: \")\n",
        "    m.evaluate(SG_poisoned['data'], ySG) "
      ],
      "execution_count": 15,
      "outputs": [
        {
          "output_type": "stream",
          "text": [
            "Repaired anonymous_1_bd_net accuracy on clean validation set: \n",
            "401/401 [==============================] - 2s 4ms/step - loss: 0.2809 - accuracy: 0.9509\n",
            "Repaired anonymous_1_bd_net accuracy on poisoned set: \n",
            "401/401 [==============================] - 2s 4ms/step - loss: 50.8332 - accuracy: 0.0000e+00\n",
            "Repaired anonymous_2_bd_net accuracy on clean validation set: \n",
            "401/401 [==============================] - 2s 4ms/step - loss: 0.2839 - accuracy: 0.9482\n",
            "Repaired anonymous_2_bd_net accuracy on poisoned set: \n",
            "401/401 [==============================] - 2s 4ms/step - loss: 66.6086 - accuracy: 0.0000e+00\n",
            "Repaired sunglasses_bd_net accuracy on clean validation set: \n",
            "401/401 [==============================] - 2s 4ms/step - loss: 0.4502 - accuracy: 0.9290\n",
            "Repaired sunglasses_bd_net accuracy on poisoned set: \n",
            "401/401 [==============================] - 2s 4ms/step - loss: 12.1011 - accuracy: 0.0231\n",
            "Repaired multi_trigger_multi_target_bd_net accuracy on clean validation set: \n",
            "401/401 [==============================] - 2s 5ms/step - loss: 0.2708 - accuracy: 0.9532\n",
            "Repaired multi_trigger_multi_target_bd_net accuracy on poisoned set: \n",
            "401/401 [==============================] - 2s 5ms/step - loss: 48.5396 - accuracy: 0.0000e+00\n"
          ],
          "name": "stdout"
        }
      ]
    },
    {
      "cell_type": "markdown",
      "metadata": {
        "id": "vk7WSGLhefev"
      },
      "source": [
        "##Final output\r\n",
        "Compare preprocessed results from the bad net and results from repaired nets to output results. The differnt predictions between bad nets and repaired nets are classifed as N+1 class."
      ]
    },
    {
      "cell_type": "code",
      "metadata": {
        "id": "pjAWd90Jejax"
      },
      "source": [
        "def poisoned_detection(afterPreds, prePreds):\r\n",
        "    out = []\r\n",
        "    for i in range(len(afterPreds)):\r\n",
        "        newDimension = list(afterPreds[i].shape)\r\n",
        "        newDimension[1] += 1\r\n",
        "        newArray = np.zeros(newDimension)\r\n",
        "        for j in range(afterPreds[i].shape[0]):\r\n",
        "            a = np.argmax(afterPreds[i][j]) \r\n",
        "            b = np.argmax(prePreds[i][j])\r\n",
        "            \r\n",
        "            if a == b:\r\n",
        "                newArray[j][a] = 1\r\n",
        "            else:\r\n",
        "                newArray[j][-1] = 1\r\n",
        "        out.append(newArray)\r\n",
        "\r\n",
        "    return out"
      ],
      "execution_count": 16,
      "outputs": []
    },
    {
      "cell_type": "code",
      "metadata": {
        "colab": {
          "base_uri": "https://localhost:8080/"
        },
        "id": "PBwlVUrGvAgQ",
        "outputId": "04844981-33a3-4917-c9e3-a0121d9466c7"
      },
      "source": [
        "preds_repaired = [] ##test result of the badnets after repair\r\n",
        "\r\n",
        "for m in repaired_models:\r\n",
        "    pred = m.predict(test_clean['data'])\r\n",
        "    preds_repaired.append(pred)\r\n",
        "    print(validate_model(yTest, pred))\r\n",
        "\r\n",
        "final_result = poisoned_detection(preds_repaired, preds_preprocessed)"
      ],
      "execution_count": 17,
      "outputs": [
        {
          "output_type": "stream",
          "text": [
            "0.950896336710834\n",
            "0.9482462977396726\n",
            "0.9289945440374123\n",
            "0.9531566640685892\n"
          ],
          "name": "stdout"
        }
      ]
    }
  ]
}