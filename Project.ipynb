{
  "nbformat": 4,
  "nbformat_minor": 0,
  "metadata": {
    "colab": {
      "name": "Project.ipynb",
      "provenance": [],
      "collapsed_sections": [],
      "include_colab_link": true
    },
    "kernelspec": {
      "name": "python3",
      "display_name": "Python 3"
    },
    "accelerator": "GPU"
  },
  "cells": [
    {
      "cell_type": "markdown",
      "metadata": {
        "id": "view-in-github",
        "colab_type": "text"
      },
      "source": [
        "<a href=\"https://colab.research.google.com/github/Berlingrad/MLinCyberSecurityProject/blob/BasicModelRun/Project.ipynb\" target=\"_parent\"><img src=\"https://colab.research.google.com/assets/colab-badge.svg\" alt=\"Open In Colab\"/></a>"
      ]
    },
    {
      "cell_type": "markdown",
      "metadata": {
        "id": "HGclO6eUuymx"
      },
      "source": [
        "#DNN Back Door Detector"
      ]
    },
    {
      "cell_type": "markdown",
      "metadata": {
        "id": "UNYtyNsgvHRl"
      },
      "source": [
        "## Preprocessing"
      ]
    },
    {
      "cell_type": "markdown",
      "metadata": {
        "id": "GiqLPbbVLs-w"
      },
      "source": [
        "###Data Download"
      ]
    },
    {
      "cell_type": "code",
      "metadata": {
        "colab": {
          "base_uri": "https://localhost:8080/"
        },
        "id": "puVie2-guvOg",
        "outputId": "f92f63bc-9f70-4dc7-d8e0-9aa53b8412f0"
      },
      "source": [
        "!git clone https://github.com/csaw-hackml/CSAW-HackML-2020.git\n",
        "\n",
        "!gdown https://drive.google.com/uc?id=1P8PTL62x3cfpV9mrC0unqZjRFhlTTOSG\n",
        "!gdown https://drive.google.com/uc?id=19OKCkY2CjV3ASkOe6nMSYTsOVcxAoCnA\n",
        "!gdown https://drive.google.com/uc?id=1XtYnM-IopU-QYVc99U51EiDvI5zxK0nV\n",
        "\n",
        "!mv /content/*.h5 /content/CSAW-HackML-2020/data\n",
        "\n",
        "##!wget https://raw.githubusercontent.com/bolunwang/backdoor/master/visualizer.py"
      ],
      "execution_count": 1,
      "outputs": [
        {
          "output_type": "stream",
          "text": [
            "fatal: destination path 'CSAW-HackML-2020' already exists and is not an empty directory.\n",
            "Downloading...\n",
            "From: https://drive.google.com/uc?id=1P8PTL62x3cfpV9mrC0unqZjRFhlTTOSG\n",
            "To: /content/sunglasses_poisoned_data.h5\n",
            "398MB [00:01, 225MB/s]\n",
            "Downloading...\n",
            "From: https://drive.google.com/uc?id=19OKCkY2CjV3ASkOe6nMSYTsOVcxAoCnA\n",
            "To: /content/clean_validation_data.h5\n",
            "716MB [00:02, 255MB/s]\n",
            "Downloading...\n",
            "From: https://drive.google.com/uc?id=1XtYnM-IopU-QYVc99U51EiDvI5zxK0nV\n",
            "To: /content/clean_test_data.h5\n",
            "398MB [00:09, 42.2MB/s]\n"
          ],
          "name": "stdout"
        }
      ]
    },
    {
      "cell_type": "code",
      "metadata": {
        "id": "C1skH0vBC7pl"
      },
      "source": [
        "import os\n",
        "import gdown\n",
        "import numpy as np\n",
        "import random\n",
        "import h5py\n",
        "import glob2\n",
        "\n",
        "import tensorflow as tf\n",
        "from keras.models import load_model\n",
        "from keras.preprocessing.image import ImageDataGenerator\n",
        "\n",
        "if not tf.config.experimental.list_physical_devices('GPU'):\n",
        "    raise Exception(\"Please change runtime type to GPU\")\n"
      ],
      "execution_count": 2,
      "outputs": []
    },
    {
      "cell_type": "code",
      "metadata": {
        "id": "yPkj0u-5F2Be"
      },
      "source": [
        "def load_dataset(data_filename, keys=None):\n",
        "    dataset = {}\n",
        "    with h5py.File(data_filename, 'r') as hf:\n",
        "        if keys is None:\n",
        "            for name in hf:\n",
        "                dataset[name] = np.array(hf.get(name))\n",
        "        else:\n",
        "            for name in keys:\n",
        "                dataset[name] = np.array(hf.get(name))\n",
        "\n",
        "    return dataset\n",
        "\n",
        "def load_models(model_dir):\n",
        "    models = []\n",
        "    for net in glob2.glob(\"/content/CSAW-HackML-2020/models/*net.h5\"):\n",
        "        weights = glob2.glob(net.split(\"_\")[0]+\"*weights.h5\")[0]\n",
        "        print(net.split('/')[-1])\n",
        "        m = load_model(net)\n",
        "        m.load_weights(weights)\n",
        "\n",
        "        models.append(m)\n",
        "    return models"
      ],
      "execution_count": 3,
      "outputs": []
    },
    {
      "cell_type": "markdown",
      "metadata": {
        "id": "14Ae9mRxBWyV"
      },
      "source": [
        "###Loading Data and Reshaping"
      ]
    },
    {
      "cell_type": "code",
      "metadata": {
        "id": "cNQ8-t0pDYY5",
        "colab": {
          "base_uri": "https://localhost:8080/"
        },
        "outputId": "5db44e46-cc86-4981-80b6-f79f0c358e35"
      },
      "source": [
        "# Loading Data\n",
        "SG_poisoned_path = \"/content/CSAW-HackML-2020/data/sunglasses_poisoned_data.h5\"\n",
        "SG_poisoned = load_dataset(SG_poisoned_path)\n",
        "print(SG_poisoned.keys())\n",
        "print(SG_poisoned['data'].shape)\n",
        "print(SG_poisoned['label'].shape)"
      ],
      "execution_count": 4,
      "outputs": [
        {
          "output_type": "stream",
          "text": [
            "dict_keys(['data', 'label'])\n",
            "(12830, 3, 55, 47)\n",
            "(12830,)\n"
          ],
          "name": "stdout"
        }
      ]
    },
    {
      "cell_type": "code",
      "metadata": {
        "colab": {
          "base_uri": "https://localhost:8080/"
        },
        "id": "coM-Up2OH4Sg",
        "outputId": "6e354ee0-48eb-4424-fd95-c32817fbe311"
      },
      "source": [
        "clean_validation_path = \"/content/CSAW-HackML-2020/data/clean_validation_data.h5\"\n",
        "valid_clean = load_dataset(clean_validation_path)\n",
        "valid_clean.keys()\n",
        "print(valid_clean['data'].shape)\n",
        "print(valid_clean['label'].shape)"
      ],
      "execution_count": 5,
      "outputs": [
        {
          "output_type": "stream",
          "text": [
            "(11547, 3, 55, 47)\n",
            "(11547,)\n"
          ],
          "name": "stdout"
        }
      ]
    },
    {
      "cell_type": "code",
      "metadata": {
        "id": "PGA9aM2AH9Op"
      },
      "source": [
        "# Reshaping the data\n",
        "SG_poisoned['data'] = SG_poisoned['data'].transpose((0,2,3,1))\n",
        "valid_clean['data'] = valid_clean['data'].transpose((0,2,3,1))"
      ],
      "execution_count": 6,
      "outputs": []
    },
    {
      "cell_type": "markdown",
      "metadata": {
        "id": "xBT8IKBgBd-C"
      },
      "source": [
        "###Data Parameters"
      ]
    },
    {
      "cell_type": "code",
      "metadata": {
        "id": "ZLJcI5WgBi5Z"
      },
      "source": [
        "##TODO\n",
        "\n",
        "##SG_nClass = \n",
        "##vc_nClass = "
      ],
      "execution_count": 7,
      "outputs": []
    },
    {
      "cell_type": "markdown",
      "metadata": {
        "id": "khtwl8GCIYku"
      },
      "source": [
        "###Load Models"
      ]
    },
    {
      "cell_type": "code",
      "metadata": {
        "id": "hqfW9ZeHJGF4",
        "colab": {
          "base_uri": "https://localhost:8080/"
        },
        "outputId": "ba5fb5eb-bfdf-4773-da9a-9538fa3136e9"
      },
      "source": [
        "model_dir = \"/content/CSAW-HackML-2020/models\"\n",
        "\n",
        "models = load_models(model_dir)"
      ],
      "execution_count": 8,
      "outputs": [
        {
          "output_type": "stream",
          "text": [
            "anonymous_bd_net.h5\n",
            "sunglasses_bd_net.h5\n",
            "multi_trigger_multi_target_bd_net.h5\n"
          ],
          "name": "stdout"
        }
      ]
    },
    {
      "cell_type": "code",
      "metadata": {
        "id": "5Ti3kCAWArmi",
        "colab": {
          "base_uri": "https://localhost:8080/"
        },
        "outputId": "be33e4e3-09e4-4335-80a0-d072b5771f31"
      },
      "source": [
        "# Using sunglasses_bd_net.h5 to predict the sunglasses_poisoned_data.h5\n",
        "Y_pred_sunglasses_using_sunglasses_bn = np.argmax(models[1].predict(SG_poisoned['data']), axis = 1)\n",
        "accuracy = np.mean(np.equal(Y_pred_sunglasses_using_sunglasses_bn, SG_poisoned['label']))*100\n",
        "accuracy"
      ],
      "execution_count": 9,
      "outputs": [
        {
          "output_type": "execute_result",
          "data": {
            "text/plain": [
              "99.94544037412315"
            ]
          },
          "metadata": {
            "tags": []
          },
          "execution_count": 9
        }
      ]
    },
    {
      "cell_type": "code",
      "metadata": {
        "colab": {
          "base_uri": "https://localhost:8080/"
        },
        "id": "p1XJVyzWbwI3",
        "outputId": "c4a3cdb6-ec7f-46da-a610-5b4f519e21ca"
      },
      "source": [
        "Y_pred_val_sunglasses_using_sunglasses_bn = np.argmax(models[1].predict(valid_clean['data']), axis = 1)\n",
        "accuracy = np.mean(np.equal(Y_pred_val_sunglasses_using_sunglasses_bn, valid_clean['label']))*100\n",
        "accuracy"
      ],
      "execution_count": 17,
      "outputs": [
        {
          "output_type": "execute_result",
          "data": {
            "text/plain": [
              "42.25339915129471"
            ]
          },
          "metadata": {
            "tags": []
          },
          "execution_count": 17
        }
      ]
    },
    {
      "cell_type": "code",
      "metadata": {
        "id": "wz2Y83i2cL0A"
      },
      "source": [
        "# Repair the model"
      ],
      "execution_count": null,
      "outputs": []
    },
    {
      "cell_type": "code",
      "metadata": {
        "colab": {
          "base_uri": "https://localhost:8080/"
        },
        "id": "By2WQxpNVTyT",
        "outputId": "943f187c-c4b5-43ec-d365-72c2a706f49f"
      },
      "source": [
        "# Same thing using existing eval.py\n",
        "!python3 CSAW-HackML-2020/eval.py CSAW-HackML-2020/data/sunglasses_poisoned_data.h5 CSAW-HackML-2020/models/sunglasses_bd_net.h5"
      ],
      "execution_count": 14,
      "outputs": [
        {
          "output_type": "stream",
          "text": [
            "2020-12-19 00:36:34.779653: I tensorflow/stream_executor/platform/default/dso_loader.cc:49] Successfully opened dynamic library libcudart.so.10.1\n",
            "2020-12-19 00:36:41.897080: I tensorflow/compiler/jit/xla_cpu_device.cc:41] Not creating XLA devices, tf_xla_enable_xla_devices not set\n",
            "2020-12-19 00:36:41.897970: I tensorflow/stream_executor/platform/default/dso_loader.cc:49] Successfully opened dynamic library libcuda.so.1\n",
            "2020-12-19 00:36:41.902223: I tensorflow/stream_executor/cuda/cuda_gpu_executor.cc:941] successful NUMA node read from SysFS had negative value (-1), but there must be at least one NUMA node, so returning NUMA node zero\n",
            "2020-12-19 00:36:41.902738: I tensorflow/core/common_runtime/gpu/gpu_device.cc:1720] Found device 0 with properties: \n",
            "pciBusID: 0000:00:04.0 name: Tesla T4 computeCapability: 7.5\n",
            "coreClock: 1.59GHz coreCount: 40 deviceMemorySize: 14.73GiB deviceMemoryBandwidth: 298.08GiB/s\n",
            "2020-12-19 00:36:41.902774: I tensorflow/stream_executor/platform/default/dso_loader.cc:49] Successfully opened dynamic library libcudart.so.10.1\n",
            "2020-12-19 00:36:41.904432: I tensorflow/stream_executor/platform/default/dso_loader.cc:49] Successfully opened dynamic library libcublas.so.10\n",
            "2020-12-19 00:36:41.904495: I tensorflow/stream_executor/platform/default/dso_loader.cc:49] Successfully opened dynamic library libcublasLt.so.10\n",
            "2020-12-19 00:36:41.905978: I tensorflow/stream_executor/platform/default/dso_loader.cc:49] Successfully opened dynamic library libcufft.so.10\n",
            "2020-12-19 00:36:41.906546: I tensorflow/stream_executor/platform/default/dso_loader.cc:49] Successfully opened dynamic library libcurand.so.10\n",
            "2020-12-19 00:36:41.908245: I tensorflow/stream_executor/platform/default/dso_loader.cc:49] Successfully opened dynamic library libcusolver.so.10\n",
            "2020-12-19 00:36:41.908958: I tensorflow/stream_executor/platform/default/dso_loader.cc:49] Successfully opened dynamic library libcusparse.so.10\n",
            "2020-12-19 00:36:41.912170: I tensorflow/stream_executor/platform/default/dso_loader.cc:49] Successfully opened dynamic library libcudnn.so.7\n",
            "2020-12-19 00:36:41.912282: I tensorflow/stream_executor/cuda/cuda_gpu_executor.cc:941] successful NUMA node read from SysFS had negative value (-1), but there must be at least one NUMA node, so returning NUMA node zero\n",
            "2020-12-19 00:36:41.912812: I tensorflow/stream_executor/cuda/cuda_gpu_executor.cc:941] successful NUMA node read from SysFS had negative value (-1), but there must be at least one NUMA node, so returning NUMA node zero\n",
            "2020-12-19 00:36:41.913282: I tensorflow/core/common_runtime/gpu/gpu_device.cc:1862] Adding visible gpu devices: 0\n",
            "2020-12-19 00:36:41.914443: I tensorflow/compiler/jit/xla_gpu_device.cc:99] Not creating XLA devices, tf_xla_enable_xla_devices not set\n",
            "2020-12-19 00:36:41.914550: I tensorflow/stream_executor/cuda/cuda_gpu_executor.cc:941] successful NUMA node read from SysFS had negative value (-1), but there must be at least one NUMA node, so returning NUMA node zero\n",
            "2020-12-19 00:36:41.915038: I tensorflow/core/common_runtime/gpu/gpu_device.cc:1720] Found device 0 with properties: \n",
            "pciBusID: 0000:00:04.0 name: Tesla T4 computeCapability: 7.5\n",
            "coreClock: 1.59GHz coreCount: 40 deviceMemorySize: 14.73GiB deviceMemoryBandwidth: 298.08GiB/s\n",
            "2020-12-19 00:36:41.915066: I tensorflow/stream_executor/platform/default/dso_loader.cc:49] Successfully opened dynamic library libcudart.so.10.1\n",
            "2020-12-19 00:36:41.915101: I tensorflow/stream_executor/platform/default/dso_loader.cc:49] Successfully opened dynamic library libcublas.so.10\n",
            "2020-12-19 00:36:41.915121: I tensorflow/stream_executor/platform/default/dso_loader.cc:49] Successfully opened dynamic library libcublasLt.so.10\n",
            "2020-12-19 00:36:41.915141: I tensorflow/stream_executor/platform/default/dso_loader.cc:49] Successfully opened dynamic library libcufft.so.10\n",
            "2020-12-19 00:36:41.915163: I tensorflow/stream_executor/platform/default/dso_loader.cc:49] Successfully opened dynamic library libcurand.so.10\n",
            "2020-12-19 00:36:41.915181: I tensorflow/stream_executor/platform/default/dso_loader.cc:49] Successfully opened dynamic library libcusolver.so.10\n",
            "2020-12-19 00:36:41.915199: I tensorflow/stream_executor/platform/default/dso_loader.cc:49] Successfully opened dynamic library libcusparse.so.10\n",
            "2020-12-19 00:36:41.915217: I tensorflow/stream_executor/platform/default/dso_loader.cc:49] Successfully opened dynamic library libcudnn.so.7\n",
            "2020-12-19 00:36:41.915276: I tensorflow/stream_executor/cuda/cuda_gpu_executor.cc:941] successful NUMA node read from SysFS had negative value (-1), but there must be at least one NUMA node, so returning NUMA node zero\n",
            "2020-12-19 00:36:41.915789: I tensorflow/stream_executor/cuda/cuda_gpu_executor.cc:941] successful NUMA node read from SysFS had negative value (-1), but there must be at least one NUMA node, so returning NUMA node zero\n",
            "2020-12-19 00:36:41.916259: I tensorflow/core/common_runtime/gpu/gpu_device.cc:1862] Adding visible gpu devices: 0\n",
            "2020-12-19 00:36:41.916297: I tensorflow/stream_executor/platform/default/dso_loader.cc:49] Successfully opened dynamic library libcudart.so.10.1\n",
            "2020-12-19 00:36:42.478266: I tensorflow/core/common_runtime/gpu/gpu_device.cc:1261] Device interconnect StreamExecutor with strength 1 edge matrix:\n",
            "2020-12-19 00:36:42.478319: I tensorflow/core/common_runtime/gpu/gpu_device.cc:1267]      0 \n",
            "2020-12-19 00:36:42.478340: I tensorflow/core/common_runtime/gpu/gpu_device.cc:1280] 0:   N \n",
            "2020-12-19 00:36:42.478516: I tensorflow/stream_executor/cuda/cuda_gpu_executor.cc:941] successful NUMA node read from SysFS had negative value (-1), but there must be at least one NUMA node, so returning NUMA node zero\n",
            "2020-12-19 00:36:42.479071: I tensorflow/stream_executor/cuda/cuda_gpu_executor.cc:941] successful NUMA node read from SysFS had negative value (-1), but there must be at least one NUMA node, so returning NUMA node zero\n",
            "2020-12-19 00:36:42.479608: I tensorflow/stream_executor/cuda/cuda_gpu_executor.cc:941] successful NUMA node read from SysFS had negative value (-1), but there must be at least one NUMA node, so returning NUMA node zero\n",
            "2020-12-19 00:36:42.480075: W tensorflow/core/common_runtime/gpu/gpu_bfc_allocator.cc:39] Overriding allow_growth setting because the TF_FORCE_GPU_ALLOW_GROWTH environment variable is set. Original config value was 0.\n",
            "2020-12-19 00:36:42.480121: I tensorflow/core/common_runtime/gpu/gpu_device.cc:1406] Created TensorFlow device (/job:localhost/replica:0/task:0/device:GPU:0 with 13151 MB memory) -> physical GPU (device: 0, name: Tesla T4, pci bus id: 0000:00:04.0, compute capability: 7.5)\n",
            "2020-12-19 00:36:43.058554: I tensorflow/compiler/mlir/mlir_graph_optimization_pass.cc:116] None of the MLIR optimization passes are enabled (registered 2)\n",
            "2020-12-19 00:36:43.058926: I tensorflow/core/platform/profile_utils/cpu_utils.cc:112] CPU Frequency: 2199995000 Hz\n",
            "2020-12-19 00:36:43.144266: I tensorflow/stream_executor/platform/default/dso_loader.cc:49] Successfully opened dynamic library libcublas.so.10\n",
            "2020-12-19 00:36:43.479399: I tensorflow/stream_executor/platform/default/dso_loader.cc:49] Successfully opened dynamic library libcudnn.so.7\n",
            "2020-12-19 00:36:45.821401: W tensorflow/core/framework/cpu_allocator_impl.cc:80] Allocation of 65843560 exceeds 10% of free system memory.\n",
            "Classification accuracy: 99.99220576773187\n"
          ],
          "name": "stdout"
        }
      ]
    },
    {
      "cell_type": "markdown",
      "metadata": {
        "id": "9EiLz-FrAE6U"
      },
      "source": [
        "##Reverse Engineering"
      ]
    },
    {
      "cell_type": "code",
      "metadata": {
        "id": "jsOlCu-oAbkR",
        "colab": {
          "base_uri": "https://localhost:8080/",
          "height": 35
        },
        "outputId": "978a0ef0-8a9f-4bee-f7e1-9edb72086499"
      },
      "source": [
        "##TODO\n",
        "'''\n",
        "for model in models:\n",
        "\n",
        "    vs = Visualizer(model, )\n",
        "'''"
      ],
      "execution_count": 16,
      "outputs": [
        {
          "output_type": "execute_result",
          "data": {
            "application/vnd.google.colaboratory.intrinsic+json": {
              "type": "string"
            },
            "text/plain": [
              "'\\nfor model in models:\\n\\n    vs = Visualizer(model, )\\n'"
            ]
          },
          "metadata": {
            "tags": []
          },
          "execution_count": 16
        }
      ]
    }
  ]
}