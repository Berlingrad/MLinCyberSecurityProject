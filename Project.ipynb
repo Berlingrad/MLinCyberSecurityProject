{
  "nbformat": 4,
  "nbformat_minor": 0,
  "metadata": {
    "colab": {
      "name": "Project.ipynb",
      "provenance": [],
      "collapsed_sections": [],
      "toc_visible": true,
      "include_colab_link": true
    },
    "kernelspec": {
      "name": "python3",
      "display_name": "Python 3"
    },
    "accelerator": "GPU"
  },
  "cells": [
    {
      "cell_type": "markdown",
      "metadata": {
        "id": "view-in-github",
        "colab_type": "text"
      },
      "source": [
        "<a href=\"https://colab.research.google.com/github/Berlingrad/MLinCyberSecurityProject/blob/XuDevelopment/Project.ipynb\" target=\"_parent\"><img src=\"https://colab.research.google.com/assets/colab-badge.svg\" alt=\"Open In Colab\"/></a>"
      ]
    },
    {
      "cell_type": "markdown",
      "metadata": {
        "id": "HGclO6eUuymx"
      },
      "source": [
        "#DNN Back Door Detector"
      ]
    },
    {
      "cell_type": "markdown",
      "metadata": {
        "id": "UNYtyNsgvHRl"
      },
      "source": [
        "## Preprocessing"
      ]
    },
    {
      "cell_type": "markdown",
      "metadata": {
        "id": "GiqLPbbVLs-w"
      },
      "source": [
        "###Data Download"
      ]
    },
    {
      "cell_type": "code",
      "metadata": {
        "colab": {
          "base_uri": "https://localhost:8080/"
        },
        "id": "puVie2-guvOg",
        "outputId": "533f9d2a-66b3-4ac9-9ecb-567b3298edf1"
      },
      "source": [
        "!git clone https://github.com/csaw-hackml/CSAW-HackML-2020.git\n",
        "\n",
        "!gdown https://drive.google.com/uc?id=1P8PTL62x3cfpV9mrC0unqZjRFhlTTOSG\n",
        "!gdown https://drive.google.com/uc?id=19OKCkY2CjV3ASkOe6nMSYTsOVcxAoCnA\n",
        "!gdown https://drive.google.com/uc?id=1XtYnM-IopU-QYVc99U51EiDvI5zxK0nV\n",
        "\n",
        "!mv /content/*.h5 /content/CSAW-HackML-2020/data\n",
        "\n",
        "##!wget https://raw.githubusercontent.com/bolunwang/backdoor/master/visualizer.py"
      ],
      "execution_count": 1,
      "outputs": [
        {
          "output_type": "stream",
          "text": [
            "Cloning into 'CSAW-HackML-2020'...\n",
            "remote: Enumerating objects: 14, done.\u001b[K\n",
            "remote: Counting objects: 100% (14/14), done.\u001b[K\n",
            "remote: Compressing objects: 100% (10/10), done.\u001b[K\n",
            "remote: Total 155 (delta 5), reused 13 (delta 4), pack-reused 141\u001b[K\n",
            "Receiving objects: 100% (155/155), 79.56 MiB | 39.33 MiB/s, done.\n",
            "Resolving deltas: 100% (48/48), done.\n",
            "Downloading...\n",
            "From: https://drive.google.com/uc?id=1P8PTL62x3cfpV9mrC0unqZjRFhlTTOSG\n",
            "To: /content/sunglasses_poisoned_data.h5\n",
            "398MB [00:02, 136MB/s]\n",
            "Downloading...\n",
            "From: https://drive.google.com/uc?id=19OKCkY2CjV3ASkOe6nMSYTsOVcxAoCnA\n",
            "To: /content/clean_validation_data.h5\n",
            "716MB [00:03, 217MB/s]\n",
            "Downloading...\n",
            "From: https://drive.google.com/uc?id=1XtYnM-IopU-QYVc99U51EiDvI5zxK0nV\n",
            "To: /content/clean_test_data.h5\n",
            "398MB [00:09, 40.5MB/s]\n"
          ],
          "name": "stdout"
        }
      ]
    },
    {
      "cell_type": "code",
      "metadata": {
        "id": "C1skH0vBC7pl",
        "colab": {
          "base_uri": "https://localhost:8080/"
        },
        "outputId": "693d12cb-645c-4579-87b6-582bf054a577"
      },
      "source": [
        "import os\n",
        "import gdown\n",
        "import numpy as np\n",
        "import random\n",
        "import h5py\n",
        "import glob2\n",
        "import tempfile\n",
        "import copy\n",
        "\n",
        "import keras\n",
        "import tensorflow as tf\n",
        "from keras.models import load_model\n",
        "from keras.preprocessing.image import ImageDataGenerator\n",
        "!pip install -q tensorflow-model-optimization\n",
        "import tensorflow_model_optimization as tfmot\n",
        "\n",
        "if not tf.config.experimental.list_physical_devices('GPU'):\n",
        "    raise Exception(\"Please change runtime type to GPU\")\n"
      ],
      "execution_count": 2,
      "outputs": [
        {
          "output_type": "stream",
          "text": [
            "\u001b[?25l\r\u001b[K     |██                              | 10kB 24.0MB/s eta 0:00:01\r\u001b[K     |███▉                            | 20kB 15.7MB/s eta 0:00:01\r\u001b[K     |█████▊                          | 30kB 13.9MB/s eta 0:00:01\r\u001b[K     |███████▋                        | 40kB 13.6MB/s eta 0:00:01\r\u001b[K     |█████████▌                      | 51kB 8.9MB/s eta 0:00:01\r\u001b[K     |███████████▍                    | 61kB 10.3MB/s eta 0:00:01\r\u001b[K     |█████████████▎                  | 71kB 10.8MB/s eta 0:00:01\r\u001b[K     |███████████████▏                | 81kB 11.7MB/s eta 0:00:01\r\u001b[K     |█████████████████               | 92kB 12.3MB/s eta 0:00:01\r\u001b[K     |███████████████████             | 102kB 12.3MB/s eta 0:00:01\r\u001b[K     |████████████████████▉           | 112kB 12.3MB/s eta 0:00:01\r\u001b[K     |██████████████████████▊         | 122kB 12.3MB/s eta 0:00:01\r\u001b[K     |████████████████████████▊       | 133kB 12.3MB/s eta 0:00:01\r\u001b[K     |██████████████████████████▋     | 143kB 12.3MB/s eta 0:00:01\r\u001b[K     |████████████████████████████▌   | 153kB 12.3MB/s eta 0:00:01\r\u001b[K     |██████████████████████████████▍ | 163kB 12.3MB/s eta 0:00:01\r\u001b[K     |████████████████████████████████| 174kB 12.3MB/s \n",
            "\u001b[?25h"
          ],
          "name": "stdout"
        }
      ]
    },
    {
      "cell_type": "code",
      "metadata": {
        "id": "yPkj0u-5F2Be"
      },
      "source": [
        "def load_dataset(data_filename, keys=None):\n",
        "    dataset = {}\n",
        "    with h5py.File(data_filename, 'r') as hf:\n",
        "        if keys is None:\n",
        "            for name in hf:\n",
        "                dataset[name] = np.array(hf.get(name))\n",
        "        else:\n",
        "            for name in keys:\n",
        "                dataset[name] = np.array(hf.get(name))\n",
        "\n",
        "    return dataset\n",
        "\n",
        "def load_models(model_dir):\n",
        "    models = []\n",
        "    for net in glob2.glob(\"/content/CSAW-HackML-2020/models/*net.h5\"):\n",
        "        weights = glob2.glob(net.split(\"_\")[0]+\"*weights.h5\")[0]\n",
        "       \n",
        "        m = load_model(net)\n",
        "        m.load_weights(weights)\n",
        "\n",
        "        models.append(m)\n",
        "    return models"
      ],
      "execution_count": 3,
      "outputs": []
    },
    {
      "cell_type": "markdown",
      "metadata": {
        "id": "14Ae9mRxBWyV"
      },
      "source": [
        "###Load Data"
      ]
    },
    {
      "cell_type": "code",
      "metadata": {
        "id": "cNQ8-t0pDYY5",
        "colab": {
          "base_uri": "https://localhost:8080/"
        },
        "outputId": "fca6b368-c567-4285-dbcb-791be3462799"
      },
      "source": [
        "SG_poisoned_path = \"/content/CSAW-HackML-2020/data/sunglasses_poisoned_data.h5\"\n",
        "SG_poisoned = load_dataset(SG_poisoned_path)\n",
        "\n",
        "clean_validation_path = \"/content/CSAW-HackML-2020/data/clean_validation_data.h5\"\n",
        "valid_clean = load_dataset(clean_validation_path)\n",
        "\n",
        "clean_test_path = \"/content/CSAW-HackML-2020/data/clean_test_data.h5\"\n",
        "test_clean = load_dataset(clean_test_path)\n",
        "\n",
        "SG_poisoned['data'] = SG_poisoned['data'].transpose((0,2,3,1))\n",
        "valid_clean['data'] = valid_clean['data'].transpose((0,2,3,1))\n",
        "test_clean['data'] = test_clean['data'].transpose((0,2,3,1))\n",
        "\n",
        " \n",
        " ##Vectorize label array to fit the model output\n",
        "outLen = 1283 ##Length of output array\n",
        "ySG = np.zeros((SG_poisoned['label'].shape[0], outLen))\n",
        "yValid = np.zeros((valid_clean['label'].shape[0], outLen))\n",
        "yTest = np.zeros((test_clean['label'].shape[0], outLen))\n",
        "\n",
        "print(valid_clean['data'].shape)\n",
        "print(yValid.shape)\n",
        "\n",
        "for i in range(SG_poisoned['label'].shape[0]):\n",
        "    ySG[i][SG_poisoned['label'][i]] = 1\n",
        "\n",
        "for i in range(valid_clean['label'].shape[0]):\n",
        "    yValid[i][int(valid_clean['label'][i])] = 1\n",
        "\n",
        "for i in range(test_clean['label'].shape[0]):\n",
        "    yTest[i][test_clean['label'][i]] = 1\n",
        "\n"
      ],
      "execution_count": 4,
      "outputs": [
        {
          "output_type": "stream",
          "text": [
            "(11547, 55, 47, 3)\n",
            "(11547, 1283)\n"
          ],
          "name": "stdout"
        }
      ]
    },
    {
      "cell_type": "markdown",
      "metadata": {
        "id": "xBT8IKBgBd-C"
      },
      "source": [
        "###Data Parameters"
      ]
    },
    {
      "cell_type": "code",
      "metadata": {
        "id": "ZLJcI5WgBi5Z"
      },
      "source": [
        "##TODO\n",
        "\n",
        "##SG_nClass = \n",
        "##vc_nClass = "
      ],
      "execution_count": 5,
      "outputs": []
    },
    {
      "cell_type": "markdown",
      "metadata": {
        "id": "khtwl8GCIYku"
      },
      "source": [
        "###Load Models"
      ]
    },
    {
      "cell_type": "code",
      "metadata": {
        "id": "hqfW9ZeHJGF4"
      },
      "source": [
        "\n",
        "model_dir = \"/content/CSAW-HackML-2020/models\"\n",
        "\n",
        "models = load_models(model_dir)\n"
      ],
      "execution_count": 6,
      "outputs": []
    },
    {
      "cell_type": "code",
      "metadata": {
        "colab": {
          "base_uri": "https://localhost:8080/"
        },
        "id": "qFt5IQh6gEcv",
        "outputId": "1c9ba3a7-cfa8-4aa2-d7ff-b1a4ca62a71d"
      },
      "source": [
        "out = models[0].predict(valid_clean['data'])\n",
        "print(np.argmax(out[0]))\n",
        "print(out.shape)\n",
        "print(yValid.shape)"
      ],
      "execution_count": 7,
      "outputs": [
        {
          "output_type": "stream",
          "text": [
            "43\n",
            "(11547, 1283)\n",
            "(11547, 1283)\n"
          ],
          "name": "stdout"
        }
      ]
    },
    {
      "cell_type": "markdown",
      "metadata": {
        "id": "mzKRM8bg8Om1"
      },
      "source": [
        "### Model Summary"
      ]
    },
    {
      "cell_type": "code",
      "metadata": {
        "colab": {
          "base_uri": "https://localhost:8080/"
        },
        "id": "oT6zOYgL8Nmk",
        "outputId": "27aca088-3168-4a6f-ab00-c1469d1feba2"
      },
      "source": [
        "##TODO\n",
        "for i, model in enumerate(models):\n",
        "    print(\"model \", i, \":\")\n",
        "    model.summary()\n",
        "\n",
        "     "
      ],
      "execution_count": 8,
      "outputs": [
        {
          "output_type": "stream",
          "text": [
            "model  0 :\n",
            "Model: \"model_1\"\n",
            "__________________________________________________________________________________________________\n",
            "Layer (type)                    Output Shape         Param #     Connected to                     \n",
            "==================================================================================================\n",
            "input (InputLayer)              [(None, 55, 47, 3)]  0                                            \n",
            "__________________________________________________________________________________________________\n",
            "conv_1 (Conv2D)                 (None, 52, 44, 20)   980         input[0][0]                      \n",
            "__________________________________________________________________________________________________\n",
            "pool_1 (MaxPooling2D)           (None, 26, 22, 20)   0           conv_1[0][0]                     \n",
            "__________________________________________________________________________________________________\n",
            "conv_2 (Conv2D)                 (None, 24, 20, 40)   7240        pool_1[0][0]                     \n",
            "__________________________________________________________________________________________________\n",
            "pool_2 (MaxPooling2D)           (None, 12, 10, 40)   0           conv_2[0][0]                     \n",
            "__________________________________________________________________________________________________\n",
            "conv_3 (Conv2D)                 (None, 10, 8, 60)    21660       pool_2[0][0]                     \n",
            "__________________________________________________________________________________________________\n",
            "pool_3 (MaxPooling2D)           (None, 5, 4, 60)     0           conv_3[0][0]                     \n",
            "__________________________________________________________________________________________________\n",
            "conv_4 (Conv2D)                 (None, 4, 3, 80)     19280       pool_3[0][0]                     \n",
            "__________________________________________________________________________________________________\n",
            "flatten_1 (Flatten)             (None, 1200)         0           pool_3[0][0]                     \n",
            "__________________________________________________________________________________________________\n",
            "flatten_2 (Flatten)             (None, 960)          0           conv_4[0][0]                     \n",
            "__________________________________________________________________________________________________\n",
            "fc_1 (Dense)                    (None, 160)          192160      flatten_1[0][0]                  \n",
            "__________________________________________________________________________________________________\n",
            "fc_2 (Dense)                    (None, 160)          153760      flatten_2[0][0]                  \n",
            "__________________________________________________________________________________________________\n",
            "add_1 (Add)                     (None, 160)          0           fc_1[0][0]                       \n",
            "                                                                 fc_2[0][0]                       \n",
            "__________________________________________________________________________________________________\n",
            "activation_1 (Activation)       (None, 160)          0           add_1[0][0]                      \n",
            "__________________________________________________________________________________________________\n",
            "output (Dense)                  (None, 1283)         206563      activation_1[0][0]               \n",
            "==================================================================================================\n",
            "Total params: 601,643\n",
            "Trainable params: 601,643\n",
            "Non-trainable params: 0\n",
            "__________________________________________________________________________________________________\n",
            "model  1 :\n",
            "Model: \"model_1\"\n",
            "__________________________________________________________________________________________________\n",
            "Layer (type)                    Output Shape         Param #     Connected to                     \n",
            "==================================================================================================\n",
            "input (InputLayer)              [(None, 55, 47, 3)]  0                                            \n",
            "__________________________________________________________________________________________________\n",
            "conv_1 (Conv2D)                 (None, 52, 44, 20)   980         input[0][0]                      \n",
            "__________________________________________________________________________________________________\n",
            "pool_1 (MaxPooling2D)           (None, 26, 22, 20)   0           conv_1[0][0]                     \n",
            "__________________________________________________________________________________________________\n",
            "conv_2 (Conv2D)                 (None, 24, 20, 40)   7240        pool_1[0][0]                     \n",
            "__________________________________________________________________________________________________\n",
            "pool_2 (MaxPooling2D)           (None, 12, 10, 40)   0           conv_2[0][0]                     \n",
            "__________________________________________________________________________________________________\n",
            "conv_3 (Conv2D)                 (None, 10, 8, 60)    21660       pool_2[0][0]                     \n",
            "__________________________________________________________________________________________________\n",
            "pool_3 (MaxPooling2D)           (None, 5, 4, 60)     0           conv_3[0][0]                     \n",
            "__________________________________________________________________________________________________\n",
            "conv_4 (Conv2D)                 (None, 4, 3, 80)     19280       pool_3[0][0]                     \n",
            "__________________________________________________________________________________________________\n",
            "flatten_1 (Flatten)             (None, 1200)         0           pool_3[0][0]                     \n",
            "__________________________________________________________________________________________________\n",
            "flatten_2 (Flatten)             (None, 960)          0           conv_4[0][0]                     \n",
            "__________________________________________________________________________________________________\n",
            "fc_1 (Dense)                    (None, 160)          192160      flatten_1[0][0]                  \n",
            "__________________________________________________________________________________________________\n",
            "fc_2 (Dense)                    (None, 160)          153760      flatten_2[0][0]                  \n",
            "__________________________________________________________________________________________________\n",
            "add_1 (Add)                     (None, 160)          0           fc_1[0][0]                       \n",
            "                                                                 fc_2[0][0]                       \n",
            "__________________________________________________________________________________________________\n",
            "activation_1 (Activation)       (None, 160)          0           add_1[0][0]                      \n",
            "__________________________________________________________________________________________________\n",
            "output (Dense)                  (None, 1283)         206563      activation_1[0][0]               \n",
            "==================================================================================================\n",
            "Total params: 601,643\n",
            "Trainable params: 601,643\n",
            "Non-trainable params: 0\n",
            "__________________________________________________________________________________________________\n",
            "model  2 :\n",
            "Model: \"model_1\"\n",
            "__________________________________________________________________________________________________\n",
            "Layer (type)                    Output Shape         Param #     Connected to                     \n",
            "==================================================================================================\n",
            "input (InputLayer)              [(None, 55, 47, 3)]  0                                            \n",
            "__________________________________________________________________________________________________\n",
            "conv_1 (Conv2D)                 (None, 52, 44, 20)   980         input[0][0]                      \n",
            "__________________________________________________________________________________________________\n",
            "pool_1 (MaxPooling2D)           (None, 26, 22, 20)   0           conv_1[0][0]                     \n",
            "__________________________________________________________________________________________________\n",
            "conv_2 (Conv2D)                 (None, 24, 20, 40)   7240        pool_1[0][0]                     \n",
            "__________________________________________________________________________________________________\n",
            "pool_2 (MaxPooling2D)           (None, 12, 10, 40)   0           conv_2[0][0]                     \n",
            "__________________________________________________________________________________________________\n",
            "conv_3 (Conv2D)                 (None, 10, 8, 60)    21660       pool_2[0][0]                     \n",
            "__________________________________________________________________________________________________\n",
            "pool_3 (MaxPooling2D)           (None, 5, 4, 60)     0           conv_3[0][0]                     \n",
            "__________________________________________________________________________________________________\n",
            "conv_4 (Conv2D)                 (None, 4, 3, 80)     19280       pool_3[0][0]                     \n",
            "__________________________________________________________________________________________________\n",
            "flatten_1 (Flatten)             (None, 1200)         0           pool_3[0][0]                     \n",
            "__________________________________________________________________________________________________\n",
            "flatten_2 (Flatten)             (None, 960)          0           conv_4[0][0]                     \n",
            "__________________________________________________________________________________________________\n",
            "fc_1 (Dense)                    (None, 160)          192160      flatten_1[0][0]                  \n",
            "__________________________________________________________________________________________________\n",
            "fc_2 (Dense)                    (None, 160)          153760      flatten_2[0][0]                  \n",
            "__________________________________________________________________________________________________\n",
            "add_1 (Add)                     (None, 160)          0           fc_1[0][0]                       \n",
            "                                                                 fc_2[0][0]                       \n",
            "__________________________________________________________________________________________________\n",
            "activation_1 (Activation)       (None, 160)          0           add_1[0][0]                      \n",
            "__________________________________________________________________________________________________\n",
            "output (Dense)                  (None, 1283)         206563      activation_1[0][0]               \n",
            "==================================================================================================\n",
            "Total params: 601,643\n",
            "Trainable params: 601,643\n",
            "Non-trainable params: 0\n",
            "__________________________________________________________________________________________________\n"
          ],
          "name": "stdout"
        }
      ]
    },
    {
      "cell_type": "code",
      "metadata": {
        "id": "ktTaXUpx1xNw"
      },
      "source": [
        "def validate_model(y, y_hat):\r\n",
        "    ##compute model accuracy based vectorized output\r\n",
        "    n = 0\r\n",
        "    for i, v in enumerate(y):\r\n",
        "        correct = 1 if np.argmax(v) == np.argmax(y_hat[i]) else 0\r\n",
        "        n+= correct \r\n",
        "    return n/(i + 1)\r\n",
        "    \r\n",
        "    "
      ],
      "execution_count": 9,
      "outputs": []
    },
    {
      "cell_type": "code",
      "metadata": {
        "colab": {
          "base_uri": "https://localhost:8080/"
        },
        "id": "N4eIKJKy0Ee9",
        "outputId": "9a1c81da-1245-440c-b3c0-0b119c4feb9f"
      },
      "source": [
        "preds_preprocessed = [] ##test result of the badnets before repair\r\n",
        "\r\n",
        "for m in models:\r\n",
        "    pred = m.predict(test_clean['data'])\r\n",
        "    preds_preprocessed.append(pred)\r\n",
        "    print(validate_model(yTest, pred))\r\n",
        "\r\n",
        "for m in models:\r\n",
        "    pred = m.predict(SG_poisoned['data'])\r\n",
        "    print(validate_model(ySG, pred))\r\n",
        "\r\n"
      ],
      "execution_count": 10,
      "outputs": [
        {
          "output_type": "stream",
          "text": [
            "0.5622759158222915\n",
            "0.42361652377240844\n",
            "0.4319563522992985\n",
            "0.0\n",
            "0.9994544037412315\n",
            "0.0\n"
          ],
          "name": "stdout"
        }
      ]
    },
    {
      "cell_type": "markdown",
      "metadata": {
        "id": "9EiLz-FrAE6U"
      },
      "source": [
        "##Pruning"
      ]
    },
    {
      "cell_type": "code",
      "metadata": {
        "colab": {
          "base_uri": "https://localhost:8080/"
        },
        "id": "jsOlCu-oAbkR",
        "outputId": "3aedf0ff-3d7b-46dc-b8d6-fd3d9f421527"
      },
      "source": [
        "pruned_models = []\n",
        "for i, base_model in enumerate(models):\n",
        "    for _ in range(3):\n",
        "        model_for_pruning = tfmot.sparsity.keras.prune_low_magnitude(base_model)\n",
        "    \n",
        "        log_dir = tempfile.mkdtemp()\n",
        "        callbacks = [\n",
        "            tfmot.sparsity.keras.UpdatePruningStep(),\n",
        "            tfmot.sparsity.keras.PruningSummaries(log_dir=log_dir)\n",
        "        ]\n",
        "        model_for_pruning.compile(\n",
        "          loss=tf.keras.losses.categorical_crossentropy,\n",
        "          optimizer='adam',\n",
        "          metrics=['accuracy']\n",
        "        )\n",
        "        model_for_pruning.fit(valid_clean['data'], yValid,\n",
        "                              callbacks=callbacks,\n",
        "                              epochs=3\n",
        "                              )\n",
        "\n",
        "    pruned_models.append(model_for_pruning)"
      ],
      "execution_count": 11,
      "outputs": [
        {
          "output_type": "stream",
          "text": [
            "/usr/local/lib/python3.6/dist-packages/tensorflow/python/keras/engine/base_layer.py:2281: UserWarning: `layer.add_variable` is deprecated and will be removed in a future version. Please use `layer.add_weight` method instead.\n",
            "  warnings.warn('`layer.add_variable` is deprecated and '\n"
          ],
          "name": "stderr"
        },
        {
          "output_type": "stream",
          "text": [
            "Epoch 1/3\n",
            "  6/361 [..............................] - ETA: 16s - loss: 432.1538 - accuracy: 0.5804WARNING:tensorflow:Callback method `on_train_batch_end` is slow compared to the batch time (batch time: 0.0128s vs `on_train_batch_end` time: 0.0258s). Check your callbacks.\n",
            "361/361 [==============================] - 9s 17ms/step - loss: 149.0929 - accuracy: 0.7777\n",
            "Epoch 2/3\n",
            "361/361 [==============================] - 6s 17ms/step - loss: 14.1429 - accuracy: 0.9093\n",
            "Epoch 3/3\n",
            "361/361 [==============================] - 6s 17ms/step - loss: 5.1500 - accuracy: 0.9390\n",
            "Epoch 1/3\n",
            "  6/361 [..............................] - ETA: 24s - loss: 6.2000 - accuracy: 0.9384WARNING:tensorflow:Callback method `on_train_batch_end` is slow compared to the batch time (batch time: 0.0126s vs `on_train_batch_end` time: 0.0441s). Check your callbacks.\n",
            "361/361 [==============================] - 9s 18ms/step - loss: 8.0099 - accuracy: 0.9021\n",
            "Epoch 2/3\n",
            "361/361 [==============================] - 6s 17ms/step - loss: 3.7997 - accuracy: 0.9139\n",
            "Epoch 3/3\n",
            "361/361 [==============================] - 6s 17ms/step - loss: 1.7318 - accuracy: 0.9412\n",
            "Epoch 1/3\n",
            "  6/361 [..............................] - ETA: 23s - loss: 0.9911 - accuracy: 0.9398WARNING:tensorflow:Callback method `on_train_batch_end` is slow compared to the batch time (batch time: 0.0126s vs `on_train_batch_end` time: 0.0419s). Check your callbacks.\n",
            "361/361 [==============================] - 9s 19ms/step - loss: 1.9055 - accuracy: 0.9235\n",
            "Epoch 2/3\n",
            "361/361 [==============================] - 6s 17ms/step - loss: 1.4166 - accuracy: 0.9225\n",
            "Epoch 3/3\n",
            "361/361 [==============================] - 6s 17ms/step - loss: 0.6406 - accuracy: 0.9475\n",
            "Epoch 1/3\n",
            "  3/361 [..............................] - ETA: 58s - loss: 1648.9028 - accuracy: 0.3681WARNING:tensorflow:Callback method `on_train_batch_end` is slow compared to the batch time (batch time: 0.0144s vs `on_train_batch_end` time: 0.0478s). Check your callbacks.\n",
            "361/361 [==============================] - 9s 17ms/step - loss: 283.1970 - accuracy: 0.6966\n",
            "Epoch 2/3\n",
            "361/361 [==============================] - 6s 17ms/step - loss: 14.9279 - accuracy: 0.8844\n",
            "Epoch 3/3\n",
            "361/361 [==============================] - 6s 17ms/step - loss: 3.2331 - accuracy: 0.9437\n",
            "Epoch 1/3\n",
            "  6/361 [..............................] - ETA: 22s - loss: 7.0529 - accuracy: 0.9205WARNING:tensorflow:Callback method `on_train_batch_end` is slow compared to the batch time (batch time: 0.0123s vs `on_train_batch_end` time: 0.0402s). Check your callbacks.\n",
            "361/361 [==============================] - 8s 17ms/step - loss: 5.4060 - accuracy: 0.8432\n",
            "Epoch 2/3\n",
            "361/361 [==============================] - 6s 17ms/step - loss: 0.6554 - accuracy: 0.9137\n",
            "Epoch 3/3\n",
            "361/361 [==============================] - 6s 16ms/step - loss: 0.2974 - accuracy: 0.9530\n",
            "Epoch 1/3\n",
            "  3/361 [..............................] - ETA: 56s - loss: 0.1416 - accuracy: 0.9566WARNING:tensorflow:Callback method `on_train_batch_end` is slow compared to the batch time (batch time: 0.0117s vs `on_train_batch_end` time: 0.0473s). Check your callbacks.\n",
            "361/361 [==============================] - 9s 17ms/step - loss: 0.7841 - accuracy: 0.8839\n",
            "Epoch 2/3\n",
            "361/361 [==============================] - 6s 17ms/step - loss: 0.3282 - accuracy: 0.9284\n",
            "Epoch 3/3\n",
            "361/361 [==============================] - 6s 16ms/step - loss: 0.1993 - accuracy: 0.9524\n",
            "Epoch 1/3\n",
            "  3/361 [..............................] - ETA: 50s - loss: 622.1347 - accuracy: 0.4861WARNING:tensorflow:Callback method `on_train_batch_end` is slow compared to the batch time (batch time: 0.0112s vs `on_train_batch_end` time: 0.0422s). Check your callbacks.\n",
            "361/361 [==============================] - 8s 17ms/step - loss: 174.8483 - accuracy: 0.7102\n",
            "Epoch 2/3\n",
            "361/361 [==============================] - 6s 16ms/step - loss: 15.9803 - accuracy: 0.8986\n",
            "Epoch 3/3\n",
            "361/361 [==============================] - 6s 16ms/step - loss: 6.7202 - accuracy: 0.9349\n",
            "Epoch 1/3\n",
            "  3/361 [..............................] - ETA: 56s - loss: 1.1676 - accuracy: 0.9566WARNING:tensorflow:Callback method `on_train_batch_end` is slow compared to the batch time (batch time: 0.0115s vs `on_train_batch_end` time: 0.0477s). Check your callbacks.\n",
            "361/361 [==============================] - 9s 18ms/step - loss: 8.5822 - accuracy: 0.9103\n",
            "Epoch 2/3\n",
            "361/361 [==============================] - 6s 17ms/step - loss: 5.7330 - accuracy: 0.9114\n",
            "Epoch 3/3\n",
            "361/361 [==============================] - 6s 17ms/step - loss: 2.4203 - accuracy: 0.9448\n",
            "Epoch 1/3\n",
            "  3/361 [..............................] - ETA: 48s - loss: 0.0431 - accuracy: 0.9931    WARNING:tensorflow:Callback method `on_train_batch_end` is slow compared to the batch time (batch time: 0.0115s vs `on_train_batch_end` time: 0.0403s). Check your callbacks.\n",
            "361/361 [==============================] - 8s 16ms/step - loss: 2.1739 - accuracy: 0.9401\n",
            "Epoch 2/3\n",
            "361/361 [==============================] - 6s 16ms/step - loss: 2.2229 - accuracy: 0.9259\n",
            "Epoch 3/3\n",
            "361/361 [==============================] - 6s 16ms/step - loss: 0.9794 - accuracy: 0.9559\n"
          ],
          "name": "stdout"
        }
      ]
    },
    {
      "cell_type": "code",
      "metadata": {
        "colab": {
          "base_uri": "https://localhost:8080/",
          "height": 188
        },
        "id": "hRpuEQO9_vrO",
        "outputId": "b8655465-9c9f-467f-cc06-f705f893e735"
      },
      "source": [
        "'''\r\n",
        "pruned_models = []\r\n",
        "for i, base_model in enumerate(models):\r\n",
        "    model_for_pruning = tfmot.sparsity.keras.prune_low_magnitude(base_model)\r\n",
        "\r\n",
        "    loss = tf.keras.losses.categorical_crossentropy\r\n",
        "    optimizer = tf.keras.optimizers.Adam()\r\n",
        "    log_dir = tempfile.mkdtemp()\r\n",
        "    unused_arg = -1\r\n",
        "    epochs = 3 \r\n",
        "    batches = 1 \r\n",
        "\r\n",
        "    model_for_pruning.optimizer = optimizer\r\n",
        "    step_callback = tfmot.sparsity.keras.UpdatePruningStep()\r\n",
        "    step_callback.set_model(model_for_pruning)\r\n",
        "    log_callback = tfmot.sparsity.keras.PruningSummaries(log_dir=log_dir) # Log sparsity and other metrics in Tensorboard.\r\n",
        "    log_callback.set_model(model_for_pruning)\r\n",
        "\r\n",
        "    step_callback.on_train_begin() # run pruning callback\r\n",
        "    for _ in range(epochs):\r\n",
        "       log_callback.on_epoch_begin(epoch=unused_arg) # run pruning callback\r\n",
        "       for _ in range(batches):\r\n",
        "           step_callback.on_train_batch_begin(batch=unused_arg) # run pruning callback\r\n",
        "\r\n",
        "           with tf.GradientTape() as tape:\r\n",
        "               logits = model_for_pruning(valid_clean['data'], training=True)\r\n",
        "               loss_value = loss(yValid, logits)\r\n",
        "               grads = tape.gradient(loss_value, model_for_pruning.trainable_variables)\r\n",
        "               optimizer.apply_gradients(zip(grads, model_for_pruning.trainable_variables))\r\n",
        "\r\n",
        "       step_callback.on_epoch_end(batch=unused_arg)\r\n",
        "\r\n",
        "    pruned_models.append(model_for_pruning)\r\n",
        "'''"
      ],
      "execution_count": 12,
      "outputs": [
        {
          "output_type": "execute_result",
          "data": {
            "application/vnd.google.colaboratory.intrinsic+json": {
              "type": "string"
            },
            "text/plain": [
              "\"\\npruned_models = []\\nfor i, base_model in enumerate(models):\\n    model_for_pruning = tfmot.sparsity.keras.prune_low_magnitude(base_model)\\n\\n    loss = tf.keras.losses.categorical_crossentropy\\n    optimizer = tf.keras.optimizers.Adam()\\n    log_dir = tempfile.mkdtemp()\\n    unused_arg = -1\\n    epochs = 3 \\n    batches = 1 \\n\\n    model_for_pruning.optimizer = optimizer\\n    step_callback = tfmot.sparsity.keras.UpdatePruningStep()\\n    step_callback.set_model(model_for_pruning)\\n    log_callback = tfmot.sparsity.keras.PruningSummaries(log_dir=log_dir) # Log sparsity and other metrics in Tensorboard.\\n    log_callback.set_model(model_for_pruning)\\n\\n    step_callback.on_train_begin() # run pruning callback\\n    for _ in range(epochs):\\n       log_callback.on_epoch_begin(epoch=unused_arg) # run pruning callback\\n       for _ in range(batches):\\n           step_callback.on_train_batch_begin(batch=unused_arg) # run pruning callback\\n\\n           with tf.GradientTape() as tape:\\n               logits = model_for_pruning(valid_clean['data'], training=True)\\n               loss_value = loss(yValid, logits)\\n               grads = tape.gradient(loss_value, model_for_pruning.trainable_variables)\\n               optimizer.apply_gradients(zip(grads, model_for_pruning.trainable_variables))\\n\\n       step_callback.on_epoch_end(batch=unused_arg)\\n\\n    pruned_models.append(model_for_pruning)\\n\""
            ]
          },
          "metadata": {
            "tags": []
          },
          "execution_count": 12
        }
      ]
    },
    {
      "cell_type": "code",
      "metadata": {
        "colab": {
          "base_uri": "https://localhost:8080/"
        },
        "id": "DvWqUKDph_xL",
        "outputId": "d3391ea7-75cb-408f-edf2-a075d919619f"
      },
      "source": [
        "for i, model in enumerate(pruned_models):\n",
        "    print(\"model \", i, \":\")\n",
        "    model.summary()"
      ],
      "execution_count": 13,
      "outputs": [
        {
          "output_type": "stream",
          "text": [
            "model  0 :\n",
            "Model: \"model_1\"\n",
            "__________________________________________________________________________________________________\n",
            "Layer (type)                    Output Shape         Param #     Connected to                     \n",
            "==================================================================================================\n",
            "input (InputLayer)              [(None, 55, 47, 3)]  0                                            \n",
            "__________________________________________________________________________________________________\n",
            "prune_low_magnitude_conv_1 (Pru (None, 52, 44, 20)   1942        input[0][0]                      \n",
            "__________________________________________________________________________________________________\n",
            "prune_low_magnitude_pool_1 (Pru (None, 26, 22, 20)   1           prune_low_magnitude_conv_1[0][0] \n",
            "__________________________________________________________________________________________________\n",
            "prune_low_magnitude_conv_2 (Pru (None, 24, 20, 40)   14442       prune_low_magnitude_pool_1[0][0] \n",
            "__________________________________________________________________________________________________\n",
            "prune_low_magnitude_pool_2 (Pru (None, 12, 10, 40)   1           prune_low_magnitude_conv_2[0][0] \n",
            "__________________________________________________________________________________________________\n",
            "prune_low_magnitude_conv_3 (Pru (None, 10, 8, 60)    43262       prune_low_magnitude_pool_2[0][0] \n",
            "__________________________________________________________________________________________________\n",
            "prune_low_magnitude_pool_3 (Pru (None, 5, 4, 60)     1           prune_low_magnitude_conv_3[0][0] \n",
            "__________________________________________________________________________________________________\n",
            "prune_low_magnitude_conv_4 (Pru (None, 4, 3, 80)     38482       prune_low_magnitude_pool_3[0][0] \n",
            "__________________________________________________________________________________________________\n",
            "prune_low_magnitude_flatten_1 ( (None, 1200)         1           prune_low_magnitude_pool_3[0][0] \n",
            "__________________________________________________________________________________________________\n",
            "prune_low_magnitude_flatten_2 ( (None, 960)          1           prune_low_magnitude_conv_4[0][0] \n",
            "__________________________________________________________________________________________________\n",
            "prune_low_magnitude_fc_1 (Prune (None, 160)          384162      prune_low_magnitude_flatten_1[0][\n",
            "__________________________________________________________________________________________________\n",
            "prune_low_magnitude_fc_2 (Prune (None, 160)          307362      prune_low_magnitude_flatten_2[0][\n",
            "__________________________________________________________________________________________________\n",
            "prune_low_magnitude_add_1 (Prun (None, 160)          1           prune_low_magnitude_fc_1[0][0]   \n",
            "                                                                 prune_low_magnitude_fc_2[0][0]   \n",
            "__________________________________________________________________________________________________\n",
            "prune_low_magnitude_activation_ (None, 160)          1           prune_low_magnitude_add_1[0][0]  \n",
            "__________________________________________________________________________________________________\n",
            "prune_low_magnitude_output (Pru (None, 1283)         411845      prune_low_magnitude_activation_1[\n",
            "==================================================================================================\n",
            "Total params: 1,201,504\n",
            "Trainable params: 601,643\n",
            "Non-trainable params: 599,861\n",
            "__________________________________________________________________________________________________\n",
            "model  1 :\n",
            "Model: \"model_1\"\n",
            "__________________________________________________________________________________________________\n",
            "Layer (type)                    Output Shape         Param #     Connected to                     \n",
            "==================================================================================================\n",
            "input (InputLayer)              [(None, 55, 47, 3)]  0                                            \n",
            "__________________________________________________________________________________________________\n",
            "prune_low_magnitude_conv_1 (Pru (None, 52, 44, 20)   1942        input[0][0]                      \n",
            "__________________________________________________________________________________________________\n",
            "prune_low_magnitude_pool_1 (Pru (None, 26, 22, 20)   1           prune_low_magnitude_conv_1[0][0] \n",
            "__________________________________________________________________________________________________\n",
            "prune_low_magnitude_conv_2 (Pru (None, 24, 20, 40)   14442       prune_low_magnitude_pool_1[0][0] \n",
            "__________________________________________________________________________________________________\n",
            "prune_low_magnitude_pool_2 (Pru (None, 12, 10, 40)   1           prune_low_magnitude_conv_2[0][0] \n",
            "__________________________________________________________________________________________________\n",
            "prune_low_magnitude_conv_3 (Pru (None, 10, 8, 60)    43262       prune_low_magnitude_pool_2[0][0] \n",
            "__________________________________________________________________________________________________\n",
            "prune_low_magnitude_pool_3 (Pru (None, 5, 4, 60)     1           prune_low_magnitude_conv_3[0][0] \n",
            "__________________________________________________________________________________________________\n",
            "prune_low_magnitude_conv_4 (Pru (None, 4, 3, 80)     38482       prune_low_magnitude_pool_3[0][0] \n",
            "__________________________________________________________________________________________________\n",
            "prune_low_magnitude_flatten_1 ( (None, 1200)         1           prune_low_magnitude_pool_3[0][0] \n",
            "__________________________________________________________________________________________________\n",
            "prune_low_magnitude_flatten_2 ( (None, 960)          1           prune_low_magnitude_conv_4[0][0] \n",
            "__________________________________________________________________________________________________\n",
            "prune_low_magnitude_fc_1 (Prune (None, 160)          384162      prune_low_magnitude_flatten_1[0][\n",
            "__________________________________________________________________________________________________\n",
            "prune_low_magnitude_fc_2 (Prune (None, 160)          307362      prune_low_magnitude_flatten_2[0][\n",
            "__________________________________________________________________________________________________\n",
            "prune_low_magnitude_add_1 (Prun (None, 160)          1           prune_low_magnitude_fc_1[0][0]   \n",
            "                                                                 prune_low_magnitude_fc_2[0][0]   \n",
            "__________________________________________________________________________________________________\n",
            "prune_low_magnitude_activation_ (None, 160)          1           prune_low_magnitude_add_1[0][0]  \n",
            "__________________________________________________________________________________________________\n",
            "prune_low_magnitude_output (Pru (None, 1283)         411845      prune_low_magnitude_activation_1[\n",
            "==================================================================================================\n",
            "Total params: 1,201,504\n",
            "Trainable params: 601,643\n",
            "Non-trainable params: 599,861\n",
            "__________________________________________________________________________________________________\n",
            "model  2 :\n",
            "Model: \"model_1\"\n",
            "__________________________________________________________________________________________________\n",
            "Layer (type)                    Output Shape         Param #     Connected to                     \n",
            "==================================================================================================\n",
            "input (InputLayer)              [(None, 55, 47, 3)]  0                                            \n",
            "__________________________________________________________________________________________________\n",
            "prune_low_magnitude_conv_1 (Pru (None, 52, 44, 20)   1942        input[0][0]                      \n",
            "__________________________________________________________________________________________________\n",
            "prune_low_magnitude_pool_1 (Pru (None, 26, 22, 20)   1           prune_low_magnitude_conv_1[0][0] \n",
            "__________________________________________________________________________________________________\n",
            "prune_low_magnitude_conv_2 (Pru (None, 24, 20, 40)   14442       prune_low_magnitude_pool_1[0][0] \n",
            "__________________________________________________________________________________________________\n",
            "prune_low_magnitude_pool_2 (Pru (None, 12, 10, 40)   1           prune_low_magnitude_conv_2[0][0] \n",
            "__________________________________________________________________________________________________\n",
            "prune_low_magnitude_conv_3 (Pru (None, 10, 8, 60)    43262       prune_low_magnitude_pool_2[0][0] \n",
            "__________________________________________________________________________________________________\n",
            "prune_low_magnitude_pool_3 (Pru (None, 5, 4, 60)     1           prune_low_magnitude_conv_3[0][0] \n",
            "__________________________________________________________________________________________________\n",
            "prune_low_magnitude_conv_4 (Pru (None, 4, 3, 80)     38482       prune_low_magnitude_pool_3[0][0] \n",
            "__________________________________________________________________________________________________\n",
            "prune_low_magnitude_flatten_1 ( (None, 1200)         1           prune_low_magnitude_pool_3[0][0] \n",
            "__________________________________________________________________________________________________\n",
            "prune_low_magnitude_flatten_2 ( (None, 960)          1           prune_low_magnitude_conv_4[0][0] \n",
            "__________________________________________________________________________________________________\n",
            "prune_low_magnitude_fc_1 (Prune (None, 160)          384162      prune_low_magnitude_flatten_1[0][\n",
            "__________________________________________________________________________________________________\n",
            "prune_low_magnitude_fc_2 (Prune (None, 160)          307362      prune_low_magnitude_flatten_2[0][\n",
            "__________________________________________________________________________________________________\n",
            "prune_low_magnitude_add_1 (Prun (None, 160)          1           prune_low_magnitude_fc_1[0][0]   \n",
            "                                                                 prune_low_magnitude_fc_2[0][0]   \n",
            "__________________________________________________________________________________________________\n",
            "prune_low_magnitude_activation_ (None, 160)          1           prune_low_magnitude_add_1[0][0]  \n",
            "__________________________________________________________________________________________________\n",
            "prune_low_magnitude_output (Pru (None, 1283)         411845      prune_low_magnitude_activation_1[\n",
            "==================================================================================================\n",
            "Total params: 1,201,504\n",
            "Trainable params: 601,643\n",
            "Non-trainable params: 599,861\n",
            "__________________________________________________________________________________________________\n"
          ],
          "name": "stdout"
        }
      ]
    },
    {
      "cell_type": "markdown",
      "metadata": {
        "id": "UjycRd8lzlHx"
      },
      "source": [
        "##Fine-tuning"
      ]
    },
    {
      "cell_type": "code",
      "metadata": {
        "colab": {
          "base_uri": "https://localhost:8080/"
        },
        "id": "TGYCEOYxzpcr",
        "outputId": "b11501a6-ac26-4006-fd39-54f746e8542c"
      },
      "source": [
        "repaired_models = []\n",
        "\n",
        "for i, m in enumerate(pruned_models):\n",
        "\n",
        "    model = copy.copy(m)\n",
        "\n",
        "    print(\"Fine-tune model\", i, \": \")\n",
        "    model.compile(optimizer=keras.optimizers.Adam(1e-5),\n",
        "              loss=tf.keras.losses.categorical_crossentropy,\n",
        "              metrics=['accuracy']\n",
        "              )\n",
        "    model.fit(test_clean['data'], yTest,\n",
        "          epochs=10\n",
        "          )\n",
        "    repaired_models.append(model)"
      ],
      "execution_count": 14,
      "outputs": [
        {
          "output_type": "stream",
          "text": [
            "Fine-tune model 0 : \n",
            "Epoch 1/10\n",
            "401/401 [==============================] - 8s 13ms/step - loss: 4.0249 - accuracy: 0.8541\n",
            "Epoch 2/10\n",
            "401/401 [==============================] - 5s 12ms/step - loss: 2.7509 - accuracy: 0.8858\n",
            "Epoch 3/10\n",
            "401/401 [==============================] - 5s 12ms/step - loss: 2.6513 - accuracy: 0.8912\n",
            "Epoch 4/10\n",
            "401/401 [==============================] - 5s 12ms/step - loss: 2.3924 - accuracy: 0.8952\n",
            "Epoch 5/10\n",
            "401/401 [==============================] - 5s 13ms/step - loss: 2.0350 - accuracy: 0.9091\n",
            "Epoch 6/10\n",
            "401/401 [==============================] - 5s 13ms/step - loss: 1.6112 - accuracy: 0.9128\n",
            "Epoch 7/10\n",
            "401/401 [==============================] - 5s 12ms/step - loss: 1.5671 - accuracy: 0.9134\n",
            "Epoch 8/10\n",
            "401/401 [==============================] - 5s 12ms/step - loss: 1.3669 - accuracy: 0.9243\n",
            "Epoch 9/10\n",
            "401/401 [==============================] - 5s 13ms/step - loss: 1.2599 - accuracy: 0.9286\n",
            "Epoch 10/10\n",
            "401/401 [==============================] - 5s 13ms/step - loss: 1.0811 - accuracy: 0.9340\n",
            "Fine-tune model 1 : \n",
            "Epoch 1/10\n",
            "401/401 [==============================] - 8s 14ms/step - loss: 1.4435 - accuracy: 0.8388\n",
            "Epoch 2/10\n",
            "401/401 [==============================] - 5s 13ms/step - loss: 1.0968 - accuracy: 0.8511\n",
            "Epoch 3/10\n",
            "401/401 [==============================] - 5s 13ms/step - loss: 0.9556 - accuracy: 0.8602\n",
            "Epoch 4/10\n",
            "401/401 [==============================] - 5s 13ms/step - loss: 0.8475 - accuracy: 0.8716\n",
            "Epoch 5/10\n",
            "401/401 [==============================] - 5s 13ms/step - loss: 0.7789 - accuracy: 0.8789\n",
            "Epoch 6/10\n",
            "401/401 [==============================] - 5s 13ms/step - loss: 0.7098 - accuracy: 0.8852\n",
            "Epoch 7/10\n",
            "401/401 [==============================] - 5s 13ms/step - loss: 0.7022 - accuracy: 0.8870\n",
            "Epoch 8/10\n",
            "401/401 [==============================] - 5s 13ms/step - loss: 0.6227 - accuracy: 0.9000\n",
            "Epoch 9/10\n",
            "401/401 [==============================] - 5s 12ms/step - loss: 0.5934 - accuracy: 0.9020\n",
            "Epoch 10/10\n",
            "401/401 [==============================] - 5s 12ms/step - loss: 0.5331 - accuracy: 0.9096\n",
            "Fine-tune model 2 : \n",
            "Epoch 1/10\n",
            "401/401 [==============================] - 7s 12ms/step - loss: 5.0934 - accuracy: 0.8554\n",
            "Epoch 2/10\n",
            "401/401 [==============================] - 5s 12ms/step - loss: 4.4187 - accuracy: 0.8688\n",
            "Epoch 3/10\n",
            "401/401 [==============================] - 5s 12ms/step - loss: 3.8691 - accuracy: 0.8802\n",
            "Epoch 4/10\n",
            "401/401 [==============================] - 5s 12ms/step - loss: 3.1751 - accuracy: 0.8942\n",
            "Epoch 5/10\n",
            "401/401 [==============================] - 5s 12ms/step - loss: 2.9298 - accuracy: 0.9047\n",
            "Epoch 6/10\n",
            "401/401 [==============================] - 5s 12ms/step - loss: 2.7387 - accuracy: 0.9085\n",
            "Epoch 7/10\n",
            "401/401 [==============================] - 5s 12ms/step - loss: 2.4303 - accuracy: 0.9159\n",
            "Epoch 8/10\n",
            "401/401 [==============================] - 5s 12ms/step - loss: 2.1885 - accuracy: 0.9179\n",
            "Epoch 9/10\n",
            "401/401 [==============================] - 5s 12ms/step - loss: 2.1105 - accuracy: 0.9223\n",
            "Epoch 10/10\n",
            "401/401 [==============================] - 5s 12ms/step - loss: 2.1170 - accuracy: 0.9257\n"
          ],
          "name": "stdout"
        }
      ]
    },
    {
      "cell_type": "markdown",
      "metadata": {
        "id": "H-3D82TJl3tr"
      },
      "source": [
        "##Validation"
      ]
    },
    {
      "cell_type": "code",
      "metadata": {
        "colab": {
          "base_uri": "https://localhost:8080/"
        },
        "id": "fAFhYNs5l8xS",
        "outputId": "95364334-6a50-4472-8053-c49589b89e07"
      },
      "source": [
        "##Intermediate quick evalution using built-in Keras functions and the poisoned set\n",
        "\n",
        "for i, m in enumerate(repaired_models):\n",
        "    print(\"model\", i, \"Accurcy on clean validation set: \")\n",
        "    m.evaluate(test_clean['data'], yTest) \n",
        "    print(\"model\", i, \"Accurcy on poisoned set: \")\n",
        "    m.evaluate(SG_poisoned['data'], ySG) "
      ],
      "execution_count": 15,
      "outputs": [
        {
          "output_type": "stream",
          "text": [
            "model 0 Accurcy on clean validation set: \n",
            "401/401 [==============================] - 2s 4ms/step - loss: 1.0793 - accuracy: 0.9361\n",
            "model 0 Accurcy on poisoned set: \n",
            "401/401 [==============================] - 2s 4ms/step - loss: 354.9310 - accuracy: 0.0000e+00\n",
            "model 1 Accurcy on clean validation set: \n",
            "401/401 [==============================] - 2s 4ms/step - loss: 0.5236 - accuracy: 0.9143\n",
            "model 1 Accurcy on poisoned set: \n",
            "401/401 [==============================] - 2s 4ms/step - loss: 18.2844 - accuracy: 0.0200\n",
            "model 2 Accurcy on clean validation set: \n",
            "401/401 [==============================] - 2s 4ms/step - loss: 1.7601 - accuracy: 0.9345\n",
            "model 2 Accurcy on poisoned set: \n",
            "401/401 [==============================] - 2s 4ms/step - loss: 729.6129 - accuracy: 0.0000e+00\n"
          ],
          "name": "stdout"
        }
      ]
    }
  ]
}