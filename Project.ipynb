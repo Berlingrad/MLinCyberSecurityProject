{
  "nbformat": 4,
  "nbformat_minor": 0,
  "metadata": {
    "colab": {
      "name": "Project.ipynb",
      "provenance": [],
      "collapsed_sections": [],
      "toc_visible": true,
      "include_colab_link": true
    },
    "kernelspec": {
      "display_name": "Python 3",
      "name": "python3"
    },
    "accelerator": "GPU"
  },
  "cells": [
    {
      "cell_type": "markdown",
      "metadata": {
        "id": "view-in-github",
        "colab_type": "text"
      },
      "source": [
        "<a href=\"https://colab.research.google.com/github/Berlingrad/MLinCyberSecurityProject/blob/XuDevelopment/Project.ipynb\" target=\"_parent\"><img src=\"https://colab.research.google.com/assets/colab-badge.svg\" alt=\"Open In Colab\"/></a>"
      ]
    },
    {
      "cell_type": "markdown",
      "metadata": {
        "id": "HGclO6eUuymx"
      },
      "source": [
        "#DNN Back Door Detector"
      ]
    },
    {
      "cell_type": "markdown",
      "metadata": {
        "id": "UNYtyNsgvHRl"
      },
      "source": [
        "## Preprocessing"
      ]
    },
    {
      "cell_type": "markdown",
      "metadata": {
        "id": "GiqLPbbVLs-w"
      },
      "source": [
        "###Data Download\r\n",
        "Clone the CSAW competition repo and download provided datasets from the Google drive. Downloaded data are moved <code>/content/CSAW-HackML-2020/data</code> directory."
      ]
    },
    {
      "cell_type": "code",
      "metadata": {
        "colab": {
          "base_uri": "https://localhost:8080/"
        },
        "id": "puVie2-guvOg",
        "outputId": "cbac676e-63bf-411a-d44e-4ce2a9088ad6"
      },
      "source": [
        "!git clone https://github.com/csaw-hackml/CSAW-HackML-2020.git\n",
        "\n",
        "!gdown https://drive.google.com/uc?id=1-ay0w_hgTMo6ZNxb7CZhqxWZhkMj1I6Z\n",
        "!gdown https://drive.google.com/uc?id=1A1CnWy2N1gjzWO6ZEUgiQ-LOAMgKvElL\n",
        "!gdown https://drive.google.com/uc?id=1ZH7jMGEKhtmI-K0Jw-oKv843jxs-_kkI\n",
        "!gdown https://drive.google.com/uc?id=1Sw77QLiBn-FuXpPXnas-Gdo3M_aQBD_H\n",
        "\n",
        "!mv /content/*.h5 /content/CSAW-HackML-2020/data\n"
      ],
      "execution_count": 1,
      "outputs": [
        {
          "output_type": "stream",
          "text": [
            "Cloning into 'CSAW-HackML-2020'...\n",
            "remote: Enumerating objects: 23, done.\u001b[K\n",
            "remote: Counting objects: 100% (23/23), done.\u001b[K\n",
            "remote: Compressing objects: 100% (17/17), done.\u001b[K\n",
            "remote: Total 164 (delta 11), reused 18 (delta 6), pack-reused 141\u001b[K\n",
            "Receiving objects: 100% (164/164), 79.56 MiB | 37.05 MiB/s, done.\n",
            "Resolving deltas: 100% (54/54), done.\n",
            "Downloading...\n",
            "From: https://drive.google.com/uc?id=1-ay0w_hgTMo6ZNxb7CZhqxWZhkMj1I6Z\n",
            "To: /content/clean_test_data.h5\n",
            "398MB [00:02, 148MB/s] \n",
            "Downloading...\n",
            "From: https://drive.google.com/uc?id=1A1CnWy2N1gjzWO6ZEUgiQ-LOAMgKvElL\n",
            "To: /content/clean_validation_data.h5\n",
            "716MB [00:03, 199MB/s]\n",
            "Downloading...\n",
            "From: https://drive.google.com/uc?id=1ZH7jMGEKhtmI-K0Jw-oKv843jxs-_kkI\n",
            "To: /content/sunglasses_poisoned_data.h5\n",
            "398MB [00:06, 59.6MB/s]\n",
            "Downloading...\n",
            "From: https://drive.google.com/uc?id=1Sw77QLiBn-FuXpPXnas-Gdo3M_aQBD_H\n",
            "To: /content/anonymous_1_poisoned_data.h5\n",
            "637MB [00:16, 39.2MB/s]\n"
          ],
          "name": "stdout"
        }
      ]
    },
    {
      "cell_type": "code",
      "metadata": {
        "colab": {
          "base_uri": "https://localhost:8080/"
        },
        "id": "C1skH0vBC7pl",
        "outputId": "742ce074-4592-42d1-9fca-8ed014d284d7"
      },
      "source": [
        "import os\n",
        "import gdown\n",
        "import numpy as np\n",
        "import random\n",
        "import h5py\n",
        "import glob2\n",
        "import tempfile\n",
        "import copy\n",
        "\n",
        "import keras\n",
        "import tensorflow as tf\n",
        "from keras.models import load_model\n",
        "from keras.preprocessing.image import ImageDataGenerator\n",
        "!pip install -q tensorflow-model-optimization\n",
        "import tensorflow_model_optimization as tfmot\n",
        "\n",
        "##check\n",
        "if not tf.config.experimental.list_physical_devices('GPU'):\n",
        "    raise Exception(\"Please change runtime type to GPU\")"
      ],
      "execution_count": 2,
      "outputs": [
        {
          "output_type": "stream",
          "text": [
            "\u001b[?25l\r\u001b[K     |██                              | 10kB 29.5MB/s eta 0:00:01\r\u001b[K     |███▉                            | 20kB 21.3MB/s eta 0:00:01\r\u001b[K     |█████▊                          | 30kB 12.0MB/s eta 0:00:01\r\u001b[K     |███████▋                        | 40kB 10.0MB/s eta 0:00:01\r\u001b[K     |█████████▌                      | 51kB 5.3MB/s eta 0:00:01\r\u001b[K     |███████████▍                    | 61kB 5.9MB/s eta 0:00:01\r\u001b[K     |█████████████▎                  | 71kB 6.3MB/s eta 0:00:01\r\u001b[K     |███████████████▏                | 81kB 6.8MB/s eta 0:00:01\r\u001b[K     |█████████████████               | 92kB 6.5MB/s eta 0:00:01\r\u001b[K     |███████████████████             | 102kB 5.2MB/s eta 0:00:01\r\u001b[K     |████████████████████▉           | 112kB 5.2MB/s eta 0:00:01\r\u001b[K     |██████████████████████▊         | 122kB 5.2MB/s eta 0:00:01\r\u001b[K     |████████████████████████▊       | 133kB 5.2MB/s eta 0:00:01\r\u001b[K     |██████████████████████████▋     | 143kB 5.2MB/s eta 0:00:01\r\u001b[K     |████████████████████████████▌   | 153kB 5.2MB/s eta 0:00:01\r\u001b[K     |██████████████████████████████▍ | 163kB 5.2MB/s eta 0:00:01\r\u001b[K     |████████████████████████████████| 174kB 5.2MB/s \n",
            "\u001b[?25h"
          ],
          "name": "stdout"
        }
      ]
    },
    {
      "cell_type": "markdown",
      "metadata": {
        "id": "gmVSVEk9kTs4"
      },
      "source": [
        "Functions for loading and decompresssing data and models from h5 format. If you added a dataset, simply run load_dataset with the path to the h5"
      ]
    },
    {
      "cell_type": "code",
      "metadata": {
        "id": "yPkj0u-5F2Be"
      },
      "source": [
        "def load_dataset(data_filename, keys=None):\n",
        "    dataset = {}\n",
        "    nClass = 1283\n",
        "    with h5py.File(data_filename, 'r') as hf:\n",
        "        if keys is None:\n",
        "            for name in hf:\n",
        "                dataset[name] = np.array(hf.get(name))\n",
        "        else:\n",
        "            for name in keys:\n",
        "                dataset[name] = np.array(hf.get(name))\n",
        "        dataset['data'] /= 255\n",
        "\n",
        "        y = np.zeros((dataset['label'].shape[0], nClass))\n",
        "\n",
        "        for i in range(dataset['label'].shape[0]):\n",
        "            y[i][int(dataset['label'][i])] = 1\n",
        "\n",
        "        dataset['data'] = dataset['data'].transpose((0,2,3,1))\n",
        "        dataset['label'] = y\n",
        "        x = dataset['data']\n",
        "\n",
        "    return x, y, dataset\n",
        "\n",
        "def load_models(model_dir):\n",
        "    models = []\n",
        "    names = {}\n",
        "\n",
        "    for i, net in enumerate(glob2.glob(\"/content/CSAW-HackML-2020/models/*net.h5\")):\n",
        "        print(\"loading\", net)\n",
        "        weights = glob2.glob(net.split(\"_\")[0]+\"*weights.h5\")[0]\n",
        "       \n",
        "        m = load_model(net)\n",
        "        m.load_weights(weights)\n",
        "\n",
        "        models.append(m)\n",
        "        \n",
        "        names[i] = os.path.basename(net).split(\".\")[0]\n",
        "    return models, names"
      ],
      "execution_count": 3,
      "outputs": []
    },
    {
      "cell_type": "markdown",
      "metadata": {
        "id": "14Ae9mRxBWyV"
      },
      "source": [
        "###Load Data"
      ]
    },
    {
      "cell_type": "code",
      "metadata": {
        "id": "cNQ8-t0pDYY5"
      },
      "source": [
        "SG_poisoned_path = \"/content/CSAW-HackML-2020/data/sunglasses_poisoned_data.h5\"\n",
        "xSG, ySG, SG_poisoned = load_dataset(SG_poisoned_path)\n",
        "\n",
        "clean_validation_path = \"/content/CSAW-HackML-2020/data/clean_validation_data.h5\"\n",
        "xValid, yValid, valid_clean = load_dataset(clean_validation_path)\n",
        "\n",
        "clean_test_path = \"/content/CSAW-HackML-2020/data/clean_test_data.h5\"\n",
        "xTest, yTest, test_clean = load_dataset(clean_test_path)\n",
        "\n",
        "anon_poisoned_path = \"/content/CSAW-HackML-2020/data/anonymous_1_poisoned_data.h5\"\n",
        "xAnon, yAnon, anon_poisoned = load_dataset(anon_poisoned_path)\n"
      ],
      "execution_count": 4,
      "outputs": []
    },
    {
      "cell_type": "markdown",
      "metadata": {
        "id": "s5VA8NPX67_C"
      },
      "source": [
        "####Mixed final test data\r\n",
        "Mix the sunglass poinsoned images with clean test images from test set to create a final validation set "
      ]
    },
    {
      "cell_type": "code",
      "metadata": {
        "id": "pH_CUYpG7CBG"
      },
      "source": [
        "##TODO\r\n",
        "def mix_dataset(A, B):\r\n",
        "    nSample = A['data'].shape[0] + B['data'].shape[0] \r\n",
        "    offset = A['data'].shape[0]\r\n",
        "    xShape = (nSample, 55, 47, 3)\r\n",
        "    yShape = (nSample, 1283+1)\r\n",
        "    xOut = np.zeros(xShape)\r\n",
        "    yOut = np.zeros(yShape)\r\n",
        "\r\n",
        "    iOut = [i for i in range(nSample)]\r\n",
        "    random.shuffle(iOut)\r\n",
        "\r\n",
        "    for i in iOut:\r\n",
        "        if i >= offset:\r\n",
        "\r\n",
        "            xOut[i] = B['data'][i-offset]\r\n",
        "\r\n",
        "            if np.argmax(B['label'][i-offset]) != 0:\r\n",
        "                yOut[i] = np.append(B['label'][i-offset], [0])\r\n",
        "\r\n",
        "            else:\r\n",
        "                yOut[i][-1] = 0\r\n",
        "            \r\n",
        "        else:\r\n",
        "            xOut[i] = A['data'][i]\r\n",
        "            if np.argmax(A['label'][i]) != 0:\r\n",
        "                yOut[i] = np.append(A['label'][i], [0])\r\n",
        "            else:\r\n",
        "                yOut[i][-1] = 0\r\n",
        "\r\n",
        "    return xOut, yOut "
      ],
      "execution_count": 5,
      "outputs": []
    },
    {
      "cell_type": "code",
      "metadata": {
        "id": "qXEQHDo4iyBs"
      },
      "source": [
        "xSGmixed, ySGmixed = mix_dataset(SG_poisoned, test_clean)"
      ],
      "execution_count": 6,
      "outputs": []
    },
    {
      "cell_type": "markdown",
      "metadata": {
        "id": "yv20HKo1n6at"
      },
      "source": [
        "####Load your own data"
      ]
    },
    {
      "cell_type": "code",
      "metadata": {
        "id": "fj5yW6ifle6K"
      },
      "source": [
        "##Path_to_your_data = \r\n",
        "##yourX, yourY, yourDataset = load_dataset(Path_to_your_data)"
      ],
      "execution_count": 7,
      "outputs": []
    },
    {
      "cell_type": "markdown",
      "metadata": {
        "id": "khtwl8GCIYku"
      },
      "source": [
        "###Load Models\r\n",
        "Load all Badnet models under <code>/content/CSAW-HackML-2020/models</code> directory. "
      ]
    },
    {
      "cell_type": "code",
      "metadata": {
        "colab": {
          "base_uri": "https://localhost:8080/"
        },
        "id": "hqfW9ZeHJGF4",
        "outputId": "ef23d76d-0c1b-48cf-b108-f652838ff5d5"
      },
      "source": [
        "\n",
        "model_dir = \"/content/CSAW-HackML-2020/models\"\n",
        "\n",
        "models, model_names = load_models(model_dir)\n",
        "\n",
        "model_names.values()\n"
      ],
      "execution_count": 8,
      "outputs": [
        {
          "output_type": "stream",
          "text": [
            "loading /content/CSAW-HackML-2020/models/anonymous_1_bd_net.h5\n",
            "loading /content/CSAW-HackML-2020/models/multi_trigger_multi_target_bd_net.h5\n",
            "loading /content/CSAW-HackML-2020/models/sunglasses_bd_net.h5\n",
            "loading /content/CSAW-HackML-2020/models/anonymous_2_bd_net.h5\n"
          ],
          "name": "stdout"
        },
        {
          "output_type": "execute_result",
          "data": {
            "text/plain": [
              "dict_values(['anonymous_1_bd_net', 'multi_trigger_multi_target_bd_net', 'sunglasses_bd_net', 'anonymous_2_bd_net'])"
            ]
          },
          "metadata": {
            "tags": []
          },
          "execution_count": 8
        }
      ]
    },
    {
      "cell_type": "markdown",
      "metadata": {
        "id": "mzKRM8bg8Om1"
      },
      "source": [
        "### Model Summary"
      ]
    },
    {
      "cell_type": "code",
      "metadata": {
        "colab": {
          "base_uri": "https://localhost:8080/"
        },
        "id": "oT6zOYgL8Nmk",
        "outputId": "22ed6769-a7cd-4d2f-8d8a-ae5e92fb8659"
      },
      "source": [
        "##TODO\n",
        "for i, model in enumerate(models):\n",
        "    print(\"model \", i, \":\")\n",
        "    model.summary()\n",
        "\n",
        "     "
      ],
      "execution_count": 9,
      "outputs": [
        {
          "output_type": "stream",
          "text": [
            "model  0 :\n",
            "Model: \"model_1\"\n",
            "__________________________________________________________________________________________________\n",
            "Layer (type)                    Output Shape         Param #     Connected to                     \n",
            "==================================================================================================\n",
            "input (InputLayer)              [(None, 55, 47, 3)]  0                                            \n",
            "__________________________________________________________________________________________________\n",
            "conv_1 (Conv2D)                 (None, 52, 44, 20)   980         input[0][0]                      \n",
            "__________________________________________________________________________________________________\n",
            "pool_1 (MaxPooling2D)           (None, 26, 22, 20)   0           conv_1[0][0]                     \n",
            "__________________________________________________________________________________________________\n",
            "conv_2 (Conv2D)                 (None, 24, 20, 40)   7240        pool_1[0][0]                     \n",
            "__________________________________________________________________________________________________\n",
            "pool_2 (MaxPooling2D)           (None, 12, 10, 40)   0           conv_2[0][0]                     \n",
            "__________________________________________________________________________________________________\n",
            "conv_3 (Conv2D)                 (None, 10, 8, 60)    21660       pool_2[0][0]                     \n",
            "__________________________________________________________________________________________________\n",
            "pool_3 (MaxPooling2D)           (None, 5, 4, 60)     0           conv_3[0][0]                     \n",
            "__________________________________________________________________________________________________\n",
            "conv_4 (Conv2D)                 (None, 4, 3, 80)     19280       pool_3[0][0]                     \n",
            "__________________________________________________________________________________________________\n",
            "flatten_1 (Flatten)             (None, 1200)         0           pool_3[0][0]                     \n",
            "__________________________________________________________________________________________________\n",
            "flatten_2 (Flatten)             (None, 960)          0           conv_4[0][0]                     \n",
            "__________________________________________________________________________________________________\n",
            "fc_1 (Dense)                    (None, 160)          192160      flatten_1[0][0]                  \n",
            "__________________________________________________________________________________________________\n",
            "fc_2 (Dense)                    (None, 160)          153760      flatten_2[0][0]                  \n",
            "__________________________________________________________________________________________________\n",
            "add_1 (Add)                     (None, 160)          0           fc_1[0][0]                       \n",
            "                                                                 fc_2[0][0]                       \n",
            "__________________________________________________________________________________________________\n",
            "activation_1 (Activation)       (None, 160)          0           add_1[0][0]                      \n",
            "__________________________________________________________________________________________________\n",
            "output (Dense)                  (None, 1283)         206563      activation_1[0][0]               \n",
            "==================================================================================================\n",
            "Total params: 601,643\n",
            "Trainable params: 601,643\n",
            "Non-trainable params: 0\n",
            "__________________________________________________________________________________________________\n",
            "model  1 :\n",
            "Model: \"model_1\"\n",
            "__________________________________________________________________________________________________\n",
            "Layer (type)                    Output Shape         Param #     Connected to                     \n",
            "==================================================================================================\n",
            "input (InputLayer)              [(None, 55, 47, 3)]  0                                            \n",
            "__________________________________________________________________________________________________\n",
            "conv_1 (Conv2D)                 (None, 52, 44, 20)   980         input[0][0]                      \n",
            "__________________________________________________________________________________________________\n",
            "pool_1 (MaxPooling2D)           (None, 26, 22, 20)   0           conv_1[0][0]                     \n",
            "__________________________________________________________________________________________________\n",
            "conv_2 (Conv2D)                 (None, 24, 20, 40)   7240        pool_1[0][0]                     \n",
            "__________________________________________________________________________________________________\n",
            "pool_2 (MaxPooling2D)           (None, 12, 10, 40)   0           conv_2[0][0]                     \n",
            "__________________________________________________________________________________________________\n",
            "conv_3 (Conv2D)                 (None, 10, 8, 60)    21660       pool_2[0][0]                     \n",
            "__________________________________________________________________________________________________\n",
            "pool_3 (MaxPooling2D)           (None, 5, 4, 60)     0           conv_3[0][0]                     \n",
            "__________________________________________________________________________________________________\n",
            "conv_4 (Conv2D)                 (None, 4, 3, 80)     19280       pool_3[0][0]                     \n",
            "__________________________________________________________________________________________________\n",
            "flatten_1 (Flatten)             (None, 1200)         0           pool_3[0][0]                     \n",
            "__________________________________________________________________________________________________\n",
            "flatten_2 (Flatten)             (None, 960)          0           conv_4[0][0]                     \n",
            "__________________________________________________________________________________________________\n",
            "fc_1 (Dense)                    (None, 160)          192160      flatten_1[0][0]                  \n",
            "__________________________________________________________________________________________________\n",
            "fc_2 (Dense)                    (None, 160)          153760      flatten_2[0][0]                  \n",
            "__________________________________________________________________________________________________\n",
            "add_1 (Add)                     (None, 160)          0           fc_1[0][0]                       \n",
            "                                                                 fc_2[0][0]                       \n",
            "__________________________________________________________________________________________________\n",
            "activation_1 (Activation)       (None, 160)          0           add_1[0][0]                      \n",
            "__________________________________________________________________________________________________\n",
            "output (Dense)                  (None, 1283)         206563      activation_1[0][0]               \n",
            "==================================================================================================\n",
            "Total params: 601,643\n",
            "Trainable params: 601,643\n",
            "Non-trainable params: 0\n",
            "__________________________________________________________________________________________________\n",
            "model  2 :\n",
            "Model: \"model_1\"\n",
            "__________________________________________________________________________________________________\n",
            "Layer (type)                    Output Shape         Param #     Connected to                     \n",
            "==================================================================================================\n",
            "input (InputLayer)              [(None, 55, 47, 3)]  0                                            \n",
            "__________________________________________________________________________________________________\n",
            "conv_1 (Conv2D)                 (None, 52, 44, 20)   980         input[0][0]                      \n",
            "__________________________________________________________________________________________________\n",
            "pool_1 (MaxPooling2D)           (None, 26, 22, 20)   0           conv_1[0][0]                     \n",
            "__________________________________________________________________________________________________\n",
            "conv_2 (Conv2D)                 (None, 24, 20, 40)   7240        pool_1[0][0]                     \n",
            "__________________________________________________________________________________________________\n",
            "pool_2 (MaxPooling2D)           (None, 12, 10, 40)   0           conv_2[0][0]                     \n",
            "__________________________________________________________________________________________________\n",
            "conv_3 (Conv2D)                 (None, 10, 8, 60)    21660       pool_2[0][0]                     \n",
            "__________________________________________________________________________________________________\n",
            "pool_3 (MaxPooling2D)           (None, 5, 4, 60)     0           conv_3[0][0]                     \n",
            "__________________________________________________________________________________________________\n",
            "conv_4 (Conv2D)                 (None, 4, 3, 80)     19280       pool_3[0][0]                     \n",
            "__________________________________________________________________________________________________\n",
            "flatten_1 (Flatten)             (None, 1200)         0           pool_3[0][0]                     \n",
            "__________________________________________________________________________________________________\n",
            "flatten_2 (Flatten)             (None, 960)          0           conv_4[0][0]                     \n",
            "__________________________________________________________________________________________________\n",
            "fc_1 (Dense)                    (None, 160)          192160      flatten_1[0][0]                  \n",
            "__________________________________________________________________________________________________\n",
            "fc_2 (Dense)                    (None, 160)          153760      flatten_2[0][0]                  \n",
            "__________________________________________________________________________________________________\n",
            "add_1 (Add)                     (None, 160)          0           fc_1[0][0]                       \n",
            "                                                                 fc_2[0][0]                       \n",
            "__________________________________________________________________________________________________\n",
            "activation_1 (Activation)       (None, 160)          0           add_1[0][0]                      \n",
            "__________________________________________________________________________________________________\n",
            "output (Dense)                  (None, 1283)         206563      activation_1[0][0]               \n",
            "==================================================================================================\n",
            "Total params: 601,643\n",
            "Trainable params: 601,643\n",
            "Non-trainable params: 0\n",
            "__________________________________________________________________________________________________\n",
            "model  3 :\n",
            "Model: \"model_1\"\n",
            "__________________________________________________________________________________________________\n",
            "Layer (type)                    Output Shape         Param #     Connected to                     \n",
            "==================================================================================================\n",
            "input (InputLayer)              [(None, 55, 47, 3)]  0                                            \n",
            "__________________________________________________________________________________________________\n",
            "conv_1 (Conv2D)                 (None, 52, 44, 20)   980         input[0][0]                      \n",
            "__________________________________________________________________________________________________\n",
            "pool_1 (MaxPooling2D)           (None, 26, 22, 20)   0           conv_1[0][0]                     \n",
            "__________________________________________________________________________________________________\n",
            "conv_2 (Conv2D)                 (None, 24, 20, 40)   7240        pool_1[0][0]                     \n",
            "__________________________________________________________________________________________________\n",
            "pool_2 (MaxPooling2D)           (None, 12, 10, 40)   0           conv_2[0][0]                     \n",
            "__________________________________________________________________________________________________\n",
            "conv_3 (Conv2D)                 (None, 10, 8, 60)    21660       pool_2[0][0]                     \n",
            "__________________________________________________________________________________________________\n",
            "pool_3 (MaxPooling2D)           (None, 5, 4, 60)     0           conv_3[0][0]                     \n",
            "__________________________________________________________________________________________________\n",
            "conv_4 (Conv2D)                 (None, 4, 3, 80)     19280       pool_3[0][0]                     \n",
            "__________________________________________________________________________________________________\n",
            "flatten_1 (Flatten)             (None, 1200)         0           pool_3[0][0]                     \n",
            "__________________________________________________________________________________________________\n",
            "flatten_2 (Flatten)             (None, 960)          0           conv_4[0][0]                     \n",
            "__________________________________________________________________________________________________\n",
            "fc_1 (Dense)                    (None, 160)          192160      flatten_1[0][0]                  \n",
            "__________________________________________________________________________________________________\n",
            "fc_2 (Dense)                    (None, 160)          153760      flatten_2[0][0]                  \n",
            "__________________________________________________________________________________________________\n",
            "add_1 (Add)                     (None, 160)          0           fc_1[0][0]                       \n",
            "                                                                 fc_2[0][0]                       \n",
            "__________________________________________________________________________________________________\n",
            "activation_1 (Activation)       (None, 160)          0           add_1[0][0]                      \n",
            "__________________________________________________________________________________________________\n",
            "output (Dense)                  (None, 1283)         206563      activation_1[0][0]               \n",
            "==================================================================================================\n",
            "Total params: 601,643\n",
            "Trainable params: 601,643\n",
            "Non-trainable params: 0\n",
            "__________________________________________________________________________________________________\n"
          ],
          "name": "stdout"
        }
      ]
    },
    {
      "cell_type": "code",
      "metadata": {
        "id": "ktTaXUpx1xNw"
      },
      "source": [
        "def validate_model(y, y_hat):\r\n",
        "    ##compute model accuracy based vectorized output\r\n",
        "    n = 0\r\n",
        "    for i, v in enumerate(y):\r\n",
        "        correct = 1 if np.argmax(v) == np.argmax(y_hat[i]) else 0\r\n",
        "        n+= correct \r\n",
        "    return n/(i + 1)\r\n",
        "    \r\n",
        "    "
      ],
      "execution_count": 10,
      "outputs": []
    },
    {
      "cell_type": "markdown",
      "metadata": {
        "id": "j5254HZpCQ10"
      },
      "source": [
        "####Evaluate loaded models on poisoned data.\r\n",
        "\r\n",
        " Note poisoned data will not involved in the repairing process. We are evaluating it to set baselines, Later we will use the results to validate our method "
      ]
    },
    {
      "cell_type": "code",
      "metadata": {
        "id": "Y0qHGnYtB39O",
        "colab": {
          "base_uri": "https://localhost:8080/"
        },
        "outputId": "3d111686-87dc-4b76-9754-8659df9ba165"
      },
      "source": [
        "for i, m in enumerate(models):\r\n",
        "    predClean = m.predict(xTest)\r\n",
        "    predSG = m.predict(xSG)\r\n",
        "    predAnon = m.predict(xAnon)\r\n",
        "    print(\"badnet\", model_names[i], \"accuracy on clean test set: \", validate_model(predClean, yTest))\r\n",
        "    print(\"badnet\", model_names[i], \"accuracy on sunglass poisoned set: \", validate_model(predSG, ySG))\r\n",
        "    print(\"badnet\", model_names[i], \"accuracy on anonumous poisoned set: \", validate_model(predAnon, yAnon))"
      ],
      "execution_count": 11,
      "outputs": [
        {
          "output_type": "stream",
          "text": [
            "badnet anonymous_1_bd_net accuracy on clean test set:  0.971862821512081\n",
            "badnet anonymous_1_bd_net accuracy on sunglass poisoned set:  0.0\n",
            "badnet anonymous_1_bd_net accuracy on anonumous poisoned set:  0.913971161340608\n",
            "badnet multi_trigger_multi_target_bd_net accuracy on clean test set:  0.9600935307872175\n",
            "badnet multi_trigger_multi_target_bd_net accuracy on sunglass poisoned set:  0.0\n",
            "badnet multi_trigger_multi_target_bd_net accuracy on anonumous poisoned set:  0.0\n",
            "badnet sunglasses_bd_net accuracy on clean test set:  0.9777864380358535\n",
            "badnet sunglasses_bd_net accuracy on sunglass poisoned set:  0.9999220576773188\n",
            "badnet sunglasses_bd_net accuracy on anonumous poisoned set:  0.0010717069368667187\n",
            "badnet anonymous_2_bd_net accuracy on clean test set:  0.971862821512081\n",
            "badnet anonymous_2_bd_net accuracy on sunglass poisoned set:  0.0\n",
            "badnet anonymous_2_bd_net accuracy on anonumous poisoned set:  0.913971161340608\n"
          ],
          "name": "stdout"
        }
      ]
    },
    {
      "cell_type": "markdown",
      "metadata": {
        "id": "E4684QCsOVcw"
      },
      "source": [
        "###Save pre-repaired results\r\n",
        "For later poisoned image detection."
      ]
    },
    {
      "cell_type": "code",
      "metadata": {
        "colab": {
          "base_uri": "https://localhost:8080/",
          "height": 35
        },
        "id": "EniU0Pd6OHFB",
        "outputId": "cf71299a-3c52-4356-c646-7cdcc1292058"
      },
      "source": [
        "preds_preprocessed = [] ##test result of the badnets before repair\r\n",
        "\r\n",
        "for i, m in enumerate(models):\r\n",
        "    if \"sunglasses\" in model_names[i].lower(): ##only save output from sunglasses backdoored model to save RAM \r\n",
        "        pred = m.predict(xSGmixed)\r\n",
        "        preds_preprocessed.append(pred)\r\n",
        "\r\n",
        "    ##print(model_names[i], \"accuracy on the clean testset before repairing: \", validate_model(yTest, pred))\r\n",
        "'''\r\n",
        "for m in models:\r\n",
        "    pred = m.predict(xSG)\r\n",
        "    print(validate_model(ySG, pred))\r\n",
        "''' "
      ],
      "execution_count": 12,
      "outputs": [
        {
          "output_type": "execute_result",
          "data": {
            "application/vnd.google.colaboratory.intrinsic+json": {
              "type": "string"
            },
            "text/plain": [
              "'\\nfor m in models:\\n    pred = m.predict(xSG)\\n    print(validate_model(ySG, pred))\\n'"
            ]
          },
          "metadata": {
            "tags": []
          },
          "execution_count": 12
        }
      ]
    },
    {
      "cell_type": "markdown",
      "metadata": {
        "id": "9EiLz-FrAE6U"
      },
      "source": [
        "##Pruning\r\n",
        "\r\n",
        "Iteratively prune the each base badnet models 3 times with <code>prune_low_magenitue</code> in Keras. The clean Validation set is used for fit. Pruned nets are saved in list <code>pruned_models</code>"
      ]
    },
    {
      "cell_type": "code",
      "metadata": {
        "colab": {
          "base_uri": "https://localhost:8080/"
        },
        "id": "jsOlCu-oAbkR",
        "outputId": "04dc2513-1fd4-40b1-db48-640c835ad181"
      },
      "source": [
        "\n",
        "pruned_models = []\n",
        "for i, base_model in enumerate(models):\n",
        "    for _ in range(3):\n",
        "        model_for_pruning = tfmot.sparsity.keras.prune_low_magnitude(base_model)\n",
        "    \n",
        "        log_dir = tempfile.mkdtemp()\n",
        "        callbacks = [\n",
        "            tfmot.sparsity.keras.UpdatePruningStep(),\n",
        "            tfmot.sparsity.keras.PruningSummaries(log_dir=log_dir)\n",
        "        ]\n",
        "        model_for_pruning.compile(\n",
        "          loss=tf.keras.losses.categorical_crossentropy,\n",
        "          optimizer='adam',\n",
        "          metrics=['accuracy']\n",
        "        )\n",
        "        model_for_pruning.fit(xValid, yValid,\n",
        "                              callbacks=callbacks,\n",
        "                              epochs=3\n",
        "                              )\n",
        "\n",
        "    pruned_models.append(model_for_pruning)"
      ],
      "execution_count": 13,
      "outputs": [
        {
          "output_type": "stream",
          "text": [
            "/usr/local/lib/python3.6/dist-packages/tensorflow/python/keras/engine/base_layer.py:2281: UserWarning: `layer.add_variable` is deprecated and will be removed in a future version. Please use `layer.add_weight` method instead.\n",
            "  warnings.warn('`layer.add_variable` is deprecated and '\n"
          ],
          "name": "stderr"
        },
        {
          "output_type": "stream",
          "text": [
            "Epoch 1/3\n",
            "  3/361 [..............................] - ETA: 37s - loss: 0.2607 - accuracy: 0.9097WARNING:tensorflow:Callback method `on_train_batch_end` is slow compared to the batch time (batch time: 0.0127s vs `on_train_batch_end` time: 0.0288s). Check your callbacks.\n",
            "361/361 [==============================] - 9s 17ms/step - loss: 0.4738 - accuracy: 0.9015\n",
            "Epoch 2/3\n",
            "361/361 [==============================] - 6s 16ms/step - loss: 0.1117 - accuracy: 0.9747\n",
            "Epoch 3/3\n",
            "361/361 [==============================] - 6s 16ms/step - loss: 0.0563 - accuracy: 0.9849\n",
            "Epoch 1/3\n",
            "  6/361 [..............................] - ETA: 25s - loss: 0.0373 - accuracy: 0.9912WARNING:tensorflow:Callback method `on_train_batch_end` is slow compared to the batch time (batch time: 0.0120s vs `on_train_batch_end` time: 0.0451s). Check your callbacks.\n",
            "361/361 [==============================] - 9s 17ms/step - loss: 0.1135 - accuracy: 0.9685\n",
            "Epoch 2/3\n",
            "361/361 [==============================] - 6s 16ms/step - loss: 0.0616 - accuracy: 0.9818\n",
            "Epoch 3/3\n",
            "361/361 [==============================] - 6s 16ms/step - loss: 0.0862 - accuracy: 0.9773\n",
            "Epoch 1/3\n",
            "  6/361 [..............................] - ETA: 24s - loss: 0.0311 - accuracy: 0.9905WARNING:tensorflow:Callback method `on_train_batch_end` is slow compared to the batch time (batch time: 0.0127s vs `on_train_batch_end` time: 0.0436s). Check your callbacks.\n",
            "361/361 [==============================] - 9s 17ms/step - loss: 0.0789 - accuracy: 0.9789\n",
            "Epoch 2/3\n",
            "361/361 [==============================] - 6s 17ms/step - loss: 0.0460 - accuracy: 0.9876\n",
            "Epoch 3/3\n",
            "361/361 [==============================] - 6s 16ms/step - loss: 0.0366 - accuracy: 0.9886\n",
            "Epoch 1/3\n",
            "  3/361 [..............................] - ETA: 58s - loss: 0.2490 - accuracy: 0.9358WARNING:tensorflow:Callback method `on_train_batch_end` is slow compared to the batch time (batch time: 0.0120s vs `on_train_batch_end` time: 0.0489s). Check your callbacks.\n",
            "361/361 [==============================] - 9s 17ms/step - loss: 0.4247 - accuracy: 0.9020\n",
            "Epoch 2/3\n",
            "361/361 [==============================] - 6s 17ms/step - loss: 0.0874 - accuracy: 0.9763\n",
            "Epoch 3/3\n",
            "361/361 [==============================] - 6s 17ms/step - loss: 0.0389 - accuracy: 0.9894\n",
            "Epoch 1/3\n",
            "  6/361 [..............................] - ETA: 24s - loss: 0.0849 - accuracy: 0.9575WARNING:tensorflow:Callback method `on_train_batch_end` is slow compared to the batch time (batch time: 0.0132s vs `on_train_batch_end` time: 0.0426s). Check your callbacks.\n",
            "361/361 [==============================] - 9s 18ms/step - loss: 0.1056 - accuracy: 0.9707\n",
            "Epoch 2/3\n",
            "361/361 [==============================] - 6s 16ms/step - loss: 0.0734 - accuracy: 0.9780\n",
            "Epoch 3/3\n",
            "361/361 [==============================] - 6s 17ms/step - loss: 0.0516 - accuracy: 0.9851\n",
            "Epoch 1/3\n",
            "  3/361 [..............................] - ETA: 1:00 - loss: 0.0359 - accuracy: 0.9913WARNING:tensorflow:Callback method `on_train_batch_end` is slow compared to the batch time (batch time: 0.0120s vs `on_train_batch_end` time: 0.0506s). Check your callbacks.\n",
            "361/361 [==============================] - 9s 18ms/step - loss: 0.0707 - accuracy: 0.9800\n",
            "Epoch 2/3\n",
            "361/361 [==============================] - 6s 17ms/step - loss: 0.0502 - accuracy: 0.9846\n",
            "Epoch 3/3\n",
            "361/361 [==============================] - 6s 17ms/step - loss: 0.0508 - accuracy: 0.9858\n",
            "Epoch 1/3\n",
            "  6/361 [..............................] - ETA: 26s - loss: 0.3808 - accuracy: 0.9030WARNING:tensorflow:Callback method `on_train_batch_end` is slow compared to the batch time (batch time: 0.0119s vs `on_train_batch_end` time: 0.0500s). Check your callbacks.\n",
            "361/361 [==============================] - 9s 18ms/step - loss: 0.8320 - accuracy: 0.8432\n",
            "Epoch 2/3\n",
            "361/361 [==============================] - 6s 18ms/step - loss: 0.1644 - accuracy: 0.9671\n",
            "Epoch 3/3\n",
            "361/361 [==============================] - 6s 17ms/step - loss: 0.1341 - accuracy: 0.9661\n",
            "Epoch 1/3\n",
            "  6/361 [..............................] - ETA: 28s - loss: 0.0457 - accuracy: 0.9849 WARNING:tensorflow:Callback method `on_train_batch_end` is slow compared to the batch time (batch time: 0.0133s vs `on_train_batch_end` time: 0.0522s). Check your callbacks.\n",
            "361/361 [==============================] - 9s 18ms/step - loss: 0.2204 - accuracy: 0.9396\n",
            "Epoch 2/3\n",
            "361/361 [==============================] - 6s 17ms/step - loss: 0.1004 - accuracy: 0.9696\n",
            "Epoch 3/3\n",
            "361/361 [==============================] - 6s 17ms/step - loss: 0.1078 - accuracy: 0.9700\n",
            "Epoch 1/3\n",
            "  6/361 [..............................] - ETA: 24s - loss: 0.1029 - accuracy: 0.9689WARNING:tensorflow:Callback method `on_train_batch_end` is slow compared to the batch time (batch time: 0.0121s vs `on_train_batch_end` time: 0.0444s). Check your callbacks.\n",
            "361/361 [==============================] - 9s 17ms/step - loss: 0.1362 - accuracy: 0.9628\n",
            "Epoch 2/3\n",
            "361/361 [==============================] - 6s 16ms/step - loss: 0.0854 - accuracy: 0.9759\n",
            "Epoch 3/3\n",
            "361/361 [==============================] - 6s 17ms/step - loss: 0.0619 - accuracy: 0.9808\n",
            "Epoch 1/3\n",
            "  6/361 [..............................] - ETA: 25s - loss: 1.0713 - accuracy: 0.8618WARNING:tensorflow:Callback method `on_train_batch_end` is slow compared to the batch time (batch time: 0.0138s vs `on_train_batch_end` time: 0.0460s). Check your callbacks.\n",
            "361/361 [==============================] - 9s 18ms/step - loss: 0.5266 - accuracy: 0.9002\n",
            "Epoch 2/3\n",
            "361/361 [==============================] - 6s 17ms/step - loss: 0.1055 - accuracy: 0.9797\n",
            "Epoch 3/3\n",
            "361/361 [==============================] - 6s 17ms/step - loss: 0.0638 - accuracy: 0.9854\n",
            "Epoch 1/3\n",
            "  6/361 [..............................] - ETA: 27s - loss: 0.0560 - accuracy: 0.9867 WARNING:tensorflow:Callback method `on_train_batch_end` is slow compared to the batch time (batch time: 0.0126s vs `on_train_batch_end` time: 0.0512s). Check your callbacks.\n",
            "361/361 [==============================] - 9s 18ms/step - loss: 0.1287 - accuracy: 0.9642\n",
            "Epoch 2/3\n",
            "361/361 [==============================] - 6s 17ms/step - loss: 0.0796 - accuracy: 0.9757\n",
            "Epoch 3/3\n",
            "361/361 [==============================] - 6s 17ms/step - loss: 0.0483 - accuracy: 0.9856\n",
            "Epoch 1/3\n",
            "  3/361 [..............................] - ETA: 57s - loss: 0.0129 - accuracy: 1.0000WARNING:tensorflow:Callback method `on_train_batch_end` is slow compared to the batch time (batch time: 0.0135s vs `on_train_batch_end` time: 0.0474s). Check your callbacks.\n",
            "361/361 [==============================] - 9s 18ms/step - loss: 0.0767 - accuracy: 0.9788\n",
            "Epoch 2/3\n",
            "361/361 [==============================] - 6s 17ms/step - loss: 0.0663 - accuracy: 0.9793\n",
            "Epoch 3/3\n",
            "361/361 [==============================] - 6s 17ms/step - loss: 0.0447 - accuracy: 0.9868\n"
          ],
          "name": "stdout"
        }
      ]
    },
    {
      "cell_type": "code",
      "metadata": {
        "colab": {
          "base_uri": "https://localhost:8080/"
        },
        "id": "DvWqUKDph_xL",
        "outputId": "888ff279-723a-4ddb-d6ee-5376b07e2535"
      },
      "source": [
        "for i, model in enumerate(pruned_models):\n",
        "    print(\"model \", i, \":\")\n",
        "    model.summary()"
      ],
      "execution_count": 14,
      "outputs": [
        {
          "output_type": "stream",
          "text": [
            "model  0 :\n",
            "Model: \"model_1\"\n",
            "__________________________________________________________________________________________________\n",
            "Layer (type)                    Output Shape         Param #     Connected to                     \n",
            "==================================================================================================\n",
            "input (InputLayer)              [(None, 55, 47, 3)]  0                                            \n",
            "__________________________________________________________________________________________________\n",
            "prune_low_magnitude_conv_1 (Pru (None, 52, 44, 20)   1942        input[0][0]                      \n",
            "__________________________________________________________________________________________________\n",
            "prune_low_magnitude_pool_1 (Pru (None, 26, 22, 20)   1           prune_low_magnitude_conv_1[0][0] \n",
            "__________________________________________________________________________________________________\n",
            "prune_low_magnitude_conv_2 (Pru (None, 24, 20, 40)   14442       prune_low_magnitude_pool_1[0][0] \n",
            "__________________________________________________________________________________________________\n",
            "prune_low_magnitude_pool_2 (Pru (None, 12, 10, 40)   1           prune_low_magnitude_conv_2[0][0] \n",
            "__________________________________________________________________________________________________\n",
            "prune_low_magnitude_conv_3 (Pru (None, 10, 8, 60)    43262       prune_low_magnitude_pool_2[0][0] \n",
            "__________________________________________________________________________________________________\n",
            "prune_low_magnitude_pool_3 (Pru (None, 5, 4, 60)     1           prune_low_magnitude_conv_3[0][0] \n",
            "__________________________________________________________________________________________________\n",
            "prune_low_magnitude_conv_4 (Pru (None, 4, 3, 80)     38482       prune_low_magnitude_pool_3[0][0] \n",
            "__________________________________________________________________________________________________\n",
            "prune_low_magnitude_flatten_1 ( (None, 1200)         1           prune_low_magnitude_pool_3[0][0] \n",
            "__________________________________________________________________________________________________\n",
            "prune_low_magnitude_flatten_2 ( (None, 960)          1           prune_low_magnitude_conv_4[0][0] \n",
            "__________________________________________________________________________________________________\n",
            "prune_low_magnitude_fc_1 (Prune (None, 160)          384162      prune_low_magnitude_flatten_1[0][\n",
            "__________________________________________________________________________________________________\n",
            "prune_low_magnitude_fc_2 (Prune (None, 160)          307362      prune_low_magnitude_flatten_2[0][\n",
            "__________________________________________________________________________________________________\n",
            "prune_low_magnitude_add_1 (Prun (None, 160)          1           prune_low_magnitude_fc_1[0][0]   \n",
            "                                                                 prune_low_magnitude_fc_2[0][0]   \n",
            "__________________________________________________________________________________________________\n",
            "prune_low_magnitude_activation_ (None, 160)          1           prune_low_magnitude_add_1[0][0]  \n",
            "__________________________________________________________________________________________________\n",
            "prune_low_magnitude_output (Pru (None, 1283)         411845      prune_low_magnitude_activation_1[\n",
            "==================================================================================================\n",
            "Total params: 1,201,504\n",
            "Trainable params: 601,643\n",
            "Non-trainable params: 599,861\n",
            "__________________________________________________________________________________________________\n",
            "model  1 :\n",
            "Model: \"model_1\"\n",
            "__________________________________________________________________________________________________\n",
            "Layer (type)                    Output Shape         Param #     Connected to                     \n",
            "==================================================================================================\n",
            "input (InputLayer)              [(None, 55, 47, 3)]  0                                            \n",
            "__________________________________________________________________________________________________\n",
            "prune_low_magnitude_conv_1 (Pru (None, 52, 44, 20)   1942        input[0][0]                      \n",
            "__________________________________________________________________________________________________\n",
            "prune_low_magnitude_pool_1 (Pru (None, 26, 22, 20)   1           prune_low_magnitude_conv_1[0][0] \n",
            "__________________________________________________________________________________________________\n",
            "prune_low_magnitude_conv_2 (Pru (None, 24, 20, 40)   14442       prune_low_magnitude_pool_1[0][0] \n",
            "__________________________________________________________________________________________________\n",
            "prune_low_magnitude_pool_2 (Pru (None, 12, 10, 40)   1           prune_low_magnitude_conv_2[0][0] \n",
            "__________________________________________________________________________________________________\n",
            "prune_low_magnitude_conv_3 (Pru (None, 10, 8, 60)    43262       prune_low_magnitude_pool_2[0][0] \n",
            "__________________________________________________________________________________________________\n",
            "prune_low_magnitude_pool_3 (Pru (None, 5, 4, 60)     1           prune_low_magnitude_conv_3[0][0] \n",
            "__________________________________________________________________________________________________\n",
            "prune_low_magnitude_conv_4 (Pru (None, 4, 3, 80)     38482       prune_low_magnitude_pool_3[0][0] \n",
            "__________________________________________________________________________________________________\n",
            "prune_low_magnitude_flatten_1 ( (None, 1200)         1           prune_low_magnitude_pool_3[0][0] \n",
            "__________________________________________________________________________________________________\n",
            "prune_low_magnitude_flatten_2 ( (None, 960)          1           prune_low_magnitude_conv_4[0][0] \n",
            "__________________________________________________________________________________________________\n",
            "prune_low_magnitude_fc_1 (Prune (None, 160)          384162      prune_low_magnitude_flatten_1[0][\n",
            "__________________________________________________________________________________________________\n",
            "prune_low_magnitude_fc_2 (Prune (None, 160)          307362      prune_low_magnitude_flatten_2[0][\n",
            "__________________________________________________________________________________________________\n",
            "prune_low_magnitude_add_1 (Prun (None, 160)          1           prune_low_magnitude_fc_1[0][0]   \n",
            "                                                                 prune_low_magnitude_fc_2[0][0]   \n",
            "__________________________________________________________________________________________________\n",
            "prune_low_magnitude_activation_ (None, 160)          1           prune_low_magnitude_add_1[0][0]  \n",
            "__________________________________________________________________________________________________\n",
            "prune_low_magnitude_output (Pru (None, 1283)         411845      prune_low_magnitude_activation_1[\n",
            "==================================================================================================\n",
            "Total params: 1,201,504\n",
            "Trainable params: 601,643\n",
            "Non-trainable params: 599,861\n",
            "__________________________________________________________________________________________________\n",
            "model  2 :\n",
            "Model: \"model_1\"\n",
            "__________________________________________________________________________________________________\n",
            "Layer (type)                    Output Shape         Param #     Connected to                     \n",
            "==================================================================================================\n",
            "input (InputLayer)              [(None, 55, 47, 3)]  0                                            \n",
            "__________________________________________________________________________________________________\n",
            "prune_low_magnitude_conv_1 (Pru (None, 52, 44, 20)   1942        input[0][0]                      \n",
            "__________________________________________________________________________________________________\n",
            "prune_low_magnitude_pool_1 (Pru (None, 26, 22, 20)   1           prune_low_magnitude_conv_1[0][0] \n",
            "__________________________________________________________________________________________________\n",
            "prune_low_magnitude_conv_2 (Pru (None, 24, 20, 40)   14442       prune_low_magnitude_pool_1[0][0] \n",
            "__________________________________________________________________________________________________\n",
            "prune_low_magnitude_pool_2 (Pru (None, 12, 10, 40)   1           prune_low_magnitude_conv_2[0][0] \n",
            "__________________________________________________________________________________________________\n",
            "prune_low_magnitude_conv_3 (Pru (None, 10, 8, 60)    43262       prune_low_magnitude_pool_2[0][0] \n",
            "__________________________________________________________________________________________________\n",
            "prune_low_magnitude_pool_3 (Pru (None, 5, 4, 60)     1           prune_low_magnitude_conv_3[0][0] \n",
            "__________________________________________________________________________________________________\n",
            "prune_low_magnitude_conv_4 (Pru (None, 4, 3, 80)     38482       prune_low_magnitude_pool_3[0][0] \n",
            "__________________________________________________________________________________________________\n",
            "prune_low_magnitude_flatten_1 ( (None, 1200)         1           prune_low_magnitude_pool_3[0][0] \n",
            "__________________________________________________________________________________________________\n",
            "prune_low_magnitude_flatten_2 ( (None, 960)          1           prune_low_magnitude_conv_4[0][0] \n",
            "__________________________________________________________________________________________________\n",
            "prune_low_magnitude_fc_1 (Prune (None, 160)          384162      prune_low_magnitude_flatten_1[0][\n",
            "__________________________________________________________________________________________________\n",
            "prune_low_magnitude_fc_2 (Prune (None, 160)          307362      prune_low_magnitude_flatten_2[0][\n",
            "__________________________________________________________________________________________________\n",
            "prune_low_magnitude_add_1 (Prun (None, 160)          1           prune_low_magnitude_fc_1[0][0]   \n",
            "                                                                 prune_low_magnitude_fc_2[0][0]   \n",
            "__________________________________________________________________________________________________\n",
            "prune_low_magnitude_activation_ (None, 160)          1           prune_low_magnitude_add_1[0][0]  \n",
            "__________________________________________________________________________________________________\n",
            "prune_low_magnitude_output (Pru (None, 1283)         411845      prune_low_magnitude_activation_1[\n",
            "==================================================================================================\n",
            "Total params: 1,201,504\n",
            "Trainable params: 601,643\n",
            "Non-trainable params: 599,861\n",
            "__________________________________________________________________________________________________\n",
            "model  3 :\n",
            "Model: \"model_1\"\n",
            "__________________________________________________________________________________________________\n",
            "Layer (type)                    Output Shape         Param #     Connected to                     \n",
            "==================================================================================================\n",
            "input (InputLayer)              [(None, 55, 47, 3)]  0                                            \n",
            "__________________________________________________________________________________________________\n",
            "prune_low_magnitude_conv_1 (Pru (None, 52, 44, 20)   1942        input[0][0]                      \n",
            "__________________________________________________________________________________________________\n",
            "prune_low_magnitude_pool_1 (Pru (None, 26, 22, 20)   1           prune_low_magnitude_conv_1[0][0] \n",
            "__________________________________________________________________________________________________\n",
            "prune_low_magnitude_conv_2 (Pru (None, 24, 20, 40)   14442       prune_low_magnitude_pool_1[0][0] \n",
            "__________________________________________________________________________________________________\n",
            "prune_low_magnitude_pool_2 (Pru (None, 12, 10, 40)   1           prune_low_magnitude_conv_2[0][0] \n",
            "__________________________________________________________________________________________________\n",
            "prune_low_magnitude_conv_3 (Pru (None, 10, 8, 60)    43262       prune_low_magnitude_pool_2[0][0] \n",
            "__________________________________________________________________________________________________\n",
            "prune_low_magnitude_pool_3 (Pru (None, 5, 4, 60)     1           prune_low_magnitude_conv_3[0][0] \n",
            "__________________________________________________________________________________________________\n",
            "prune_low_magnitude_conv_4 (Pru (None, 4, 3, 80)     38482       prune_low_magnitude_pool_3[0][0] \n",
            "__________________________________________________________________________________________________\n",
            "prune_low_magnitude_flatten_1 ( (None, 1200)         1           prune_low_magnitude_pool_3[0][0] \n",
            "__________________________________________________________________________________________________\n",
            "prune_low_magnitude_flatten_2 ( (None, 960)          1           prune_low_magnitude_conv_4[0][0] \n",
            "__________________________________________________________________________________________________\n",
            "prune_low_magnitude_fc_1 (Prune (None, 160)          384162      prune_low_magnitude_flatten_1[0][\n",
            "__________________________________________________________________________________________________\n",
            "prune_low_magnitude_fc_2 (Prune (None, 160)          307362      prune_low_magnitude_flatten_2[0][\n",
            "__________________________________________________________________________________________________\n",
            "prune_low_magnitude_add_1 (Prun (None, 160)          1           prune_low_magnitude_fc_1[0][0]   \n",
            "                                                                 prune_low_magnitude_fc_2[0][0]   \n",
            "__________________________________________________________________________________________________\n",
            "prune_low_magnitude_activation_ (None, 160)          1           prune_low_magnitude_add_1[0][0]  \n",
            "__________________________________________________________________________________________________\n",
            "prune_low_magnitude_output (Pru (None, 1283)         411845      prune_low_magnitude_activation_1[\n",
            "==================================================================================================\n",
            "Total params: 1,201,504\n",
            "Trainable params: 601,643\n",
            "Non-trainable params: 599,861\n",
            "__________________________________________________________________________________________________\n"
          ],
          "name": "stdout"
        }
      ]
    },
    {
      "cell_type": "markdown",
      "metadata": {
        "id": "UjycRd8lzlHx"
      },
      "source": [
        "##Fine-tuning\r\n",
        "Fine-tuning the pruned models with <code>1e-5</code> learning rate in 10 epochs. The clean validation set is used in the training process. Repaired nets are saved in list <code>repaired_models</code>"
      ]
    },
    {
      "cell_type": "code",
      "metadata": {
        "colab": {
          "base_uri": "https://localhost:8080/"
        },
        "id": "TGYCEOYxzpcr",
        "outputId": "360b18fd-4318-4635-e600-7dd477bab512"
      },
      "source": [
        "repaired_models = []\n",
        "\n",
        "for i, m in enumerate(pruned_models):\n",
        "\n",
        "    model = copy.copy(m)\n",
        "\n",
        "    print(\"Fine-tune model\", model_names[i], \": \")\n",
        "    model.compile(optimizer=keras.optimizers.Adam(1e-5),\n",
        "              loss=tf.keras.losses.categorical_crossentropy,\n",
        "              metrics=['accuracy']\n",
        "              )\n",
        "    model.fit(xValid, yValid,\n",
        "          epochs=10\n",
        "          )\n",
        "    repaired_models.append(model)"
      ],
      "execution_count": 15,
      "outputs": [
        {
          "output_type": "stream",
          "text": [
            "Fine-tune model anonymous_1_bd_net : \n",
            "Epoch 1/10\n",
            "361/361 [==============================] - 7s 13ms/step - loss: 0.0849 - accuracy: 0.9767\n",
            "Epoch 2/10\n",
            "361/361 [==============================] - 5s 13ms/step - loss: 0.0448 - accuracy: 0.9874\n",
            "Epoch 3/10\n",
            "361/361 [==============================] - 5s 13ms/step - loss: 0.0247 - accuracy: 0.9918\n",
            "Epoch 4/10\n",
            "361/361 [==============================] - 5s 13ms/step - loss: 0.0258 - accuracy: 0.9928\n",
            "Epoch 5/10\n",
            "361/361 [==============================] - 5s 13ms/step - loss: 0.0147 - accuracy: 0.9962\n",
            "Epoch 6/10\n",
            "361/361 [==============================] - 5s 13ms/step - loss: 0.0111 - accuracy: 0.9976\n",
            "Epoch 7/10\n",
            "361/361 [==============================] - 5s 13ms/step - loss: 0.0084 - accuracy: 0.9981\n",
            "Epoch 8/10\n",
            "361/361 [==============================] - 5s 13ms/step - loss: 0.0058 - accuracy: 0.9989\n",
            "Epoch 9/10\n",
            "361/361 [==============================] - 5s 13ms/step - loss: 0.0047 - accuracy: 0.9995\n",
            "Epoch 10/10\n",
            "361/361 [==============================] - 5s 13ms/step - loss: 0.0050 - accuracy: 0.9991\n",
            "Fine-tune model multi_trigger_multi_target_bd_net : \n",
            "Epoch 1/10\n",
            "361/361 [==============================] - 7s 13ms/step - loss: 0.0398 - accuracy: 0.9883\n",
            "Epoch 2/10\n",
            "361/361 [==============================] - 5s 13ms/step - loss: 0.0301 - accuracy: 0.9928\n",
            "Epoch 3/10\n",
            "361/361 [==============================] - 5s 13ms/step - loss: 0.0184 - accuracy: 0.9959\n",
            "Epoch 4/10\n",
            "361/361 [==============================] - 5s 13ms/step - loss: 0.0115 - accuracy: 0.9975\n",
            "Epoch 5/10\n",
            "361/361 [==============================] - 5s 13ms/step - loss: 0.0082 - accuracy: 0.9986\n",
            "Epoch 6/10\n",
            "361/361 [==============================] - 5s 13ms/step - loss: 0.0074 - accuracy: 0.9985\n",
            "Epoch 7/10\n",
            "361/361 [==============================] - 5s 13ms/step - loss: 0.0048 - accuracy: 0.9990\n",
            "Epoch 8/10\n",
            "361/361 [==============================] - 5s 13ms/step - loss: 0.0038 - accuracy: 0.9995\n",
            "Epoch 9/10\n",
            "361/361 [==============================] - 5s 13ms/step - loss: 0.0035 - accuracy: 0.9995\n",
            "Epoch 10/10\n",
            "361/361 [==============================] - 5s 13ms/step - loss: 0.0024 - accuracy: 0.9996\n",
            "Fine-tune model sunglasses_bd_net : \n",
            "Epoch 1/10\n",
            "361/361 [==============================] - 7s 13ms/step - loss: 0.0448 - accuracy: 0.9865\n",
            "Epoch 2/10\n",
            "361/361 [==============================] - 5s 13ms/step - loss: 0.0251 - accuracy: 0.9922\n",
            "Epoch 3/10\n",
            "361/361 [==============================] - 5s 13ms/step - loss: 0.0180 - accuracy: 0.9940\n",
            "Epoch 4/10\n",
            "361/361 [==============================] - 5s 13ms/step - loss: 0.0104 - accuracy: 0.9978\n",
            "Epoch 5/10\n",
            "361/361 [==============================] - 5s 13ms/step - loss: 0.0087 - accuracy: 0.9985\n",
            "Epoch 6/10\n",
            "361/361 [==============================] - 5s 13ms/step - loss: 0.0064 - accuracy: 0.9985\n",
            "Epoch 7/10\n",
            "361/361 [==============================] - 5s 13ms/step - loss: 0.0055 - accuracy: 0.9986\n",
            "Epoch 8/10\n",
            "361/361 [==============================] - 5s 13ms/step - loss: 0.0046 - accuracy: 0.9988\n",
            "Epoch 9/10\n",
            "361/361 [==============================] - 5s 13ms/step - loss: 0.0036 - accuracy: 0.9991\n",
            "Epoch 10/10\n",
            "361/361 [==============================] - 5s 13ms/step - loss: 0.0027 - accuracy: 0.9995\n",
            "Fine-tune model anonymous_2_bd_net : \n",
            "Epoch 1/10\n",
            "361/361 [==============================] - 7s 13ms/step - loss: 0.0562 - accuracy: 0.9839\n",
            "Epoch 2/10\n",
            "361/361 [==============================] - 5s 13ms/step - loss: 0.0314 - accuracy: 0.9906\n",
            "Epoch 3/10\n",
            "361/361 [==============================] - 5s 13ms/step - loss: 0.0203 - accuracy: 0.9936\n",
            "Epoch 4/10\n",
            "361/361 [==============================] - 5s 13ms/step - loss: 0.0167 - accuracy: 0.9949\n",
            "Epoch 5/10\n",
            "361/361 [==============================] - 5s 13ms/step - loss: 0.0080 - accuracy: 0.9980\n",
            "Epoch 6/10\n",
            "361/361 [==============================] - 5s 13ms/step - loss: 0.0078 - accuracy: 0.9981\n",
            "Epoch 7/10\n",
            "361/361 [==============================] - 5s 13ms/step - loss: 0.0056 - accuracy: 0.9991\n",
            "Epoch 8/10\n",
            "361/361 [==============================] - 5s 13ms/step - loss: 0.0045 - accuracy: 0.9991\n",
            "Epoch 9/10\n",
            "361/361 [==============================] - 5s 13ms/step - loss: 0.0042 - accuracy: 0.9992\n",
            "Epoch 10/10\n",
            "361/361 [==============================] - 5s 13ms/step - loss: 0.0030 - accuracy: 0.9996\n"
          ],
          "name": "stdout"
        }
      ]
    },
    {
      "cell_type": "markdown",
      "metadata": {
        "id": "H-3D82TJl3tr"
      },
      "source": [
        "##Validation"
      ]
    },
    {
      "cell_type": "code",
      "metadata": {
        "colab": {
          "base_uri": "https://localhost:8080/"
        },
        "id": "fAFhYNs5l8xS",
        "outputId": "45da3286-2046-41ee-ec67-eb41a80b2661"
      },
      "source": [
        "##Intermediate quick evalution using built-in Keras functions and the poisoned set\n",
        "\n",
        "for i, m in enumerate(repaired_models):\n",
        "    print(\"Repaired\", model_names[i], \"accuracy on clean test set: \")\n",
        "    m.evaluate(xTest, yTest) \n",
        "    print(\"Repaired\", model_names[i], \"accuracy on sunglass poisoned set: \")\n",
        "    m.evaluate(xSG, ySG)\n",
        "    \n",
        "    print(\"Repaired\", model_names[i], \"accuracy on anonumous poisoned set: \")\n",
        "    m.evaluate(xAnon, yAnon) "
      ],
      "execution_count": 16,
      "outputs": [
        {
          "output_type": "stream",
          "text": [
            "Repaired anonymous_1_bd_net accuracy on clean test set: \n",
            "401/401 [==============================] - 2s 4ms/step - loss: 0.6486 - accuracy: 0.9212\n",
            "Repaired anonymous_1_bd_net accuracy on sunglass poisoned set: \n",
            "401/401 [==============================] - 2s 4ms/step - loss: 62.0128 - accuracy: 0.0000e+00\n",
            "Repaired anonymous_1_bd_net accuracy on anonumous poisoned set: \n",
            "321/321 [==============================] - 1s 4ms/step - loss: 22.8137 - accuracy: 0.0083\n",
            "Repaired multi_trigger_multi_target_bd_net accuracy on clean test set: \n",
            "401/401 [==============================] - 2s 4ms/step - loss: 0.5748 - accuracy: 0.9256\n",
            "Repaired multi_trigger_multi_target_bd_net accuracy on sunglass poisoned set: \n",
            "401/401 [==============================] - 2s 4ms/step - loss: 70.8417 - accuracy: 0.0000e+00\n",
            "Repaired multi_trigger_multi_target_bd_net accuracy on anonumous poisoned set: \n",
            "321/321 [==============================] - 1s 4ms/step - loss: 43.1028 - accuracy: 3.8971e-04\n",
            "Repaired sunglasses_bd_net accuracy on clean test set: \n",
            "401/401 [==============================] - 2s 4ms/step - loss: 0.8805 - accuracy: 0.9050\n",
            "Repaired sunglasses_bd_net accuracy on sunglass poisoned set: \n",
            "401/401 [==============================] - 2s 4ms/step - loss: 18.3294 - accuracy: 0.0267\n",
            "Repaired sunglasses_bd_net accuracy on anonumous poisoned set: \n",
            "321/321 [==============================] - 1s 4ms/step - loss: 42.4420 - accuracy: 8.7685e-04\n",
            "Repaired anonymous_2_bd_net accuracy on clean test set: \n",
            "401/401 [==============================] - 2s 4ms/step - loss: 0.6422 - accuracy: 0.9221\n",
            "Repaired anonymous_2_bd_net accuracy on sunglass poisoned set: \n",
            "401/401 [==============================] - 2s 4ms/step - loss: 70.8949 - accuracy: 0.0000e+00\n",
            "Repaired anonymous_2_bd_net accuracy on anonumous poisoned set: \n",
            "321/321 [==============================] - 1s 4ms/step - loss: 19.6462 - accuracy: 0.0297\n"
          ],
          "name": "stdout"
        }
      ]
    },
    {
      "cell_type": "markdown",
      "metadata": {
        "id": "vk7WSGLhefev"
      },
      "source": [
        "##Final output\r\n",
        "Compare preprocessed results from the bad net and results from repaired nets to output results. The differnt predictions between bad nets and repaired nets are classifed as N+1 class."
      ]
    },
    {
      "cell_type": "code",
      "metadata": {
        "id": "XE9pk0BRxK0M"
      },
      "source": [
        "del xValid\r\n",
        "del yValid"
      ],
      "execution_count": 17,
      "outputs": []
    },
    {
      "cell_type": "code",
      "metadata": {
        "id": "pjAWd90Jejax"
      },
      "source": [
        "def poisoned_detection(afterPreds, prePreds):\r\n",
        "    out = []\r\n",
        "    for i in range(len(afterPreds)):\r\n",
        "        newDimension = list(afterPreds[i].shape)\r\n",
        "        newDimension[1] += 1\r\n",
        "        newArray = np.zeros(newDimension)\r\n",
        "        for j in range(afterPreds[i].shape[0]):\r\n",
        "            a = np.argmax(afterPreds[i][j]) \r\n",
        "            b = np.argmax(prePreds[i][j])\r\n",
        "            \r\n",
        "            if a == b:\r\n",
        "                newArray[j][a] = 1\r\n",
        "            else:\r\n",
        "                newArray[j][-1] = 1\r\n",
        "        out.append(newArray)\r\n",
        "\r\n",
        "    return out"
      ],
      "execution_count": 18,
      "outputs": []
    },
    {
      "cell_type": "code",
      "metadata": {
        "id": "PBwlVUrGvAgQ"
      },
      "source": [
        "preds_repaired = [] ##test result of the badnets after repair\r\n",
        "\r\n",
        "\r\n",
        "for i, m in enumerate(repaired_models):\r\n",
        "    if \"sunglasses\" in model_names[i].lower(): ##only save output from sunglasses backdoored model to save RAM usage \r\n",
        "        pred = m.predict(xSGmixed)\r\n",
        "        preds_repaired.append(pred)\r\n"
      ],
      "execution_count": 27,
      "outputs": []
    },
    {
      "cell_type": "code",
      "metadata": {
        "id": "yRPUQQPwl5OC",
        "colab": {
          "base_uri": "https://localhost:8080/"
        },
        "outputId": "7969a0ed-288c-4a13-bb05-83e2e8a4a922"
      },
      "source": [
        "final_results = poisoned_detection(preds_repaired, preds_preprocessed)\r\n",
        "for r in final_results:\r\n",
        "    print(model_names[i], \"repaired sunglass_bd_net poisoned detection accuracy\", validate_model(ySGmixed, r))\r\n",
        "    "
      ],
      "execution_count": 28,
      "outputs": [
        {
          "output_type": "stream",
          "text": [
            "anonymous_2_bd_net repaired sunglass_bd_net poisoned detection accuracy 0.4618472330475448\n"
          ],
          "name": "stdout"
        }
      ]
    }
  ]
}