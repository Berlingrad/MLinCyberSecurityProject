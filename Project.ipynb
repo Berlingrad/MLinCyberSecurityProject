{
  "nbformat": 4,
  "nbformat_minor": 0,
  "metadata": {
    "colab": {
      "name": "Project.ipynb",
      "provenance": [],
      "collapsed_sections": [],
      "toc_visible": true,
      "include_colab_link": true
    },
    "kernelspec": {
      "name": "python3",
      "display_name": "Python 3"
    },
    "accelerator": "GPU"
  },
  "cells": [
    {
      "cell_type": "markdown",
      "metadata": {
        "id": "view-in-github",
        "colab_type": "text"
      },
      "source": [
        "<a href=\"https://colab.research.google.com/github/Berlingrad/MLinCyberSecurityProject/blob/XuDevelopment/Project.ipynb\" target=\"_parent\"><img src=\"https://colab.research.google.com/assets/colab-badge.svg\" alt=\"Open In Colab\"/></a>"
      ]
    },
    {
      "cell_type": "markdown",
      "metadata": {
        "id": "HGclO6eUuymx"
      },
      "source": [
        "#DNN Back Door Detector"
      ]
    },
    {
      "cell_type": "markdown",
      "metadata": {
        "id": "UNYtyNsgvHRl"
      },
      "source": [
        "## Preprocessing"
      ]
    },
    {
      "cell_type": "markdown",
      "metadata": {
        "id": "GiqLPbbVLs-w"
      },
      "source": [
        "###Data Download"
      ]
    },
    {
      "cell_type": "code",
      "metadata": {
        "colab": {
          "base_uri": "https://localhost:8080/"
        },
        "id": "puVie2-guvOg",
        "outputId": "7fef970c-b47f-44a9-adcd-5155823fe7e6"
      },
      "source": [
        "!git clone https://github.com/csaw-hackml/CSAW-HackML-2020.git\n",
        "\n",
        "!gdown https://drive.google.com/uc?id=1P8PTL62x3cfpV9mrC0unqZjRFhlTTOSG\n",
        "!gdown https://drive.google.com/uc?id=19OKCkY2CjV3ASkOe6nMSYTsOVcxAoCnA\n",
        "!gdown https://drive.google.com/uc?id=1XtYnM-IopU-QYVc99U51EiDvI5zxK0nV\n",
        "\n",
        "!mv /content/*.h5 /content/CSAW-HackML-2020/data\n",
        "\n",
        "##!wget https://raw.githubusercontent.com/bolunwang/backdoor/master/visualizer.py"
      ],
      "execution_count": 1,
      "outputs": [
        {
          "output_type": "stream",
          "text": [
            "Cloning into 'CSAW-HackML-2020'...\n",
            "remote: Enumerating objects: 17, done.\u001b[K\n",
            "remote: Counting objects: 100% (17/17), done.\u001b[K\n",
            "remote: Compressing objects: 100% (11/11), done.\u001b[K\n",
            "remote: Total 158 (delta 7), reused 16 (delta 6), pack-reused 141\u001b[K\n",
            "Receiving objects: 100% (158/158), 79.56 MiB | 37.64 MiB/s, done.\n",
            "Resolving deltas: 100% (50/50), done.\n",
            "Downloading...\n",
            "From: https://drive.google.com/uc?id=1P8PTL62x3cfpV9mrC0unqZjRFhlTTOSG\n",
            "To: /content/sunglasses_poisoned_data.h5\n",
            "398MB [00:03, 115MB/s]\n",
            "Downloading...\n",
            "From: https://drive.google.com/uc?id=19OKCkY2CjV3ASkOe6nMSYTsOVcxAoCnA\n",
            "To: /content/clean_validation_data.h5\n",
            "716MB [00:03, 214MB/s]\n",
            "Downloading...\n",
            "From: https://drive.google.com/uc?id=1XtYnM-IopU-QYVc99U51EiDvI5zxK0nV\n",
            "To: /content/clean_test_data.h5\n",
            "398MB [00:11, 36.0MB/s]\n"
          ],
          "name": "stdout"
        }
      ]
    },
    {
      "cell_type": "code",
      "metadata": {
        "id": "C1skH0vBC7pl",
        "colab": {
          "base_uri": "https://localhost:8080/"
        },
        "outputId": "9782b22f-4812-43db-86c6-daf7af37cf9a"
      },
      "source": [
        "import os\n",
        "import gdown\n",
        "import numpy as np\n",
        "import random\n",
        "import h5py\n",
        "import glob2\n",
        "import tempfile\n",
        "import copy\n",
        "\n",
        "import keras\n",
        "import tensorflow as tf\n",
        "from keras.models import load_model\n",
        "from keras.preprocessing.image import ImageDataGenerator\n",
        "!pip install -q tensorflow-model-optimization\n",
        "import tensorflow_model_optimization as tfmot\n",
        "\n",
        "if not tf.config.experimental.list_physical_devices('GPU'):\n",
        "    raise Exception(\"Please change runtime type to GPU\")\n"
      ],
      "execution_count": 2,
      "outputs": [
        {
          "output_type": "stream",
          "text": [
            "\u001b[?25l\r\u001b[K     |██                              | 10kB 24.5MB/s eta 0:00:01\r\u001b[K     |███▉                            | 20kB 29.8MB/s eta 0:00:01\r\u001b[K     |█████▊                          | 30kB 22.6MB/s eta 0:00:01\r\u001b[K     |███████▋                        | 40kB 20.6MB/s eta 0:00:01\r\u001b[K     |█████████▌                      | 51kB 21.3MB/s eta 0:00:01\r\u001b[K     |███████████▍                    | 61kB 23.3MB/s eta 0:00:01\r\u001b[K     |█████████████▎                  | 71kB 24.7MB/s eta 0:00:01\r\u001b[K     |███████████████▏                | 81kB 26.2MB/s eta 0:00:01\r\u001b[K     |█████████████████               | 92kB 22.6MB/s eta 0:00:01\r\u001b[K     |███████████████████             | 102kB 23.7MB/s eta 0:00:01\r\u001b[K     |████████████████████▉           | 112kB 23.7MB/s eta 0:00:01\r\u001b[K     |██████████████████████▊         | 122kB 23.7MB/s eta 0:00:01\r\u001b[K     |████████████████████████▊       | 133kB 23.7MB/s eta 0:00:01\r\u001b[K     |██████████████████████████▋     | 143kB 23.7MB/s eta 0:00:01\r\u001b[K     |████████████████████████████▌   | 153kB 23.7MB/s eta 0:00:01\r\u001b[K     |██████████████████████████████▍ | 163kB 23.7MB/s eta 0:00:01\r\u001b[K     |████████████████████████████████| 174kB 23.7MB/s \n",
            "\u001b[?25h"
          ],
          "name": "stdout"
        }
      ]
    },
    {
      "cell_type": "code",
      "metadata": {
        "id": "yPkj0u-5F2Be"
      },
      "source": [
        "def load_dataset(data_filename, keys=None):\n",
        "    dataset = {}\n",
        "    with h5py.File(data_filename, 'r') as hf:\n",
        "        if keys is None:\n",
        "            for name in hf:\n",
        "                dataset[name] = np.array(hf.get(name))\n",
        "        else:\n",
        "            for name in keys:\n",
        "                dataset[name] = np.array(hf.get(name))\n",
        "\n",
        "    return dataset\n",
        "\n",
        "def load_models(model_dir):\n",
        "    models = []\n",
        "    names = {}\n",
        "\n",
        "    for i, net in enumerate(glob2.glob(\"/content/CSAW-HackML-2020/models/*net.h5\")):\n",
        "        print(\"loading\", net)\n",
        "        weights = glob2.glob(net.split(\"_\")[0]+\"*weights.h5\")[0]\n",
        "       \n",
        "        m = load_model(net)\n",
        "        m.load_weights(weights)\n",
        "\n",
        "        models.append(m)\n",
        "        \n",
        "        names[i] = os.path.basename(net).split(\".\")[0]\n",
        "    return models, names"
      ],
      "execution_count": 3,
      "outputs": []
    },
    {
      "cell_type": "markdown",
      "metadata": {
        "id": "14Ae9mRxBWyV"
      },
      "source": [
        "###Load Data"
      ]
    },
    {
      "cell_type": "code",
      "metadata": {
        "id": "cNQ8-t0pDYY5",
        "colab": {
          "base_uri": "https://localhost:8080/"
        },
        "outputId": "4753d4b8-a549-43a5-c90c-d1a57ce46564"
      },
      "source": [
        "SG_poisoned_path = \"/content/CSAW-HackML-2020/data/sunglasses_poisoned_data.h5\"\n",
        "SG_poisoned = load_dataset(SG_poisoned_path)\n",
        "\n",
        "clean_validation_path = \"/content/CSAW-HackML-2020/data/clean_validation_data.h5\"\n",
        "valid_clean = load_dataset(clean_validation_path)\n",
        "\n",
        "clean_test_path = \"/content/CSAW-HackML-2020/data/clean_test_data.h5\"\n",
        "test_clean = load_dataset(clean_test_path)\n",
        "\n",
        "SG_poisoned['data'] = SG_poisoned['data'].transpose((0,2,3,1))\n",
        "valid_clean['data'] = valid_clean['data'].transpose((0,2,3,1))\n",
        "test_clean['data'] = test_clean['data'].transpose((0,2,3,1))\n",
        "\n",
        " \n",
        " ##Vectorize label array to fit the model output\n",
        "outLen = 1283 ##Length of output array\n",
        "ySG = np.zeros((SG_poisoned['label'].shape[0], outLen))\n",
        "yValid = np.zeros((valid_clean['label'].shape[0], outLen))\n",
        "yTest = np.zeros((test_clean['label'].shape[0], outLen))\n",
        "\n",
        "print(valid_clean['data'].shape)\n",
        "print(yValid.shape)\n",
        "\n",
        "for i in range(SG_poisoned['label'].shape[0]):\n",
        "    ySG[i][SG_poisoned['label'][i]] = 1\n",
        "\n",
        "for i in range(valid_clean['label'].shape[0]):\n",
        "    yValid[i][int(valid_clean['label'][i])] = 1\n",
        "\n",
        "for i in range(test_clean['label'].shape[0]):\n",
        "    yTest[i][test_clean['label'][i]] = 1\n",
        "\n"
      ],
      "execution_count": 4,
      "outputs": [
        {
          "output_type": "stream",
          "text": [
            "(11547, 55, 47, 3)\n",
            "(11547, 1283)\n"
          ],
          "name": "stdout"
        }
      ]
    },
    {
      "cell_type": "markdown",
      "metadata": {
        "id": "s5VA8NPX67_C"
      },
      "source": [
        "####Mixed final test data\r\n",
        "Mix the sunglass poinsoned images with clean test images from test set to create a final validation set "
      ]
    },
    {
      "cell_type": "code",
      "metadata": {
        "id": "pH_CUYpG7CBG"
      },
      "source": [
        "##TODO"
      ],
      "execution_count": 5,
      "outputs": []
    },
    {
      "cell_type": "markdown",
      "metadata": {
        "id": "khtwl8GCIYku"
      },
      "source": [
        "###Load Models"
      ]
    },
    {
      "cell_type": "code",
      "metadata": {
        "id": "hqfW9ZeHJGF4",
        "colab": {
          "base_uri": "https://localhost:8080/"
        },
        "outputId": "166d4c9b-8ed8-4095-af73-d31e3a26a4c9"
      },
      "source": [
        "\n",
        "model_dir = \"/content/CSAW-HackML-2020/models\"\n",
        "\n",
        "models, model_names = load_models(model_dir)\n",
        "\n",
        "model_names.values()\n"
      ],
      "execution_count": 6,
      "outputs": [
        {
          "output_type": "stream",
          "text": [
            "loading /content/CSAW-HackML-2020/models/anonymous_1_bd_net.h5\n",
            "loading /content/CSAW-HackML-2020/models/anonymous_2_bd_net.h5\n",
            "loading /content/CSAW-HackML-2020/models/sunglasses_bd_net.h5\n",
            "loading /content/CSAW-HackML-2020/models/multi_trigger_multi_target_bd_net.h5\n"
          ],
          "name": "stdout"
        },
        {
          "output_type": "execute_result",
          "data": {
            "text/plain": [
              "dict_values(['anonymous_1_bd_net', 'anonymous_2_bd_net', 'sunglasses_bd_net', 'multi_trigger_multi_target_bd_net'])"
            ]
          },
          "metadata": {
            "tags": []
          },
          "execution_count": 6
        }
      ]
    },
    {
      "cell_type": "markdown",
      "metadata": {
        "id": "mzKRM8bg8Om1"
      },
      "source": [
        "### Model Summary"
      ]
    },
    {
      "cell_type": "code",
      "metadata": {
        "colab": {
          "base_uri": "https://localhost:8080/"
        },
        "id": "oT6zOYgL8Nmk",
        "outputId": "9157cc27-406d-496c-ab9e-779497ea1d4b"
      },
      "source": [
        "##TODO\n",
        "for i, model in enumerate(models):\n",
        "    print(\"model \", i, \":\")\n",
        "    model.summary()\n",
        "\n",
        "     "
      ],
      "execution_count": 7,
      "outputs": [
        {
          "output_type": "stream",
          "text": [
            "model  0 :\n",
            "Model: \"model_1\"\n",
            "__________________________________________________________________________________________________\n",
            "Layer (type)                    Output Shape         Param #     Connected to                     \n",
            "==================================================================================================\n",
            "input (InputLayer)              [(None, 55, 47, 3)]  0                                            \n",
            "__________________________________________________________________________________________________\n",
            "conv_1 (Conv2D)                 (None, 52, 44, 20)   980         input[0][0]                      \n",
            "__________________________________________________________________________________________________\n",
            "pool_1 (MaxPooling2D)           (None, 26, 22, 20)   0           conv_1[0][0]                     \n",
            "__________________________________________________________________________________________________\n",
            "conv_2 (Conv2D)                 (None, 24, 20, 40)   7240        pool_1[0][0]                     \n",
            "__________________________________________________________________________________________________\n",
            "pool_2 (MaxPooling2D)           (None, 12, 10, 40)   0           conv_2[0][0]                     \n",
            "__________________________________________________________________________________________________\n",
            "conv_3 (Conv2D)                 (None, 10, 8, 60)    21660       pool_2[0][0]                     \n",
            "__________________________________________________________________________________________________\n",
            "pool_3 (MaxPooling2D)           (None, 5, 4, 60)     0           conv_3[0][0]                     \n",
            "__________________________________________________________________________________________________\n",
            "conv_4 (Conv2D)                 (None, 4, 3, 80)     19280       pool_3[0][0]                     \n",
            "__________________________________________________________________________________________________\n",
            "flatten_1 (Flatten)             (None, 1200)         0           pool_3[0][0]                     \n",
            "__________________________________________________________________________________________________\n",
            "flatten_2 (Flatten)             (None, 960)          0           conv_4[0][0]                     \n",
            "__________________________________________________________________________________________________\n",
            "fc_1 (Dense)                    (None, 160)          192160      flatten_1[0][0]                  \n",
            "__________________________________________________________________________________________________\n",
            "fc_2 (Dense)                    (None, 160)          153760      flatten_2[0][0]                  \n",
            "__________________________________________________________________________________________________\n",
            "add_1 (Add)                     (None, 160)          0           fc_1[0][0]                       \n",
            "                                                                 fc_2[0][0]                       \n",
            "__________________________________________________________________________________________________\n",
            "activation_1 (Activation)       (None, 160)          0           add_1[0][0]                      \n",
            "__________________________________________________________________________________________________\n",
            "output (Dense)                  (None, 1283)         206563      activation_1[0][0]               \n",
            "==================================================================================================\n",
            "Total params: 601,643\n",
            "Trainable params: 601,643\n",
            "Non-trainable params: 0\n",
            "__________________________________________________________________________________________________\n",
            "model  1 :\n",
            "Model: \"model_1\"\n",
            "__________________________________________________________________________________________________\n",
            "Layer (type)                    Output Shape         Param #     Connected to                     \n",
            "==================================================================================================\n",
            "input (InputLayer)              [(None, 55, 47, 3)]  0                                            \n",
            "__________________________________________________________________________________________________\n",
            "conv_1 (Conv2D)                 (None, 52, 44, 20)   980         input[0][0]                      \n",
            "__________________________________________________________________________________________________\n",
            "pool_1 (MaxPooling2D)           (None, 26, 22, 20)   0           conv_1[0][0]                     \n",
            "__________________________________________________________________________________________________\n",
            "conv_2 (Conv2D)                 (None, 24, 20, 40)   7240        pool_1[0][0]                     \n",
            "__________________________________________________________________________________________________\n",
            "pool_2 (MaxPooling2D)           (None, 12, 10, 40)   0           conv_2[0][0]                     \n",
            "__________________________________________________________________________________________________\n",
            "conv_3 (Conv2D)                 (None, 10, 8, 60)    21660       pool_2[0][0]                     \n",
            "__________________________________________________________________________________________________\n",
            "pool_3 (MaxPooling2D)           (None, 5, 4, 60)     0           conv_3[0][0]                     \n",
            "__________________________________________________________________________________________________\n",
            "conv_4 (Conv2D)                 (None, 4, 3, 80)     19280       pool_3[0][0]                     \n",
            "__________________________________________________________________________________________________\n",
            "flatten_1 (Flatten)             (None, 1200)         0           pool_3[0][0]                     \n",
            "__________________________________________________________________________________________________\n",
            "flatten_2 (Flatten)             (None, 960)          0           conv_4[0][0]                     \n",
            "__________________________________________________________________________________________________\n",
            "fc_1 (Dense)                    (None, 160)          192160      flatten_1[0][0]                  \n",
            "__________________________________________________________________________________________________\n",
            "fc_2 (Dense)                    (None, 160)          153760      flatten_2[0][0]                  \n",
            "__________________________________________________________________________________________________\n",
            "add_1 (Add)                     (None, 160)          0           fc_1[0][0]                       \n",
            "                                                                 fc_2[0][0]                       \n",
            "__________________________________________________________________________________________________\n",
            "activation_1 (Activation)       (None, 160)          0           add_1[0][0]                      \n",
            "__________________________________________________________________________________________________\n",
            "output (Dense)                  (None, 1283)         206563      activation_1[0][0]               \n",
            "==================================================================================================\n",
            "Total params: 601,643\n",
            "Trainable params: 601,643\n",
            "Non-trainable params: 0\n",
            "__________________________________________________________________________________________________\n",
            "model  2 :\n",
            "Model: \"model_1\"\n",
            "__________________________________________________________________________________________________\n",
            "Layer (type)                    Output Shape         Param #     Connected to                     \n",
            "==================================================================================================\n",
            "input (InputLayer)              [(None, 55, 47, 3)]  0                                            \n",
            "__________________________________________________________________________________________________\n",
            "conv_1 (Conv2D)                 (None, 52, 44, 20)   980         input[0][0]                      \n",
            "__________________________________________________________________________________________________\n",
            "pool_1 (MaxPooling2D)           (None, 26, 22, 20)   0           conv_1[0][0]                     \n",
            "__________________________________________________________________________________________________\n",
            "conv_2 (Conv2D)                 (None, 24, 20, 40)   7240        pool_1[0][0]                     \n",
            "__________________________________________________________________________________________________\n",
            "pool_2 (MaxPooling2D)           (None, 12, 10, 40)   0           conv_2[0][0]                     \n",
            "__________________________________________________________________________________________________\n",
            "conv_3 (Conv2D)                 (None, 10, 8, 60)    21660       pool_2[0][0]                     \n",
            "__________________________________________________________________________________________________\n",
            "pool_3 (MaxPooling2D)           (None, 5, 4, 60)     0           conv_3[0][0]                     \n",
            "__________________________________________________________________________________________________\n",
            "conv_4 (Conv2D)                 (None, 4, 3, 80)     19280       pool_3[0][0]                     \n",
            "__________________________________________________________________________________________________\n",
            "flatten_1 (Flatten)             (None, 1200)         0           pool_3[0][0]                     \n",
            "__________________________________________________________________________________________________\n",
            "flatten_2 (Flatten)             (None, 960)          0           conv_4[0][0]                     \n",
            "__________________________________________________________________________________________________\n",
            "fc_1 (Dense)                    (None, 160)          192160      flatten_1[0][0]                  \n",
            "__________________________________________________________________________________________________\n",
            "fc_2 (Dense)                    (None, 160)          153760      flatten_2[0][0]                  \n",
            "__________________________________________________________________________________________________\n",
            "add_1 (Add)                     (None, 160)          0           fc_1[0][0]                       \n",
            "                                                                 fc_2[0][0]                       \n",
            "__________________________________________________________________________________________________\n",
            "activation_1 (Activation)       (None, 160)          0           add_1[0][0]                      \n",
            "__________________________________________________________________________________________________\n",
            "output (Dense)                  (None, 1283)         206563      activation_1[0][0]               \n",
            "==================================================================================================\n",
            "Total params: 601,643\n",
            "Trainable params: 601,643\n",
            "Non-trainable params: 0\n",
            "__________________________________________________________________________________________________\n",
            "model  3 :\n",
            "Model: \"model_1\"\n",
            "__________________________________________________________________________________________________\n",
            "Layer (type)                    Output Shape         Param #     Connected to                     \n",
            "==================================================================================================\n",
            "input (InputLayer)              [(None, 55, 47, 3)]  0                                            \n",
            "__________________________________________________________________________________________________\n",
            "conv_1 (Conv2D)                 (None, 52, 44, 20)   980         input[0][0]                      \n",
            "__________________________________________________________________________________________________\n",
            "pool_1 (MaxPooling2D)           (None, 26, 22, 20)   0           conv_1[0][0]                     \n",
            "__________________________________________________________________________________________________\n",
            "conv_2 (Conv2D)                 (None, 24, 20, 40)   7240        pool_1[0][0]                     \n",
            "__________________________________________________________________________________________________\n",
            "pool_2 (MaxPooling2D)           (None, 12, 10, 40)   0           conv_2[0][0]                     \n",
            "__________________________________________________________________________________________________\n",
            "conv_3 (Conv2D)                 (None, 10, 8, 60)    21660       pool_2[0][0]                     \n",
            "__________________________________________________________________________________________________\n",
            "pool_3 (MaxPooling2D)           (None, 5, 4, 60)     0           conv_3[0][0]                     \n",
            "__________________________________________________________________________________________________\n",
            "conv_4 (Conv2D)                 (None, 4, 3, 80)     19280       pool_3[0][0]                     \n",
            "__________________________________________________________________________________________________\n",
            "flatten_1 (Flatten)             (None, 1200)         0           pool_3[0][0]                     \n",
            "__________________________________________________________________________________________________\n",
            "flatten_2 (Flatten)             (None, 960)          0           conv_4[0][0]                     \n",
            "__________________________________________________________________________________________________\n",
            "fc_1 (Dense)                    (None, 160)          192160      flatten_1[0][0]                  \n",
            "__________________________________________________________________________________________________\n",
            "fc_2 (Dense)                    (None, 160)          153760      flatten_2[0][0]                  \n",
            "__________________________________________________________________________________________________\n",
            "add_1 (Add)                     (None, 160)          0           fc_1[0][0]                       \n",
            "                                                                 fc_2[0][0]                       \n",
            "__________________________________________________________________________________________________\n",
            "activation_1 (Activation)       (None, 160)          0           add_1[0][0]                      \n",
            "__________________________________________________________________________________________________\n",
            "output (Dense)                  (None, 1283)         206563      activation_1[0][0]               \n",
            "==================================================================================================\n",
            "Total params: 601,643\n",
            "Trainable params: 601,643\n",
            "Non-trainable params: 0\n",
            "__________________________________________________________________________________________________\n"
          ],
          "name": "stdout"
        }
      ]
    },
    {
      "cell_type": "code",
      "metadata": {
        "id": "ktTaXUpx1xNw"
      },
      "source": [
        "def validate_model(y, y_hat):\r\n",
        "    ##compute model accuracy based vectorized output\r\n",
        "    n = 0\r\n",
        "    for i, v in enumerate(y):\r\n",
        "        correct = 1 if np.argmax(v) == np.argmax(y_hat[i]) else 0\r\n",
        "        n+= correct \r\n",
        "    return n/(i + 1)\r\n",
        "    \r\n",
        "    "
      ],
      "execution_count": 8,
      "outputs": []
    },
    {
      "cell_type": "markdown",
      "metadata": {
        "id": "E4684QCsOVcw"
      },
      "source": [
        "###Pretrain the models"
      ]
    },
    {
      "cell_type": "code",
      "metadata": {
        "colab": {
          "base_uri": "https://localhost:8080/"
        },
        "id": "N4eIKJKy0Ee9",
        "outputId": "cef8463a-7cb4-4306-9ed4-6a0999575ad3"
      },
      "source": [
        "for m in models:\r\n",
        "    pred = m.predict(test_clean['data'])\r\n",
        "    print(validate_model(yTest, pred))\r\n",
        "\r\n",
        "for m in models:\r\n",
        "    pred = m.predict(SG_poisoned['data'])\r\n",
        "    print(validate_model(ySG, pred))\r\n",
        "\r\n"
      ],
      "execution_count": 9,
      "outputs": [
        {
          "output_type": "stream",
          "text": [
            "0.6763055339049103\n",
            "0.6763055339049103\n",
            "0.42361652377240844\n",
            "0.4319563522992985\n",
            "0.0\n",
            "0.0\n",
            "0.9994544037412315\n",
            "0.0\n"
          ],
          "name": "stdout"
        }
      ]
    },
    {
      "cell_type": "code",
      "metadata": {
        "colab": {
          "base_uri": "https://localhost:8080/"
        },
        "id": "-2kfBq7yNo6K",
        "outputId": "06774443-68bd-487c-f6f6-ae6d3578d312"
      },
      "source": [
        "for m in models:\r\n",
        "    m.compile(loss=tf.keras.losses.categorical_crossentropy,\r\n",
        "              optimizer='adam',\r\n",
        "              metrics=['accuracy']\r\n",
        "              )\r\n",
        "    m.fit(valid_clean['data'], yValid,\r\n",
        "          epochs=2\r\n",
        "          )"
      ],
      "execution_count": 10,
      "outputs": [
        {
          "output_type": "stream",
          "text": [
            "Epoch 1/2\n",
            "361/361 [==============================] - 3s 5ms/step - loss: 137.1192 - accuracy: 0.7984\n",
            "Epoch 2/2\n",
            "361/361 [==============================] - 2s 5ms/step - loss: 14.6378 - accuracy: 0.8960\n",
            "Epoch 1/2\n",
            "361/361 [==============================] - 2s 5ms/step - loss: 144.7029 - accuracy: 0.7912\n",
            "Epoch 2/2\n",
            "361/361 [==============================] - 2s 5ms/step - loss: 17.6945 - accuracy: 0.8896\n",
            "Epoch 1/2\n",
            "361/361 [==============================] - 2s 4ms/step - loss: 254.6877 - accuracy: 0.6859\n",
            "Epoch 2/2\n",
            "361/361 [==============================] - 2s 4ms/step - loss: 5.0150 - accuracy: 0.8590\n",
            "Epoch 1/2\n",
            "361/361 [==============================] - 2s 4ms/step - loss: 169.6634 - accuracy: 0.7034\n",
            "Epoch 2/2\n",
            "361/361 [==============================] - 2s 4ms/step - loss: 9.9835 - accuracy: 0.8941\n"
          ],
          "name": "stdout"
        }
      ]
    },
    {
      "cell_type": "code",
      "metadata": {
        "colab": {
          "base_uri": "https://localhost:8080/"
        },
        "id": "EniU0Pd6OHFB",
        "outputId": "c7b137c5-ca48-4384-ab1e-5b12bc93c2a6"
      },
      "source": [
        "preds_preprocessed = [] ##test result of the badnets before repair\r\n",
        "\r\n",
        "for m in models:\r\n",
        "    pred = m.predict(test_clean['data'])\r\n",
        "    preds_preprocessed.append(pred)\r\n",
        "    print(validate_model(yTest, pred))\r\n",
        "\r\n",
        "for m in models:\r\n",
        "    pred = m.predict(SG_poisoned['data'])\r\n",
        "    print(validate_model(ySG, pred))"
      ],
      "execution_count": 11,
      "outputs": [
        {
          "output_type": "stream",
          "text": [
            "0.8521434138737335\n",
            "0.8582229150428683\n",
            "0.8194076383476228\n",
            "0.841153546375682\n",
            "0.0\n",
            "0.0\n",
            "0.3244738893219018\n",
            "0.0\n"
          ],
          "name": "stdout"
        }
      ]
    },
    {
      "cell_type": "markdown",
      "metadata": {
        "id": "9EiLz-FrAE6U"
      },
      "source": [
        "##Pruning"
      ]
    },
    {
      "cell_type": "code",
      "metadata": {
        "colab": {
          "base_uri": "https://localhost:8080/"
        },
        "id": "jsOlCu-oAbkR",
        "outputId": "23ae8ae6-7dbc-44d8-f9bf-30025bedbfc8"
      },
      "source": [
        "pruned_models = []\n",
        "for i, base_model in enumerate(models):\n",
        "    for _ in range(3):\n",
        "        model_for_pruning = tfmot.sparsity.keras.prune_low_magnitude(base_model)\n",
        "    \n",
        "        log_dir = tempfile.mkdtemp()\n",
        "        callbacks = [\n",
        "            tfmot.sparsity.keras.UpdatePruningStep(),\n",
        "            tfmot.sparsity.keras.PruningSummaries(log_dir=log_dir)\n",
        "        ]\n",
        "        model_for_pruning.compile(\n",
        "          loss=tf.keras.losses.categorical_crossentropy,\n",
        "          optimizer='adam',\n",
        "          metrics=['accuracy']\n",
        "        )\n",
        "        model_for_pruning.fit(valid_clean['data'], yValid,\n",
        "                              callbacks=callbacks,\n",
        "                              epochs=3\n",
        "                              )\n",
        "\n",
        "    pruned_models.append(model_for_pruning)"
      ],
      "execution_count": 12,
      "outputs": [
        {
          "output_type": "stream",
          "text": [
            "/usr/local/lib/python3.6/dist-packages/tensorflow/python/keras/engine/base_layer.py:2281: UserWarning: `layer.add_variable` is deprecated and will be removed in a future version. Please use `layer.add_weight` method instead.\n",
            "  warnings.warn('`layer.add_variable` is deprecated and '\n"
          ],
          "name": "stderr"
        },
        {
          "output_type": "stream",
          "text": [
            "Epoch 1/3\n",
            "  6/361 [..............................] - ETA: 17s - loss: 21.7142 - accuracy: 0.7644WARNING:tensorflow:Callback method `on_train_batch_end` is slow compared to the batch time (batch time: 0.0132s vs `on_train_batch_end` time: 0.0256s). Check your callbacks.\n",
            "361/361 [==============================] - 9s 17ms/step - loss: 12.7465 - accuracy: 0.8692\n",
            "Epoch 2/3\n",
            "361/361 [==============================] - 6s 17ms/step - loss: 4.8590 - accuracy: 0.9264\n",
            "Epoch 3/3\n",
            "361/361 [==============================] - 6s 17ms/step - loss: 2.7142 - accuracy: 0.9478\n",
            "Epoch 1/3\n",
            "  6/361 [..............................] - ETA: 24s - loss: 0.0310 - accuracy: 0.9959    WARNING:tensorflow:Callback method `on_train_batch_end` is slow compared to the batch time (batch time: 0.0127s vs `on_train_batch_end` time: 0.0429s). Check your callbacks.\n",
            "361/361 [==============================] - 9s 18ms/step - loss: 2.3545 - accuracy: 0.9477\n",
            "Epoch 2/3\n",
            "361/361 [==============================] - 6s 17ms/step - loss: 2.5948 - accuracy: 0.9389\n",
            "Epoch 3/3\n",
            "361/361 [==============================] - 6s 17ms/step - loss: 1.3291 - accuracy: 0.9575\n",
            "Epoch 1/3\n",
            "  6/361 [..............................] - ETA: 25s - loss: 1.1522 - accuracy: 0.9635WARNING:tensorflow:Callback method `on_train_batch_end` is slow compared to the batch time (batch time: 0.0131s vs `on_train_batch_end` time: 0.0443s). Check your callbacks.\n",
            "361/361 [==============================] - 9s 18ms/step - loss: 1.4424 - accuracy: 0.9575\n",
            "Epoch 2/3\n",
            "361/361 [==============================] - 6s 17ms/step - loss: 1.7467 - accuracy: 0.9437\n",
            "Epoch 3/3\n",
            "361/361 [==============================] - 6s 16ms/step - loss: 1.2682 - accuracy: 0.9549\n",
            "Epoch 1/3\n",
            "  6/361 [..............................] - ETA: 25s - loss: 35.5755 - accuracy: 0.7707WARNING:tensorflow:Callback method `on_train_batch_end` is slow compared to the batch time (batch time: 0.0143s vs `on_train_batch_end` time: 0.0437s). Check your callbacks.\n",
            "361/361 [==============================] - 8s 17ms/step - loss: 15.1467 - accuracy: 0.8558\n",
            "Epoch 2/3\n",
            "361/361 [==============================] - 6s 16ms/step - loss: 4.5451 - accuracy: 0.9310\n",
            "Epoch 3/3\n",
            "361/361 [==============================] - 6s 16ms/step - loss: 3.0190 - accuracy: 0.9450\n",
            "Epoch 1/3\n",
            "  3/361 [..............................] - ETA: 54s - loss: 3.0340 - accuracy: 0.8924WARNING:tensorflow:Callback method `on_train_batch_end` is slow compared to the batch time (batch time: 0.0112s vs `on_train_batch_end` time: 0.0464s). Check your callbacks.\n",
            "361/361 [==============================] - 9s 17ms/step - loss: 2.7058 - accuracy: 0.9422\n",
            "Epoch 2/3\n",
            "361/361 [==============================] - 6s 17ms/step - loss: 2.7453 - accuracy: 0.9396\n",
            "Epoch 3/3\n",
            "361/361 [==============================] - 6s 17ms/step - loss: 1.8264 - accuracy: 0.9494\n",
            "Epoch 1/3\n",
            "  6/361 [..............................] - ETA: 25s - loss: 0.2383 - accuracy: 0.9741WARNING:tensorflow:Callback method `on_train_batch_end` is slow compared to the batch time (batch time: 0.0130s vs `on_train_batch_end` time: 0.0457s). Check your callbacks.\n",
            "361/361 [==============================] - 9s 17ms/step - loss: 1.5529 - accuracy: 0.9535\n",
            "Epoch 2/3\n",
            "361/361 [==============================] - 6s 17ms/step - loss: 1.5060 - accuracy: 0.9503\n",
            "Epoch 3/3\n",
            "361/361 [==============================] - 6s 16ms/step - loss: 1.0495 - accuracy: 0.9598\n",
            "Epoch 1/3\n",
            "  6/361 [..............................] - ETA: 24s - loss: 8.0021 - accuracy: 0.5607WARNING:tensorflow:Callback method `on_train_batch_end` is slow compared to the batch time (batch time: 0.0121s vs `on_train_batch_end` time: 0.0428s). Check your callbacks.\n",
            "361/361 [==============================] - 8s 17ms/step - loss: 4.3161 - accuracy: 0.7388\n",
            "Epoch 2/3\n",
            "361/361 [==============================] - 6s 16ms/step - loss: 0.6677 - accuracy: 0.8996\n",
            "Epoch 3/3\n",
            "361/361 [==============================] - 6s 17ms/step - loss: 0.3859 - accuracy: 0.9325\n",
            "Epoch 1/3\n",
            "  6/361 [..............................] - ETA: 25s - loss: 0.3653 - accuracy: 0.9342WARNING:tensorflow:Callback method `on_train_batch_end` is slow compared to the batch time (batch time: 0.0130s vs `on_train_batch_end` time: 0.0450s). Check your callbacks.\n",
            "361/361 [==============================] - 9s 17ms/step - loss: 0.6255 - accuracy: 0.8969\n",
            "Epoch 2/3\n",
            "361/361 [==============================] - 6s 16ms/step - loss: 0.3157 - accuracy: 0.9359\n",
            "Epoch 3/3\n",
            "361/361 [==============================] - 6s 16ms/step - loss: 0.2934 - accuracy: 0.9361\n",
            "Epoch 1/3\n",
            "  6/361 [..............................] - ETA: 23s - loss: 0.0980 - accuracy: 0.9563WARNING:tensorflow:Callback method `on_train_batch_end` is slow compared to the batch time (batch time: 0.0133s vs `on_train_batch_end` time: 0.0409s). Check your callbacks.\n",
            "361/361 [==============================] - 9s 17ms/step - loss: 0.3096 - accuracy: 0.9323\n",
            "Epoch 2/3\n",
            "361/361 [==============================] - 6s 17ms/step - loss: 0.2512 - accuracy: 0.9461\n",
            "Epoch 3/3\n",
            "361/361 [==============================] - 6s 17ms/step - loss: 0.2183 - accuracy: 0.9508\n",
            "Epoch 1/3\n",
            "  6/361 [..............................] - ETA: 26s - loss: 20.1490 - accuracy: 0.7628WARNING:tensorflow:Callback method `on_train_batch_end` is slow compared to the batch time (batch time: 0.0122s vs `on_train_batch_end` time: 0.0481s). Check your callbacks.\n",
            "361/361 [==============================] - 9s 17ms/step - loss: 10.2898 - accuracy: 0.8353\n",
            "Epoch 2/3\n",
            "361/361 [==============================] - 6s 17ms/step - loss: 2.5679 - accuracy: 0.9242\n",
            "Epoch 3/3\n",
            "361/361 [==============================] - 6s 16ms/step - loss: 1.5320 - accuracy: 0.9414\n",
            "Epoch 1/3\n",
            "  6/361 [..............................] - ETA: 24s - loss: 0.8210 - accuracy: 0.9428WARNING:tensorflow:Callback method `on_train_batch_end` is slow compared to the batch time (batch time: 0.0144s vs `on_train_batch_end` time: 0.0416s). Check your callbacks.\n",
            "361/361 [==============================] - 9s 18ms/step - loss: 1.6672 - accuracy: 0.9344\n",
            "Epoch 2/3\n",
            "361/361 [==============================] - 6s 17ms/step - loss: 1.2728 - accuracy: 0.9382\n",
            "Epoch 3/3\n",
            "361/361 [==============================] - 6s 17ms/step - loss: 1.0143 - accuracy: 0.9426\n",
            "Epoch 1/3\n",
            "  6/361 [..............................] - ETA: 25s - loss: 0.7097 - accuracy: 0.9362WARNING:tensorflow:Callback method `on_train_batch_end` is slow compared to the batch time (batch time: 0.0129s vs `on_train_batch_end` time: 0.0459s). Check your callbacks.\n",
            "361/361 [==============================] - 9s 17ms/step - loss: 0.8267 - accuracy: 0.9475\n",
            "Epoch 2/3\n",
            "361/361 [==============================] - 6s 17ms/step - loss: 0.7380 - accuracy: 0.9476\n",
            "Epoch 3/3\n",
            "361/361 [==============================] - 6s 17ms/step - loss: 0.4775 - accuracy: 0.9580\n"
          ],
          "name": "stdout"
        }
      ]
    },
    {
      "cell_type": "code",
      "metadata": {
        "colab": {
          "base_uri": "https://localhost:8080/",
          "height": 86
        },
        "id": "hRpuEQO9_vrO",
        "outputId": "f66c07ba-bf9d-4e55-fc89-cdcd30c174f1"
      },
      "source": [
        "'''\r\n",
        "pruned_models = []\r\n",
        "for i, base_model in enumerate(models):\r\n",
        "    model_for_pruning = tfmot.sparsity.keras.prune_low_magnitude(base_model)\r\n",
        "\r\n",
        "    loss = tf.keras.losses.categorical_crossentropy\r\n",
        "    optimizer = tf.keras.optimizers.Adam()\r\n",
        "    log_dir = tempfile.mkdtemp()\r\n",
        "    unused_arg = -1\r\n",
        "    epochs = 3 \r\n",
        "    batches = 1 \r\n",
        "\r\n",
        "    model_for_pruning.optimizer = optimizer\r\n",
        "    step_callback = tfmot.sparsity.keras.UpdatePruningStep()\r\n",
        "    step_callback.set_model(model_for_pruning)\r\n",
        "    log_callback = tfmot.sparsity.keras.PruningSummaries(log_dir=log_dir) # Log sparsity and other metrics in Tensorboard.\r\n",
        "    log_callback.set_model(model_for_pruning)\r\n",
        "\r\n",
        "    step_callback.on_train_begin() # run pruning callback\r\n",
        "    for _ in range(epochs):\r\n",
        "       log_callback.on_epoch_begin(epoch=unused_arg) # run pruning callback\r\n",
        "       for _ in range(batches):\r\n",
        "           step_callback.on_train_batch_begin(batch=unused_arg) # run pruning callback\r\n",
        "\r\n",
        "           with tf.GradientTape() as tape:\r\n",
        "               logits = model_for_pruning(valid_clean['data'], training=True)\r\n",
        "               loss_value = loss(yValid, logits)\r\n",
        "               grads = tape.gradient(loss_value, model_for_pruning.trainable_variables)\r\n",
        "               optimizer.apply_gradients(zip(grads, model_for_pruning.trainable_variables))\r\n",
        "\r\n",
        "       step_callback.on_epoch_end(batch=unused_arg)\r\n",
        "\r\n",
        "    pruned_models.append(model_for_pruning)\r\n",
        "'''"
      ],
      "execution_count": 13,
      "outputs": [
        {
          "output_type": "execute_result",
          "data": {
            "application/vnd.google.colaboratory.intrinsic+json": {
              "type": "string"
            },
            "text/plain": [
              "\"\\npruned_models = []\\nfor i, base_model in enumerate(models):\\n    model_for_pruning = tfmot.sparsity.keras.prune_low_magnitude(base_model)\\n\\n    loss = tf.keras.losses.categorical_crossentropy\\n    optimizer = tf.keras.optimizers.Adam()\\n    log_dir = tempfile.mkdtemp()\\n    unused_arg = -1\\n    epochs = 3 \\n    batches = 1 \\n\\n    model_for_pruning.optimizer = optimizer\\n    step_callback = tfmot.sparsity.keras.UpdatePruningStep()\\n    step_callback.set_model(model_for_pruning)\\n    log_callback = tfmot.sparsity.keras.PruningSummaries(log_dir=log_dir) # Log sparsity and other metrics in Tensorboard.\\n    log_callback.set_model(model_for_pruning)\\n\\n    step_callback.on_train_begin() # run pruning callback\\n    for _ in range(epochs):\\n       log_callback.on_epoch_begin(epoch=unused_arg) # run pruning callback\\n       for _ in range(batches):\\n           step_callback.on_train_batch_begin(batch=unused_arg) # run pruning callback\\n\\n           with tf.GradientTape() as tape:\\n               logits = model_for_pruning(valid_clean['data'], training=True)\\n               loss_value = loss(yValid, logits)\\n               grads = tape.gradient(loss_value, model_for_pruning.trainable_variables)\\n               optimizer.apply_gradients(zip(grads, model_for_pruning.trainable_variables))\\n\\n       step_callback.on_epoch_end(batch=unused_arg)\\n\\n    pruned_models.append(model_for_pruning)\\n\""
            ]
          },
          "metadata": {
            "tags": []
          },
          "execution_count": 13
        }
      ]
    },
    {
      "cell_type": "code",
      "metadata": {
        "colab": {
          "base_uri": "https://localhost:8080/"
        },
        "id": "DvWqUKDph_xL",
        "outputId": "0ff72685-ad44-41d7-b730-91d00ba70a2b"
      },
      "source": [
        "for i, model in enumerate(pruned_models):\n",
        "    print(\"model \", i, \":\")\n",
        "    model.summary()"
      ],
      "execution_count": 14,
      "outputs": [
        {
          "output_type": "stream",
          "text": [
            "model  0 :\n",
            "Model: \"model_1\"\n",
            "__________________________________________________________________________________________________\n",
            "Layer (type)                    Output Shape         Param #     Connected to                     \n",
            "==================================================================================================\n",
            "input (InputLayer)              [(None, 55, 47, 3)]  0                                            \n",
            "__________________________________________________________________________________________________\n",
            "prune_low_magnitude_conv_1 (Pru (None, 52, 44, 20)   1942        input[0][0]                      \n",
            "__________________________________________________________________________________________________\n",
            "prune_low_magnitude_pool_1 (Pru (None, 26, 22, 20)   1           prune_low_magnitude_conv_1[0][0] \n",
            "__________________________________________________________________________________________________\n",
            "prune_low_magnitude_conv_2 (Pru (None, 24, 20, 40)   14442       prune_low_magnitude_pool_1[0][0] \n",
            "__________________________________________________________________________________________________\n",
            "prune_low_magnitude_pool_2 (Pru (None, 12, 10, 40)   1           prune_low_magnitude_conv_2[0][0] \n",
            "__________________________________________________________________________________________________\n",
            "prune_low_magnitude_conv_3 (Pru (None, 10, 8, 60)    43262       prune_low_magnitude_pool_2[0][0] \n",
            "__________________________________________________________________________________________________\n",
            "prune_low_magnitude_pool_3 (Pru (None, 5, 4, 60)     1           prune_low_magnitude_conv_3[0][0] \n",
            "__________________________________________________________________________________________________\n",
            "prune_low_magnitude_conv_4 (Pru (None, 4, 3, 80)     38482       prune_low_magnitude_pool_3[0][0] \n",
            "__________________________________________________________________________________________________\n",
            "prune_low_magnitude_flatten_1 ( (None, 1200)         1           prune_low_magnitude_pool_3[0][0] \n",
            "__________________________________________________________________________________________________\n",
            "prune_low_magnitude_flatten_2 ( (None, 960)          1           prune_low_magnitude_conv_4[0][0] \n",
            "__________________________________________________________________________________________________\n",
            "prune_low_magnitude_fc_1 (Prune (None, 160)          384162      prune_low_magnitude_flatten_1[0][\n",
            "__________________________________________________________________________________________________\n",
            "prune_low_magnitude_fc_2 (Prune (None, 160)          307362      prune_low_magnitude_flatten_2[0][\n",
            "__________________________________________________________________________________________________\n",
            "prune_low_magnitude_add_1 (Prun (None, 160)          1           prune_low_magnitude_fc_1[0][0]   \n",
            "                                                                 prune_low_magnitude_fc_2[0][0]   \n",
            "__________________________________________________________________________________________________\n",
            "prune_low_magnitude_activation_ (None, 160)          1           prune_low_magnitude_add_1[0][0]  \n",
            "__________________________________________________________________________________________________\n",
            "prune_low_magnitude_output (Pru (None, 1283)         411845      prune_low_magnitude_activation_1[\n",
            "==================================================================================================\n",
            "Total params: 1,201,504\n",
            "Trainable params: 601,643\n",
            "Non-trainable params: 599,861\n",
            "__________________________________________________________________________________________________\n",
            "model  1 :\n",
            "Model: \"model_1\"\n",
            "__________________________________________________________________________________________________\n",
            "Layer (type)                    Output Shape         Param #     Connected to                     \n",
            "==================================================================================================\n",
            "input (InputLayer)              [(None, 55, 47, 3)]  0                                            \n",
            "__________________________________________________________________________________________________\n",
            "prune_low_magnitude_conv_1 (Pru (None, 52, 44, 20)   1942        input[0][0]                      \n",
            "__________________________________________________________________________________________________\n",
            "prune_low_magnitude_pool_1 (Pru (None, 26, 22, 20)   1           prune_low_magnitude_conv_1[0][0] \n",
            "__________________________________________________________________________________________________\n",
            "prune_low_magnitude_conv_2 (Pru (None, 24, 20, 40)   14442       prune_low_magnitude_pool_1[0][0] \n",
            "__________________________________________________________________________________________________\n",
            "prune_low_magnitude_pool_2 (Pru (None, 12, 10, 40)   1           prune_low_magnitude_conv_2[0][0] \n",
            "__________________________________________________________________________________________________\n",
            "prune_low_magnitude_conv_3 (Pru (None, 10, 8, 60)    43262       prune_low_magnitude_pool_2[0][0] \n",
            "__________________________________________________________________________________________________\n",
            "prune_low_magnitude_pool_3 (Pru (None, 5, 4, 60)     1           prune_low_magnitude_conv_3[0][0] \n",
            "__________________________________________________________________________________________________\n",
            "prune_low_magnitude_conv_4 (Pru (None, 4, 3, 80)     38482       prune_low_magnitude_pool_3[0][0] \n",
            "__________________________________________________________________________________________________\n",
            "prune_low_magnitude_flatten_1 ( (None, 1200)         1           prune_low_magnitude_pool_3[0][0] \n",
            "__________________________________________________________________________________________________\n",
            "prune_low_magnitude_flatten_2 ( (None, 960)          1           prune_low_magnitude_conv_4[0][0] \n",
            "__________________________________________________________________________________________________\n",
            "prune_low_magnitude_fc_1 (Prune (None, 160)          384162      prune_low_magnitude_flatten_1[0][\n",
            "__________________________________________________________________________________________________\n",
            "prune_low_magnitude_fc_2 (Prune (None, 160)          307362      prune_low_magnitude_flatten_2[0][\n",
            "__________________________________________________________________________________________________\n",
            "prune_low_magnitude_add_1 (Prun (None, 160)          1           prune_low_magnitude_fc_1[0][0]   \n",
            "                                                                 prune_low_magnitude_fc_2[0][0]   \n",
            "__________________________________________________________________________________________________\n",
            "prune_low_magnitude_activation_ (None, 160)          1           prune_low_magnitude_add_1[0][0]  \n",
            "__________________________________________________________________________________________________\n",
            "prune_low_magnitude_output (Pru (None, 1283)         411845      prune_low_magnitude_activation_1[\n",
            "==================================================================================================\n",
            "Total params: 1,201,504\n",
            "Trainable params: 601,643\n",
            "Non-trainable params: 599,861\n",
            "__________________________________________________________________________________________________\n",
            "model  2 :\n",
            "Model: \"model_1\"\n",
            "__________________________________________________________________________________________________\n",
            "Layer (type)                    Output Shape         Param #     Connected to                     \n",
            "==================================================================================================\n",
            "input (InputLayer)              [(None, 55, 47, 3)]  0                                            \n",
            "__________________________________________________________________________________________________\n",
            "prune_low_magnitude_conv_1 (Pru (None, 52, 44, 20)   1942        input[0][0]                      \n",
            "__________________________________________________________________________________________________\n",
            "prune_low_magnitude_pool_1 (Pru (None, 26, 22, 20)   1           prune_low_magnitude_conv_1[0][0] \n",
            "__________________________________________________________________________________________________\n",
            "prune_low_magnitude_conv_2 (Pru (None, 24, 20, 40)   14442       prune_low_magnitude_pool_1[0][0] \n",
            "__________________________________________________________________________________________________\n",
            "prune_low_magnitude_pool_2 (Pru (None, 12, 10, 40)   1           prune_low_magnitude_conv_2[0][0] \n",
            "__________________________________________________________________________________________________\n",
            "prune_low_magnitude_conv_3 (Pru (None, 10, 8, 60)    43262       prune_low_magnitude_pool_2[0][0] \n",
            "__________________________________________________________________________________________________\n",
            "prune_low_magnitude_pool_3 (Pru (None, 5, 4, 60)     1           prune_low_magnitude_conv_3[0][0] \n",
            "__________________________________________________________________________________________________\n",
            "prune_low_magnitude_conv_4 (Pru (None, 4, 3, 80)     38482       prune_low_magnitude_pool_3[0][0] \n",
            "__________________________________________________________________________________________________\n",
            "prune_low_magnitude_flatten_1 ( (None, 1200)         1           prune_low_magnitude_pool_3[0][0] \n",
            "__________________________________________________________________________________________________\n",
            "prune_low_magnitude_flatten_2 ( (None, 960)          1           prune_low_magnitude_conv_4[0][0] \n",
            "__________________________________________________________________________________________________\n",
            "prune_low_magnitude_fc_1 (Prune (None, 160)          384162      prune_low_magnitude_flatten_1[0][\n",
            "__________________________________________________________________________________________________\n",
            "prune_low_magnitude_fc_2 (Prune (None, 160)          307362      prune_low_magnitude_flatten_2[0][\n",
            "__________________________________________________________________________________________________\n",
            "prune_low_magnitude_add_1 (Prun (None, 160)          1           prune_low_magnitude_fc_1[0][0]   \n",
            "                                                                 prune_low_magnitude_fc_2[0][0]   \n",
            "__________________________________________________________________________________________________\n",
            "prune_low_magnitude_activation_ (None, 160)          1           prune_low_magnitude_add_1[0][0]  \n",
            "__________________________________________________________________________________________________\n",
            "prune_low_magnitude_output (Pru (None, 1283)         411845      prune_low_magnitude_activation_1[\n",
            "==================================================================================================\n",
            "Total params: 1,201,504\n",
            "Trainable params: 601,643\n",
            "Non-trainable params: 599,861\n",
            "__________________________________________________________________________________________________\n",
            "model  3 :\n",
            "Model: \"model_1\"\n",
            "__________________________________________________________________________________________________\n",
            "Layer (type)                    Output Shape         Param #     Connected to                     \n",
            "==================================================================================================\n",
            "input (InputLayer)              [(None, 55, 47, 3)]  0                                            \n",
            "__________________________________________________________________________________________________\n",
            "prune_low_magnitude_conv_1 (Pru (None, 52, 44, 20)   1942        input[0][0]                      \n",
            "__________________________________________________________________________________________________\n",
            "prune_low_magnitude_pool_1 (Pru (None, 26, 22, 20)   1           prune_low_magnitude_conv_1[0][0] \n",
            "__________________________________________________________________________________________________\n",
            "prune_low_magnitude_conv_2 (Pru (None, 24, 20, 40)   14442       prune_low_magnitude_pool_1[0][0] \n",
            "__________________________________________________________________________________________________\n",
            "prune_low_magnitude_pool_2 (Pru (None, 12, 10, 40)   1           prune_low_magnitude_conv_2[0][0] \n",
            "__________________________________________________________________________________________________\n",
            "prune_low_magnitude_conv_3 (Pru (None, 10, 8, 60)    43262       prune_low_magnitude_pool_2[0][0] \n",
            "__________________________________________________________________________________________________\n",
            "prune_low_magnitude_pool_3 (Pru (None, 5, 4, 60)     1           prune_low_magnitude_conv_3[0][0] \n",
            "__________________________________________________________________________________________________\n",
            "prune_low_magnitude_conv_4 (Pru (None, 4, 3, 80)     38482       prune_low_magnitude_pool_3[0][0] \n",
            "__________________________________________________________________________________________________\n",
            "prune_low_magnitude_flatten_1 ( (None, 1200)         1           prune_low_magnitude_pool_3[0][0] \n",
            "__________________________________________________________________________________________________\n",
            "prune_low_magnitude_flatten_2 ( (None, 960)          1           prune_low_magnitude_conv_4[0][0] \n",
            "__________________________________________________________________________________________________\n",
            "prune_low_magnitude_fc_1 (Prune (None, 160)          384162      prune_low_magnitude_flatten_1[0][\n",
            "__________________________________________________________________________________________________\n",
            "prune_low_magnitude_fc_2 (Prune (None, 160)          307362      prune_low_magnitude_flatten_2[0][\n",
            "__________________________________________________________________________________________________\n",
            "prune_low_magnitude_add_1 (Prun (None, 160)          1           prune_low_magnitude_fc_1[0][0]   \n",
            "                                                                 prune_low_magnitude_fc_2[0][0]   \n",
            "__________________________________________________________________________________________________\n",
            "prune_low_magnitude_activation_ (None, 160)          1           prune_low_magnitude_add_1[0][0]  \n",
            "__________________________________________________________________________________________________\n",
            "prune_low_magnitude_output (Pru (None, 1283)         411845      prune_low_magnitude_activation_1[\n",
            "==================================================================================================\n",
            "Total params: 1,201,504\n",
            "Trainable params: 601,643\n",
            "Non-trainable params: 599,861\n",
            "__________________________________________________________________________________________________\n"
          ],
          "name": "stdout"
        }
      ]
    },
    {
      "cell_type": "markdown",
      "metadata": {
        "id": "UjycRd8lzlHx"
      },
      "source": [
        "##Fine-tuning"
      ]
    },
    {
      "cell_type": "code",
      "metadata": {
        "colab": {
          "base_uri": "https://localhost:8080/"
        },
        "id": "TGYCEOYxzpcr",
        "outputId": "2a7fc4c3-c1bd-41ee-dc22-c67fc174e92f"
      },
      "source": [
        "repaired_models = []\n",
        "\n",
        "for i, m in enumerate(pruned_models):\n",
        "\n",
        "    model = copy.copy(m)\n",
        "\n",
        "    print(\"Fine-tune model\", model_names[i], \": \")\n",
        "    model.compile(optimizer=keras.optimizers.Adam(1e-5),\n",
        "              loss=tf.keras.losses.categorical_crossentropy,\n",
        "              metrics=['accuracy']\n",
        "              )\n",
        "    model.fit(test_clean['data'], yTest,\n",
        "          epochs=10\n",
        "          )\n",
        "    repaired_models.append(model)"
      ],
      "execution_count": 15,
      "outputs": [
        {
          "output_type": "stream",
          "text": [
            "Fine-tune model anonymous_1_bd_net : \n",
            "Epoch 1/10\n",
            "401/401 [==============================] - 8s 13ms/step - loss: 7.1566 - accuracy: 0.8667\n",
            "Epoch 2/10\n",
            "401/401 [==============================] - 5s 13ms/step - loss: 6.3895 - accuracy: 0.8760\n",
            "Epoch 3/10\n",
            "401/401 [==============================] - 5s 13ms/step - loss: 5.2684 - accuracy: 0.8873\n",
            "Epoch 4/10\n",
            "401/401 [==============================] - 5s 13ms/step - loss: 4.5907 - accuracy: 0.9018\n",
            "Epoch 5/10\n",
            "401/401 [==============================] - 5s 13ms/step - loss: 4.1400 - accuracy: 0.9043\n",
            "Epoch 6/10\n",
            "401/401 [==============================] - 5s 13ms/step - loss: 3.9240 - accuracy: 0.9078\n",
            "Epoch 7/10\n",
            "401/401 [==============================] - 5s 13ms/step - loss: 3.6637 - accuracy: 0.9163\n",
            "Epoch 8/10\n",
            "401/401 [==============================] - 5s 13ms/step - loss: 3.3261 - accuracy: 0.9178\n",
            "Epoch 9/10\n",
            "401/401 [==============================] - 5s 13ms/step - loss: 3.2464 - accuracy: 0.9241\n",
            "Epoch 10/10\n",
            "401/401 [==============================] - 5s 13ms/step - loss: 2.8120 - accuracy: 0.9304\n",
            "Fine-tune model anonymous_2_bd_net : \n",
            "Epoch 1/10\n",
            "401/401 [==============================] - 7s 13ms/step - loss: 7.0441 - accuracy: 0.8590\n",
            "Epoch 2/10\n",
            "401/401 [==============================] - 5s 13ms/step - loss: 6.5700 - accuracy: 0.8654\n",
            "Epoch 3/10\n",
            "401/401 [==============================] - 5s 13ms/step - loss: 5.6328 - accuracy: 0.8798\n",
            "Epoch 4/10\n",
            "401/401 [==============================] - 5s 13ms/step - loss: 4.9947 - accuracy: 0.8917\n",
            "Epoch 5/10\n",
            "401/401 [==============================] - 5s 13ms/step - loss: 4.5358 - accuracy: 0.8885\n",
            "Epoch 6/10\n",
            "401/401 [==============================] - 5s 13ms/step - loss: 3.9341 - accuracy: 0.9042\n",
            "Epoch 7/10\n",
            "401/401 [==============================] - 5s 13ms/step - loss: 3.5039 - accuracy: 0.9070\n",
            "Epoch 8/10\n",
            "401/401 [==============================] - 5s 13ms/step - loss: 3.5320 - accuracy: 0.9092\n",
            "Epoch 9/10\n",
            "401/401 [==============================] - 5s 13ms/step - loss: 2.9126 - accuracy: 0.9179\n",
            "Epoch 10/10\n",
            "401/401 [==============================] - 5s 13ms/step - loss: 2.7316 - accuracy: 0.9222\n",
            "Fine-tune model sunglasses_bd_net : \n",
            "Epoch 1/10\n",
            "401/401 [==============================] - 7s 12ms/step - loss: 1.7477 - accuracy: 0.8234\n",
            "Epoch 2/10\n",
            "401/401 [==============================] - 5s 12ms/step - loss: 1.3554 - accuracy: 0.8386\n",
            "Epoch 3/10\n",
            "401/401 [==============================] - 5s 12ms/step - loss: 1.1829 - accuracy: 0.8452\n",
            "Epoch 4/10\n",
            "401/401 [==============================] - 5s 12ms/step - loss: 1.1208 - accuracy: 0.8437\n",
            "Epoch 5/10\n",
            "401/401 [==============================] - 5s 12ms/step - loss: 1.0477 - accuracy: 0.8570\n",
            "Epoch 6/10\n",
            "401/401 [==============================] - 5s 13ms/step - loss: 0.9600 - accuracy: 0.8641\n",
            "Epoch 7/10\n",
            "401/401 [==============================] - 5s 13ms/step - loss: 0.8062 - accuracy: 0.8777\n",
            "Epoch 8/10\n",
            "401/401 [==============================] - 5s 13ms/step - loss: 0.7854 - accuracy: 0.8761\n",
            "Epoch 9/10\n",
            "401/401 [==============================] - 5s 12ms/step - loss: 0.8125 - accuracy: 0.8761\n",
            "Epoch 10/10\n",
            "401/401 [==============================] - 5s 12ms/step - loss: 0.7601 - accuracy: 0.8808\n",
            "Fine-tune model multi_trigger_multi_target_bd_net : \n",
            "Epoch 1/10\n",
            "401/401 [==============================] - 7s 13ms/step - loss: 3.3576 - accuracy: 0.8618\n",
            "Epoch 2/10\n",
            "401/401 [==============================] - 5s 13ms/step - loss: 3.0291 - accuracy: 0.8633\n",
            "Epoch 3/10\n",
            "401/401 [==============================] - 5s 13ms/step - loss: 2.5206 - accuracy: 0.8780\n",
            "Epoch 4/10\n",
            "401/401 [==============================] - 5s 12ms/step - loss: 2.3637 - accuracy: 0.8798\n",
            "Epoch 5/10\n",
            "401/401 [==============================] - 5s 12ms/step - loss: 2.1728 - accuracy: 0.8839\n",
            "Epoch 6/10\n",
            "401/401 [==============================] - 5s 12ms/step - loss: 2.0187 - accuracy: 0.8925\n",
            "Epoch 7/10\n",
            "401/401 [==============================] - 5s 13ms/step - loss: 1.7226 - accuracy: 0.8973\n",
            "Epoch 8/10\n",
            "401/401 [==============================] - 5s 13ms/step - loss: 1.5589 - accuracy: 0.9053\n",
            "Epoch 9/10\n",
            "401/401 [==============================] - 5s 13ms/step - loss: 1.5264 - accuracy: 0.9085\n",
            "Epoch 10/10\n",
            "401/401 [==============================] - 5s 13ms/step - loss: 1.2974 - accuracy: 0.9127\n"
          ],
          "name": "stdout"
        }
      ]
    },
    {
      "cell_type": "markdown",
      "metadata": {
        "id": "H-3D82TJl3tr"
      },
      "source": [
        "##Validation"
      ]
    },
    {
      "cell_type": "code",
      "metadata": {
        "colab": {
          "base_uri": "https://localhost:8080/"
        },
        "id": "fAFhYNs5l8xS",
        "outputId": "7d33465f-6de6-4160-e98f-0515c57b6e93"
      },
      "source": [
        "##Intermediate quick evalution using built-in Keras functions and the poisoned set\n",
        "\n",
        "for i, m in enumerate(repaired_models):\n",
        "    print(\"Repaired\", model_names[i], \"accuracy on clean validation set: \")\n",
        "    m.evaluate(test_clean['data'], yTest) \n",
        "    print(\"Repaired\", model_names[i], \"accuracy on poisoned set: \")\n",
        "    m.evaluate(SG_poisoned['data'], ySG) "
      ],
      "execution_count": 16,
      "outputs": [
        {
          "output_type": "stream",
          "text": [
            "Repaired anonymous_1_bd_net accuracy on clean validation set: \n",
            "401/401 [==============================] - 2s 4ms/step - loss: 2.5543 - accuracy: 0.9350\n",
            "Repaired anonymous_1_bd_net accuracy on poisoned set: \n",
            "401/401 [==============================] - 2s 4ms/step - loss: 1740.5236 - accuracy: 0.0000e+00\n",
            "Repaired anonymous_2_bd_net accuracy on clean validation set: \n",
            "401/401 [==============================] - 2s 4ms/step - loss: 2.5896 - accuracy: 0.9267\n",
            "Repaired anonymous_2_bd_net accuracy on poisoned set: \n",
            "401/401 [==============================] - 2s 4ms/step - loss: 1345.1877 - accuracy: 0.0000e+00\n",
            "Repaired sunglasses_bd_net accuracy on clean validation set: \n",
            "401/401 [==============================] - 2s 4ms/step - loss: 0.7017 - accuracy: 0.8891\n",
            "Repaired sunglasses_bd_net accuracy on poisoned set: \n",
            "401/401 [==============================] - 2s 4ms/step - loss: 19.4443 - accuracy: 0.0087\n",
            "Repaired multi_trigger_multi_target_bd_net accuracy on clean validation set: \n",
            "401/401 [==============================] - 2s 4ms/step - loss: 1.3170 - accuracy: 0.9152\n",
            "Repaired multi_trigger_multi_target_bd_net accuracy on poisoned set: \n",
            "401/401 [==============================] - 2s 4ms/step - loss: 275.7851 - accuracy: 0.0000e+00\n"
          ],
          "name": "stdout"
        }
      ]
    },
    {
      "cell_type": "markdown",
      "metadata": {
        "id": "vk7WSGLhefev"
      },
      "source": [
        "##Final output\r\n",
        "Compare preprocessed results from the bad net and results from repaired nets to output results. The differnt predictions between bad nets and repaired nets are classifed as N+1 class."
      ]
    },
    {
      "cell_type": "code",
      "metadata": {
        "id": "pjAWd90Jejax"
      },
      "source": [
        "def poisoned_detection(afterPreds, prePreds):\r\n",
        "    out = []\r\n",
        "    for i in range(len(afterPreds)):\r\n",
        "        newDimension = list(afterPreds[i].shape)\r\n",
        "        newDimension[1] += 1\r\n",
        "        newArray = np.zeros(newDimension)\r\n",
        "        for j in range(afterPreds[i].shape[0]):\r\n",
        "            a = np.argmax(afterPreds[i][j]) \r\n",
        "            b = np.argmax(prePreds[i][j])\r\n",
        "            \r\n",
        "            if a == b:\r\n",
        "                newArray[j][a] = 1\r\n",
        "            else:\r\n",
        "                newArray[j][-1] = 1\r\n",
        "        out.append(newArray)\r\n",
        "\r\n",
        "    return out"
      ],
      "execution_count": 17,
      "outputs": []
    },
    {
      "cell_type": "code",
      "metadata": {
        "colab": {
          "base_uri": "https://localhost:8080/"
        },
        "id": "PBwlVUrGvAgQ",
        "outputId": "8cc04ed4-59e2-403b-99e8-5dddf5975c0b"
      },
      "source": [
        "preds_repaired = [] ##test result of the badnets after repair\r\n",
        "\r\n",
        "for m in repaired_models:\r\n",
        "    pred = m.predict(test_clean['data'])\r\n",
        "    preds_repaired.append(pred)\r\n",
        "    print(validate_model(yTest, pred))\r\n",
        "\r\n",
        "final_result = poisoned_detection(preds_repaired, preds_preprocessed)"
      ],
      "execution_count": 18,
      "outputs": [
        {
          "output_type": "stream",
          "text": [
            "0.9349961028838659\n",
            "0.9266562743569758\n",
            "0.8890880748246298\n",
            "0.9151987529228371\n"
          ],
          "name": "stdout"
        }
      ]
    }
  ]
}