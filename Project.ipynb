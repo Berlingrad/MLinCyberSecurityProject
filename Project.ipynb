{
  "nbformat": 4,
  "nbformat_minor": 0,
  "metadata": {
    "colab": {
      "name": "Project.ipynb",
      "provenance": [],
      "collapsed_sections": [],
      "toc_visible": true,
      "include_colab_link": true
    },
    "kernelspec": {
      "name": "python3",
      "display_name": "Python 3"
    },
    "accelerator": "GPU"
  },
  "cells": [
    {
      "cell_type": "markdown",
      "metadata": {
        "id": "view-in-github",
        "colab_type": "text"
      },
      "source": [
        "<a href=\"https://colab.research.google.com/github/Berlingrad/MLinCyberSecurityProject/blob/XuDevelopment/Project.ipynb\" target=\"_parent\"><img src=\"https://colab.research.google.com/assets/colab-badge.svg\" alt=\"Open In Colab\"/></a>"
      ]
    },
    {
      "cell_type": "markdown",
      "metadata": {
        "id": "HGclO6eUuymx"
      },
      "source": [
        "#DNN Back Door Detector"
      ]
    },
    {
      "cell_type": "markdown",
      "metadata": {
        "id": "UNYtyNsgvHRl"
      },
      "source": [
        "## Preprocessing"
      ]
    },
    {
      "cell_type": "markdown",
      "metadata": {
        "id": "GiqLPbbVLs-w"
      },
      "source": [
        "###Data Download"
      ]
    },
    {
      "cell_type": "code",
      "metadata": {
        "colab": {
          "base_uri": "https://localhost:8080/"
        },
        "id": "puVie2-guvOg",
        "outputId": "a78e5b06-1f16-4d68-8e7e-df4098f26dfd"
      },
      "source": [
        "!git clone https://github.com/csaw-hackml/CSAW-HackML-2020.git\n",
        "\n",
        "!gdown https://drive.google.com/uc?id=1P8PTL62x3cfpV9mrC0unqZjRFhlTTOSG\n",
        "!gdown https://drive.google.com/uc?id=19OKCkY2CjV3ASkOe6nMSYTsOVcxAoCnA\n",
        "!gdown https://drive.google.com/uc?id=1XtYnM-IopU-QYVc99U51EiDvI5zxK0nV\n",
        "\n",
        "!mv /content/*.h5 /content/CSAW-HackML-2020/data\n",
        "\n",
        "##!wget https://raw.githubusercontent.com/bolunwang/backdoor/master/visualizer.py"
      ],
      "execution_count": 1,
      "outputs": [
        {
          "output_type": "stream",
          "text": [
            "fatal: destination path 'CSAW-HackML-2020' already exists and is not an empty directory.\n",
            "Downloading...\n",
            "From: https://drive.google.com/uc?id=1P8PTL62x3cfpV9mrC0unqZjRFhlTTOSG\n",
            "To: /content/sunglasses_poisoned_data.h5\n",
            "398MB [00:03, 123MB/s]\n",
            "Downloading...\n",
            "From: https://drive.google.com/uc?id=19OKCkY2CjV3ASkOe6nMSYTsOVcxAoCnA\n",
            "To: /content/clean_validation_data.h5\n",
            "716MB [00:03, 222MB/s]\n",
            "Downloading...\n",
            "From: https://drive.google.com/uc?id=1XtYnM-IopU-QYVc99U51EiDvI5zxK0nV\n",
            "To: /content/clean_test_data.h5\n",
            "398MB [00:07, 55.1MB/s]\n"
          ],
          "name": "stdout"
        }
      ]
    },
    {
      "cell_type": "code",
      "metadata": {
        "id": "C1skH0vBC7pl"
      },
      "source": [
        "import os\n",
        "import gdown\n",
        "import numpy as np\n",
        "import random\n",
        "import h5py\n",
        "import glob2\n",
        "import tempfile\n",
        "\n",
        "import keras\n",
        "import tensorflow as tf\n",
        "from keras.models import load_model\n",
        "from keras.preprocessing.image import ImageDataGenerator\n",
        "!pip install -q tensorflow-model-optimization\n",
        "import tensorflow_model_optimization as tfmot\n",
        "\n",
        "if not tf.config.experimental.list_physical_devices('GPU'):\n",
        "    raise Exception(\"Please change runtime type to GPU\")\n"
      ],
      "execution_count": 2,
      "outputs": []
    },
    {
      "cell_type": "code",
      "metadata": {
        "id": "yPkj0u-5F2Be"
      },
      "source": [
        "def load_dataset(data_filename, keys=None):\n",
        "    dataset = {}\n",
        "    with h5py.File(data_filename, 'r') as hf:\n",
        "        if keys is None:\n",
        "            for name in hf:\n",
        "                dataset[name] = np.array(hf.get(name))\n",
        "        else:\n",
        "            for name in keys:\n",
        "                dataset[name] = np.array(hf.get(name))\n",
        "\n",
        "    return dataset\n",
        "\n",
        "def load_models(model_dir):\n",
        "    models = []\n",
        "    for net in glob2.glob(\"/content/CSAW-HackML-2020/models/*net.h5\"):\n",
        "        weights = glob2.glob(net.split(\"_\")[0]+\"*weights.h5\")[0]\n",
        "       \n",
        "        m = load_model(net)\n",
        "        m.load_weights(weights)\n",
        "\n",
        "        models.append(m)\n",
        "    return models"
      ],
      "execution_count": 3,
      "outputs": []
    },
    {
      "cell_type": "markdown",
      "metadata": {
        "id": "14Ae9mRxBWyV"
      },
      "source": [
        "###Load Data"
      ]
    },
    {
      "cell_type": "code",
      "metadata": {
        "id": "cNQ8-t0pDYY5",
        "colab": {
          "base_uri": "https://localhost:8080/"
        },
        "outputId": "72ab5005-da07-4682-89d6-a0111529af1d"
      },
      "source": [
        "SG_poisoned_path = \"/content/CSAW-HackML-2020/data/sunglasses_poisoned_data.h5\"\n",
        "SG_poisoned = load_dataset(SG_poisoned_path)\n",
        "\n",
        "clean_validation_path = \"/content/CSAW-HackML-2020/data/clean_validation_data.h5\"\n",
        "valid_clean = load_dataset(clean_validation_path)\n",
        "\n",
        "clean_test_path = \"/content/CSAW-HackML-2020/data/clean_test_data.h5\"\n",
        "test_clean = load_dataset(clean_test_path)\n",
        "\n",
        "SG_poisoned['data'] = SG_poisoned['data'].transpose((0,2,3,1))\n",
        "valid_clean['data'] = valid_clean['data'].transpose((0,2,3,1))\n",
        "test_clean['data'] = test_clean['data'].transpose((0,2,3,1))\n",
        "\n",
        " \n",
        " ##Vectorize label array to fit the model output\n",
        "outLen = 1283 ##Length of output array\n",
        "ySG = np.zeros((SG_poisoned['label'].shape[0], outLen))\n",
        "yValid = np.zeros((valid_clean['label'].shape[0], outLen))\n",
        "yTest = np.zeros((test_clean['label'].shape[0], outLen))\n",
        "\n",
        "print(valid_clean['data'].shape)\n",
        "print(yValid.shape)\n",
        "\n",
        "for i in range(SG_poisoned['label'].shape[0]):\n",
        "    ySG[i][SG_poisoned['label'][i]] = 1\n",
        "\n",
        "for i in range(valid_clean['label'].shape[0]):\n",
        "    yValid[i][int(valid_clean['label'][i])] = 1\n",
        "\n",
        "for i in range(test_clean['label'].shape[0]):\n",
        "    yTest[i][test_clean['label'][i]] = 1\n",
        "\n"
      ],
      "execution_count": 4,
      "outputs": [
        {
          "output_type": "stream",
          "text": [
            "(11547, 55, 47, 3)\n",
            "(11547, 1283)\n"
          ],
          "name": "stdout"
        }
      ]
    },
    {
      "cell_type": "markdown",
      "metadata": {
        "id": "xBT8IKBgBd-C"
      },
      "source": [
        "###Data Parameters"
      ]
    },
    {
      "cell_type": "code",
      "metadata": {
        "id": "ZLJcI5WgBi5Z"
      },
      "source": [
        "##TODO\n",
        "\n",
        "##SG_nClass = \n",
        "##vc_nClass = "
      ],
      "execution_count": 5,
      "outputs": []
    },
    {
      "cell_type": "markdown",
      "metadata": {
        "id": "khtwl8GCIYku"
      },
      "source": [
        "###Load Models"
      ]
    },
    {
      "cell_type": "code",
      "metadata": {
        "id": "hqfW9ZeHJGF4"
      },
      "source": [
        "\n",
        "model_dir = \"/content/CSAW-HackML-2020/models\"\n",
        "\n",
        "models = load_models(model_dir)\n"
      ],
      "execution_count": 6,
      "outputs": []
    },
    {
      "cell_type": "code",
      "metadata": {
        "colab": {
          "base_uri": "https://localhost:8080/"
        },
        "id": "qFt5IQh6gEcv",
        "outputId": "fdd4f204-45bb-4048-812d-c68098c91dde"
      },
      "source": [
        "out = models[0].predict(valid_clean['data'])\n",
        "print(np.argmax(out[0]))\n",
        "print(out.shape)\n",
        "print(yValid.shape)"
      ],
      "execution_count": 7,
      "outputs": [
        {
          "output_type": "stream",
          "text": [
            "43\n",
            "(11547, 1283)\n",
            "(11547, 1283)\n"
          ],
          "name": "stdout"
        }
      ]
    },
    {
      "cell_type": "markdown",
      "metadata": {
        "id": "mzKRM8bg8Om1"
      },
      "source": [
        "### Model Summary"
      ]
    },
    {
      "cell_type": "code",
      "metadata": {
        "colab": {
          "base_uri": "https://localhost:8080/"
        },
        "id": "oT6zOYgL8Nmk",
        "outputId": "cebeebf8-5310-4bb5-fe52-a9459d5d44d2"
      },
      "source": [
        "##TODO\n",
        "for i, model in enumerate(models):\n",
        "    print(\"model \", i, \":\")\n",
        "    model.summary()\n",
        "\n",
        "     "
      ],
      "execution_count": 8,
      "outputs": [
        {
          "output_type": "stream",
          "text": [
            "model  0 :\n",
            "Model: \"model_1\"\n",
            "__________________________________________________________________________________________________\n",
            "Layer (type)                    Output Shape         Param #     Connected to                     \n",
            "==================================================================================================\n",
            "input (InputLayer)              [(None, 55, 47, 3)]  0                                            \n",
            "__________________________________________________________________________________________________\n",
            "conv_1 (Conv2D)                 (None, 52, 44, 20)   980         input[0][0]                      \n",
            "__________________________________________________________________________________________________\n",
            "pool_1 (MaxPooling2D)           (None, 26, 22, 20)   0           conv_1[0][0]                     \n",
            "__________________________________________________________________________________________________\n",
            "conv_2 (Conv2D)                 (None, 24, 20, 40)   7240        pool_1[0][0]                     \n",
            "__________________________________________________________________________________________________\n",
            "pool_2 (MaxPooling2D)           (None, 12, 10, 40)   0           conv_2[0][0]                     \n",
            "__________________________________________________________________________________________________\n",
            "conv_3 (Conv2D)                 (None, 10, 8, 60)    21660       pool_2[0][0]                     \n",
            "__________________________________________________________________________________________________\n",
            "pool_3 (MaxPooling2D)           (None, 5, 4, 60)     0           conv_3[0][0]                     \n",
            "__________________________________________________________________________________________________\n",
            "conv_4 (Conv2D)                 (None, 4, 3, 80)     19280       pool_3[0][0]                     \n",
            "__________________________________________________________________________________________________\n",
            "flatten_1 (Flatten)             (None, 1200)         0           pool_3[0][0]                     \n",
            "__________________________________________________________________________________________________\n",
            "flatten_2 (Flatten)             (None, 960)          0           conv_4[0][0]                     \n",
            "__________________________________________________________________________________________________\n",
            "fc_1 (Dense)                    (None, 160)          192160      flatten_1[0][0]                  \n",
            "__________________________________________________________________________________________________\n",
            "fc_2 (Dense)                    (None, 160)          153760      flatten_2[0][0]                  \n",
            "__________________________________________________________________________________________________\n",
            "add_1 (Add)                     (None, 160)          0           fc_1[0][0]                       \n",
            "                                                                 fc_2[0][0]                       \n",
            "__________________________________________________________________________________________________\n",
            "activation_1 (Activation)       (None, 160)          0           add_1[0][0]                      \n",
            "__________________________________________________________________________________________________\n",
            "output (Dense)                  (None, 1283)         206563      activation_1[0][0]               \n",
            "==================================================================================================\n",
            "Total params: 601,643\n",
            "Trainable params: 601,643\n",
            "Non-trainable params: 0\n",
            "__________________________________________________________________________________________________\n",
            "model  1 :\n",
            "Model: \"model_1\"\n",
            "__________________________________________________________________________________________________\n",
            "Layer (type)                    Output Shape         Param #     Connected to                     \n",
            "==================================================================================================\n",
            "input (InputLayer)              [(None, 55, 47, 3)]  0                                            \n",
            "__________________________________________________________________________________________________\n",
            "conv_1 (Conv2D)                 (None, 52, 44, 20)   980         input[0][0]                      \n",
            "__________________________________________________________________________________________________\n",
            "pool_1 (MaxPooling2D)           (None, 26, 22, 20)   0           conv_1[0][0]                     \n",
            "__________________________________________________________________________________________________\n",
            "conv_2 (Conv2D)                 (None, 24, 20, 40)   7240        pool_1[0][0]                     \n",
            "__________________________________________________________________________________________________\n",
            "pool_2 (MaxPooling2D)           (None, 12, 10, 40)   0           conv_2[0][0]                     \n",
            "__________________________________________________________________________________________________\n",
            "conv_3 (Conv2D)                 (None, 10, 8, 60)    21660       pool_2[0][0]                     \n",
            "__________________________________________________________________________________________________\n",
            "pool_3 (MaxPooling2D)           (None, 5, 4, 60)     0           conv_3[0][0]                     \n",
            "__________________________________________________________________________________________________\n",
            "conv_4 (Conv2D)                 (None, 4, 3, 80)     19280       pool_3[0][0]                     \n",
            "__________________________________________________________________________________________________\n",
            "flatten_1 (Flatten)             (None, 1200)         0           pool_3[0][0]                     \n",
            "__________________________________________________________________________________________________\n",
            "flatten_2 (Flatten)             (None, 960)          0           conv_4[0][0]                     \n",
            "__________________________________________________________________________________________________\n",
            "fc_1 (Dense)                    (None, 160)          192160      flatten_1[0][0]                  \n",
            "__________________________________________________________________________________________________\n",
            "fc_2 (Dense)                    (None, 160)          153760      flatten_2[0][0]                  \n",
            "__________________________________________________________________________________________________\n",
            "add_1 (Add)                     (None, 160)          0           fc_1[0][0]                       \n",
            "                                                                 fc_2[0][0]                       \n",
            "__________________________________________________________________________________________________\n",
            "activation_1 (Activation)       (None, 160)          0           add_1[0][0]                      \n",
            "__________________________________________________________________________________________________\n",
            "output (Dense)                  (None, 1283)         206563      activation_1[0][0]               \n",
            "==================================================================================================\n",
            "Total params: 601,643\n",
            "Trainable params: 601,643\n",
            "Non-trainable params: 0\n",
            "__________________________________________________________________________________________________\n",
            "model  2 :\n",
            "Model: \"model_1\"\n",
            "__________________________________________________________________________________________________\n",
            "Layer (type)                    Output Shape         Param #     Connected to                     \n",
            "==================================================================================================\n",
            "input (InputLayer)              [(None, 55, 47, 3)]  0                                            \n",
            "__________________________________________________________________________________________________\n",
            "conv_1 (Conv2D)                 (None, 52, 44, 20)   980         input[0][0]                      \n",
            "__________________________________________________________________________________________________\n",
            "pool_1 (MaxPooling2D)           (None, 26, 22, 20)   0           conv_1[0][0]                     \n",
            "__________________________________________________________________________________________________\n",
            "conv_2 (Conv2D)                 (None, 24, 20, 40)   7240        pool_1[0][0]                     \n",
            "__________________________________________________________________________________________________\n",
            "pool_2 (MaxPooling2D)           (None, 12, 10, 40)   0           conv_2[0][0]                     \n",
            "__________________________________________________________________________________________________\n",
            "conv_3 (Conv2D)                 (None, 10, 8, 60)    21660       pool_2[0][0]                     \n",
            "__________________________________________________________________________________________________\n",
            "pool_3 (MaxPooling2D)           (None, 5, 4, 60)     0           conv_3[0][0]                     \n",
            "__________________________________________________________________________________________________\n",
            "conv_4 (Conv2D)                 (None, 4, 3, 80)     19280       pool_3[0][0]                     \n",
            "__________________________________________________________________________________________________\n",
            "flatten_1 (Flatten)             (None, 1200)         0           pool_3[0][0]                     \n",
            "__________________________________________________________________________________________________\n",
            "flatten_2 (Flatten)             (None, 960)          0           conv_4[0][0]                     \n",
            "__________________________________________________________________________________________________\n",
            "fc_1 (Dense)                    (None, 160)          192160      flatten_1[0][0]                  \n",
            "__________________________________________________________________________________________________\n",
            "fc_2 (Dense)                    (None, 160)          153760      flatten_2[0][0]                  \n",
            "__________________________________________________________________________________________________\n",
            "add_1 (Add)                     (None, 160)          0           fc_1[0][0]                       \n",
            "                                                                 fc_2[0][0]                       \n",
            "__________________________________________________________________________________________________\n",
            "activation_1 (Activation)       (None, 160)          0           add_1[0][0]                      \n",
            "__________________________________________________________________________________________________\n",
            "output (Dense)                  (None, 1283)         206563      activation_1[0][0]               \n",
            "==================================================================================================\n",
            "Total params: 601,643\n",
            "Trainable params: 601,643\n",
            "Non-trainable params: 0\n",
            "__________________________________________________________________________________________________\n"
          ],
          "name": "stdout"
        }
      ]
    },
    {
      "cell_type": "markdown",
      "metadata": {
        "id": "9EiLz-FrAE6U"
      },
      "source": [
        "##Pruning"
      ]
    },
    {
      "cell_type": "code",
      "metadata": {
        "colab": {
          "base_uri": "https://localhost:8080/"
        },
        "id": "jsOlCu-oAbkR",
        "outputId": "2658c73f-96f8-43bf-977e-95e995084dbf"
      },
      "source": [
        "##TODO\n",
        "pruned_models = []\n",
        "for i, base_model in enumerate(models):\n",
        "    model_for_pruning = tfmot.sparsity.keras.prune_low_magnitude(base_model)\n",
        "\n",
        "    log_dir = tempfile.mkdtemp()\n",
        "    callbacks = [\n",
        "        tfmot.sparsity.keras.UpdatePruningStep(),\n",
        "        tfmot.sparsity.keras.PruningSummaries(log_dir=log_dir)\n",
        "    ]\n",
        "    model_for_pruning.compile(\n",
        "      loss=tf.keras.losses.categorical_crossentropy,\n",
        "      optimizer='adam',\n",
        "      metrics=['accuracy']\n",
        "    )\n",
        "    model_for_pruning.fit(test_clean['data'], yTest,\n",
        "                          callbacks=callbacks,\n",
        "                          epochs=5\n",
        "                          )\n",
        "\n",
        "    pruned_models.append(model_for_pruning)\n",
        " "
      ],
      "execution_count": 9,
      "outputs": [
        {
          "output_type": "stream",
          "text": [
            "/usr/local/lib/python3.6/dist-packages/tensorflow/python/keras/engine/base_layer.py:2281: UserWarning: `layer.add_variable` is deprecated and will be removed in a future version. Please use `layer.add_weight` method instead.\n",
            "  warnings.warn('`layer.add_variable` is deprecated and '\n"
          ],
          "name": "stderr"
        },
        {
          "output_type": "stream",
          "text": [
            "Epoch 1/5\n",
            "  6/401 [..............................] - ETA: 16s - loss: 470.5049 - accuracy: 0.5660WARNING:tensorflow:Callback method `on_train_batch_end` is slow compared to the batch time (batch time: 0.0117s vs `on_train_batch_end` time: 0.0204s). Check your callbacks.\n",
            "401/401 [==============================] - 10s 17ms/step - loss: 143.7407 - accuracy: 0.7884\n",
            "Epoch 2/5\n",
            "401/401 [==============================] - 6s 16ms/step - loss: 12.4424 - accuracy: 0.9022\n",
            "Epoch 3/5\n",
            "401/401 [==============================] - 6s 16ms/step - loss: 4.7603 - accuracy: 0.9391\n",
            "Epoch 4/5\n",
            "401/401 [==============================] - 6s 16ms/step - loss: 2.1762 - accuracy: 0.9657\n",
            "Epoch 5/5\n",
            "401/401 [==============================] - 6s 16ms/step - loss: 1.6167 - accuracy: 0.9671\n",
            "Epoch 1/5\n",
            "  6/401 [..............................] - ETA: 25s - loss: 1123.7784 - accuracy: 0.3478WARNING:tensorflow:Callback method `on_train_batch_end` is slow compared to the batch time (batch time: 0.0120s vs `on_train_batch_end` time: 0.0401s). Check your callbacks.\n",
            "401/401 [==============================] - 9s 17ms/step - loss: 260.9475 - accuracy: 0.6975\n",
            "Epoch 2/5\n",
            "401/401 [==============================] - 6s 16ms/step - loss: 12.1864 - accuracy: 0.8891\n",
            "Epoch 3/5\n",
            "401/401 [==============================] - 6s 16ms/step - loss: 2.6483 - accuracy: 0.9445\n",
            "Epoch 4/5\n",
            "401/401 [==============================] - 6s 16ms/step - loss: 1.0439 - accuracy: 0.9684\n",
            "Epoch 5/5\n",
            "401/401 [==============================] - 6s 16ms/step - loss: 0.4452 - accuracy: 0.9765\n",
            "Epoch 1/5\n",
            "  6/401 [..............................] - ETA: 27s - loss: 734.9661 - accuracy: 0.4321WARNING:tensorflow:Callback method `on_train_batch_end` is slow compared to the batch time (batch time: 0.0131s vs `on_train_batch_end` time: 0.0443s). Check your callbacks.\n",
            "401/401 [==============================] - 9s 17ms/step - loss: 172.0849 - accuracy: 0.7181\n",
            "Epoch 2/5\n",
            "401/401 [==============================] - 6s 16ms/step - loss: 13.3038 - accuracy: 0.9029\n",
            "Epoch 3/5\n",
            "401/401 [==============================] - 6s 16ms/step - loss: 5.1541 - accuracy: 0.9438\n",
            "Epoch 4/5\n",
            "401/401 [==============================] - 6s 16ms/step - loss: 3.2633 - accuracy: 0.9512\n",
            "Epoch 5/5\n",
            "401/401 [==============================] - 6s 16ms/step - loss: 2.6312 - accuracy: 0.9594\n"
          ],
          "name": "stdout"
        }
      ]
    },
    {
      "cell_type": "code",
      "metadata": {
        "colab": {
          "base_uri": "https://localhost:8080/"
        },
        "id": "DvWqUKDph_xL",
        "outputId": "1077cc53-cba1-4271-84f8-657da937846b"
      },
      "source": [
        "for i, model in enumerate(pruned_models):\n",
        "    print(\"model \", i, \":\")\n",
        "    model.summary()\n"
      ],
      "execution_count": 10,
      "outputs": [
        {
          "output_type": "stream",
          "text": [
            "model  0 :\n",
            "Model: \"model_1\"\n",
            "__________________________________________________________________________________________________\n",
            "Layer (type)                    Output Shape         Param #     Connected to                     \n",
            "==================================================================================================\n",
            "input (InputLayer)              [(None, 55, 47, 3)]  0                                            \n",
            "__________________________________________________________________________________________________\n",
            "prune_low_magnitude_conv_1 (Pru (None, 52, 44, 20)   1942        input[0][0]                      \n",
            "__________________________________________________________________________________________________\n",
            "prune_low_magnitude_pool_1 (Pru (None, 26, 22, 20)   1           prune_low_magnitude_conv_1[0][0] \n",
            "__________________________________________________________________________________________________\n",
            "prune_low_magnitude_conv_2 (Pru (None, 24, 20, 40)   14442       prune_low_magnitude_pool_1[0][0] \n",
            "__________________________________________________________________________________________________\n",
            "prune_low_magnitude_pool_2 (Pru (None, 12, 10, 40)   1           prune_low_magnitude_conv_2[0][0] \n",
            "__________________________________________________________________________________________________\n",
            "prune_low_magnitude_conv_3 (Pru (None, 10, 8, 60)    43262       prune_low_magnitude_pool_2[0][0] \n",
            "__________________________________________________________________________________________________\n",
            "prune_low_magnitude_pool_3 (Pru (None, 5, 4, 60)     1           prune_low_magnitude_conv_3[0][0] \n",
            "__________________________________________________________________________________________________\n",
            "prune_low_magnitude_conv_4 (Pru (None, 4, 3, 80)     38482       prune_low_magnitude_pool_3[0][0] \n",
            "__________________________________________________________________________________________________\n",
            "prune_low_magnitude_flatten_1 ( (None, 1200)         1           prune_low_magnitude_pool_3[0][0] \n",
            "__________________________________________________________________________________________________\n",
            "prune_low_magnitude_flatten_2 ( (None, 960)          1           prune_low_magnitude_conv_4[0][0] \n",
            "__________________________________________________________________________________________________\n",
            "prune_low_magnitude_fc_1 (Prune (None, 160)          384162      prune_low_magnitude_flatten_1[0][\n",
            "__________________________________________________________________________________________________\n",
            "prune_low_magnitude_fc_2 (Prune (None, 160)          307362      prune_low_magnitude_flatten_2[0][\n",
            "__________________________________________________________________________________________________\n",
            "prune_low_magnitude_add_1 (Prun (None, 160)          1           prune_low_magnitude_fc_1[0][0]   \n",
            "                                                                 prune_low_magnitude_fc_2[0][0]   \n",
            "__________________________________________________________________________________________________\n",
            "prune_low_magnitude_activation_ (None, 160)          1           prune_low_magnitude_add_1[0][0]  \n",
            "__________________________________________________________________________________________________\n",
            "prune_low_magnitude_output (Pru (None, 1283)         411845      prune_low_magnitude_activation_1[\n",
            "==================================================================================================\n",
            "Total params: 1,201,504\n",
            "Trainable params: 601,643\n",
            "Non-trainable params: 599,861\n",
            "__________________________________________________________________________________________________\n",
            "model  1 :\n",
            "Model: \"model_1\"\n",
            "__________________________________________________________________________________________________\n",
            "Layer (type)                    Output Shape         Param #     Connected to                     \n",
            "==================================================================================================\n",
            "input (InputLayer)              [(None, 55, 47, 3)]  0                                            \n",
            "__________________________________________________________________________________________________\n",
            "prune_low_magnitude_conv_1 (Pru (None, 52, 44, 20)   1942        input[0][0]                      \n",
            "__________________________________________________________________________________________________\n",
            "prune_low_magnitude_pool_1 (Pru (None, 26, 22, 20)   1           prune_low_magnitude_conv_1[0][0] \n",
            "__________________________________________________________________________________________________\n",
            "prune_low_magnitude_conv_2 (Pru (None, 24, 20, 40)   14442       prune_low_magnitude_pool_1[0][0] \n",
            "__________________________________________________________________________________________________\n",
            "prune_low_magnitude_pool_2 (Pru (None, 12, 10, 40)   1           prune_low_magnitude_conv_2[0][0] \n",
            "__________________________________________________________________________________________________\n",
            "prune_low_magnitude_conv_3 (Pru (None, 10, 8, 60)    43262       prune_low_magnitude_pool_2[0][0] \n",
            "__________________________________________________________________________________________________\n",
            "prune_low_magnitude_pool_3 (Pru (None, 5, 4, 60)     1           prune_low_magnitude_conv_3[0][0] \n",
            "__________________________________________________________________________________________________\n",
            "prune_low_magnitude_conv_4 (Pru (None, 4, 3, 80)     38482       prune_low_magnitude_pool_3[0][0] \n",
            "__________________________________________________________________________________________________\n",
            "prune_low_magnitude_flatten_1 ( (None, 1200)         1           prune_low_magnitude_pool_3[0][0] \n",
            "__________________________________________________________________________________________________\n",
            "prune_low_magnitude_flatten_2 ( (None, 960)          1           prune_low_magnitude_conv_4[0][0] \n",
            "__________________________________________________________________________________________________\n",
            "prune_low_magnitude_fc_1 (Prune (None, 160)          384162      prune_low_magnitude_flatten_1[0][\n",
            "__________________________________________________________________________________________________\n",
            "prune_low_magnitude_fc_2 (Prune (None, 160)          307362      prune_low_magnitude_flatten_2[0][\n",
            "__________________________________________________________________________________________________\n",
            "prune_low_magnitude_add_1 (Prun (None, 160)          1           prune_low_magnitude_fc_1[0][0]   \n",
            "                                                                 prune_low_magnitude_fc_2[0][0]   \n",
            "__________________________________________________________________________________________________\n",
            "prune_low_magnitude_activation_ (None, 160)          1           prune_low_magnitude_add_1[0][0]  \n",
            "__________________________________________________________________________________________________\n",
            "prune_low_magnitude_output (Pru (None, 1283)         411845      prune_low_magnitude_activation_1[\n",
            "==================================================================================================\n",
            "Total params: 1,201,504\n",
            "Trainable params: 601,643\n",
            "Non-trainable params: 599,861\n",
            "__________________________________________________________________________________________________\n",
            "model  2 :\n",
            "Model: \"model_1\"\n",
            "__________________________________________________________________________________________________\n",
            "Layer (type)                    Output Shape         Param #     Connected to                     \n",
            "==================================================================================================\n",
            "input (InputLayer)              [(None, 55, 47, 3)]  0                                            \n",
            "__________________________________________________________________________________________________\n",
            "prune_low_magnitude_conv_1 (Pru (None, 52, 44, 20)   1942        input[0][0]                      \n",
            "__________________________________________________________________________________________________\n",
            "prune_low_magnitude_pool_1 (Pru (None, 26, 22, 20)   1           prune_low_magnitude_conv_1[0][0] \n",
            "__________________________________________________________________________________________________\n",
            "prune_low_magnitude_conv_2 (Pru (None, 24, 20, 40)   14442       prune_low_magnitude_pool_1[0][0] \n",
            "__________________________________________________________________________________________________\n",
            "prune_low_magnitude_pool_2 (Pru (None, 12, 10, 40)   1           prune_low_magnitude_conv_2[0][0] \n",
            "__________________________________________________________________________________________________\n",
            "prune_low_magnitude_conv_3 (Pru (None, 10, 8, 60)    43262       prune_low_magnitude_pool_2[0][0] \n",
            "__________________________________________________________________________________________________\n",
            "prune_low_magnitude_pool_3 (Pru (None, 5, 4, 60)     1           prune_low_magnitude_conv_3[0][0] \n",
            "__________________________________________________________________________________________________\n",
            "prune_low_magnitude_conv_4 (Pru (None, 4, 3, 80)     38482       prune_low_magnitude_pool_3[0][0] \n",
            "__________________________________________________________________________________________________\n",
            "prune_low_magnitude_flatten_1 ( (None, 1200)         1           prune_low_magnitude_pool_3[0][0] \n",
            "__________________________________________________________________________________________________\n",
            "prune_low_magnitude_flatten_2 ( (None, 960)          1           prune_low_magnitude_conv_4[0][0] \n",
            "__________________________________________________________________________________________________\n",
            "prune_low_magnitude_fc_1 (Prune (None, 160)          384162      prune_low_magnitude_flatten_1[0][\n",
            "__________________________________________________________________________________________________\n",
            "prune_low_magnitude_fc_2 (Prune (None, 160)          307362      prune_low_magnitude_flatten_2[0][\n",
            "__________________________________________________________________________________________________\n",
            "prune_low_magnitude_add_1 (Prun (None, 160)          1           prune_low_magnitude_fc_1[0][0]   \n",
            "                                                                 prune_low_magnitude_fc_2[0][0]   \n",
            "__________________________________________________________________________________________________\n",
            "prune_low_magnitude_activation_ (None, 160)          1           prune_low_magnitude_add_1[0][0]  \n",
            "__________________________________________________________________________________________________\n",
            "prune_low_magnitude_output (Pru (None, 1283)         411845      prune_low_magnitude_activation_1[\n",
            "==================================================================================================\n",
            "Total params: 1,201,504\n",
            "Trainable params: 601,643\n",
            "Non-trainable params: 599,861\n",
            "__________________________________________________________________________________________________\n"
          ],
          "name": "stdout"
        }
      ]
    },
    {
      "cell_type": "markdown",
      "metadata": {
        "id": "UjycRd8lzlHx"
      },
      "source": [
        "##Fine-tuning"
      ]
    },
    {
      "cell_type": "code",
      "metadata": {
        "colab": {
          "base_uri": "https://localhost:8080/"
        },
        "id": "TGYCEOYxzpcr",
        "outputId": "54b451fa-8242-4e09-8dcc-ccbc4a34298c"
      },
      "source": [
        "for i, m in enumerate(pruned_models):\n",
        "    m.compile(optimizer=keras.optimizers.Adam(1e-6),\n",
        "              loss=tf.keras.losses.categorical_crossentropy,\n",
        "              metrics=['accuracy']\n",
        "              )\n",
        "    model_for_pruning.fit(test_clean['data'], yTest,\n",
        "                          epochs=10\n",
        "                          )"
      ],
      "execution_count": 11,
      "outputs": [
        {
          "output_type": "stream",
          "text": [
            "Epoch 1/10\n",
            "401/401 [==============================] - 5s 12ms/step - loss: 2.9346 - accuracy: 0.9491\n",
            "Epoch 2/10\n",
            "401/401 [==============================] - 5s 12ms/step - loss: 1.8096 - accuracy: 0.9617\n",
            "Epoch 3/10\n",
            "401/401 [==============================] - 5s 12ms/step - loss: 1.8066 - accuracy: 0.9637\n",
            "Epoch 4/10\n",
            "401/401 [==============================] - 5s 12ms/step - loss: 1.4160 - accuracy: 0.9670\n",
            "Epoch 5/10\n",
            "401/401 [==============================] - 5s 12ms/step - loss: 1.4274 - accuracy: 0.9627\n",
            "Epoch 6/10\n",
            "401/401 [==============================] - 5s 12ms/step - loss: 1.2406 - accuracy: 0.9620\n",
            "Epoch 7/10\n",
            "401/401 [==============================] - 5s 12ms/step - loss: 0.9613 - accuracy: 0.9663\n",
            "Epoch 8/10\n",
            "401/401 [==============================] - 5s 12ms/step - loss: 0.8585 - accuracy: 0.9684\n",
            "Epoch 9/10\n",
            "401/401 [==============================] - 5s 12ms/step - loss: 0.8159 - accuracy: 0.9683\n",
            "Epoch 10/10\n",
            "401/401 [==============================] - 5s 12ms/step - loss: 0.6872 - accuracy: 0.9686\n",
            "Epoch 1/10\n",
            "401/401 [==============================] - 5s 12ms/step - loss: 0.8752 - accuracy: 0.9584\n",
            "Epoch 2/10\n",
            "401/401 [==============================] - 5s 12ms/step - loss: 0.6443 - accuracy: 0.9665\n",
            "Epoch 3/10\n",
            "401/401 [==============================] - 5s 12ms/step - loss: 0.4611 - accuracy: 0.9723\n",
            "Epoch 4/10\n",
            "401/401 [==============================] - 5s 12ms/step - loss: 0.4893 - accuracy: 0.9698\n",
            "Epoch 5/10\n",
            "401/401 [==============================] - 5s 12ms/step - loss: 0.3625 - accuracy: 0.9737\n",
            "Epoch 6/10\n",
            "401/401 [==============================] - 5s 12ms/step - loss: 0.4051 - accuracy: 0.9700\n",
            "Epoch 7/10\n",
            "401/401 [==============================] - 5s 12ms/step - loss: 0.3109 - accuracy: 0.9712\n",
            "Epoch 8/10\n",
            "401/401 [==============================] - 5s 12ms/step - loss: 0.3329 - accuracy: 0.9691\n",
            "Epoch 9/10\n",
            "401/401 [==============================] - 5s 12ms/step - loss: 0.3960 - accuracy: 0.9648\n",
            "Epoch 10/10\n",
            "401/401 [==============================] - 5s 12ms/step - loss: 0.2839 - accuracy: 0.9705\n",
            "Epoch 1/10\n",
            "401/401 [==============================] - 7s 12ms/step - loss: 0.2705 - accuracy: 0.9690\n",
            "Epoch 2/10\n",
            "401/401 [==============================] - 5s 12ms/step - loss: 0.2293 - accuracy: 0.9752\n",
            "Epoch 3/10\n",
            "401/401 [==============================] - 5s 12ms/step - loss: 0.2122 - accuracy: 0.9758\n",
            "Epoch 4/10\n",
            "401/401 [==============================] - 5s 12ms/step - loss: 0.1962 - accuracy: 0.9770\n",
            "Epoch 5/10\n",
            "401/401 [==============================] - 5s 12ms/step - loss: 0.1790 - accuracy: 0.9790\n",
            "Epoch 6/10\n",
            "401/401 [==============================] - 5s 12ms/step - loss: 0.1806 - accuracy: 0.9788\n",
            "Epoch 7/10\n",
            "401/401 [==============================] - 5s 12ms/step - loss: 0.1557 - accuracy: 0.9794\n",
            "Epoch 8/10\n",
            "401/401 [==============================] - 5s 12ms/step - loss: 0.1341 - accuracy: 0.9841\n",
            "Epoch 9/10\n",
            "401/401 [==============================] - 5s 12ms/step - loss: 0.1647 - accuracy: 0.9813\n",
            "Epoch 10/10\n",
            "401/401 [==============================] - 5s 13ms/step - loss: 0.1564 - accuracy: 0.9820\n"
          ],
          "name": "stdout"
        }
      ]
    },
    {
      "cell_type": "markdown",
      "metadata": {
        "id": "H-3D82TJl3tr"
      },
      "source": [
        "##Validation"
      ]
    },
    {
      "cell_type": "code",
      "metadata": {
        "colab": {
          "base_uri": "https://localhost:8080/"
        },
        "id": "fAFhYNs5l8xS",
        "outputId": "9e7f0870-9eb1-43b8-edd1-e5828a25e911"
      },
      "source": [
        "##Intermediate quick evalution using built-in Keras functions and the poisoned set\n",
        "\n",
        "for i, m in enumerate(pruned_models):\n",
        "    print(\"model \", i, \"Accurcy on clean validation set: \")\n",
        "    m.evaluate(valid_clean['data'], yValid) \n",
        "    print(\"model \", i, \"Accurcy on poisoned set: \")\n",
        "    m.evaluate(SG_poisoned['data'], ySG) "
      ],
      "execution_count": 12,
      "outputs": [
        {
          "output_type": "stream",
          "text": [
            "model  0 Accurcy on clean validation set: \n",
            "361/361 [==============================] - 2s 4ms/step - loss: 8.7659 - accuracy: 0.9093\n",
            "model  0 Accurcy on poisoned set: \n",
            "401/401 [==============================] - 2s 4ms/step - loss: 2026.4587 - accuracy: 0.0000e+00\n",
            "model  1 Accurcy on clean validation set: \n",
            "361/361 [==============================] - 2s 4ms/step - loss: 5.4992 - accuracy: 0.8847\n",
            "model  1 Accurcy on poisoned set: \n",
            "401/401 [==============================] - 2s 4ms/step - loss: 30.0270 - accuracy: 0.5190\n",
            "model  2 Accurcy on clean validation set: \n",
            "361/361 [==============================] - 2s 4ms/step - loss: 2.6118 - accuracy: 0.8869\n",
            "model  2 Accurcy on poisoned set: \n",
            "401/401 [==============================] - 2s 4ms/step - loss: 445.1712 - accuracy: 0.0000e+00\n"
          ],
          "name": "stdout"
        }
      ]
    }
  ]
}