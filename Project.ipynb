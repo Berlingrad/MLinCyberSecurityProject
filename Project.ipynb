{
  "nbformat": 4,
  "nbformat_minor": 0,
  "metadata": {
    "colab": {
      "name": "Project.ipynb",
      "provenance": [],
      "collapsed_sections": [],
      "toc_visible": true,
      "include_colab_link": true
    },
    "kernelspec": {
      "display_name": "Python 3",
      "name": "python3"
    },
    "accelerator": "GPU"
  },
  "cells": [
    {
      "cell_type": "markdown",
      "metadata": {
        "id": "view-in-github",
        "colab_type": "text"
      },
      "source": [
        "<a href=\"https://colab.research.google.com/github/Berlingrad/MLinCyberSecurityProject/blob/main/Project.ipynb\" target=\"_parent\"><img src=\"https://colab.research.google.com/assets/colab-badge.svg\" alt=\"Open In Colab\"/></a>"
      ]
    },
    {
      "cell_type": "markdown",
      "metadata": {
        "id": "HGclO6eUuymx"
      },
      "source": [
        "#DNN Back Door Detector"
      ]
    },
    {
      "cell_type": "markdown",
      "metadata": {
        "id": "UNYtyNsgvHRl"
      },
      "source": [
        "## Preprocessing"
      ]
    },
    {
      "cell_type": "markdown",
      "metadata": {
        "id": "GiqLPbbVLs-w"
      },
      "source": [
        "###Data Download\r\n",
        "Clone the CSAW competition repo and download provided datasets from the Google drive. Downloaded data are moved <code>/content/CSAW-HackML-2020/data</code> directory."
      ]
    },
    {
      "cell_type": "code",
      "metadata": {
        "colab": {
          "base_uri": "https://localhost:8080/"
        },
        "id": "puVie2-guvOg",
        "outputId": "1dfea250-c3dd-472f-addb-c23d9f6544f2"
      },
      "source": [
        "!git clone https://github.com/csaw-hackml/CSAW-HackML-2020.git\n",
        "\n",
        "!gdown https://drive.google.com/uc?id=1-ay0w_hgTMo6ZNxb7CZhqxWZhkMj1I6Z\n",
        "!gdown https://drive.google.com/uc?id=1A1CnWy2N1gjzWO6ZEUgiQ-LOAMgKvElL\n",
        "!gdown https://drive.google.com/uc?id=1ZH7jMGEKhtmI-K0Jw-oKv843jxs-_kkI\n",
        "!gdown https://drive.google.com/uc?id=1Sw77QLiBn-FuXpPXnas-Gdo3M_aQBD_H\n",
        "\n",
        "!mv /content/*.h5 /content/CSAW-HackML-2020/data\n",
        "\n",
        "!cp -r CSAW-HackML-2020/models ../\n"
      ],
      "execution_count": null,
      "outputs": [
        {
          "output_type": "stream",
          "text": [
            "Cloning into 'CSAW-HackML-2020'...\n",
            "remote: Enumerating objects: 164, done.\u001b[K\n",
            "remote: Total 164 (delta 0), reused 0 (delta 0), pack-reused 164\u001b[K\n",
            "Receiving objects: 100% (164/164), 79.56 MiB | 38.07 MiB/s, done.\n",
            "Resolving deltas: 100% (55/55), done.\n",
            "Downloading...\n",
            "From: https://drive.google.com/uc?id=1-ay0w_hgTMo6ZNxb7CZhqxWZhkMj1I6Z\n",
            "To: /content/clean_test_data.h5\n",
            "398MB [00:03, 127MB/s]\n",
            "Downloading...\n",
            "From: https://drive.google.com/uc?id=1A1CnWy2N1gjzWO6ZEUgiQ-LOAMgKvElL\n",
            "To: /content/clean_validation_data.h5\n",
            "716MB [00:04, 167MB/s]\n",
            "Downloading...\n",
            "From: https://drive.google.com/uc?id=1ZH7jMGEKhtmI-K0Jw-oKv843jxs-_kkI\n",
            "To: /content/sunglasses_poisoned_data.h5\n",
            "398MB [00:10, 39.4MB/s]\n",
            "Downloading...\n",
            "From: https://drive.google.com/uc?id=1Sw77QLiBn-FuXpPXnas-Gdo3M_aQBD_H\n",
            "To: /content/anonymous_1_poisoned_data.h5\n",
            "637MB [00:14, 31.5MB/s]\n"
          ],
          "name": "stdout"
        }
      ]
    },
    {
      "cell_type": "code",
      "metadata": {
        "colab": {
          "base_uri": "https://localhost:8080/"
        },
        "id": "C1skH0vBC7pl",
        "outputId": "a86106c7-1070-45af-e97a-8a926d740d04"
      },
      "source": [
        "import os\n",
        "import gdown\n",
        "import numpy as np\n",
        "import random\n",
        "import h5py\n",
        "import glob2\n",
        "import tempfile\n",
        "import copy\n",
        "\n",
        "import keras\n",
        "import tensorflow as tf\n",
        "from keras.models import load_model\n",
        "from keras.preprocessing.image import ImageDataGenerator\n",
        "!pip install -q tensorflow-model-optimization\n",
        "import tensorflow_model_optimization as tfmot\n",
        "\n",
        "##check\n",
        "if not tf.config.experimental.list_physical_devices('GPU'):\n",
        "    raise Exception(\"Please change runtime type to GPU\")"
      ],
      "execution_count": null,
      "outputs": [
        {
          "output_type": "stream",
          "text": [
            "\u001b[?25l\r\u001b[K     |██                              | 10kB 25.7MB/s eta 0:00:01\r\u001b[K     |███▉                            | 20kB 19.9MB/s eta 0:00:01\r\u001b[K     |█████▊                          | 30kB 10.9MB/s eta 0:00:01\r\u001b[K     |███████▋                        | 40kB 8.8MB/s eta 0:00:01\r\u001b[K     |█████████▌                      | 51kB 4.3MB/s eta 0:00:01\r\u001b[K     |███████████▍                    | 61kB 4.4MB/s eta 0:00:01\r\u001b[K     |█████████████▎                  | 71kB 4.9MB/s eta 0:00:01\r\u001b[K     |███████████████▏                | 81kB 5.1MB/s eta 0:00:01\r\u001b[K     |█████████████████               | 92kB 5.4MB/s eta 0:00:01\r\u001b[K     |███████████████████             | 102kB 4.2MB/s eta 0:00:01\r\u001b[K     |████████████████████▉           | 112kB 4.2MB/s eta 0:00:01\r\u001b[K     |██████████████████████▊         | 122kB 4.2MB/s eta 0:00:01\r\u001b[K     |████████████████████████▊       | 133kB 4.2MB/s eta 0:00:01\r\u001b[K     |██████████████████████████▋     | 143kB 4.2MB/s eta 0:00:01\r\u001b[K     |████████████████████████████▌   | 153kB 4.2MB/s eta 0:00:01\r\u001b[K     |██████████████████████████████▍ | 163kB 4.2MB/s eta 0:00:01\r\u001b[K     |████████████████████████████████| 174kB 4.2MB/s \n",
            "\u001b[?25h"
          ],
          "name": "stdout"
        }
      ]
    },
    {
      "cell_type": "markdown",
      "metadata": {
        "id": "gmVSVEk9kTs4"
      },
      "source": [
        "Functions for loading and decompresssing data and models from h5 format. If you added a dataset, simply run load_dataset with the path to the h5"
      ]
    },
    {
      "cell_type": "code",
      "metadata": {
        "id": "yPkj0u-5F2Be"
      },
      "source": [
        "def load_dataset(data_filename, keys=None):\n",
        "    dataset = {}\n",
        "    nClass = 1283\n",
        "    with h5py.File(data_filename, 'r') as hf:\n",
        "        if keys is None:\n",
        "            for name in hf:\n",
        "                dataset[name] = np.array(hf.get(name))\n",
        "        else:\n",
        "            for name in keys:\n",
        "                dataset[name] = np.array(hf.get(name))\n",
        "                \n",
        "        dataset['data'] /= 255\n",
        "\n",
        "        y = np.zeros((dataset['label'].shape[0], nClass))\n",
        "\n",
        "        for i in range(dataset['label'].shape[0]):\n",
        "            y[i][int(dataset['label'][i])] = 1\n",
        "\n",
        "        dataset['data'] = dataset['data'].transpose((0,2,3,1))\n",
        "        dataset['label'] = y\n",
        "        x = dataset['data']\n",
        "\n",
        "    return x, y, dataset\n",
        "\n",
        "def load_models(model_dir):\n",
        "    models = []\n",
        "    names = {}\n",
        "\n",
        "    for i, net in enumerate(glob2.glob(\"/content/CSAW-HackML-2020/models/*net.h5\")):\n",
        "        print(\"loading\", net)\n",
        "        weights = glob2.glob(net.split(\"_\")[0]+\"*weights.h5\")[0]\n",
        "       \n",
        "        m = load_model(net)\n",
        "        m.load_weights(weights)\n",
        "\n",
        "        models.append(m)\n",
        "        \n",
        "        names[i] = os.path.basename(net).split(\".\")[0]\n",
        "    return models, names"
      ],
      "execution_count": null,
      "outputs": []
    },
    {
      "cell_type": "markdown",
      "metadata": {
        "id": "14Ae9mRxBWyV"
      },
      "source": [
        "###Load Data"
      ]
    },
    {
      "cell_type": "code",
      "metadata": {
        "id": "cNQ8-t0pDYY5"
      },
      "source": [
        "SG_poisoned_path = \"/content/CSAW-HackML-2020/data/sunglasses_poisoned_data.h5\"\n",
        "xSG, ySG, SG_poisoned = load_dataset(SG_poisoned_path)\n",
        "\n",
        "clean_validation_path = \"/content/CSAW-HackML-2020/data/clean_validation_data.h5\"\n",
        "xValid, yValid, valid_clean = load_dataset(clean_validation_path)\n",
        "\n",
        "clean_test_path = \"/content/CSAW-HackML-2020/data/clean_test_data.h5\"\n",
        "xTest, yTest, test_clean = load_dataset(clean_test_path)\n",
        "\n",
        "anon_poisoned_path = \"/content/CSAW-HackML-2020/data/anonymous_1_poisoned_data.h5\"\n",
        "xAnon, yAnon, anon_poisoned = load_dataset(anon_poisoned_path)\n"
      ],
      "execution_count": null,
      "outputs": []
    },
    {
      "cell_type": "markdown",
      "metadata": {
        "id": "s5VA8NPX67_C"
      },
      "source": [
        "####Mixed final test data\r\n",
        "Mix the sunglass poinsoned images with clean test images from test set to create a final validation set. Warning: may cause crash due to RAM shortage."
      ]
    },
    {
      "cell_type": "code",
      "metadata": {
        "id": "pH_CUYpG7CBG"
      },
      "source": [
        "##TODO\r\n",
        "def mix_dataset(A, B):\r\n",
        "    nSample = A['data'].shape[0] + B['data'].shape[0] \r\n",
        "    offset = A['data'].shape[0]\r\n",
        "    xShape = (nSample, 55, 47, 3)\r\n",
        "    yShape = (nSample, 1283+1)\r\n",
        "    xOut = np.zeros(xShape)\r\n",
        "    yOut = np.zeros(yShape)\r\n",
        "\r\n",
        "    iOut = [i for i in range(nSample)]\r\n",
        "    random.shuffle(iOut)\r\n",
        "\r\n",
        "    for i in iOut:\r\n",
        "        if i >= offset:\r\n",
        "\r\n",
        "            xOut[i] = B['data'][i-offset]\r\n",
        "\r\n",
        "            if np.argmax(B['label'][i-offset]) != 0:\r\n",
        "                yOut[i] = np.append(B['label'][i-offset], [0])\r\n",
        "\r\n",
        "            else:\r\n",
        "                yOut[i][-1] = 0\r\n",
        "            \r\n",
        "        else:\r\n",
        "            xOut[i] = A['data'][i]\r\n",
        "            if np.argmax(A['label'][i]) != 0:\r\n",
        "                yOut[i] = np.append(A['label'][i], [0])\r\n",
        "            else:\r\n",
        "                yOut[i][-1] = 0\r\n",
        "\r\n",
        "    return xOut, yOut "
      ],
      "execution_count": null,
      "outputs": []
    },
    {
      "cell_type": "code",
      "metadata": {
        "id": "qXEQHDo4iyBs"
      },
      "source": [
        "##xSGmixed, ySGmixed = mix_dataset(SG_poisoned, test_clean)"
      ],
      "execution_count": null,
      "outputs": []
    },
    {
      "cell_type": "markdown",
      "metadata": {
        "id": "khtwl8GCIYku"
      },
      "source": [
        "###Load Models\r\n",
        "Load all Badnet models under <code>/content/CSAW-HackML-2020/models</code> directory. "
      ]
    },
    {
      "cell_type": "code",
      "metadata": {
        "colab": {
          "base_uri": "https://localhost:8080/"
        },
        "id": "hqfW9ZeHJGF4",
        "outputId": "7f7a1153-fec1-4d5c-d5ef-0d323a6ac586"
      },
      "source": [
        "\n",
        "model_dir = \"/content/CSAW-HackML-2020/models\"\n",
        "\n",
        "models, model_names = load_models(model_dir)\n",
        "\n",
        "model_names.values()\n"
      ],
      "execution_count": null,
      "outputs": [
        {
          "output_type": "stream",
          "text": [
            "loading /content/CSAW-HackML-2020/models/multi_trigger_multi_target_bd_net.h5\n",
            "loading /content/CSAW-HackML-2020/models/anonymous_2_bd_net.h5\n",
            "loading /content/CSAW-HackML-2020/models/sunglasses_bd_net.h5\n",
            "loading /content/CSAW-HackML-2020/models/anonymous_1_bd_net.h5\n"
          ],
          "name": "stdout"
        },
        {
          "output_type": "execute_result",
          "data": {
            "text/plain": [
              "dict_values(['multi_trigger_multi_target_bd_net', 'anonymous_2_bd_net', 'sunglasses_bd_net', 'anonymous_1_bd_net'])"
            ]
          },
          "metadata": {
            "tags": []
          },
          "execution_count": 7
        }
      ]
    },
    {
      "cell_type": "markdown",
      "metadata": {
        "id": "mzKRM8bg8Om1"
      },
      "source": [
        "### Model Summary"
      ]
    },
    {
      "cell_type": "code",
      "metadata": {
        "colab": {
          "base_uri": "https://localhost:8080/"
        },
        "id": "oT6zOYgL8Nmk",
        "outputId": "8a30c1bf-b803-4c7e-9632-db77a7376205"
      },
      "source": [
        "##TODO\n",
        "for i, model in enumerate(models):\n",
        "    print(\"model \", i, \":\")\n",
        "    model.summary()\n",
        "\n",
        "     "
      ],
      "execution_count": null,
      "outputs": [
        {
          "output_type": "stream",
          "text": [
            "model  0 :\n",
            "Model: \"model_1\"\n",
            "__________________________________________________________________________________________________\n",
            "Layer (type)                    Output Shape         Param #     Connected to                     \n",
            "==================================================================================================\n",
            "input (InputLayer)              [(None, 55, 47, 3)]  0                                            \n",
            "__________________________________________________________________________________________________\n",
            "conv_1 (Conv2D)                 (None, 52, 44, 20)   980         input[0][0]                      \n",
            "__________________________________________________________________________________________________\n",
            "pool_1 (MaxPooling2D)           (None, 26, 22, 20)   0           conv_1[0][0]                     \n",
            "__________________________________________________________________________________________________\n",
            "conv_2 (Conv2D)                 (None, 24, 20, 40)   7240        pool_1[0][0]                     \n",
            "__________________________________________________________________________________________________\n",
            "pool_2 (MaxPooling2D)           (None, 12, 10, 40)   0           conv_2[0][0]                     \n",
            "__________________________________________________________________________________________________\n",
            "conv_3 (Conv2D)                 (None, 10, 8, 60)    21660       pool_2[0][0]                     \n",
            "__________________________________________________________________________________________________\n",
            "pool_3 (MaxPooling2D)           (None, 5, 4, 60)     0           conv_3[0][0]                     \n",
            "__________________________________________________________________________________________________\n",
            "conv_4 (Conv2D)                 (None, 4, 3, 80)     19280       pool_3[0][0]                     \n",
            "__________________________________________________________________________________________________\n",
            "flatten_1 (Flatten)             (None, 1200)         0           pool_3[0][0]                     \n",
            "__________________________________________________________________________________________________\n",
            "flatten_2 (Flatten)             (None, 960)          0           conv_4[0][0]                     \n",
            "__________________________________________________________________________________________________\n",
            "fc_1 (Dense)                    (None, 160)          192160      flatten_1[0][0]                  \n",
            "__________________________________________________________________________________________________\n",
            "fc_2 (Dense)                    (None, 160)          153760      flatten_2[0][0]                  \n",
            "__________________________________________________________________________________________________\n",
            "add_1 (Add)                     (None, 160)          0           fc_1[0][0]                       \n",
            "                                                                 fc_2[0][0]                       \n",
            "__________________________________________________________________________________________________\n",
            "activation_1 (Activation)       (None, 160)          0           add_1[0][0]                      \n",
            "__________________________________________________________________________________________________\n",
            "output (Dense)                  (None, 1283)         206563      activation_1[0][0]               \n",
            "==================================================================================================\n",
            "Total params: 601,643\n",
            "Trainable params: 601,643\n",
            "Non-trainable params: 0\n",
            "__________________________________________________________________________________________________\n",
            "model  1 :\n",
            "Model: \"model_1\"\n",
            "__________________________________________________________________________________________________\n",
            "Layer (type)                    Output Shape         Param #     Connected to                     \n",
            "==================================================================================================\n",
            "input (InputLayer)              [(None, 55, 47, 3)]  0                                            \n",
            "__________________________________________________________________________________________________\n",
            "conv_1 (Conv2D)                 (None, 52, 44, 20)   980         input[0][0]                      \n",
            "__________________________________________________________________________________________________\n",
            "pool_1 (MaxPooling2D)           (None, 26, 22, 20)   0           conv_1[0][0]                     \n",
            "__________________________________________________________________________________________________\n",
            "conv_2 (Conv2D)                 (None, 24, 20, 40)   7240        pool_1[0][0]                     \n",
            "__________________________________________________________________________________________________\n",
            "pool_2 (MaxPooling2D)           (None, 12, 10, 40)   0           conv_2[0][0]                     \n",
            "__________________________________________________________________________________________________\n",
            "conv_3 (Conv2D)                 (None, 10, 8, 60)    21660       pool_2[0][0]                     \n",
            "__________________________________________________________________________________________________\n",
            "pool_3 (MaxPooling2D)           (None, 5, 4, 60)     0           conv_3[0][0]                     \n",
            "__________________________________________________________________________________________________\n",
            "conv_4 (Conv2D)                 (None, 4, 3, 80)     19280       pool_3[0][0]                     \n",
            "__________________________________________________________________________________________________\n",
            "flatten_1 (Flatten)             (None, 1200)         0           pool_3[0][0]                     \n",
            "__________________________________________________________________________________________________\n",
            "flatten_2 (Flatten)             (None, 960)          0           conv_4[0][0]                     \n",
            "__________________________________________________________________________________________________\n",
            "fc_1 (Dense)                    (None, 160)          192160      flatten_1[0][0]                  \n",
            "__________________________________________________________________________________________________\n",
            "fc_2 (Dense)                    (None, 160)          153760      flatten_2[0][0]                  \n",
            "__________________________________________________________________________________________________\n",
            "add_1 (Add)                     (None, 160)          0           fc_1[0][0]                       \n",
            "                                                                 fc_2[0][0]                       \n",
            "__________________________________________________________________________________________________\n",
            "activation_1 (Activation)       (None, 160)          0           add_1[0][0]                      \n",
            "__________________________________________________________________________________________________\n",
            "output (Dense)                  (None, 1283)         206563      activation_1[0][0]               \n",
            "==================================================================================================\n",
            "Total params: 601,643\n",
            "Trainable params: 601,643\n",
            "Non-trainable params: 0\n",
            "__________________________________________________________________________________________________\n",
            "model  2 :\n",
            "Model: \"model_1\"\n",
            "__________________________________________________________________________________________________\n",
            "Layer (type)                    Output Shape         Param #     Connected to                     \n",
            "==================================================================================================\n",
            "input (InputLayer)              [(None, 55, 47, 3)]  0                                            \n",
            "__________________________________________________________________________________________________\n",
            "conv_1 (Conv2D)                 (None, 52, 44, 20)   980         input[0][0]                      \n",
            "__________________________________________________________________________________________________\n",
            "pool_1 (MaxPooling2D)           (None, 26, 22, 20)   0           conv_1[0][0]                     \n",
            "__________________________________________________________________________________________________\n",
            "conv_2 (Conv2D)                 (None, 24, 20, 40)   7240        pool_1[0][0]                     \n",
            "__________________________________________________________________________________________________\n",
            "pool_2 (MaxPooling2D)           (None, 12, 10, 40)   0           conv_2[0][0]                     \n",
            "__________________________________________________________________________________________________\n",
            "conv_3 (Conv2D)                 (None, 10, 8, 60)    21660       pool_2[0][0]                     \n",
            "__________________________________________________________________________________________________\n",
            "pool_3 (MaxPooling2D)           (None, 5, 4, 60)     0           conv_3[0][0]                     \n",
            "__________________________________________________________________________________________________\n",
            "conv_4 (Conv2D)                 (None, 4, 3, 80)     19280       pool_3[0][0]                     \n",
            "__________________________________________________________________________________________________\n",
            "flatten_1 (Flatten)             (None, 1200)         0           pool_3[0][0]                     \n",
            "__________________________________________________________________________________________________\n",
            "flatten_2 (Flatten)             (None, 960)          0           conv_4[0][0]                     \n",
            "__________________________________________________________________________________________________\n",
            "fc_1 (Dense)                    (None, 160)          192160      flatten_1[0][0]                  \n",
            "__________________________________________________________________________________________________\n",
            "fc_2 (Dense)                    (None, 160)          153760      flatten_2[0][0]                  \n",
            "__________________________________________________________________________________________________\n",
            "add_1 (Add)                     (None, 160)          0           fc_1[0][0]                       \n",
            "                                                                 fc_2[0][0]                       \n",
            "__________________________________________________________________________________________________\n",
            "activation_1 (Activation)       (None, 160)          0           add_1[0][0]                      \n",
            "__________________________________________________________________________________________________\n",
            "output (Dense)                  (None, 1283)         206563      activation_1[0][0]               \n",
            "==================================================================================================\n",
            "Total params: 601,643\n",
            "Trainable params: 601,643\n",
            "Non-trainable params: 0\n",
            "__________________________________________________________________________________________________\n",
            "model  3 :\n",
            "Model: \"model_1\"\n",
            "__________________________________________________________________________________________________\n",
            "Layer (type)                    Output Shape         Param #     Connected to                     \n",
            "==================================================================================================\n",
            "input (InputLayer)              [(None, 55, 47, 3)]  0                                            \n",
            "__________________________________________________________________________________________________\n",
            "conv_1 (Conv2D)                 (None, 52, 44, 20)   980         input[0][0]                      \n",
            "__________________________________________________________________________________________________\n",
            "pool_1 (MaxPooling2D)           (None, 26, 22, 20)   0           conv_1[0][0]                     \n",
            "__________________________________________________________________________________________________\n",
            "conv_2 (Conv2D)                 (None, 24, 20, 40)   7240        pool_1[0][0]                     \n",
            "__________________________________________________________________________________________________\n",
            "pool_2 (MaxPooling2D)           (None, 12, 10, 40)   0           conv_2[0][0]                     \n",
            "__________________________________________________________________________________________________\n",
            "conv_3 (Conv2D)                 (None, 10, 8, 60)    21660       pool_2[0][0]                     \n",
            "__________________________________________________________________________________________________\n",
            "pool_3 (MaxPooling2D)           (None, 5, 4, 60)     0           conv_3[0][0]                     \n",
            "__________________________________________________________________________________________________\n",
            "conv_4 (Conv2D)                 (None, 4, 3, 80)     19280       pool_3[0][0]                     \n",
            "__________________________________________________________________________________________________\n",
            "flatten_1 (Flatten)             (None, 1200)         0           pool_3[0][0]                     \n",
            "__________________________________________________________________________________________________\n",
            "flatten_2 (Flatten)             (None, 960)          0           conv_4[0][0]                     \n",
            "__________________________________________________________________________________________________\n",
            "fc_1 (Dense)                    (None, 160)          192160      flatten_1[0][0]                  \n",
            "__________________________________________________________________________________________________\n",
            "fc_2 (Dense)                    (None, 160)          153760      flatten_2[0][0]                  \n",
            "__________________________________________________________________________________________________\n",
            "add_1 (Add)                     (None, 160)          0           fc_1[0][0]                       \n",
            "                                                                 fc_2[0][0]                       \n",
            "__________________________________________________________________________________________________\n",
            "activation_1 (Activation)       (None, 160)          0           add_1[0][0]                      \n",
            "__________________________________________________________________________________________________\n",
            "output (Dense)                  (None, 1283)         206563      activation_1[0][0]               \n",
            "==================================================================================================\n",
            "Total params: 601,643\n",
            "Trainable params: 601,643\n",
            "Non-trainable params: 0\n",
            "__________________________________________________________________________________________________\n"
          ],
          "name": "stdout"
        }
      ]
    },
    {
      "cell_type": "code",
      "metadata": {
        "id": "ktTaXUpx1xNw"
      },
      "source": [
        "def validate_model(y, y_hat):\r\n",
        "    ##compute model accuracy based vectorized output\r\n",
        "    n = 0\r\n",
        "    for i, v in enumerate(y):\r\n",
        "        correct = 1 if np.argmax(v) == np.argmax(y_hat[i]) else 0\r\n",
        "        n+= correct \r\n",
        "    return n/(i + 1)\r\n",
        "    \r\n",
        "    "
      ],
      "execution_count": null,
      "outputs": []
    },
    {
      "cell_type": "markdown",
      "metadata": {
        "id": "j5254HZpCQ10"
      },
      "source": [
        "####Evaluate loaded models on poisoned data.\r\n",
        "\r\n",
        " Note poisoned data will not involved in the repairing process. We are evaluating it to set baselines, Later we will use the results to validate our method "
      ]
    },
    {
      "cell_type": "code",
      "metadata": {
        "id": "Y0qHGnYtB39O",
        "colab": {
          "base_uri": "https://localhost:8080/"
        },
        "outputId": "231ce246-b107-4971-9461-9d3a740c70be"
      },
      "source": [
        "for i, m in enumerate(models):\r\n",
        "    tf.keras.backend.clear_session()\r\n",
        "    predClean = m.predict(xTest)\r\n",
        "    predSG = m.predict(xSG)\r\n",
        "    predAnon = m.predict(xAnon)\r\n",
        "    print(\"badnet\", model_names[i], \"accuracy on clean test set: \", validate_model(predClean, yTest))\r\n",
        "    print(\"badnet\", model_names[i], \"accuracy on sunglass poisoned set: \", validate_model(predSG, ySG))\r\n",
        "    print(\"badnet\", model_names[i], \"accuracy on anonumous poisoned set: \", validate_model(predAnon, yAnon))"
      ],
      "execution_count": null,
      "outputs": [
        {
          "output_type": "stream",
          "text": [
            "badnet multi_trigger_multi_target_bd_net accuracy on clean test set:  0.9600935307872175\n",
            "badnet multi_trigger_multi_target_bd_net accuracy on sunglass poisoned set:  0.0\n",
            "badnet multi_trigger_multi_target_bd_net accuracy on anonumous poisoned set:  0.0\n",
            "badnet anonymous_2_bd_net accuracy on clean test set:  0.9596258768511302\n",
            "badnet anonymous_2_bd_net accuracy on sunglass poisoned set:  0.0\n",
            "badnet anonymous_2_bd_net accuracy on anonumous poisoned set:  0.0\n",
            "badnet sunglasses_bd_net accuracy on clean test set:  0.9777864380358535\n",
            "badnet sunglasses_bd_net accuracy on sunglass poisoned set:  0.9999220576773188\n",
            "badnet sunglasses_bd_net accuracy on anonumous poisoned set:  0.0010717069368667187\n",
            "badnet anonymous_1_bd_net accuracy on clean test set:  0.9596258768511302\n",
            "badnet anonymous_1_bd_net accuracy on sunglass poisoned set:  0.0\n",
            "badnet anonymous_1_bd_net accuracy on anonumous poisoned set:  0.0\n"
          ],
          "name": "stdout"
        }
      ]
    },
    {
      "cell_type": "markdown",
      "metadata": {
        "id": "E4684QCsOVcw"
      },
      "source": [
        "###Save pre-repaired results\r\n",
        "For later poisoned image detection."
      ]
    },
    {
      "cell_type": "markdown",
      "metadata": {
        "id": "gdsgIRsvENbr"
      },
      "source": [
        "####Anon Poisoned"
      ]
    },
    {
      "cell_type": "code",
      "metadata": {
        "id": "EniU0Pd6OHFB"
      },
      "source": [
        "preds_preprocessed = [] ##test result of the badnets before repair\r\n",
        "\r\n",
        "for i, m in enumerate(models):\r\n",
        "    tf.keras.backend.clear_session() \r\n",
        "    pred = m.predict(xAnon)\r\n",
        "    preds_preprocessed.append(pred)\r\n",
        "\r\n",
        "test_preprocessed = []\r\n",
        "for i, m in enumerate(models):\r\n",
        "    tf.keras.backend.clear_session()\r\n",
        "    pred = m.predict(xTest)\r\n",
        "    test_preprocessed.append(pred)\r\n"
      ],
      "execution_count": null,
      "outputs": []
    },
    {
      "cell_type": "markdown",
      "metadata": {
        "id": "Lcf5r6E_ESno"
      },
      "source": [
        "####test clean"
      ]
    },
    {
      "cell_type": "markdown",
      "metadata": {
        "id": "yv20HKo1n6at"
      },
      "source": [
        "####Load your own data"
      ]
    },
    {
      "cell_type": "code",
      "metadata": {
        "id": "fj5yW6ifle6K",
        "colab": {
          "base_uri": "https://localhost:8080/",
          "height": 52
        },
        "outputId": "3ac53497-1c4f-42c5-de96-2bbe45722d2f"
      },
      "source": [
        "'''\r\n",
        "Path_to_your_data = \r\n",
        "yourX, yourY, yourDataset = load_dataset(Path_to_your_data)\r\n",
        "preds_preprocessed = []\r\n",
        "\r\n",
        "preds_preprocessed = [] ##test result of the badnets before repair\r\n",
        "\r\n",
        "for i, m in enumerate(models):\r\n",
        "    pred = m.predict(yourX)\r\n",
        "    preds_preprocessed.append(pred)\r\n",
        "\r\n",
        "'''"
      ],
      "execution_count": null,
      "outputs": [
        {
          "output_type": "execute_result",
          "data": {
            "application/vnd.google.colaboratory.intrinsic+json": {
              "type": "string"
            },
            "text/plain": [
              "'\\nPath_to_your_data = \\nyourX, yourY, yourDataset = load_dataset(Path_to_your_data)\\npreds_preprocessed = []\\n\\npreds_preprocessed = [] ##test result of the badnets before repair\\n\\nfor i, m in enumerate(models):\\n    pred = m.predict(yourX)\\n    preds_preprocessed.append(pred)\\n\\n'"
            ]
          },
          "metadata": {
            "tags": []
          },
          "execution_count": 12
        }
      ]
    },
    {
      "cell_type": "markdown",
      "metadata": {
        "id": "9EiLz-FrAE6U"
      },
      "source": [
        "##Pruning\r\n",
        "\r\n",
        "Iteratively prune the each base badnet models 3 times with <code>prune_low_magenitue</code> in Keras. The clean Validation set is used for fit. Pruned nets are saved in list <code>pruned_models</code>"
      ]
    },
    {
      "cell_type": "code",
      "metadata": {
        "colab": {
          "base_uri": "https://localhost:8080/"
        },
        "id": "jsOlCu-oAbkR",
        "outputId": "a5e623e8-b560-4f62-a358-591a03397fd1"
      },
      "source": [
        "\n",
        "pruned_models = []\n",
        "for i, base_model in enumerate(models):\n",
        "    for _ in range(3):\n",
        "        model_for_pruning = tfmot.sparsity.keras.prune_low_magnitude(base_model)\n",
        "    \n",
        "        log_dir = tempfile.mkdtemp()\n",
        "        callbacks = [\n",
        "            tfmot.sparsity.keras.UpdatePruningStep(),\n",
        "            tfmot.sparsity.keras.PruningSummaries(log_dir=log_dir)\n",
        "        ]\n",
        "        model_for_pruning.compile(\n",
        "          loss=tf.keras.losses.categorical_crossentropy,\n",
        "          optimizer='adam',\n",
        "          metrics=['accuracy']\n",
        "        )\n",
        "        model_for_pruning.fit(xValid, yValid,\n",
        "                              callbacks=callbacks,\n",
        "                              epochs=2\n",
        "                              )\n",
        "\n",
        "    pruned_models.append(model_for_pruning)"
      ],
      "execution_count": null,
      "outputs": [
        {
          "output_type": "stream",
          "text": [
            "/usr/local/lib/python3.6/dist-packages/tensorflow/python/keras/engine/base_layer.py:2281: UserWarning: `layer.add_variable` is deprecated and will be removed in a future version. Please use `layer.add_weight` method instead.\n",
            "  warnings.warn('`layer.add_variable` is deprecated and '\n"
          ],
          "name": "stderr"
        },
        {
          "output_type": "stream",
          "text": [
            "Epoch 1/2\n",
            "  3/361 [..............................] - ETA: 34s - loss: 0.3744 - accuracy: 0.9410WARNING:tensorflow:Callback method `on_train_batch_end` is slow compared to the batch time (batch time: 0.0129s vs `on_train_batch_end` time: 0.0268s). Check your callbacks.\n",
            "361/361 [==============================] - 8s 15ms/step - loss: 0.4632 - accuracy: 0.9012\n",
            "Epoch 2/2\n",
            "361/361 [==============================] - 5s 14ms/step - loss: 0.0849 - accuracy: 0.9798\n",
            "Epoch 1/2\n",
            "  3/361 [..............................] - ETA: 48s - loss: 0.0071 - accuracy: 1.0000WARNING:tensorflow:Callback method `on_train_batch_end` is slow compared to the batch time (batch time: 0.0118s vs `on_train_batch_end` time: 0.0400s). Check your callbacks.\n",
            "361/361 [==============================] - 8s 15ms/step - loss: 0.1143 - accuracy: 0.9679\n",
            "Epoch 2/2\n",
            "361/361 [==============================] - 5s 14ms/step - loss: 0.0619 - accuracy: 0.9805\n",
            "Epoch 1/2\n",
            "  6/361 [..............................] - ETA: 26s - loss: 0.0314 - accuracy: 0.9860WARNING:tensorflow:Callback method `on_train_batch_end` is slow compared to the batch time (batch time: 0.0125s vs `on_train_batch_end` time: 0.0488s). Check your callbacks.\n",
            "361/361 [==============================] - 8s 17ms/step - loss: 0.0798 - accuracy: 0.9755\n",
            "Epoch 2/2\n",
            "361/361 [==============================] - 5s 15ms/step - loss: 0.0585 - accuracy: 0.9837\n",
            "Epoch 1/2\n",
            "  6/361 [..............................] - ETA: 24s - loss: 0.5869 - accuracy: 0.8878WARNING:tensorflow:Callback method `on_train_batch_end` is slow compared to the batch time (batch time: 0.0138s vs `on_train_batch_end` time: 0.0439s). Check your callbacks.\n",
            "361/361 [==============================] - 8s 15ms/step - loss: 0.4782 - accuracy: 0.8938\n",
            "Epoch 2/2\n",
            "361/361 [==============================] - 5s 14ms/step - loss: 0.0862 - accuracy: 0.9771\n",
            "Epoch 1/2\n",
            "  3/361 [..............................] - ETA: 47s - loss: 0.0428 - accuracy: 0.9878WARNING:tensorflow:Callback method `on_train_batch_end` is slow compared to the batch time (batch time: 0.0113s vs `on_train_batch_end` time: 0.0395s). Check your callbacks.\n",
            "361/361 [==============================] - 8s 15ms/step - loss: 0.1184 - accuracy: 0.9639\n",
            "Epoch 2/2\n",
            "361/361 [==============================] - 5s 14ms/step - loss: 0.0780 - accuracy: 0.9783\n",
            "Epoch 1/2\n",
            "  3/361 [..............................] - ETA: 56s - loss: 0.0052 - accuracy: 1.0000WARNING:tensorflow:Callback method `on_train_batch_end` is slow compared to the batch time (batch time: 0.0116s vs `on_train_batch_end` time: 0.0473s). Check your callbacks.\n",
            "361/361 [==============================] - 8s 15ms/step - loss: 0.0737 - accuracy: 0.9797\n",
            "Epoch 2/2\n",
            "361/361 [==============================] - 5s 14ms/step - loss: 0.0663 - accuracy: 0.9809\n",
            "Epoch 1/2\n",
            "  3/361 [..............................] - ETA: 48s - loss: 0.6889 - accuracy: 0.8715WARNING:tensorflow:Callback method `on_train_batch_end` is slow compared to the batch time (batch time: 0.0109s vs `on_train_batch_end` time: 0.0406s). Check your callbacks.\n",
            "361/361 [==============================] - 8s 15ms/step - loss: 0.8877 - accuracy: 0.8348\n",
            "Epoch 2/2\n",
            "361/361 [==============================] - 5s 14ms/step - loss: 0.1936 - accuracy: 0.9578\n",
            "Epoch 1/2\n",
            "  3/361 [..............................] - ETA: 52s - loss: 0.0848 - accuracy: 0.9896WARNING:tensorflow:Callback method `on_train_batch_end` is slow compared to the batch time (batch time: 0.0109s vs `on_train_batch_end` time: 0.0436s). Check your callbacks.\n",
            "361/361 [==============================] - 8s 15ms/step - loss: 0.2634 - accuracy: 0.9273\n",
            "Epoch 2/2\n",
            "361/361 [==============================] - 5s 14ms/step - loss: 0.1151 - accuracy: 0.9679\n",
            "Epoch 1/2\n",
            "  3/361 [..............................] - ETA: 47s - loss: 0.0357 - accuracy: 0.9809WARNING:tensorflow:Callback method `on_train_batch_end` is slow compared to the batch time (batch time: 0.0113s vs `on_train_batch_end` time: 0.0387s). Check your callbacks.\n",
            "361/361 [==============================] - 8s 15ms/step - loss: 0.1796 - accuracy: 0.9518\n",
            "Epoch 2/2\n",
            "361/361 [==============================] - 5s 14ms/step - loss: 0.0756 - accuracy: 0.9778\n",
            "Epoch 1/2\n",
            "  6/361 [..............................] - ETA: 25s - loss: 0.3122 - accuracy: 0.9273WARNING:tensorflow:Callback method `on_train_batch_end` is slow compared to the batch time (batch time: 0.0120s vs `on_train_batch_end` time: 0.0459s). Check your callbacks.\n",
            "361/361 [==============================] - 8s 15ms/step - loss: 0.4337 - accuracy: 0.8998\n",
            "Epoch 2/2\n",
            "361/361 [==============================] - 5s 15ms/step - loss: 0.0778 - accuracy: 0.9777\n",
            "Epoch 1/2\n",
            "  3/361 [..............................] - ETA: 49s - loss: 0.0139 - accuracy: 0.9965WARNING:tensorflow:Callback method `on_train_batch_end` is slow compared to the batch time (batch time: 0.0101s vs `on_train_batch_end` time: 0.0412s). Check your callbacks.\n",
            "361/361 [==============================] - 8s 15ms/step - loss: 0.1149 - accuracy: 0.9671\n",
            "Epoch 2/2\n",
            "361/361 [==============================] - 5s 14ms/step - loss: 0.0799 - accuracy: 0.9768\n",
            "Epoch 1/2\n",
            "  3/361 [..............................] - ETA: 47s - loss: 0.0114 - accuracy: 1.0000WARNING:tensorflow:Callback method `on_train_batch_end` is slow compared to the batch time (batch time: 0.0112s vs `on_train_batch_end` time: 0.0393s). Check your callbacks.\n",
            "361/361 [==============================] - 8s 15ms/step - loss: 0.1021 - accuracy: 0.9714\n",
            "Epoch 2/2\n",
            "361/361 [==============================] - 5s 15ms/step - loss: 0.0423 - accuracy: 0.9850\n"
          ],
          "name": "stdout"
        }
      ]
    },
    {
      "cell_type": "code",
      "metadata": {
        "id": "DvWqUKDph_xL",
        "colab": {
          "base_uri": "https://localhost:8080/"
        },
        "outputId": "52ed8c8e-5bb4-4180-ed95-c7e51ad04116"
      },
      "source": [
        "for i, model in enumerate(pruned_models):\n",
        "    print(\"model \", i, \":\")\n",
        "    model.summary()"
      ],
      "execution_count": null,
      "outputs": [
        {
          "output_type": "stream",
          "text": [
            "model  0 :\n",
            "Model: \"model_1\"\n",
            "__________________________________________________________________________________________________\n",
            "Layer (type)                    Output Shape         Param #     Connected to                     \n",
            "==================================================================================================\n",
            "input (InputLayer)              [(None, 55, 47, 3)]  0                                            \n",
            "__________________________________________________________________________________________________\n",
            "prune_low_magnitude_conv_1 (Pru (None, 52, 44, 20)   1942        input[0][0]                      \n",
            "__________________________________________________________________________________________________\n",
            "prune_low_magnitude_pool_1 (Pru (None, 26, 22, 20)   1           prune_low_magnitude_conv_1[0][0] \n",
            "__________________________________________________________________________________________________\n",
            "prune_low_magnitude_conv_2 (Pru (None, 24, 20, 40)   14442       prune_low_magnitude_pool_1[0][0] \n",
            "__________________________________________________________________________________________________\n",
            "prune_low_magnitude_pool_2 (Pru (None, 12, 10, 40)   1           prune_low_magnitude_conv_2[0][0] \n",
            "__________________________________________________________________________________________________\n",
            "prune_low_magnitude_conv_3 (Pru (None, 10, 8, 60)    43262       prune_low_magnitude_pool_2[0][0] \n",
            "__________________________________________________________________________________________________\n",
            "prune_low_magnitude_pool_3 (Pru (None, 5, 4, 60)     1           prune_low_magnitude_conv_3[0][0] \n",
            "__________________________________________________________________________________________________\n",
            "prune_low_magnitude_conv_4 (Pru (None, 4, 3, 80)     38482       prune_low_magnitude_pool_3[0][0] \n",
            "__________________________________________________________________________________________________\n",
            "prune_low_magnitude_flatten_1 ( (None, 1200)         1           prune_low_magnitude_pool_3[0][0] \n",
            "__________________________________________________________________________________________________\n",
            "prune_low_magnitude_flatten_2 ( (None, 960)          1           prune_low_magnitude_conv_4[0][0] \n",
            "__________________________________________________________________________________________________\n",
            "prune_low_magnitude_fc_1 (Prune (None, 160)          384162      prune_low_magnitude_flatten_1[0][\n",
            "__________________________________________________________________________________________________\n",
            "prune_low_magnitude_fc_2 (Prune (None, 160)          307362      prune_low_magnitude_flatten_2[0][\n",
            "__________________________________________________________________________________________________\n",
            "prune_low_magnitude_add_1 (Prun (None, 160)          1           prune_low_magnitude_fc_1[0][0]   \n",
            "                                                                 prune_low_magnitude_fc_2[0][0]   \n",
            "__________________________________________________________________________________________________\n",
            "prune_low_magnitude_activation_ (None, 160)          1           prune_low_magnitude_add_1[0][0]  \n",
            "__________________________________________________________________________________________________\n",
            "prune_low_magnitude_output (Pru (None, 1283)         411845      prune_low_magnitude_activation_1[\n",
            "==================================================================================================\n",
            "Total params: 1,201,504\n",
            "Trainable params: 601,643\n",
            "Non-trainable params: 599,861\n",
            "__________________________________________________________________________________________________\n",
            "model  1 :\n",
            "Model: \"model_1\"\n",
            "__________________________________________________________________________________________________\n",
            "Layer (type)                    Output Shape         Param #     Connected to                     \n",
            "==================================================================================================\n",
            "input (InputLayer)              [(None, 55, 47, 3)]  0                                            \n",
            "__________________________________________________________________________________________________\n",
            "prune_low_magnitude_conv_1 (Pru (None, 52, 44, 20)   1942        input[0][0]                      \n",
            "__________________________________________________________________________________________________\n",
            "prune_low_magnitude_pool_1 (Pru (None, 26, 22, 20)   1           prune_low_magnitude_conv_1[0][0] \n",
            "__________________________________________________________________________________________________\n",
            "prune_low_magnitude_conv_2 (Pru (None, 24, 20, 40)   14442       prune_low_magnitude_pool_1[0][0] \n",
            "__________________________________________________________________________________________________\n",
            "prune_low_magnitude_pool_2 (Pru (None, 12, 10, 40)   1           prune_low_magnitude_conv_2[0][0] \n",
            "__________________________________________________________________________________________________\n",
            "prune_low_magnitude_conv_3 (Pru (None, 10, 8, 60)    43262       prune_low_magnitude_pool_2[0][0] \n",
            "__________________________________________________________________________________________________\n",
            "prune_low_magnitude_pool_3 (Pru (None, 5, 4, 60)     1           prune_low_magnitude_conv_3[0][0] \n",
            "__________________________________________________________________________________________________\n",
            "prune_low_magnitude_conv_4 (Pru (None, 4, 3, 80)     38482       prune_low_magnitude_pool_3[0][0] \n",
            "__________________________________________________________________________________________________\n",
            "prune_low_magnitude_flatten_1 ( (None, 1200)         1           prune_low_magnitude_pool_3[0][0] \n",
            "__________________________________________________________________________________________________\n",
            "prune_low_magnitude_flatten_2 ( (None, 960)          1           prune_low_magnitude_conv_4[0][0] \n",
            "__________________________________________________________________________________________________\n",
            "prune_low_magnitude_fc_1 (Prune (None, 160)          384162      prune_low_magnitude_flatten_1[0][\n",
            "__________________________________________________________________________________________________\n",
            "prune_low_magnitude_fc_2 (Prune (None, 160)          307362      prune_low_magnitude_flatten_2[0][\n",
            "__________________________________________________________________________________________________\n",
            "prune_low_magnitude_add_1 (Prun (None, 160)          1           prune_low_magnitude_fc_1[0][0]   \n",
            "                                                                 prune_low_magnitude_fc_2[0][0]   \n",
            "__________________________________________________________________________________________________\n",
            "prune_low_magnitude_activation_ (None, 160)          1           prune_low_magnitude_add_1[0][0]  \n",
            "__________________________________________________________________________________________________\n",
            "prune_low_magnitude_output (Pru (None, 1283)         411845      prune_low_magnitude_activation_1[\n",
            "==================================================================================================\n",
            "Total params: 1,201,504\n",
            "Trainable params: 601,643\n",
            "Non-trainable params: 599,861\n",
            "__________________________________________________________________________________________________\n",
            "model  2 :\n",
            "Model: \"model_1\"\n",
            "__________________________________________________________________________________________________\n",
            "Layer (type)                    Output Shape         Param #     Connected to                     \n",
            "==================================================================================================\n",
            "input (InputLayer)              [(None, 55, 47, 3)]  0                                            \n",
            "__________________________________________________________________________________________________\n",
            "prune_low_magnitude_conv_1 (Pru (None, 52, 44, 20)   1942        input[0][0]                      \n",
            "__________________________________________________________________________________________________\n",
            "prune_low_magnitude_pool_1 (Pru (None, 26, 22, 20)   1           prune_low_magnitude_conv_1[0][0] \n",
            "__________________________________________________________________________________________________\n",
            "prune_low_magnitude_conv_2 (Pru (None, 24, 20, 40)   14442       prune_low_magnitude_pool_1[0][0] \n",
            "__________________________________________________________________________________________________\n",
            "prune_low_magnitude_pool_2 (Pru (None, 12, 10, 40)   1           prune_low_magnitude_conv_2[0][0] \n",
            "__________________________________________________________________________________________________\n",
            "prune_low_magnitude_conv_3 (Pru (None, 10, 8, 60)    43262       prune_low_magnitude_pool_2[0][0] \n",
            "__________________________________________________________________________________________________\n",
            "prune_low_magnitude_pool_3 (Pru (None, 5, 4, 60)     1           prune_low_magnitude_conv_3[0][0] \n",
            "__________________________________________________________________________________________________\n",
            "prune_low_magnitude_conv_4 (Pru (None, 4, 3, 80)     38482       prune_low_magnitude_pool_3[0][0] \n",
            "__________________________________________________________________________________________________\n",
            "prune_low_magnitude_flatten_1 ( (None, 1200)         1           prune_low_magnitude_pool_3[0][0] \n",
            "__________________________________________________________________________________________________\n",
            "prune_low_magnitude_flatten_2 ( (None, 960)          1           prune_low_magnitude_conv_4[0][0] \n",
            "__________________________________________________________________________________________________\n",
            "prune_low_magnitude_fc_1 (Prune (None, 160)          384162      prune_low_magnitude_flatten_1[0][\n",
            "__________________________________________________________________________________________________\n",
            "prune_low_magnitude_fc_2 (Prune (None, 160)          307362      prune_low_magnitude_flatten_2[0][\n",
            "__________________________________________________________________________________________________\n",
            "prune_low_magnitude_add_1 (Prun (None, 160)          1           prune_low_magnitude_fc_1[0][0]   \n",
            "                                                                 prune_low_magnitude_fc_2[0][0]   \n",
            "__________________________________________________________________________________________________\n",
            "prune_low_magnitude_activation_ (None, 160)          1           prune_low_magnitude_add_1[0][0]  \n",
            "__________________________________________________________________________________________________\n",
            "prune_low_magnitude_output (Pru (None, 1283)         411845      prune_low_magnitude_activation_1[\n",
            "==================================================================================================\n",
            "Total params: 1,201,504\n",
            "Trainable params: 601,643\n",
            "Non-trainable params: 599,861\n",
            "__________________________________________________________________________________________________\n",
            "model  3 :\n",
            "Model: \"model_1\"\n",
            "__________________________________________________________________________________________________\n",
            "Layer (type)                    Output Shape         Param #     Connected to                     \n",
            "==================================================================================================\n",
            "input (InputLayer)              [(None, 55, 47, 3)]  0                                            \n",
            "__________________________________________________________________________________________________\n",
            "prune_low_magnitude_conv_1 (Pru (None, 52, 44, 20)   1942        input[0][0]                      \n",
            "__________________________________________________________________________________________________\n",
            "prune_low_magnitude_pool_1 (Pru (None, 26, 22, 20)   1           prune_low_magnitude_conv_1[0][0] \n",
            "__________________________________________________________________________________________________\n",
            "prune_low_magnitude_conv_2 (Pru (None, 24, 20, 40)   14442       prune_low_magnitude_pool_1[0][0] \n",
            "__________________________________________________________________________________________________\n",
            "prune_low_magnitude_pool_2 (Pru (None, 12, 10, 40)   1           prune_low_magnitude_conv_2[0][0] \n",
            "__________________________________________________________________________________________________\n",
            "prune_low_magnitude_conv_3 (Pru (None, 10, 8, 60)    43262       prune_low_magnitude_pool_2[0][0] \n",
            "__________________________________________________________________________________________________\n",
            "prune_low_magnitude_pool_3 (Pru (None, 5, 4, 60)     1           prune_low_magnitude_conv_3[0][0] \n",
            "__________________________________________________________________________________________________\n",
            "prune_low_magnitude_conv_4 (Pru (None, 4, 3, 80)     38482       prune_low_magnitude_pool_3[0][0] \n",
            "__________________________________________________________________________________________________\n",
            "prune_low_magnitude_flatten_1 ( (None, 1200)         1           prune_low_magnitude_pool_3[0][0] \n",
            "__________________________________________________________________________________________________\n",
            "prune_low_magnitude_flatten_2 ( (None, 960)          1           prune_low_magnitude_conv_4[0][0] \n",
            "__________________________________________________________________________________________________\n",
            "prune_low_magnitude_fc_1 (Prune (None, 160)          384162      prune_low_magnitude_flatten_1[0][\n",
            "__________________________________________________________________________________________________\n",
            "prune_low_magnitude_fc_2 (Prune (None, 160)          307362      prune_low_magnitude_flatten_2[0][\n",
            "__________________________________________________________________________________________________\n",
            "prune_low_magnitude_add_1 (Prun (None, 160)          1           prune_low_magnitude_fc_1[0][0]   \n",
            "                                                                 prune_low_magnitude_fc_2[0][0]   \n",
            "__________________________________________________________________________________________________\n",
            "prune_low_magnitude_activation_ (None, 160)          1           prune_low_magnitude_add_1[0][0]  \n",
            "__________________________________________________________________________________________________\n",
            "prune_low_magnitude_output (Pru (None, 1283)         411845      prune_low_magnitude_activation_1[\n",
            "==================================================================================================\n",
            "Total params: 1,201,504\n",
            "Trainable params: 601,643\n",
            "Non-trainable params: 599,861\n",
            "__________________________________________________________________________________________________\n"
          ],
          "name": "stdout"
        }
      ]
    },
    {
      "cell_type": "markdown",
      "metadata": {
        "id": "UjycRd8lzlHx"
      },
      "source": [
        "##Fine-tuning\r\n",
        "Fine-tuning the pruned models with <code>1e-5</code> learning rate in 10 epochs. The clean validation set is used in the training process. Repaired nets are saved in list <code>repaired_models</code>"
      ]
    },
    {
      "cell_type": "code",
      "metadata": {
        "colab": {
          "base_uri": "https://localhost:8080/"
        },
        "id": "TGYCEOYxzpcr",
        "outputId": "6345009f-f005-4830-f34c-59a2f8912cb0"
      },
      "source": [
        "repaired_models = []\n",
        "\n",
        "for i, m in enumerate(pruned_models):\n",
        "\n",
        "    model = copy.copy(m)\n",
        "\n",
        "    print(\"Fine-tuning model\", model_names[i], \": \")\n",
        "    model.compile(optimizer=keras.optimizers.Adam(1e-5),\n",
        "              loss=tf.keras.losses.categorical_crossentropy,\n",
        "              metrics=['accuracy']\n",
        "              )\n",
        "    model.fit(xValid, yValid,\n",
        "          epochs=5\n",
        "          )\n",
        "    repaired_models.append(model)"
      ],
      "execution_count": null,
      "outputs": [
        {
          "output_type": "stream",
          "text": [
            "Fine-tuning model multi_trigger_multi_target_bd_net : \n",
            "Epoch 1/5\n",
            "361/361 [==============================] - 7s 11ms/step - loss: 0.0191 - accuracy: 0.9926\n",
            "Epoch 2/5\n",
            "361/361 [==============================] - 4s 11ms/step - loss: 0.0125 - accuracy: 0.9955\n",
            "Epoch 3/5\n",
            "361/361 [==============================] - 4s 11ms/step - loss: 0.0079 - accuracy: 0.9975\n",
            "Epoch 4/5\n",
            "361/361 [==============================] - 4s 11ms/step - loss: 0.0047 - accuracy: 0.9987\n",
            "Epoch 5/5\n",
            "361/361 [==============================] - 4s 11ms/step - loss: 0.0049 - accuracy: 0.9985\n",
            "Fine-tuning model anonymous_2_bd_net : \n",
            "Epoch 1/5\n",
            "361/361 [==============================] - 6s 11ms/step - loss: 0.0386 - accuracy: 0.9898\n",
            "Epoch 2/5\n",
            "361/361 [==============================] - 4s 11ms/step - loss: 0.0245 - accuracy: 0.9923\n",
            "Epoch 3/5\n",
            "361/361 [==============================] - 4s 11ms/step - loss: 0.0194 - accuracy: 0.9954\n",
            "Epoch 4/5\n",
            "361/361 [==============================] - 4s 11ms/step - loss: 0.0142 - accuracy: 0.9960\n",
            "Epoch 5/5\n",
            "361/361 [==============================] - 4s 11ms/step - loss: 0.0105 - accuracy: 0.9976\n",
            "Fine-tuning model sunglasses_bd_net : \n",
            "Epoch 1/5\n",
            "361/361 [==============================] - 6s 11ms/step - loss: 0.0759 - accuracy: 0.9770\n",
            "Epoch 2/5\n",
            "361/361 [==============================] - 4s 11ms/step - loss: 0.0425 - accuracy: 0.9887\n",
            "Epoch 3/5\n",
            "361/361 [==============================] - 4s 11ms/step - loss: 0.0272 - accuracy: 0.9927\n",
            "Epoch 4/5\n",
            "361/361 [==============================] - 4s 11ms/step - loss: 0.0190 - accuracy: 0.9953\n",
            "Epoch 5/5\n",
            "361/361 [==============================] - 4s 11ms/step - loss: 0.0148 - accuracy: 0.9970\n",
            "Fine-tuning model anonymous_1_bd_net : \n",
            "Epoch 1/5\n",
            "361/361 [==============================] - 6s 10ms/step - loss: 0.0482 - accuracy: 0.9882\n",
            "Epoch 2/5\n",
            "361/361 [==============================] - 4s 11ms/step - loss: 0.0328 - accuracy: 0.9919\n",
            "Epoch 3/5\n",
            "361/361 [==============================] - 4s 11ms/step - loss: 0.0210 - accuracy: 0.9964\n",
            "Epoch 4/5\n",
            "361/361 [==============================] - 4s 11ms/step - loss: 0.0153 - accuracy: 0.9969\n",
            "Epoch 5/5\n",
            "361/361 [==============================] - 4s 11ms/step - loss: 0.0118 - accuracy: 0.9974\n"
          ],
          "name": "stdout"
        }
      ]
    },
    {
      "cell_type": "markdown",
      "metadata": {
        "id": "H-3D82TJl3tr"
      },
      "source": [
        "##Validation\n",
        "Demonstrate the effectiveness of our results by run clean_test, Sunglass_poisoned, and anonymous_poisoned data on all repaired nets. "
      ]
    },
    {
      "cell_type": "code",
      "metadata": {
        "colab": {
          "base_uri": "https://localhost:8080/"
        },
        "id": "fAFhYNs5l8xS",
        "outputId": "ad7b6d25-63f0-4384-da0a-20cf646fcb15"
      },
      "source": [
        "##Intermediate quick evalution using built-in Keras functions and the poisoned set\n",
        "\n",
        "for i, m in enumerate(repaired_models):\n",
        "    print(\"Repaired\", model_names[i], \"accuracy on clean test set: \")\n",
        "    m.evaluate(xTest, yTest) \n",
        "    print(\"Repaired\", model_names[i], \"accuracy on sunglass poisoned set: \")\n",
        "    m.evaluate(xSG, ySG)\n",
        "    \n",
        "    print(\"Repaired\", model_names[i], \"accuracy on anonymous poisoned set: \")\n",
        "    m.evaluate(xAnon, yAnon) "
      ],
      "execution_count": null,
      "outputs": [
        {
          "output_type": "stream",
          "text": [
            "Repaired multi_trigger_multi_target_bd_net accuracy on clean test set: \n",
            "401/401 [==============================] - 2s 3ms/step - loss: 0.4947 - accuracy: 0.9330\n",
            "Repaired multi_trigger_multi_target_bd_net accuracy on sunglass poisoned set: \n",
            "401/401 [==============================] - 1s 3ms/step - loss: 55.3308 - accuracy: 1.5588e-04\n",
            "Repaired multi_trigger_multi_target_bd_net accuracy on anonymous poisoned set: \n",
            "321/321 [==============================] - 1s 3ms/step - loss: 39.5849 - accuracy: 0.0024\n",
            "Repaired anonymous_2_bd_net accuracy on clean test set: \n",
            "401/401 [==============================] - 2s 3ms/step - loss: 0.5557 - accuracy: 0.9189\n",
            "Repaired anonymous_2_bd_net accuracy on sunglass poisoned set: \n",
            "401/401 [==============================] - 1s 4ms/step - loss: 66.0053 - accuracy: 0.0000e+00\n",
            "Repaired anonymous_2_bd_net accuracy on anonymous poisoned set: \n",
            "321/321 [==============================] - 1s 4ms/step - loss: 44.8861 - accuracy: 4.8714e-04\n",
            "Repaired sunglasses_bd_net accuracy on clean test set: \n",
            "401/401 [==============================] - 2s 4ms/step - loss: 0.7481 - accuracy: 0.9004\n",
            "Repaired sunglasses_bd_net accuracy on sunglass poisoned set: \n",
            "401/401 [==============================] - 1s 3ms/step - loss: 15.9259 - accuracy: 0.0309\n",
            "Repaired sunglasses_bd_net accuracy on anonymous poisoned set: \n",
            "321/321 [==============================] - 1s 3ms/step - loss: 38.9355 - accuracy: 0.0011\n",
            "Repaired anonymous_1_bd_net accuracy on clean test set: \n",
            "401/401 [==============================] - 2s 3ms/step - loss: 0.5430 - accuracy: 0.9203\n",
            "Repaired anonymous_1_bd_net accuracy on sunglass poisoned set: \n",
            "401/401 [==============================] - 1s 4ms/step - loss: 77.4439 - accuracy: 0.0000e+00\n",
            "Repaired anonymous_1_bd_net accuracy on anonymous poisoned set: \n",
            "321/321 [==============================] - 1s 4ms/step - loss: 44.0130 - accuracy: 5.8457e-04\n"
          ],
          "name": "stdout"
        }
      ]
    },
    {
      "cell_type": "markdown",
      "metadata": {
        "id": "vk7WSGLhefev"
      },
      "source": [
        "##Final output\r\n",
        "Compare preprocessed results from the bad net and results from repaired nets to output results. The differnt predictions between bad nets and repaired nets are classifed as N+1 class. Here we use <code>anonymous_poisoned</code> as our input. "
      ]
    },
    {
      "cell_type": "code",
      "metadata": {
        "id": "pjAWd90Jejax"
      },
      "source": [
        "def poisoned_detection(afterPreds, prePreds):\r\n",
        "    out = []\r\n",
        "    for i in range(len(afterPreds)):\r\n",
        "        newDimension = list(afterPreds[i].shape)\r\n",
        "        newDimension[1] += 1\r\n",
        "        newArray = np.zeros(newDimension)\r\n",
        "        for j in range(afterPreds[i].shape[0]):\r\n",
        "            a = np.argmax(afterPreds[i][j]) \r\n",
        "            b = np.argmax(prePreds[i][j])\r\n",
        "            \r\n",
        "            if a == b:\r\n",
        "                newArray[j][a] = 1\r\n",
        "            else:\r\n",
        "                newArray[j][-1] = 1\r\n",
        "        out.append(newArray)\r\n",
        "    return out"
      ],
      "execution_count": null,
      "outputs": []
    },
    {
      "cell_type": "code",
      "metadata": {
        "id": "PBwlVUrGvAgQ"
      },
      "source": [
        "preds_repaired = [] ##prediction on poisoned data\r\n",
        "test_repaired = [] ##prediction on clean test data\r\n",
        "\r\n",
        "for i, m in enumerate(repaired_models):\r\n",
        "    pred = m.predict(xAnon)\r\n",
        "    pred_t = m.predict(xTest)\r\n",
        "    preds_repaired.append(pred)\r\n",
        "    test_repaired.append(pred_t)\r\n",
        " "
      ],
      "execution_count": null,
      "outputs": []
    },
    {
      "cell_type": "code",
      "metadata": {
        "id": "yRPUQQPwl5OC"
      },
      "source": [
        "test_results = poisoned_detection(test_repaired, test_preprocessed)\n",
        "\n",
        "final_results = poisoned_detection(preds_repaired, preds_preprocessed)"
      ],
      "execution_count": null,
      "outputs": []
    },
    {
      "cell_type": "markdown",
      "metadata": {
        "id": "dv3hSd8P17BI"
      },
      "source": [
        "###Poisoned image detection validation\n",
        "Evaluate effectiveness of our poisoned detection method on mixed <code>anonymous_poisoned</code> and <code>test_clean</code>"
      ]
    },
    {
      "cell_type": "code",
      "metadata": {
        "id": "Z2KcZAhyWFsa",
        "colab": {
          "base_uri": "https://localhost:8080/"
        },
        "outputId": "ba9ff5fe-e139-486c-d06e-0e21d4535ab9"
      },
      "source": [
        "for i in range(len(final_results)):\r\n",
        "    tp = 0\r\n",
        "    fn = 0\r\n",
        "    tn = 0\r\n",
        "    t=0\r\n",
        "    \r\n",
        "    p = final_results[i]\r\n",
        "    c = test_results[i]\r\n",
        "\r\n",
        "    n = p.shape[0]\r\n",
        "    m = c.shape[0]\r\n",
        "\r\n",
        "    for j in range(n): \r\n",
        "\r\n",
        "        trueLabel = np.argmax(yAnon[j])\r\n",
        "        predLabel = np.argmax(p[j])\r\n",
        "\r\n",
        "        if predLabel == 1283:\r\n",
        "            t+=1\r\n",
        "            if trueLabel == 0:\r\n",
        "                tp += 1\r\n",
        "        else:\r\n",
        "            if trueLabel != 0:\r\n",
        "                tn += 1\r\n",
        "\r\n",
        "        if trueLabel == 0:\r\n",
        "            if predLabel != 1283:\r\n",
        "                fn += 1\r\n",
        "\r\n",
        "    for j in range(m):\r\n",
        "\r\n",
        "        trueLabel = np.argmax(yTest[j])\r\n",
        "        predLabel = np.argmax(c[j])\r\n",
        "\r\n",
        "        if predLabel == 1283:\r\n",
        "            t+=1\r\n",
        "            if trueLabel == 0:\r\n",
        "                tp += 1\r\n",
        "        else:\r\n",
        "            if trueLabel != 0:\r\n",
        "                tn += 1\r\n",
        "        if trueLabel == 0:\r\n",
        "            if predLabel != 1283:\r\n",
        "                fn += 1\r\n",
        "\r\n",
        "    print(\"Repaired\", model_names[i], \"poisoned detection:\")\r\n",
        "    \r\n",
        "    acc = (tp + tn)/(n + m)\r\n",
        "    tpr = tp/(fn+tp)\r\n",
        "    tnr = 1 - (fn/(fn+tp))\r\n",
        "    print(\"Acc: \", acc)\r\n",
        "    print(\"TPR: \", tpr)\r\n",
        "    ##print(\"TNR: \", tnr)\r\n",
        "\r\n",
        "    print(\"-\"*10)\r\n"
      ],
      "execution_count": null,
      "outputs": [
        {
          "output_type": "stream",
          "text": [
            "Repaired multi_trigger_multi_target_bd_net poisoned detection:\n",
            "Acc:  0.8820905862994717\n",
            "TPR:  0.8428070858477711\n",
            "----------\n",
            "Repaired anonymous_2_bd_net poisoned detection:\n",
            "Acc:  0.854897375941803\n",
            "TPR:  0.7999805333852443\n",
            "----------\n",
            "Repaired sunglasses_bd_net poisoned detection:\n",
            "Acc:  0.5515718368407379\n",
            "TPR:  0.12088767763285965\n",
            "----------\n",
            "Repaired anonymous_1_bd_net poisoned detection:\n",
            "Acc:  0.8983718714817701\n",
            "TPR:  0.894782947245474\n",
            "----------\n"
          ],
          "name": "stdout"
        }
      ]
    },
    {
      "cell_type": "markdown",
      "metadata": {
        "id": "nTX1fRgBUVBD"
      },
      "source": [
        "##Output repaired nets"
      ]
    },
    {
      "cell_type": "code",
      "metadata": {
        "colab": {
          "base_uri": "https://localhost:8080/"
        },
        "id": "ptATepmYQ2JC",
        "outputId": "c4412be8-0c75-491d-8b1d-9758537c9e37"
      },
      "source": [
        "os.mkdir(\"repaired_models\")\r\n",
        "\r\n",
        "for i, model in enumerate(repaired_models):\r\n",
        "    name = \"repaired_models/repaired_\"+model_names[i]+\".h5\"\r\n",
        "    print(name, \"saved\")\r\n",
        "    model.save(name)\r\n"
      ],
      "execution_count": null,
      "outputs": [
        {
          "output_type": "stream",
          "text": [
            "repaired_models/repaired_multi_trigger_multi_target_bd_net.h5 saved\n",
            "repaired_models/repaired_anonymous_2_bd_net.h5 saved\n",
            "repaired_models/repaired_sunglasses_bd_net.h5 saved\n",
            "repaired_models/repaired_anonymous_1_bd_net.h5 saved\n"
          ],
          "name": "stdout"
        }
      ]
    },
    {
      "cell_type": "code",
      "metadata": {
        "colab": {
          "base_uri": "https://localhost:8080/"
        },
        "id": "UXV0oUZOjqpo",
        "outputId": "5d75710e-954b-48de-95ca-493fda4db3f8"
      },
      "source": [
        "print(xAnon.shape)\n",
        "\n",
        "from keras.preprocessing.image import array_to_img\n",
        "\n",
        "img = array_to_img(xAnon[0])\n",
        "\n",
        "img.save(\"anon_test.png\")\n",
        "\n",
        "base_img = array_to_img(xTest[0])\n",
        "\n",
        "base_img.save(\"clean.png\")\n"
      ],
      "execution_count": 31,
      "outputs": [
        {
          "output_type": "stream",
          "text": [
            "(10264, 55, 47, 3)\n"
          ],
          "name": "stdout"
        }
      ]
    },
    {
      "cell_type": "code",
      "metadata": {
        "colab": {
          "base_uri": "https://localhost:8080/"
        },
        "id": "4BpREoiNxN62",
        "outputId": "33d7e6af-2a30-40f6-ad50-eecc1a4cb4bd"
      },
      "source": [
        "!python anon2_eval.py clean.png \n",
        "!python anon2_eval.py anon_test.png\n"
      ],
      "execution_count": 53,
      "outputs": [
        {
          "output_type": "stream",
          "text": [
            "2021-01-13 14:01:40.396489: I tensorflow/stream_executor/platform/default/dso_loader.cc:49] Successfully opened dynamic library libcudart.so.10.1\n",
            "2021-01-13 14:01:42.034573: I tensorflow/compiler/jit/xla_cpu_device.cc:41] Not creating XLA devices, tf_xla_enable_xla_devices not set\n",
            "2021-01-13 14:01:42.035585: I tensorflow/stream_executor/platform/default/dso_loader.cc:49] Successfully opened dynamic library libcuda.so.1\n",
            "2021-01-13 14:01:42.038178: I tensorflow/stream_executor/cuda/cuda_gpu_executor.cc:941] successful NUMA node read from SysFS had negative value (-1), but there must be at least one NUMA node, so returning NUMA node zero\n",
            "2021-01-13 14:01:42.038725: I tensorflow/core/common_runtime/gpu/gpu_device.cc:1720] Found device 0 with properties: \n",
            "pciBusID: 0000:00:04.0 name: Tesla P100-PCIE-16GB computeCapability: 6.0\n",
            "coreClock: 1.3285GHz coreCount: 56 deviceMemorySize: 15.90GiB deviceMemoryBandwidth: 681.88GiB/s\n",
            "2021-01-13 14:01:42.038764: I tensorflow/stream_executor/platform/default/dso_loader.cc:49] Successfully opened dynamic library libcudart.so.10.1\n",
            "2021-01-13 14:01:42.040363: I tensorflow/stream_executor/platform/default/dso_loader.cc:49] Successfully opened dynamic library libcublas.so.10\n",
            "2021-01-13 14:01:42.040428: I tensorflow/stream_executor/platform/default/dso_loader.cc:49] Successfully opened dynamic library libcublasLt.so.10\n",
            "2021-01-13 14:01:42.042126: I tensorflow/stream_executor/platform/default/dso_loader.cc:49] Successfully opened dynamic library libcufft.so.10\n",
            "2021-01-13 14:01:42.042455: I tensorflow/stream_executor/platform/default/dso_loader.cc:49] Successfully opened dynamic library libcurand.so.10\n",
            "2021-01-13 14:01:42.044249: I tensorflow/stream_executor/platform/default/dso_loader.cc:49] Successfully opened dynamic library libcusolver.so.10\n",
            "2021-01-13 14:01:42.045148: I tensorflow/stream_executor/platform/default/dso_loader.cc:49] Successfully opened dynamic library libcusparse.so.10\n",
            "2021-01-13 14:01:42.048750: I tensorflow/stream_executor/platform/default/dso_loader.cc:49] Successfully opened dynamic library libcudnn.so.7\n",
            "2021-01-13 14:01:42.048866: I tensorflow/stream_executor/cuda/cuda_gpu_executor.cc:941] successful NUMA node read from SysFS had negative value (-1), but there must be at least one NUMA node, so returning NUMA node zero\n",
            "2021-01-13 14:01:42.049448: I tensorflow/stream_executor/cuda/cuda_gpu_executor.cc:941] successful NUMA node read from SysFS had negative value (-1), but there must be at least one NUMA node, so returning NUMA node zero\n",
            "2021-01-13 14:01:42.049939: I tensorflow/core/common_runtime/gpu/gpu_device.cc:1862] Adding visible gpu devices: 0\n",
            "2021-01-13 14:01:42.050312: I tensorflow/compiler/jit/xla_gpu_device.cc:99] Not creating XLA devices, tf_xla_enable_xla_devices not set\n",
            "2021-01-13 14:01:42.050419: I tensorflow/stream_executor/cuda/cuda_gpu_executor.cc:941] successful NUMA node read from SysFS had negative value (-1), but there must be at least one NUMA node, so returning NUMA node zero\n",
            "2021-01-13 14:01:42.050912: I tensorflow/core/common_runtime/gpu/gpu_device.cc:1720] Found device 0 with properties: \n",
            "pciBusID: 0000:00:04.0 name: Tesla P100-PCIE-16GB computeCapability: 6.0\n",
            "coreClock: 1.3285GHz coreCount: 56 deviceMemorySize: 15.90GiB deviceMemoryBandwidth: 681.88GiB/s\n",
            "2021-01-13 14:01:42.050945: I tensorflow/stream_executor/platform/default/dso_loader.cc:49] Successfully opened dynamic library libcudart.so.10.1\n",
            "2021-01-13 14:01:42.050973: I tensorflow/stream_executor/platform/default/dso_loader.cc:49] Successfully opened dynamic library libcublas.so.10\n",
            "2021-01-13 14:01:42.050993: I tensorflow/stream_executor/platform/default/dso_loader.cc:49] Successfully opened dynamic library libcublasLt.so.10\n",
            "2021-01-13 14:01:42.051011: I tensorflow/stream_executor/platform/default/dso_loader.cc:49] Successfully opened dynamic library libcufft.so.10\n",
            "2021-01-13 14:01:42.051028: I tensorflow/stream_executor/platform/default/dso_loader.cc:49] Successfully opened dynamic library libcurand.so.10\n",
            "2021-01-13 14:01:42.051046: I tensorflow/stream_executor/platform/default/dso_loader.cc:49] Successfully opened dynamic library libcusolver.so.10\n",
            "2021-01-13 14:01:42.051063: I tensorflow/stream_executor/platform/default/dso_loader.cc:49] Successfully opened dynamic library libcusparse.so.10\n",
            "2021-01-13 14:01:42.051081: I tensorflow/stream_executor/platform/default/dso_loader.cc:49] Successfully opened dynamic library libcudnn.so.7\n",
            "2021-01-13 14:01:42.051139: I tensorflow/stream_executor/cuda/cuda_gpu_executor.cc:941] successful NUMA node read from SysFS had negative value (-1), but there must be at least one NUMA node, so returning NUMA node zero\n",
            "2021-01-13 14:01:42.051648: I tensorflow/stream_executor/cuda/cuda_gpu_executor.cc:941] successful NUMA node read from SysFS had negative value (-1), but there must be at least one NUMA node, so returning NUMA node zero\n",
            "2021-01-13 14:01:42.052107: I tensorflow/core/common_runtime/gpu/gpu_device.cc:1862] Adding visible gpu devices: 0\n",
            "2021-01-13 14:01:42.052152: I tensorflow/stream_executor/platform/default/dso_loader.cc:49] Successfully opened dynamic library libcudart.so.10.1\n",
            "2021-01-13 14:01:42.744584: I tensorflow/core/common_runtime/gpu/gpu_device.cc:1261] Device interconnect StreamExecutor with strength 1 edge matrix:\n",
            "2021-01-13 14:01:42.744642: I tensorflow/core/common_runtime/gpu/gpu_device.cc:1267]      0 \n",
            "2021-01-13 14:01:42.744662: I tensorflow/core/common_runtime/gpu/gpu_device.cc:1280] 0:   N \n",
            "2021-01-13 14:01:42.744849: I tensorflow/stream_executor/cuda/cuda_gpu_executor.cc:941] successful NUMA node read from SysFS had negative value (-1), but there must be at least one NUMA node, so returning NUMA node zero\n",
            "2021-01-13 14:01:42.745450: I tensorflow/stream_executor/cuda/cuda_gpu_executor.cc:941] successful NUMA node read from SysFS had negative value (-1), but there must be at least one NUMA node, so returning NUMA node zero\n",
            "2021-01-13 14:01:42.745952: I tensorflow/stream_executor/cuda/cuda_gpu_executor.cc:941] successful NUMA node read from SysFS had negative value (-1), but there must be at least one NUMA node, so returning NUMA node zero\n",
            "2021-01-13 14:01:42.746431: W tensorflow/core/common_runtime/gpu/gpu_bfc_allocator.cc:39] Overriding allow_growth setting because the TF_FORCE_GPU_ALLOW_GROWTH environment variable is set. Original config value was 0.\n",
            "2021-01-13 14:01:42.746478: I tensorflow/core/common_runtime/gpu/gpu_device.cc:1406] Created TensorFlow device (/job:localhost/replica:0/task:0/device:GPU:0 with 14179 MB memory) -> physical GPU (device: 0, name: Tesla P100-PCIE-16GB, pci bus id: 0000:00:04.0, compute capability: 6.0)\n",
            "/usr/local/lib/python3.6/dist-packages/tensorflow/python/keras/engine/base_layer.py:2281: UserWarning: `layer.add_variable` is deprecated and will be removed in a future version. Please use `layer.add_weight` method instead.\n",
            "  warnings.warn('`layer.add_variable` is deprecated and '\n",
            "2021-01-13 14:01:43.682347: I tensorflow/compiler/mlir/mlir_graph_optimization_pass.cc:116] None of the MLIR optimization passes are enabled (registered 2)\n",
            "2021-01-13 14:01:43.682740: I tensorflow/core/platform/profile_utils/cpu_utils.cc:112] CPU Frequency: 2300000000 Hz\n",
            "2021-01-13 14:01:43.769493: I tensorflow/stream_executor/platform/default/dso_loader.cc:49] Successfully opened dynamic library libcublas.so.10\n",
            "2021-01-13 14:01:44.019434: I tensorflow/stream_executor/platform/default/dso_loader.cc:49] Successfully opened dynamic library libcudnn.so.7\n",
            "Predicted Class: 950\n",
            "2021-01-13 14:01:46.430759: I tensorflow/stream_executor/platform/default/dso_loader.cc:49] Successfully opened dynamic library libcudart.so.10.1\n",
            "2021-01-13 14:01:48.072324: I tensorflow/compiler/jit/xla_cpu_device.cc:41] Not creating XLA devices, tf_xla_enable_xla_devices not set\n",
            "2021-01-13 14:01:48.073307: I tensorflow/stream_executor/platform/default/dso_loader.cc:49] Successfully opened dynamic library libcuda.so.1\n",
            "2021-01-13 14:01:48.075876: I tensorflow/stream_executor/cuda/cuda_gpu_executor.cc:941] successful NUMA node read from SysFS had negative value (-1), but there must be at least one NUMA node, so returning NUMA node zero\n",
            "2021-01-13 14:01:48.076420: I tensorflow/core/common_runtime/gpu/gpu_device.cc:1720] Found device 0 with properties: \n",
            "pciBusID: 0000:00:04.0 name: Tesla P100-PCIE-16GB computeCapability: 6.0\n",
            "coreClock: 1.3285GHz coreCount: 56 deviceMemorySize: 15.90GiB deviceMemoryBandwidth: 681.88GiB/s\n",
            "2021-01-13 14:01:48.076460: I tensorflow/stream_executor/platform/default/dso_loader.cc:49] Successfully opened dynamic library libcudart.so.10.1\n",
            "2021-01-13 14:01:48.078008: I tensorflow/stream_executor/platform/default/dso_loader.cc:49] Successfully opened dynamic library libcublas.so.10\n",
            "2021-01-13 14:01:48.078078: I tensorflow/stream_executor/platform/default/dso_loader.cc:49] Successfully opened dynamic library libcublasLt.so.10\n",
            "2021-01-13 14:01:48.079741: I tensorflow/stream_executor/platform/default/dso_loader.cc:49] Successfully opened dynamic library libcufft.so.10\n",
            "2021-01-13 14:01:48.080046: I tensorflow/stream_executor/platform/default/dso_loader.cc:49] Successfully opened dynamic library libcurand.so.10\n",
            "2021-01-13 14:01:48.081826: I tensorflow/stream_executor/platform/default/dso_loader.cc:49] Successfully opened dynamic library libcusolver.so.10\n",
            "2021-01-13 14:01:48.082782: I tensorflow/stream_executor/platform/default/dso_loader.cc:49] Successfully opened dynamic library libcusparse.so.10\n",
            "2021-01-13 14:01:48.086298: I tensorflow/stream_executor/platform/default/dso_loader.cc:49] Successfully opened dynamic library libcudnn.so.7\n",
            "2021-01-13 14:01:48.086417: I tensorflow/stream_executor/cuda/cuda_gpu_executor.cc:941] successful NUMA node read from SysFS had negative value (-1), but there must be at least one NUMA node, so returning NUMA node zero\n",
            "2021-01-13 14:01:48.086977: I tensorflow/stream_executor/cuda/cuda_gpu_executor.cc:941] successful NUMA node read from SysFS had negative value (-1), but there must be at least one NUMA node, so returning NUMA node zero\n",
            "2021-01-13 14:01:48.087467: I tensorflow/core/common_runtime/gpu/gpu_device.cc:1862] Adding visible gpu devices: 0\n",
            "2021-01-13 14:01:48.087870: I tensorflow/compiler/jit/xla_gpu_device.cc:99] Not creating XLA devices, tf_xla_enable_xla_devices not set\n",
            "2021-01-13 14:01:48.087985: I tensorflow/stream_executor/cuda/cuda_gpu_executor.cc:941] successful NUMA node read from SysFS had negative value (-1), but there must be at least one NUMA node, so returning NUMA node zero\n",
            "2021-01-13 14:01:48.088563: I tensorflow/core/common_runtime/gpu/gpu_device.cc:1720] Found device 0 with properties: \n",
            "pciBusID: 0000:00:04.0 name: Tesla P100-PCIE-16GB computeCapability: 6.0\n",
            "coreClock: 1.3285GHz coreCount: 56 deviceMemorySize: 15.90GiB deviceMemoryBandwidth: 681.88GiB/s\n",
            "2021-01-13 14:01:48.088603: I tensorflow/stream_executor/platform/default/dso_loader.cc:49] Successfully opened dynamic library libcudart.so.10.1\n",
            "2021-01-13 14:01:48.088631: I tensorflow/stream_executor/platform/default/dso_loader.cc:49] Successfully opened dynamic library libcublas.so.10\n",
            "2021-01-13 14:01:48.088656: I tensorflow/stream_executor/platform/default/dso_loader.cc:49] Successfully opened dynamic library libcublasLt.so.10\n",
            "2021-01-13 14:01:48.088678: I tensorflow/stream_executor/platform/default/dso_loader.cc:49] Successfully opened dynamic library libcufft.so.10\n",
            "2021-01-13 14:01:48.088703: I tensorflow/stream_executor/platform/default/dso_loader.cc:49] Successfully opened dynamic library libcurand.so.10\n",
            "2021-01-13 14:01:48.088721: I tensorflow/stream_executor/platform/default/dso_loader.cc:49] Successfully opened dynamic library libcusolver.so.10\n",
            "2021-01-13 14:01:48.088742: I tensorflow/stream_executor/platform/default/dso_loader.cc:49] Successfully opened dynamic library libcusparse.so.10\n",
            "2021-01-13 14:01:48.088763: I tensorflow/stream_executor/platform/default/dso_loader.cc:49] Successfully opened dynamic library libcudnn.so.7\n",
            "2021-01-13 14:01:48.088828: I tensorflow/stream_executor/cuda/cuda_gpu_executor.cc:941] successful NUMA node read from SysFS had negative value (-1), but there must be at least one NUMA node, so returning NUMA node zero\n",
            "2021-01-13 14:01:48.089375: I tensorflow/stream_executor/cuda/cuda_gpu_executor.cc:941] successful NUMA node read from SysFS had negative value (-1), but there must be at least one NUMA node, so returning NUMA node zero\n",
            "2021-01-13 14:01:48.089848: I tensorflow/core/common_runtime/gpu/gpu_device.cc:1862] Adding visible gpu devices: 0\n",
            "2021-01-13 14:01:48.089894: I tensorflow/stream_executor/platform/default/dso_loader.cc:49] Successfully opened dynamic library libcudart.so.10.1\n",
            "2021-01-13 14:01:48.783753: I tensorflow/core/common_runtime/gpu/gpu_device.cc:1261] Device interconnect StreamExecutor with strength 1 edge matrix:\n",
            "2021-01-13 14:01:48.783811: I tensorflow/core/common_runtime/gpu/gpu_device.cc:1267]      0 \n",
            "2021-01-13 14:01:48.783832: I tensorflow/core/common_runtime/gpu/gpu_device.cc:1280] 0:   N \n",
            "2021-01-13 14:01:48.784027: I tensorflow/stream_executor/cuda/cuda_gpu_executor.cc:941] successful NUMA node read from SysFS had negative value (-1), but there must be at least one NUMA node, so returning NUMA node zero\n",
            "2021-01-13 14:01:48.784648: I tensorflow/stream_executor/cuda/cuda_gpu_executor.cc:941] successful NUMA node read from SysFS had negative value (-1), but there must be at least one NUMA node, so returning NUMA node zero\n",
            "2021-01-13 14:01:48.785148: I tensorflow/stream_executor/cuda/cuda_gpu_executor.cc:941] successful NUMA node read from SysFS had negative value (-1), but there must be at least one NUMA node, so returning NUMA node zero\n",
            "2021-01-13 14:01:48.785620: W tensorflow/core/common_runtime/gpu/gpu_bfc_allocator.cc:39] Overriding allow_growth setting because the TF_FORCE_GPU_ALLOW_GROWTH environment variable is set. Original config value was 0.\n",
            "2021-01-13 14:01:48.785666: I tensorflow/core/common_runtime/gpu/gpu_device.cc:1406] Created TensorFlow device (/job:localhost/replica:0/task:0/device:GPU:0 with 14179 MB memory) -> physical GPU (device: 0, name: Tesla P100-PCIE-16GB, pci bus id: 0000:00:04.0, compute capability: 6.0)\n",
            "/usr/local/lib/python3.6/dist-packages/tensorflow/python/keras/engine/base_layer.py:2281: UserWarning: `layer.add_variable` is deprecated and will be removed in a future version. Please use `layer.add_weight` method instead.\n",
            "  warnings.warn('`layer.add_variable` is deprecated and '\n",
            "2021-01-13 14:01:49.729156: I tensorflow/compiler/mlir/mlir_graph_optimization_pass.cc:116] None of the MLIR optimization passes are enabled (registered 2)\n",
            "2021-01-13 14:01:49.729552: I tensorflow/core/platform/profile_utils/cpu_utils.cc:112] CPU Frequency: 2300000000 Hz\n",
            "2021-01-13 14:01:49.815005: I tensorflow/stream_executor/platform/default/dso_loader.cc:49] Successfully opened dynamic library libcublas.so.10\n",
            "2021-01-13 14:01:50.051034: I tensorflow/stream_executor/platform/default/dso_loader.cc:49] Successfully opened dynamic library libcudnn.so.7\n",
            "Predicted Class: 1283\n"
          ],
          "name": "stdout"
        }
      ]
    }
  ]
}