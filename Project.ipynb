{
  "nbformat": 4,
  "nbformat_minor": 0,
  "metadata": {
    "colab": {
      "name": "Project.ipynb",
      "provenance": [],
      "collapsed_sections": [],
      "toc_visible": true,
      "include_colab_link": true
    },
    "kernelspec": {
      "display_name": "Python 3",
      "name": "python3"
    },
    "accelerator": "GPU"
  },
  "cells": [
    {
      "cell_type": "markdown",
      "metadata": {
        "id": "view-in-github",
        "colab_type": "text"
      },
      "source": [
        "<a href=\"https://colab.research.google.com/github/Berlingrad/MLinCyberSecurityProject/blob/XuDevelopment/Project.ipynb\" target=\"_parent\"><img src=\"https://colab.research.google.com/assets/colab-badge.svg\" alt=\"Open In Colab\"/></a>"
      ]
    },
    {
      "cell_type": "markdown",
      "metadata": {
        "id": "HGclO6eUuymx"
      },
      "source": [
        "#DNN Back Door Detector"
      ]
    },
    {
      "cell_type": "markdown",
      "metadata": {
        "id": "UNYtyNsgvHRl"
      },
      "source": [
        "## Preprocessing"
      ]
    },
    {
      "cell_type": "markdown",
      "metadata": {
        "id": "GiqLPbbVLs-w"
      },
      "source": [
        "###Data Download\r\n",
        "Clone the CSAW competition repo and download provided datasets from the Google drive. Downloaded data are moved <code>/content/CSAW-HackML-2020/data</code> directory."
      ]
    },
    {
      "cell_type": "code",
      "metadata": {
        "colab": {
          "base_uri": "https://localhost:8080/"
        },
        "id": "puVie2-guvOg",
        "outputId": "d965f917-106e-4886-9cef-d100d00ac6c5"
      },
      "source": [
        "!git clone https://github.com/csaw-hackml/CSAW-HackML-2020.git\n",
        "\n",
        "!gdown https://drive.google.com/uc?id=1-ay0w_hgTMo6ZNxb7CZhqxWZhkMj1I6Z\n",
        "!gdown https://drive.google.com/uc?id=1A1CnWy2N1gjzWO6ZEUgiQ-LOAMgKvElL\n",
        "!gdown https://drive.google.com/uc?id=1ZH7jMGEKhtmI-K0Jw-oKv843jxs-_kkI\n",
        "!gdown https://drive.google.com/uc?id=1Sw77QLiBn-FuXpPXnas-Gdo3M_aQBD_H\n",
        "\n",
        "!mv /content/*.h5 /content/CSAW-HackML-2020/data\n"
      ],
      "execution_count": 1,
      "outputs": [
        {
          "output_type": "stream",
          "text": [
            "Cloning into 'CSAW-HackML-2020'...\n",
            "remote: Enumerating objects: 23, done.\u001b[K\n",
            "remote: Counting objects: 100% (23/23), done.\u001b[K\n",
            "remote: Compressing objects: 100% (17/17), done.\u001b[K\n",
            "remote: Total 164 (delta 11), reused 18 (delta 6), pack-reused 141\u001b[K\n",
            "Receiving objects: 100% (164/164), 79.56 MiB | 41.02 MiB/s, done.\n",
            "Resolving deltas: 100% (54/54), done.\n",
            "Downloading...\n",
            "From: https://drive.google.com/uc?id=1-ay0w_hgTMo6ZNxb7CZhqxWZhkMj1I6Z\n",
            "To: /content/clean_test_data.h5\n",
            "398MB [00:02, 157MB/s]\n",
            "Downloading...\n",
            "From: https://drive.google.com/uc?id=1A1CnWy2N1gjzWO6ZEUgiQ-LOAMgKvElL\n",
            "To: /content/clean_validation_data.h5\n",
            "716MB [00:03, 215MB/s]\n",
            "Downloading...\n",
            "From: https://drive.google.com/uc?id=1ZH7jMGEKhtmI-K0Jw-oKv843jxs-_kkI\n",
            "To: /content/sunglasses_poisoned_data.h5\n",
            "398MB [00:06, 57.4MB/s]\n",
            "Downloading...\n",
            "From: https://drive.google.com/uc?id=1Sw77QLiBn-FuXpPXnas-Gdo3M_aQBD_H\n",
            "To: /content/anonymous_1_poisoned_data.h5\n",
            "637MB [00:14, 43.5MB/s]\n"
          ],
          "name": "stdout"
        }
      ]
    },
    {
      "cell_type": "code",
      "metadata": {
        "colab": {
          "base_uri": "https://localhost:8080/"
        },
        "id": "C1skH0vBC7pl",
        "outputId": "70b95145-2a1a-43db-c042-3e7cf1d23a64"
      },
      "source": [
        "import os\n",
        "import gdown\n",
        "import numpy as np\n",
        "import random\n",
        "import h5py\n",
        "import glob2\n",
        "import tempfile\n",
        "import copy\n",
        "\n",
        "import keras\n",
        "import tensorflow as tf\n",
        "from keras.models import load_model\n",
        "from keras.preprocessing.image import ImageDataGenerator\n",
        "!pip install -q tensorflow-model-optimization\n",
        "import tensorflow_model_optimization as tfmot\n",
        "\n",
        "##check\n",
        "if not tf.config.experimental.list_physical_devices('GPU'):\n",
        "    raise Exception(\"Please change runtime type to GPU\")"
      ],
      "execution_count": 2,
      "outputs": [
        {
          "output_type": "stream",
          "text": [
            "\u001b[?25l\r\u001b[K     |██                              | 10kB 32.9MB/s eta 0:00:01\r\u001b[K     |███▉                            | 20kB 18.0MB/s eta 0:00:01\r\u001b[K     |█████▊                          | 30kB 12.9MB/s eta 0:00:01\r\u001b[K     |███████▋                        | 40kB 13.6MB/s eta 0:00:01\r\u001b[K     |█████████▌                      | 51kB 9.0MB/s eta 0:00:01\r\u001b[K     |███████████▍                    | 61kB 8.4MB/s eta 0:00:01\r\u001b[K     |█████████████▎                  | 71kB 9.5MB/s eta 0:00:01\r\u001b[K     |███████████████▏                | 81kB 10.5MB/s eta 0:00:01\r\u001b[K     |█████████████████               | 92kB 11.1MB/s eta 0:00:01\r\u001b[K     |███████████████████             | 102kB 7.4MB/s eta 0:00:01\r\u001b[K     |████████████████████▉           | 112kB 7.4MB/s eta 0:00:01\r\u001b[K     |██████████████████████▊         | 122kB 7.4MB/s eta 0:00:01\r\u001b[K     |████████████████████████▊       | 133kB 7.4MB/s eta 0:00:01\r\u001b[K     |██████████████████████████▋     | 143kB 7.4MB/s eta 0:00:01\r\u001b[K     |████████████████████████████▌   | 153kB 7.4MB/s eta 0:00:01\r\u001b[K     |██████████████████████████████▍ | 163kB 7.4MB/s eta 0:00:01\r\u001b[K     |████████████████████████████████| 174kB 7.4MB/s \n",
            "\u001b[?25h"
          ],
          "name": "stdout"
        }
      ]
    },
    {
      "cell_type": "markdown",
      "metadata": {
        "id": "gmVSVEk9kTs4"
      },
      "source": [
        "Functions for loading and decompresssing data and models from h5 format. If you added a dataset, simply run load_dataset with the path to the h5"
      ]
    },
    {
      "cell_type": "code",
      "metadata": {
        "id": "yPkj0u-5F2Be"
      },
      "source": [
        "def load_dataset(data_filename, keys=None):\n",
        "    dataset = {}\n",
        "    nClass = 1283\n",
        "    with h5py.File(data_filename, 'r') as hf:\n",
        "        if keys is None:\n",
        "            for name in hf:\n",
        "                dataset[name] = np.array(hf.get(name))\n",
        "        else:\n",
        "            for name in keys:\n",
        "                dataset[name] = np.array(hf.get(name))\n",
        "        dataset['data'] /= 255\n",
        "\n",
        "        y = np.zeros((dataset['label'].shape[0], nClass))\n",
        "\n",
        "        for i in range(dataset['label'].shape[0]):\n",
        "            y[i][int(dataset['label'][i])] = 1\n",
        "\n",
        "        dataset['data'] = dataset['data'].transpose((0,2,3,1))\n",
        "        dataset['label'] = y\n",
        "        x = dataset['data']\n",
        "\n",
        "    return x, y, dataset\n",
        "\n",
        "def load_models(model_dir):\n",
        "    models = []\n",
        "    names = {}\n",
        "\n",
        "    for i, net in enumerate(glob2.glob(\"/content/CSAW-HackML-2020/models/*net.h5\")):\n",
        "        print(\"loading\", net)\n",
        "        weights = glob2.glob(net.split(\"_\")[0]+\"*weights.h5\")[0]\n",
        "       \n",
        "        m = load_model(net)\n",
        "        m.load_weights(weights)\n",
        "\n",
        "        models.append(m)\n",
        "        \n",
        "        names[i] = os.path.basename(net).split(\".\")[0]\n",
        "    return models, names"
      ],
      "execution_count": 3,
      "outputs": []
    },
    {
      "cell_type": "markdown",
      "metadata": {
        "id": "14Ae9mRxBWyV"
      },
      "source": [
        "###Load Data"
      ]
    },
    {
      "cell_type": "code",
      "metadata": {
        "id": "cNQ8-t0pDYY5"
      },
      "source": [
        "SG_poisoned_path = \"/content/CSAW-HackML-2020/data/sunglasses_poisoned_data.h5\"\n",
        "xSG, ySG, SG_poisoned = load_dataset(SG_poisoned_path)\n",
        "\n",
        "clean_validation_path = \"/content/CSAW-HackML-2020/data/clean_validation_data.h5\"\n",
        "xValid, yValid, valid_clean = load_dataset(clean_validation_path)\n",
        "\n",
        "clean_test_path = \"/content/CSAW-HackML-2020/data/clean_test_data.h5\"\n",
        "xTest, yTest, test_clean = load_dataset(clean_test_path)\n",
        "\n",
        "anon_poisoned_path = \"/content/CSAW-HackML-2020/data/anonymous_1_poisoned_data.h5\"\n",
        "xAnon, yAnon, anon_poisoned = load_dataset(anon_poisoned_path)\n"
      ],
      "execution_count": 4,
      "outputs": []
    },
    {
      "cell_type": "markdown",
      "metadata": {
        "id": "s5VA8NPX67_C"
      },
      "source": [
        "####Mixed final test data\r\n",
        "Mix the sunglass poinsoned images with clean test images from test set to create a final validation set "
      ]
    },
    {
      "cell_type": "code",
      "metadata": {
        "id": "pH_CUYpG7CBG"
      },
      "source": [
        "##TODO\r\n",
        "def mix_dataset(A, B):\r\n",
        "    nSample = A['data'].shape[0] + B['data'].shape[0] \r\n",
        "    offset = A['data'].shape[0]\r\n",
        "    xShape = (nSample, 55, 47, 3)\r\n",
        "    yShape = (nSample, 1283+1)\r\n",
        "    xOut = np.zeros(xShape)\r\n",
        "    yOut = np.zeros(yShape)\r\n",
        "\r\n",
        "    iOut = [i for i in range(nSample)]\r\n",
        "    random.shuffle(iOut)\r\n",
        "\r\n",
        "    for i in iOut:\r\n",
        "        if i >= offset:\r\n",
        "\r\n",
        "            xOut[i] = B['data'][i-offset]\r\n",
        "\r\n",
        "            if np.argmax(B['label'][i-offset]) != 0:\r\n",
        "                yOut[i] = np.append(B['label'][i-offset], [0])\r\n",
        "\r\n",
        "            else:\r\n",
        "                yOut[i][-1] = 0\r\n",
        "            \r\n",
        "        else:\r\n",
        "            xOut[i] = A['data'][i]\r\n",
        "            if np.argmax(A['label'][i]) != 0:\r\n",
        "                yOut[i] = np.append(A['label'][i], [0])\r\n",
        "            else:\r\n",
        "                yOut[i][-1] = 0\r\n",
        "\r\n",
        "    return xOut, yOut "
      ],
      "execution_count": 5,
      "outputs": []
    },
    {
      "cell_type": "code",
      "metadata": {
        "id": "qXEQHDo4iyBs"
      },
      "source": [
        "xSGmixed, ySGmixed = mix_dataset(SG_poisoned, test_clean)"
      ],
      "execution_count": 6,
      "outputs": []
    },
    {
      "cell_type": "markdown",
      "metadata": {
        "id": "khtwl8GCIYku"
      },
      "source": [
        "###Load Models\r\n",
        "Load all Badnet models under <code>/content/CSAW-HackML-2020/models</code> directory. "
      ]
    },
    {
      "cell_type": "code",
      "metadata": {
        "colab": {
          "base_uri": "https://localhost:8080/"
        },
        "id": "hqfW9ZeHJGF4",
        "outputId": "e085dc09-1c5c-4d03-9482-b268235aabc1"
      },
      "source": [
        "\n",
        "model_dir = \"/content/CSAW-HackML-2020/models\"\n",
        "\n",
        "models, model_names = load_models(model_dir)\n",
        "\n",
        "model_names.values()\n"
      ],
      "execution_count": 7,
      "outputs": [
        {
          "output_type": "stream",
          "text": [
            "loading /content/CSAW-HackML-2020/models/anonymous_2_bd_net.h5\n",
            "loading /content/CSAW-HackML-2020/models/multi_trigger_multi_target_bd_net.h5\n",
            "loading /content/CSAW-HackML-2020/models/sunglasses_bd_net.h5\n",
            "loading /content/CSAW-HackML-2020/models/anonymous_1_bd_net.h5\n"
          ],
          "name": "stdout"
        },
        {
          "output_type": "execute_result",
          "data": {
            "text/plain": [
              "dict_values(['anonymous_2_bd_net', 'multi_trigger_multi_target_bd_net', 'sunglasses_bd_net', 'anonymous_1_bd_net'])"
            ]
          },
          "metadata": {
            "tags": []
          },
          "execution_count": 7
        }
      ]
    },
    {
      "cell_type": "markdown",
      "metadata": {
        "id": "mzKRM8bg8Om1"
      },
      "source": [
        "### Model Summary"
      ]
    },
    {
      "cell_type": "code",
      "metadata": {
        "colab": {
          "base_uri": "https://localhost:8080/"
        },
        "id": "oT6zOYgL8Nmk",
        "outputId": "a441c885-7fa6-4cb0-ba22-1b3003407f79"
      },
      "source": [
        "##TODO\n",
        "for i, model in enumerate(models):\n",
        "    print(\"model \", i, \":\")\n",
        "    model.summary()\n",
        "\n",
        "     "
      ],
      "execution_count": 8,
      "outputs": [
        {
          "output_type": "stream",
          "text": [
            "model  0 :\n",
            "Model: \"model_1\"\n",
            "__________________________________________________________________________________________________\n",
            "Layer (type)                    Output Shape         Param #     Connected to                     \n",
            "==================================================================================================\n",
            "input (InputLayer)              [(None, 55, 47, 3)]  0                                            \n",
            "__________________________________________________________________________________________________\n",
            "conv_1 (Conv2D)                 (None, 52, 44, 20)   980         input[0][0]                      \n",
            "__________________________________________________________________________________________________\n",
            "pool_1 (MaxPooling2D)           (None, 26, 22, 20)   0           conv_1[0][0]                     \n",
            "__________________________________________________________________________________________________\n",
            "conv_2 (Conv2D)                 (None, 24, 20, 40)   7240        pool_1[0][0]                     \n",
            "__________________________________________________________________________________________________\n",
            "pool_2 (MaxPooling2D)           (None, 12, 10, 40)   0           conv_2[0][0]                     \n",
            "__________________________________________________________________________________________________\n",
            "conv_3 (Conv2D)                 (None, 10, 8, 60)    21660       pool_2[0][0]                     \n",
            "__________________________________________________________________________________________________\n",
            "pool_3 (MaxPooling2D)           (None, 5, 4, 60)     0           conv_3[0][0]                     \n",
            "__________________________________________________________________________________________________\n",
            "conv_4 (Conv2D)                 (None, 4, 3, 80)     19280       pool_3[0][0]                     \n",
            "__________________________________________________________________________________________________\n",
            "flatten_1 (Flatten)             (None, 1200)         0           pool_3[0][0]                     \n",
            "__________________________________________________________________________________________________\n",
            "flatten_2 (Flatten)             (None, 960)          0           conv_4[0][0]                     \n",
            "__________________________________________________________________________________________________\n",
            "fc_1 (Dense)                    (None, 160)          192160      flatten_1[0][0]                  \n",
            "__________________________________________________________________________________________________\n",
            "fc_2 (Dense)                    (None, 160)          153760      flatten_2[0][0]                  \n",
            "__________________________________________________________________________________________________\n",
            "add_1 (Add)                     (None, 160)          0           fc_1[0][0]                       \n",
            "                                                                 fc_2[0][0]                       \n",
            "__________________________________________________________________________________________________\n",
            "activation_1 (Activation)       (None, 160)          0           add_1[0][0]                      \n",
            "__________________________________________________________________________________________________\n",
            "output (Dense)                  (None, 1283)         206563      activation_1[0][0]               \n",
            "==================================================================================================\n",
            "Total params: 601,643\n",
            "Trainable params: 601,643\n",
            "Non-trainable params: 0\n",
            "__________________________________________________________________________________________________\n",
            "model  1 :\n",
            "Model: \"model_1\"\n",
            "__________________________________________________________________________________________________\n",
            "Layer (type)                    Output Shape         Param #     Connected to                     \n",
            "==================================================================================================\n",
            "input (InputLayer)              [(None, 55, 47, 3)]  0                                            \n",
            "__________________________________________________________________________________________________\n",
            "conv_1 (Conv2D)                 (None, 52, 44, 20)   980         input[0][0]                      \n",
            "__________________________________________________________________________________________________\n",
            "pool_1 (MaxPooling2D)           (None, 26, 22, 20)   0           conv_1[0][0]                     \n",
            "__________________________________________________________________________________________________\n",
            "conv_2 (Conv2D)                 (None, 24, 20, 40)   7240        pool_1[0][0]                     \n",
            "__________________________________________________________________________________________________\n",
            "pool_2 (MaxPooling2D)           (None, 12, 10, 40)   0           conv_2[0][0]                     \n",
            "__________________________________________________________________________________________________\n",
            "conv_3 (Conv2D)                 (None, 10, 8, 60)    21660       pool_2[0][0]                     \n",
            "__________________________________________________________________________________________________\n",
            "pool_3 (MaxPooling2D)           (None, 5, 4, 60)     0           conv_3[0][0]                     \n",
            "__________________________________________________________________________________________________\n",
            "conv_4 (Conv2D)                 (None, 4, 3, 80)     19280       pool_3[0][0]                     \n",
            "__________________________________________________________________________________________________\n",
            "flatten_1 (Flatten)             (None, 1200)         0           pool_3[0][0]                     \n",
            "__________________________________________________________________________________________________\n",
            "flatten_2 (Flatten)             (None, 960)          0           conv_4[0][0]                     \n",
            "__________________________________________________________________________________________________\n",
            "fc_1 (Dense)                    (None, 160)          192160      flatten_1[0][0]                  \n",
            "__________________________________________________________________________________________________\n",
            "fc_2 (Dense)                    (None, 160)          153760      flatten_2[0][0]                  \n",
            "__________________________________________________________________________________________________\n",
            "add_1 (Add)                     (None, 160)          0           fc_1[0][0]                       \n",
            "                                                                 fc_2[0][0]                       \n",
            "__________________________________________________________________________________________________\n",
            "activation_1 (Activation)       (None, 160)          0           add_1[0][0]                      \n",
            "__________________________________________________________________________________________________\n",
            "output (Dense)                  (None, 1283)         206563      activation_1[0][0]               \n",
            "==================================================================================================\n",
            "Total params: 601,643\n",
            "Trainable params: 601,643\n",
            "Non-trainable params: 0\n",
            "__________________________________________________________________________________________________\n",
            "model  2 :\n",
            "Model: \"model_1\"\n",
            "__________________________________________________________________________________________________\n",
            "Layer (type)                    Output Shape         Param #     Connected to                     \n",
            "==================================================================================================\n",
            "input (InputLayer)              [(None, 55, 47, 3)]  0                                            \n",
            "__________________________________________________________________________________________________\n",
            "conv_1 (Conv2D)                 (None, 52, 44, 20)   980         input[0][0]                      \n",
            "__________________________________________________________________________________________________\n",
            "pool_1 (MaxPooling2D)           (None, 26, 22, 20)   0           conv_1[0][0]                     \n",
            "__________________________________________________________________________________________________\n",
            "conv_2 (Conv2D)                 (None, 24, 20, 40)   7240        pool_1[0][0]                     \n",
            "__________________________________________________________________________________________________\n",
            "pool_2 (MaxPooling2D)           (None, 12, 10, 40)   0           conv_2[0][0]                     \n",
            "__________________________________________________________________________________________________\n",
            "conv_3 (Conv2D)                 (None, 10, 8, 60)    21660       pool_2[0][0]                     \n",
            "__________________________________________________________________________________________________\n",
            "pool_3 (MaxPooling2D)           (None, 5, 4, 60)     0           conv_3[0][0]                     \n",
            "__________________________________________________________________________________________________\n",
            "conv_4 (Conv2D)                 (None, 4, 3, 80)     19280       pool_3[0][0]                     \n",
            "__________________________________________________________________________________________________\n",
            "flatten_1 (Flatten)             (None, 1200)         0           pool_3[0][0]                     \n",
            "__________________________________________________________________________________________________\n",
            "flatten_2 (Flatten)             (None, 960)          0           conv_4[0][0]                     \n",
            "__________________________________________________________________________________________________\n",
            "fc_1 (Dense)                    (None, 160)          192160      flatten_1[0][0]                  \n",
            "__________________________________________________________________________________________________\n",
            "fc_2 (Dense)                    (None, 160)          153760      flatten_2[0][0]                  \n",
            "__________________________________________________________________________________________________\n",
            "add_1 (Add)                     (None, 160)          0           fc_1[0][0]                       \n",
            "                                                                 fc_2[0][0]                       \n",
            "__________________________________________________________________________________________________\n",
            "activation_1 (Activation)       (None, 160)          0           add_1[0][0]                      \n",
            "__________________________________________________________________________________________________\n",
            "output (Dense)                  (None, 1283)         206563      activation_1[0][0]               \n",
            "==================================================================================================\n",
            "Total params: 601,643\n",
            "Trainable params: 601,643\n",
            "Non-trainable params: 0\n",
            "__________________________________________________________________________________________________\n",
            "model  3 :\n",
            "Model: \"model_1\"\n",
            "__________________________________________________________________________________________________\n",
            "Layer (type)                    Output Shape         Param #     Connected to                     \n",
            "==================================================================================================\n",
            "input (InputLayer)              [(None, 55, 47, 3)]  0                                            \n",
            "__________________________________________________________________________________________________\n",
            "conv_1 (Conv2D)                 (None, 52, 44, 20)   980         input[0][0]                      \n",
            "__________________________________________________________________________________________________\n",
            "pool_1 (MaxPooling2D)           (None, 26, 22, 20)   0           conv_1[0][0]                     \n",
            "__________________________________________________________________________________________________\n",
            "conv_2 (Conv2D)                 (None, 24, 20, 40)   7240        pool_1[0][0]                     \n",
            "__________________________________________________________________________________________________\n",
            "pool_2 (MaxPooling2D)           (None, 12, 10, 40)   0           conv_2[0][0]                     \n",
            "__________________________________________________________________________________________________\n",
            "conv_3 (Conv2D)                 (None, 10, 8, 60)    21660       pool_2[0][0]                     \n",
            "__________________________________________________________________________________________________\n",
            "pool_3 (MaxPooling2D)           (None, 5, 4, 60)     0           conv_3[0][0]                     \n",
            "__________________________________________________________________________________________________\n",
            "conv_4 (Conv2D)                 (None, 4, 3, 80)     19280       pool_3[0][0]                     \n",
            "__________________________________________________________________________________________________\n",
            "flatten_1 (Flatten)             (None, 1200)         0           pool_3[0][0]                     \n",
            "__________________________________________________________________________________________________\n",
            "flatten_2 (Flatten)             (None, 960)          0           conv_4[0][0]                     \n",
            "__________________________________________________________________________________________________\n",
            "fc_1 (Dense)                    (None, 160)          192160      flatten_1[0][0]                  \n",
            "__________________________________________________________________________________________________\n",
            "fc_2 (Dense)                    (None, 160)          153760      flatten_2[0][0]                  \n",
            "__________________________________________________________________________________________________\n",
            "add_1 (Add)                     (None, 160)          0           fc_1[0][0]                       \n",
            "                                                                 fc_2[0][0]                       \n",
            "__________________________________________________________________________________________________\n",
            "activation_1 (Activation)       (None, 160)          0           add_1[0][0]                      \n",
            "__________________________________________________________________________________________________\n",
            "output (Dense)                  (None, 1283)         206563      activation_1[0][0]               \n",
            "==================================================================================================\n",
            "Total params: 601,643\n",
            "Trainable params: 601,643\n",
            "Non-trainable params: 0\n",
            "__________________________________________________________________________________________________\n"
          ],
          "name": "stdout"
        }
      ]
    },
    {
      "cell_type": "code",
      "metadata": {
        "id": "ktTaXUpx1xNw"
      },
      "source": [
        "def validate_model(y, y_hat):\r\n",
        "    ##compute model accuracy based vectorized output\r\n",
        "    n = 0\r\n",
        "    for i, v in enumerate(y):\r\n",
        "        correct = 1 if np.argmax(v) == np.argmax(y_hat[i]) else 0\r\n",
        "        n+= correct \r\n",
        "    return n/(i + 1)\r\n",
        "    \r\n",
        "    "
      ],
      "execution_count": 9,
      "outputs": []
    },
    {
      "cell_type": "markdown",
      "metadata": {
        "id": "j5254HZpCQ10"
      },
      "source": [
        "####Evaluate loaded models on poisoned data.\r\n",
        "\r\n",
        " Note poisoned data will not involved in the repairing process. We are evaluating it to set baselines, Later we will use the results to validate our method "
      ]
    },
    {
      "cell_type": "code",
      "metadata": {
        "id": "Y0qHGnYtB39O",
        "colab": {
          "base_uri": "https://localhost:8080/"
        },
        "outputId": "dc5f96a8-76dd-43bb-cc66-aa0225c5b593"
      },
      "source": [
        "for i, m in enumerate(models):\r\n",
        "    predClean = m.predict(xTest)\r\n",
        "    predSG = m.predict(xSG)\r\n",
        "    predAnon = m.predict(xAnon)\r\n",
        "    print(\"badnet\", model_names[i], \"accuracy on clean test set: \", validate_model(predClean, yTest))\r\n",
        "    print(\"badnet\", model_names[i], \"accuracy on sunglass poisoned set: \", validate_model(predSG, ySG))\r\n",
        "    print(\"badnet\", model_names[i], \"accuracy on anonumous poisoned set: \", validate_model(predAnon, yAnon))"
      ],
      "execution_count": 10,
      "outputs": [
        {
          "output_type": "stream",
          "text": [
            "badnet anonymous_2_bd_net accuracy on clean test set:  0.9596258768511302\n",
            "badnet anonymous_2_bd_net accuracy on sunglass poisoned set:  0.0\n",
            "badnet anonymous_2_bd_net accuracy on anonumous poisoned set:  0.0\n",
            "badnet multi_trigger_multi_target_bd_net accuracy on clean test set:  0.9600935307872175\n",
            "badnet multi_trigger_multi_target_bd_net accuracy on sunglass poisoned set:  0.0\n",
            "badnet multi_trigger_multi_target_bd_net accuracy on anonumous poisoned set:  0.0\n",
            "badnet sunglasses_bd_net accuracy on clean test set:  0.9777864380358535\n",
            "badnet sunglasses_bd_net accuracy on sunglass poisoned set:  0.9999220576773188\n",
            "badnet sunglasses_bd_net accuracy on anonumous poisoned set:  0.0010717069368667187\n",
            "badnet anonymous_1_bd_net accuracy on clean test set:  0.9596258768511302\n",
            "badnet anonymous_1_bd_net accuracy on sunglass poisoned set:  0.0\n",
            "badnet anonymous_1_bd_net accuracy on anonumous poisoned set:  0.0\n"
          ],
          "name": "stdout"
        }
      ]
    },
    {
      "cell_type": "markdown",
      "metadata": {
        "id": "E4684QCsOVcw"
      },
      "source": [
        "###Save pre-repaired results\r\n",
        "For later poisoned image detection."
      ]
    },
    {
      "cell_type": "code",
      "metadata": {
        "colab": {
          "base_uri": "https://localhost:8080/",
          "height": 35
        },
        "id": "EniU0Pd6OHFB",
        "outputId": "93998f61-bb89-4b53-b9ee-50d9149b0a88"
      },
      "source": [
        "preds_preprocessed = [] ##test result of the badnets before repair\r\n",
        "\r\n",
        "for i, m in enumerate(models):\r\n",
        "    if \"sunglasses\" in model_names[i].lower(): ##only save output from sunglasses backdoored model to save RAM \r\n",
        "        pred = m.predict(xSGmixed)\r\n",
        "        preds_preprocessed.append(pred)\r\n",
        "\r\n",
        "    ##print(model_names[i], \"accuracy on the clean testset before repairing: \", validate_model(yTest, pred))\r\n",
        "'''\r\n",
        "for m in models:\r\n",
        "    pred = m.predict(xSG)\r\n",
        "    print(validate_model(ySG, pred))\r\n",
        "''' "
      ],
      "execution_count": 11,
      "outputs": [
        {
          "output_type": "execute_result",
          "data": {
            "application/vnd.google.colaboratory.intrinsic+json": {
              "type": "string"
            },
            "text/plain": [
              "'\\nfor m in models:\\n    pred = m.predict(xSG)\\n    print(validate_model(ySG, pred))\\n'"
            ]
          },
          "metadata": {
            "tags": []
          },
          "execution_count": 11
        }
      ]
    },
    {
      "cell_type": "markdown",
      "metadata": {
        "id": "yv20HKo1n6at"
      },
      "source": [
        "###Load your own data"
      ]
    },
    {
      "cell_type": "code",
      "metadata": {
        "id": "fj5yW6ifle6K",
        "colab": {
          "base_uri": "https://localhost:8080/",
          "height": 35
        },
        "outputId": "83ceb2d5-f4a0-48eb-e2f9-78966c963581"
      },
      "source": [
        "'''\r\n",
        "Path_to_your_data = \r\n",
        "yourX, yourY, yourDataset = load_dataset(Path_to_your_data)\r\n",
        "preds_preprocessed = []\r\n",
        "\r\n",
        "for i, m in enumerate(models):\r\n",
        "    pred = m.predict(yourX)\r\n",
        "    preds_preprocessed.append(pred)\r\n",
        "\r\n",
        "'''"
      ],
      "execution_count": 12,
      "outputs": [
        {
          "output_type": "execute_result",
          "data": {
            "application/vnd.google.colaboratory.intrinsic+json": {
              "type": "string"
            },
            "text/plain": [
              "'\\nPath_to_your_data = \\nyourX, yourY, yourDataset = load_dataset(Path_to_your_data)\\npreds_preprocessed = []\\n\\nfor i, m in enumerate(models):\\n    pred = m.predict(yourX)\\n    preds_preprocessed.append(pred)\\n\\n'"
            ]
          },
          "metadata": {
            "tags": []
          },
          "execution_count": 12
        }
      ]
    },
    {
      "cell_type": "markdown",
      "metadata": {
        "id": "9EiLz-FrAE6U"
      },
      "source": [
        "##Pruning\r\n",
        "\r\n",
        "Iteratively prune the each base badnet models 3 times with <code>prune_low_magenitue</code> in Keras. The clean Validation set is used for fit. Pruned nets are saved in list <code>pruned_models</code>"
      ]
    },
    {
      "cell_type": "code",
      "metadata": {
        "colab": {
          "base_uri": "https://localhost:8080/"
        },
        "id": "jsOlCu-oAbkR",
        "outputId": "4e311fc1-1529-4608-9507-e1c23ac042bb"
      },
      "source": [
        "\n",
        "pruned_models = []\n",
        "for i, base_model in enumerate(models):\n",
        "    for _ in range(3):\n",
        "        model_for_pruning = tfmot.sparsity.keras.prune_low_magnitude(base_model)\n",
        "    \n",
        "        log_dir = tempfile.mkdtemp()\n",
        "        callbacks = [\n",
        "            tfmot.sparsity.keras.UpdatePruningStep(),\n",
        "            tfmot.sparsity.keras.PruningSummaries(log_dir=log_dir)\n",
        "        ]\n",
        "        model_for_pruning.compile(\n",
        "          loss=tf.keras.losses.categorical_crossentropy,\n",
        "          optimizer='adam',\n",
        "          metrics=['accuracy']\n",
        "        )\n",
        "        model_for_pruning.fit(xValid, yValid,\n",
        "                              callbacks=callbacks,\n",
        "                              epochs=2\n",
        "                              )\n",
        "\n",
        "    pruned_models.append(model_for_pruning)"
      ],
      "execution_count": 13,
      "outputs": [
        {
          "output_type": "stream",
          "text": [
            "/usr/local/lib/python3.6/dist-packages/tensorflow/python/keras/engine/base_layer.py:2281: UserWarning: `layer.add_variable` is deprecated and will be removed in a future version. Please use `layer.add_weight` method instead.\n",
            "  warnings.warn('`layer.add_variable` is deprecated and '\n"
          ],
          "name": "stderr"
        },
        {
          "output_type": "stream",
          "text": [
            "Epoch 1/2\n",
            "  3/361 [..............................] - ETA: 33s - loss: 0.2677 - accuracy: 0.9444WARNING:tensorflow:Callback method `on_train_batch_end` is slow compared to the batch time (batch time: 0.0128s vs `on_train_batch_end` time: 0.0255s). Check your callbacks.\n",
            "361/361 [==============================] - 9s 17ms/step - loss: 0.4622 - accuracy: 0.8905\n",
            "Epoch 2/2\n",
            "361/361 [==============================] - 6s 16ms/step - loss: 0.0850 - accuracy: 0.9766\n",
            "Epoch 1/2\n",
            "  3/361 [..............................] - ETA: 48s - loss: 0.0539 - accuracy: 0.9878WARNING:tensorflow:Callback method `on_train_batch_end` is slow compared to the batch time (batch time: 0.0117s vs `on_train_batch_end` time: 0.0399s). Check your callbacks.\n",
            "361/361 [==============================] - 9s 18ms/step - loss: 0.1247 - accuracy: 0.9640\n",
            "Epoch 2/2\n",
            "361/361 [==============================] - 6s 18ms/step - loss: 0.0776 - accuracy: 0.9763\n",
            "Epoch 1/2\n",
            "  3/361 [..............................] - ETA: 54s - loss: 0.0583 - accuracy: 0.9740WARNING:tensorflow:Callback method `on_train_batch_end` is slow compared to the batch time (batch time: 0.0116s vs `on_train_batch_end` time: 0.0462s). Check your callbacks.\n",
            "361/361 [==============================] - 9s 17ms/step - loss: 0.0817 - accuracy: 0.9765\n",
            "Epoch 2/2\n",
            "361/361 [==============================] - 6s 17ms/step - loss: 0.0690 - accuracy: 0.9789\n",
            "Epoch 1/2\n",
            "  6/361 [..............................] - ETA: 25s - loss: 0.6333 - accuracy: 0.8970WARNING:tensorflow:Callback method `on_train_batch_end` is slow compared to the batch time (batch time: 0.0135s vs `on_train_batch_end` time: 0.0453s). Check your callbacks.\n",
            "361/361 [==============================] - 9s 17ms/step - loss: 0.4471 - accuracy: 0.9034\n",
            "Epoch 2/2\n",
            "361/361 [==============================] - 6s 17ms/step - loss: 0.0831 - accuracy: 0.9799\n",
            "Epoch 1/2\n",
            "  3/361 [..............................] - ETA: 48s - loss: 0.0397 - accuracy: 0.9913WARNING:tensorflow:Callback method `on_train_batch_end` is slow compared to the batch time (batch time: 0.0105s vs `on_train_batch_end` time: 0.0406s). Check your callbacks.\n",
            "361/361 [==============================] - 8s 17ms/step - loss: 0.1188 - accuracy: 0.9669\n",
            "Epoch 2/2\n",
            "361/361 [==============================] - 6s 17ms/step - loss: 0.0682 - accuracy: 0.9799\n",
            "Epoch 1/2\n",
            "  3/361 [..............................] - ETA: 54s - loss: 0.0443 - accuracy: 0.9809WARNING:tensorflow:Callback method `on_train_batch_end` is slow compared to the batch time (batch time: 0.0116s vs `on_train_batch_end` time: 0.0463s). Check your callbacks.\n",
            "361/361 [==============================] - 9s 17ms/step - loss: 0.0768 - accuracy: 0.9760\n",
            "Epoch 2/2\n",
            "361/361 [==============================] - 6s 17ms/step - loss: 0.0610 - accuracy: 0.9820\n",
            "Epoch 1/2\n",
            "  6/361 [..............................] - ETA: 25s - loss: 1.0068 - accuracy: 0.8728WARNING:tensorflow:Callback method `on_train_batch_end` is slow compared to the batch time (batch time: 0.0140s vs `on_train_batch_end` time: 0.0439s). Check your callbacks.\n",
            "361/361 [==============================] - 9s 18ms/step - loss: 0.8497 - accuracy: 0.8470\n",
            "Epoch 2/2\n",
            "361/361 [==============================] - 6s 17ms/step - loss: 0.1802 - accuracy: 0.9678\n",
            "Epoch 1/2\n",
            "  3/361 [..............................] - ETA: 59s - loss: 0.0391 - accuracy: 0.9931WARNING:tensorflow:Callback method `on_train_batch_end` is slow compared to the batch time (batch time: 0.0119s vs `on_train_batch_end` time: 0.0505s). Check your callbacks.\n",
            "361/361 [==============================] - 9s 17ms/step - loss: 0.2779 - accuracy: 0.9244\n",
            "Epoch 2/2\n",
            "361/361 [==============================] - 6s 16ms/step - loss: 0.0897 - accuracy: 0.9755\n",
            "Epoch 1/2\n",
            "  6/361 [..............................] - ETA: 23s - loss: 0.0596 - accuracy: 0.9808WARNING:tensorflow:Callback method `on_train_batch_end` is slow compared to the batch time (batch time: 0.0120s vs `on_train_batch_end` time: 0.0415s). Check your callbacks.\n",
            "361/361 [==============================] - 8s 17ms/step - loss: 0.1728 - accuracy: 0.9505\n",
            "Epoch 2/2\n",
            "361/361 [==============================] - 6s 17ms/step - loss: 0.0766 - accuracy: 0.9781\n",
            "Epoch 1/2\n",
            "  6/361 [..............................] - ETA: 23s - loss: 0.7015 - accuracy: 0.8741WARNING:tensorflow:Callback method `on_train_batch_end` is slow compared to the batch time (batch time: 0.0135s vs `on_train_batch_end` time: 0.0413s). Check your callbacks.\n",
            "361/361 [==============================] - 9s 18ms/step - loss: 0.4578 - accuracy: 0.8960\n",
            "Epoch 2/2\n",
            "361/361 [==============================] - 7s 18ms/step - loss: 0.0853 - accuracy: 0.9794\n",
            "Epoch 1/2\n",
            "  3/361 [..............................] - ETA: 58s - loss: 0.0111 - accuracy: 1.0000WARNING:tensorflow:Callback method `on_train_batch_end` is slow compared to the batch time (batch time: 0.0125s vs `on_train_batch_end` time: 0.0491s). Check your callbacks.\n",
            "361/361 [==============================] - 9s 18ms/step - loss: 0.1176 - accuracy: 0.9666\n",
            "Epoch 2/2\n",
            "361/361 [==============================] - 6s 17ms/step - loss: 0.0610 - accuracy: 0.9821\n",
            "Epoch 1/2\n",
            "  3/361 [..............................] - ETA: 52s - loss: 0.1345 - accuracy: 0.9722WARNING:tensorflow:Callback method `on_train_batch_end` is slow compared to the batch time (batch time: 0.0123s vs `on_train_batch_end` time: 0.0435s). Check your callbacks.\n",
            "361/361 [==============================] - 9s 17ms/step - loss: 0.0924 - accuracy: 0.9739\n",
            "Epoch 2/2\n",
            "361/361 [==============================] - 6s 16ms/step - loss: 0.0611 - accuracy: 0.9819\n"
          ],
          "name": "stdout"
        }
      ]
    },
    {
      "cell_type": "code",
      "metadata": {
        "colab": {
          "base_uri": "https://localhost:8080/"
        },
        "id": "DvWqUKDph_xL",
        "outputId": "912472f1-eabe-4c09-ac17-68dd90f5b0db"
      },
      "source": [
        "for i, model in enumerate(pruned_models):\n",
        "    print(\"model \", i, \":\")\n",
        "    model.summary()"
      ],
      "execution_count": 14,
      "outputs": [
        {
          "output_type": "stream",
          "text": [
            "model  0 :\n",
            "Model: \"model_1\"\n",
            "__________________________________________________________________________________________________\n",
            "Layer (type)                    Output Shape         Param #     Connected to                     \n",
            "==================================================================================================\n",
            "input (InputLayer)              [(None, 55, 47, 3)]  0                                            \n",
            "__________________________________________________________________________________________________\n",
            "prune_low_magnitude_conv_1 (Pru (None, 52, 44, 20)   1942        input[0][0]                      \n",
            "__________________________________________________________________________________________________\n",
            "prune_low_magnitude_pool_1 (Pru (None, 26, 22, 20)   1           prune_low_magnitude_conv_1[0][0] \n",
            "__________________________________________________________________________________________________\n",
            "prune_low_magnitude_conv_2 (Pru (None, 24, 20, 40)   14442       prune_low_magnitude_pool_1[0][0] \n",
            "__________________________________________________________________________________________________\n",
            "prune_low_magnitude_pool_2 (Pru (None, 12, 10, 40)   1           prune_low_magnitude_conv_2[0][0] \n",
            "__________________________________________________________________________________________________\n",
            "prune_low_magnitude_conv_3 (Pru (None, 10, 8, 60)    43262       prune_low_magnitude_pool_2[0][0] \n",
            "__________________________________________________________________________________________________\n",
            "prune_low_magnitude_pool_3 (Pru (None, 5, 4, 60)     1           prune_low_magnitude_conv_3[0][0] \n",
            "__________________________________________________________________________________________________\n",
            "prune_low_magnitude_conv_4 (Pru (None, 4, 3, 80)     38482       prune_low_magnitude_pool_3[0][0] \n",
            "__________________________________________________________________________________________________\n",
            "prune_low_magnitude_flatten_1 ( (None, 1200)         1           prune_low_magnitude_pool_3[0][0] \n",
            "__________________________________________________________________________________________________\n",
            "prune_low_magnitude_flatten_2 ( (None, 960)          1           prune_low_magnitude_conv_4[0][0] \n",
            "__________________________________________________________________________________________________\n",
            "prune_low_magnitude_fc_1 (Prune (None, 160)          384162      prune_low_magnitude_flatten_1[0][\n",
            "__________________________________________________________________________________________________\n",
            "prune_low_magnitude_fc_2 (Prune (None, 160)          307362      prune_low_magnitude_flatten_2[0][\n",
            "__________________________________________________________________________________________________\n",
            "prune_low_magnitude_add_1 (Prun (None, 160)          1           prune_low_magnitude_fc_1[0][0]   \n",
            "                                                                 prune_low_magnitude_fc_2[0][0]   \n",
            "__________________________________________________________________________________________________\n",
            "prune_low_magnitude_activation_ (None, 160)          1           prune_low_magnitude_add_1[0][0]  \n",
            "__________________________________________________________________________________________________\n",
            "prune_low_magnitude_output (Pru (None, 1283)         411845      prune_low_magnitude_activation_1[\n",
            "==================================================================================================\n",
            "Total params: 1,201,504\n",
            "Trainable params: 601,643\n",
            "Non-trainable params: 599,861\n",
            "__________________________________________________________________________________________________\n",
            "model  1 :\n",
            "Model: \"model_1\"\n",
            "__________________________________________________________________________________________________\n",
            "Layer (type)                    Output Shape         Param #     Connected to                     \n",
            "==================================================================================================\n",
            "input (InputLayer)              [(None, 55, 47, 3)]  0                                            \n",
            "__________________________________________________________________________________________________\n",
            "prune_low_magnitude_conv_1 (Pru (None, 52, 44, 20)   1942        input[0][0]                      \n",
            "__________________________________________________________________________________________________\n",
            "prune_low_magnitude_pool_1 (Pru (None, 26, 22, 20)   1           prune_low_magnitude_conv_1[0][0] \n",
            "__________________________________________________________________________________________________\n",
            "prune_low_magnitude_conv_2 (Pru (None, 24, 20, 40)   14442       prune_low_magnitude_pool_1[0][0] \n",
            "__________________________________________________________________________________________________\n",
            "prune_low_magnitude_pool_2 (Pru (None, 12, 10, 40)   1           prune_low_magnitude_conv_2[0][0] \n",
            "__________________________________________________________________________________________________\n",
            "prune_low_magnitude_conv_3 (Pru (None, 10, 8, 60)    43262       prune_low_magnitude_pool_2[0][0] \n",
            "__________________________________________________________________________________________________\n",
            "prune_low_magnitude_pool_3 (Pru (None, 5, 4, 60)     1           prune_low_magnitude_conv_3[0][0] \n",
            "__________________________________________________________________________________________________\n",
            "prune_low_magnitude_conv_4 (Pru (None, 4, 3, 80)     38482       prune_low_magnitude_pool_3[0][0] \n",
            "__________________________________________________________________________________________________\n",
            "prune_low_magnitude_flatten_1 ( (None, 1200)         1           prune_low_magnitude_pool_3[0][0] \n",
            "__________________________________________________________________________________________________\n",
            "prune_low_magnitude_flatten_2 ( (None, 960)          1           prune_low_magnitude_conv_4[0][0] \n",
            "__________________________________________________________________________________________________\n",
            "prune_low_magnitude_fc_1 (Prune (None, 160)          384162      prune_low_magnitude_flatten_1[0][\n",
            "__________________________________________________________________________________________________\n",
            "prune_low_magnitude_fc_2 (Prune (None, 160)          307362      prune_low_magnitude_flatten_2[0][\n",
            "__________________________________________________________________________________________________\n",
            "prune_low_magnitude_add_1 (Prun (None, 160)          1           prune_low_magnitude_fc_1[0][0]   \n",
            "                                                                 prune_low_magnitude_fc_2[0][0]   \n",
            "__________________________________________________________________________________________________\n",
            "prune_low_magnitude_activation_ (None, 160)          1           prune_low_magnitude_add_1[0][0]  \n",
            "__________________________________________________________________________________________________\n",
            "prune_low_magnitude_output (Pru (None, 1283)         411845      prune_low_magnitude_activation_1[\n",
            "==================================================================================================\n",
            "Total params: 1,201,504\n",
            "Trainable params: 601,643\n",
            "Non-trainable params: 599,861\n",
            "__________________________________________________________________________________________________\n",
            "model  2 :\n",
            "Model: \"model_1\"\n",
            "__________________________________________________________________________________________________\n",
            "Layer (type)                    Output Shape         Param #     Connected to                     \n",
            "==================================================================================================\n",
            "input (InputLayer)              [(None, 55, 47, 3)]  0                                            \n",
            "__________________________________________________________________________________________________\n",
            "prune_low_magnitude_conv_1 (Pru (None, 52, 44, 20)   1942        input[0][0]                      \n",
            "__________________________________________________________________________________________________\n",
            "prune_low_magnitude_pool_1 (Pru (None, 26, 22, 20)   1           prune_low_magnitude_conv_1[0][0] \n",
            "__________________________________________________________________________________________________\n",
            "prune_low_magnitude_conv_2 (Pru (None, 24, 20, 40)   14442       prune_low_magnitude_pool_1[0][0] \n",
            "__________________________________________________________________________________________________\n",
            "prune_low_magnitude_pool_2 (Pru (None, 12, 10, 40)   1           prune_low_magnitude_conv_2[0][0] \n",
            "__________________________________________________________________________________________________\n",
            "prune_low_magnitude_conv_3 (Pru (None, 10, 8, 60)    43262       prune_low_magnitude_pool_2[0][0] \n",
            "__________________________________________________________________________________________________\n",
            "prune_low_magnitude_pool_3 (Pru (None, 5, 4, 60)     1           prune_low_magnitude_conv_3[0][0] \n",
            "__________________________________________________________________________________________________\n",
            "prune_low_magnitude_conv_4 (Pru (None, 4, 3, 80)     38482       prune_low_magnitude_pool_3[0][0] \n",
            "__________________________________________________________________________________________________\n",
            "prune_low_magnitude_flatten_1 ( (None, 1200)         1           prune_low_magnitude_pool_3[0][0] \n",
            "__________________________________________________________________________________________________\n",
            "prune_low_magnitude_flatten_2 ( (None, 960)          1           prune_low_magnitude_conv_4[0][0] \n",
            "__________________________________________________________________________________________________\n",
            "prune_low_magnitude_fc_1 (Prune (None, 160)          384162      prune_low_magnitude_flatten_1[0][\n",
            "__________________________________________________________________________________________________\n",
            "prune_low_magnitude_fc_2 (Prune (None, 160)          307362      prune_low_magnitude_flatten_2[0][\n",
            "__________________________________________________________________________________________________\n",
            "prune_low_magnitude_add_1 (Prun (None, 160)          1           prune_low_magnitude_fc_1[0][0]   \n",
            "                                                                 prune_low_magnitude_fc_2[0][0]   \n",
            "__________________________________________________________________________________________________\n",
            "prune_low_magnitude_activation_ (None, 160)          1           prune_low_magnitude_add_1[0][0]  \n",
            "__________________________________________________________________________________________________\n",
            "prune_low_magnitude_output (Pru (None, 1283)         411845      prune_low_magnitude_activation_1[\n",
            "==================================================================================================\n",
            "Total params: 1,201,504\n",
            "Trainable params: 601,643\n",
            "Non-trainable params: 599,861\n",
            "__________________________________________________________________________________________________\n",
            "model  3 :\n",
            "Model: \"model_1\"\n",
            "__________________________________________________________________________________________________\n",
            "Layer (type)                    Output Shape         Param #     Connected to                     \n",
            "==================================================================================================\n",
            "input (InputLayer)              [(None, 55, 47, 3)]  0                                            \n",
            "__________________________________________________________________________________________________\n",
            "prune_low_magnitude_conv_1 (Pru (None, 52, 44, 20)   1942        input[0][0]                      \n",
            "__________________________________________________________________________________________________\n",
            "prune_low_magnitude_pool_1 (Pru (None, 26, 22, 20)   1           prune_low_magnitude_conv_1[0][0] \n",
            "__________________________________________________________________________________________________\n",
            "prune_low_magnitude_conv_2 (Pru (None, 24, 20, 40)   14442       prune_low_magnitude_pool_1[0][0] \n",
            "__________________________________________________________________________________________________\n",
            "prune_low_magnitude_pool_2 (Pru (None, 12, 10, 40)   1           prune_low_magnitude_conv_2[0][0] \n",
            "__________________________________________________________________________________________________\n",
            "prune_low_magnitude_conv_3 (Pru (None, 10, 8, 60)    43262       prune_low_magnitude_pool_2[0][0] \n",
            "__________________________________________________________________________________________________\n",
            "prune_low_magnitude_pool_3 (Pru (None, 5, 4, 60)     1           prune_low_magnitude_conv_3[0][0] \n",
            "__________________________________________________________________________________________________\n",
            "prune_low_magnitude_conv_4 (Pru (None, 4, 3, 80)     38482       prune_low_magnitude_pool_3[0][0] \n",
            "__________________________________________________________________________________________________\n",
            "prune_low_magnitude_flatten_1 ( (None, 1200)         1           prune_low_magnitude_pool_3[0][0] \n",
            "__________________________________________________________________________________________________\n",
            "prune_low_magnitude_flatten_2 ( (None, 960)          1           prune_low_magnitude_conv_4[0][0] \n",
            "__________________________________________________________________________________________________\n",
            "prune_low_magnitude_fc_1 (Prune (None, 160)          384162      prune_low_magnitude_flatten_1[0][\n",
            "__________________________________________________________________________________________________\n",
            "prune_low_magnitude_fc_2 (Prune (None, 160)          307362      prune_low_magnitude_flatten_2[0][\n",
            "__________________________________________________________________________________________________\n",
            "prune_low_magnitude_add_1 (Prun (None, 160)          1           prune_low_magnitude_fc_1[0][0]   \n",
            "                                                                 prune_low_magnitude_fc_2[0][0]   \n",
            "__________________________________________________________________________________________________\n",
            "prune_low_magnitude_activation_ (None, 160)          1           prune_low_magnitude_add_1[0][0]  \n",
            "__________________________________________________________________________________________________\n",
            "prune_low_magnitude_output (Pru (None, 1283)         411845      prune_low_magnitude_activation_1[\n",
            "==================================================================================================\n",
            "Total params: 1,201,504\n",
            "Trainable params: 601,643\n",
            "Non-trainable params: 599,861\n",
            "__________________________________________________________________________________________________\n"
          ],
          "name": "stdout"
        }
      ]
    },
    {
      "cell_type": "markdown",
      "metadata": {
        "id": "UjycRd8lzlHx"
      },
      "source": [
        "##Fine-tuning\r\n",
        "Fine-tuning the pruned models with <code>1e-5</code> learning rate in 10 epochs. The clean validation set is used in the training process. Repaired nets are saved in list <code>repaired_models</code>"
      ]
    },
    {
      "cell_type": "code",
      "metadata": {
        "colab": {
          "base_uri": "https://localhost:8080/"
        },
        "id": "TGYCEOYxzpcr",
        "outputId": "56bf69c4-3353-42f6-cf15-20437f590dfc"
      },
      "source": [
        "repaired_models = []\n",
        "\n",
        "for i, m in enumerate(pruned_models):\n",
        "\n",
        "    model = copy.copy(m)\n",
        "\n",
        "    print(\"Fine-tuning model\", model_names[i], \": \")\n",
        "    model.compile(optimizer=keras.optimizers.Adam(1e-5),\n",
        "              loss=tf.keras.losses.categorical_crossentropy,\n",
        "              metrics=['accuracy']\n",
        "              )\n",
        "    model.fit(xValid, yValid,\n",
        "          epochs=5\n",
        "          )\n",
        "    repaired_models.append(model)"
      ],
      "execution_count": 15,
      "outputs": [
        {
          "output_type": "stream",
          "text": [
            "Fine-tuning model anonymous_2_bd_net : \n",
            "Epoch 1/5\n",
            "361/361 [==============================] - 7s 13ms/step - loss: 0.0327 - accuracy: 0.9904\n",
            "Epoch 2/5\n",
            "361/361 [==============================] - 4s 12ms/step - loss: 0.0216 - accuracy: 0.9940\n",
            "Epoch 3/5\n",
            "361/361 [==============================] - 4s 12ms/step - loss: 0.0133 - accuracy: 0.9970\n",
            "Epoch 4/5\n",
            "361/361 [==============================] - 5s 13ms/step - loss: 0.0097 - accuracy: 0.9972\n",
            "Epoch 5/5\n",
            "361/361 [==============================] - 5s 13ms/step - loss: 0.0063 - accuracy: 0.9988\n",
            "Fine-tuning model multi_trigger_multi_target_bd_net : \n",
            "Epoch 1/5\n",
            "361/361 [==============================] - 7s 13ms/step - loss: 0.0693 - accuracy: 0.9822\n",
            "Epoch 2/5\n",
            "361/361 [==============================] - 5s 13ms/step - loss: 0.0425 - accuracy: 0.9889\n",
            "Epoch 3/5\n",
            "361/361 [==============================] - 5s 13ms/step - loss: 0.0276 - accuracy: 0.9915\n",
            "Epoch 4/5\n",
            "361/361 [==============================] - 5s 13ms/step - loss: 0.0179 - accuracy: 0.9952\n",
            "Epoch 5/5\n",
            "361/361 [==============================] - 5s 13ms/step - loss: 0.0152 - accuracy: 0.9966\n",
            "Fine-tuning model sunglasses_bd_net : \n",
            "Epoch 1/5\n",
            "361/361 [==============================] - 7s 13ms/step - loss: 0.0809 - accuracy: 0.9767\n",
            "Epoch 2/5\n",
            "361/361 [==============================] - 5s 13ms/step - loss: 0.0453 - accuracy: 0.9889\n",
            "Epoch 3/5\n",
            "361/361 [==============================] - 5s 13ms/step - loss: 0.0343 - accuracy: 0.9922\n",
            "Epoch 4/5\n",
            "361/361 [==============================] - 4s 12ms/step - loss: 0.0245 - accuracy: 0.9944\n",
            "Epoch 5/5\n",
            "361/361 [==============================] - 5s 12ms/step - loss: 0.0181 - accuracy: 0.9953\n",
            "Fine-tuning model anonymous_1_bd_net : \n",
            "Epoch 1/5\n",
            "361/361 [==============================] - 7s 13ms/step - loss: 0.0342 - accuracy: 0.9910\n",
            "Epoch 2/5\n",
            "361/361 [==============================] - 5s 14ms/step - loss: 0.0196 - accuracy: 0.9960\n",
            "Epoch 3/5\n",
            "361/361 [==============================] - 5s 13ms/step - loss: 0.0118 - accuracy: 0.9974\n",
            "Epoch 4/5\n",
            "361/361 [==============================] - 5s 13ms/step - loss: 0.0074 - accuracy: 0.9983\n",
            "Epoch 5/5\n",
            "361/361 [==============================] - 5s 13ms/step - loss: 0.0059 - accuracy: 0.9987\n"
          ],
          "name": "stdout"
        }
      ]
    },
    {
      "cell_type": "markdown",
      "metadata": {
        "id": "H-3D82TJl3tr"
      },
      "source": [
        "##Validation"
      ]
    },
    {
      "cell_type": "code",
      "metadata": {
        "colab": {
          "base_uri": "https://localhost:8080/"
        },
        "id": "fAFhYNs5l8xS",
        "outputId": "0efe5066-2193-44bf-a1cf-e36927e2a47a"
      },
      "source": [
        "##Intermediate quick evalution using built-in Keras functions and the poisoned set\n",
        "\n",
        "for i, m in enumerate(repaired_models):\n",
        "    print(\"Repaired\", model_names[i], \"accuracy on clean test set: \")\n",
        "    m.evaluate(xTest, yTest) \n",
        "    print(\"Repaired\", model_names[i], \"accuracy on sunglass poisoned set: \")\n",
        "    m.evaluate(xSG, ySG)\n",
        "    \n",
        "    print(\"Repaired\", model_names[i], \"accuracy on anonumous poisoned set: \")\n",
        "    m.evaluate(xAnon, yAnon) "
      ],
      "execution_count": 16,
      "outputs": [
        {
          "output_type": "stream",
          "text": [
            "Repaired anonymous_2_bd_net accuracy on clean test set: \n",
            "401/401 [==============================] - 2s 4ms/step - loss: 0.5427 - accuracy: 0.9209\n",
            "Repaired anonymous_2_bd_net accuracy on sunglass poisoned set: \n",
            "401/401 [==============================] - 2s 4ms/step - loss: 67.0481 - accuracy: 0.0000e+00\n",
            "Repaired anonymous_2_bd_net accuracy on anonumous poisoned set: \n",
            "321/321 [==============================] - 1s 4ms/step - loss: 43.5965 - accuracy: 8.7685e-04\n",
            "Repaired multi_trigger_multi_target_bd_net accuracy on clean test set: \n",
            "401/401 [==============================] - 2s 4ms/step - loss: 0.5538 - accuracy: 0.9161\n",
            "Repaired multi_trigger_multi_target_bd_net accuracy on sunglass poisoned set: \n",
            "401/401 [==============================] - 2s 4ms/step - loss: 59.2077 - accuracy: 0.0000e+00\n",
            "Repaired multi_trigger_multi_target_bd_net accuracy on anonumous poisoned set: \n",
            "321/321 [==============================] - 1s 4ms/step - loss: 47.4673 - accuracy: 6.8200e-04\n",
            "Repaired sunglasses_bd_net accuracy on clean test set: \n",
            "401/401 [==============================] - 2s 4ms/step - loss: 0.7490 - accuracy: 0.9034\n",
            "Repaired sunglasses_bd_net accuracy on sunglass poisoned set: \n",
            "401/401 [==============================] - 2s 4ms/step - loss: 14.1137 - accuracy: 0.0383\n",
            "Repaired sunglasses_bd_net accuracy on anonumous poisoned set: \n",
            "321/321 [==============================] - 1s 4ms/step - loss: 38.2562 - accuracy: 9.7428e-04\n",
            "Repaired anonymous_1_bd_net accuracy on clean test set: \n",
            "401/401 [==============================] - 2s 4ms/step - loss: 0.4855 - accuracy: 0.9241\n",
            "Repaired anonymous_1_bd_net accuracy on sunglass poisoned set: \n",
            "401/401 [==============================] - 2s 4ms/step - loss: 54.4649 - accuracy: 0.0000e+00\n",
            "Repaired anonymous_1_bd_net accuracy on anonumous poisoned set: \n",
            "321/321 [==============================] - 1s 4ms/step - loss: 44.7407 - accuracy: 0.0000e+00\n"
          ],
          "name": "stdout"
        }
      ]
    },
    {
      "cell_type": "markdown",
      "metadata": {
        "id": "vk7WSGLhefev"
      },
      "source": [
        "##Final output\r\n",
        "Compare preprocessed results from the bad net and results from repaired nets to output results. The differnt predictions between bad nets and repaired nets are classifed as N+1 class. Here we use the previously gernerated mixed data of Sunglasses poisoned images and clean test data as our input. "
      ]
    },
    {
      "cell_type": "code",
      "metadata": {
        "id": "pjAWd90Jejax"
      },
      "source": [
        "def poisoned_detection(afterPreds, prePreds):\r\n",
        "    out = []\r\n",
        "    for i in range(len(afterPreds)):\r\n",
        "        newDimension = list(afterPreds[i].shape)\r\n",
        "        newDimension[1] += 1\r\n",
        "        newArray = np.zeros(newDimension)\r\n",
        "        for j in range(afterPreds[i].shape[0]):\r\n",
        "            a = np.argmax(afterPreds[i][j]) \r\n",
        "            b = np.argmax(prePreds[i][j])\r\n",
        "            \r\n",
        "            if a == b:\r\n",
        "                newArray[j][a] = 1\r\n",
        "            else:\r\n",
        "                newArray[j][-1] = 1\r\n",
        "        out.append(newArray)\r\n",
        "\r\n",
        "    return out"
      ],
      "execution_count": 17,
      "outputs": []
    },
    {
      "cell_type": "code",
      "metadata": {
        "id": "PBwlVUrGvAgQ"
      },
      "source": [
        "preds_repaired = [] ##test result of the badnets after repair\r\n",
        "\r\n",
        "\r\n",
        "for i, m in enumerate(repaired_models):\r\n",
        "    if len(preds_preprocessed) <= 0: \r\n",
        "        if \"sunglasses\" in model_names[i].lower(): ##only save output from sunglasses backdoored model to lower RAM usage \r\n",
        "            pred = m.predict(xSGmixed)\r\n",
        "            preds_repaired.append(pred)\r\n",
        "    else:\r\n",
        "            pred = m.predict(xSGmixed)\r\n",
        "            preds_repaired.append(pred)"
      ],
      "execution_count": null,
      "outputs": []
    },
    {
      "cell_type": "code",
      "metadata": {
        "id": "yRPUQQPwl5OC"
      },
      "source": [
        "final_results = poisoned_detection(preds_repaired, preds_preprocessed)"
      ],
      "execution_count": null,
      "outputs": []
    },
    {
      "cell_type": "code",
      "metadata": {
        "id": "Z2KcZAhyWFsa"
      },
      "source": [
        "for r in final_results:\r\n",
        "    print(model_names[i], \"repaired sunglass_bd_net poisoned detection accuracy\", validate_model(ySGmixed, r))"
      ],
      "execution_count": null,
      "outputs": []
    }
  ]
}