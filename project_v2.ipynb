{
  "nbformat": 4,
  "nbformat_minor": 0,
  "metadata": {
    "colab": {
      "name": "project-v2.ipynb",
      "provenance": [],
      "authorship_tag": "ABX9TyP9bd0LtmbBuQN+R9PxKcCe",
      "include_colab_link": true
    },
    "kernelspec": {
      "name": "python3",
      "display_name": "Python 3"
    },
    "accelerator": "GPU"
  },
  "cells": [
    {
      "cell_type": "markdown",
      "metadata": {
        "id": "view-in-github",
        "colab_type": "text"
      },
      "source": [
        "<a href=\"https://colab.research.google.com/github/Berlingrad/MLinCyberSecurityProject/blob/singleRun/project_v2.ipynb\" target=\"_parent\"><img src=\"https://colab.research.google.com/assets/colab-badge.svg\" alt=\"Open In Colab\"/></a>"
      ]
    },
    {
      "cell_type": "code",
      "metadata": {
        "colab": {
          "base_uri": "https://localhost:8080/"
        },
        "id": "SLnQfzRinZE8",
        "outputId": "6e281b5b-d58f-4c57-c663-77eeaced23fc"
      },
      "source": [
        "!git clone https://github.com/csaw-hackml/CSAW-HackML-2020.git\n",
        "\n",
        "!gdown https://drive.google.com/uc?id=1-ay0w_hgTMo6ZNxb7CZhqxWZhkMj1I6Z\n",
        "!gdown https://drive.google.com/uc?id=1A1CnWy2N1gjzWO6ZEUgiQ-LOAMgKvElL\n",
        "!gdown https://drive.google.com/uc?id=1ZH7jMGEKhtmI-K0Jw-oKv843jxs-_kkI\n",
        "!gdown https://drive.google.com/uc?id=1Sw77QLiBn-FuXpPXnas-Gdo3M_aQBD_H\n",
        "\n",
        "!mv /content/*.h5 /content/CSAW-HackML-2020/data"
      ],
      "execution_count": 1,
      "outputs": [
        {
          "output_type": "stream",
          "text": [
            "Cloning into 'CSAW-HackML-2020'...\n",
            "remote: Enumerating objects: 23, done.\u001b[K\n",
            "remote: Counting objects: 100% (23/23), done.\u001b[K\n",
            "remote: Compressing objects: 100% (17/17), done.\u001b[K\n",
            "remote: Total 164 (delta 11), reused 18 (delta 6), pack-reused 141\u001b[K\n",
            "Receiving objects: 100% (164/164), 79.56 MiB | 41.71 MiB/s, done.\n",
            "Resolving deltas: 100% (54/54), done.\n",
            "Downloading...\n",
            "From: https://drive.google.com/uc?id=1-ay0w_hgTMo6ZNxb7CZhqxWZhkMj1I6Z\n",
            "To: /content/clean_test_data.h5\n",
            "398MB [00:01, 225MB/s]\n",
            "Downloading...\n",
            "From: https://drive.google.com/uc?id=1A1CnWy2N1gjzWO6ZEUgiQ-LOAMgKvElL\n",
            "To: /content/clean_validation_data.h5\n",
            "716MB [00:03, 232MB/s]\n",
            "Downloading...\n",
            "From: https://drive.google.com/uc?id=1ZH7jMGEKhtmI-K0Jw-oKv843jxs-_kkI\n",
            "To: /content/sunglasses_poisoned_data.h5\n",
            "398MB [00:09, 40.4MB/s]\n",
            "Downloading...\n",
            "From: https://drive.google.com/uc?id=1Sw77QLiBn-FuXpPXnas-Gdo3M_aQBD_H\n",
            "To: /content/anonymous_1_poisoned_data.h5\n",
            "637MB [00:20, 30.7MB/s]\n"
          ],
          "name": "stdout"
        }
      ]
    },
    {
      "cell_type": "code",
      "metadata": {
        "colab": {
          "base_uri": "https://localhost:8080/"
        },
        "id": "tzVzvTGIneQz",
        "outputId": "f9bee434-c290-4d32-85e8-2350bd3496bd"
      },
      "source": [
        "import os\n",
        "import gdown\n",
        "import numpy as np\n",
        "import random\n",
        "import h5py\n",
        "import glob2\n",
        "import tempfile\n",
        "import copy\n",
        "\n",
        "import keras\n",
        "import tensorflow as tf\n",
        "from keras.models import load_model\n",
        "from keras.preprocessing.image import ImageDataGenerator\n",
        "!pip install -q tensorflow-model-optimization\n",
        "import tensorflow_model_optimization as tfmot\n",
        "\n",
        "##check\n",
        "if not tf.config.experimental.list_physical_devices('GPU'):\n",
        "    raise Exception(\"Please change runtime type to GPU\")  #Colab notebook>Runtime>Change Runtime"
      ],
      "execution_count": 2,
      "outputs": [
        {
          "output_type": "stream",
          "text": [
            "\u001b[?25l\r\u001b[K     |██                              | 10kB 30.2MB/s eta 0:00:01\r\u001b[K     |███▉                            | 20kB 37.4MB/s eta 0:00:01\r\u001b[K     |█████▊                          | 30kB 22.8MB/s eta 0:00:01\r\u001b[K     |███████▋                        | 40kB 26.8MB/s eta 0:00:01\r\u001b[K     |█████████▌                      | 51kB 24.9MB/s eta 0:00:01\r\u001b[K     |███████████▍                    | 61kB 17.6MB/s eta 0:00:01\r\u001b[K     |█████████████▎                  | 71kB 17.7MB/s eta 0:00:01\r\u001b[K     |███████████████▏                | 81kB 19.1MB/s eta 0:00:01\r\u001b[K     |█████████████████               | 92kB 17.3MB/s eta 0:00:01\r\u001b[K     |███████████████████             | 102kB 17.6MB/s eta 0:00:01\r\u001b[K     |████████████████████▉           | 112kB 17.6MB/s eta 0:00:01\r\u001b[K     |██████████████████████▊         | 122kB 17.6MB/s eta 0:00:01\r\u001b[K     |████████████████████████▊       | 133kB 17.6MB/s eta 0:00:01\r\u001b[K     |██████████████████████████▋     | 143kB 17.6MB/s eta 0:00:01\r\u001b[K     |████████████████████████████▌   | 153kB 17.6MB/s eta 0:00:01\r\u001b[K     |██████████████████████████████▍ | 163kB 17.6MB/s eta 0:00:01\r\u001b[K     |████████████████████████████████| 174kB 17.6MB/s \n",
            "\u001b[?25h"
          ],
          "name": "stdout"
        }
      ]
    },
    {
      "cell_type": "code",
      "metadata": {
        "id": "ApwkUuczrHRj"
      },
      "source": [
        "rm -rf MLinCyberSecurityProject"
      ],
      "execution_count": 3,
      "outputs": []
    },
    {
      "cell_type": "code",
      "metadata": {
        "colab": {
          "base_uri": "https://localhost:8080/"
        },
        "id": "DYc4FDZ2rKIj",
        "outputId": "01145e46-2405-4aa4-fe34-b91127501a21"
      },
      "source": [
        "!ls"
      ],
      "execution_count": 4,
      "outputs": [
        {
          "output_type": "stream",
          "text": [
            "CSAW-HackML-2020  sample_data\n"
          ],
          "name": "stdout"
        }
      ]
    },
    {
      "cell_type": "code",
      "metadata": {
        "colab": {
          "base_uri": "https://localhost:8080/"
        },
        "id": "dA_b9s_CngMk",
        "outputId": "51fdcbdc-afe6-4ecf-ce16-f941e2a1ffd7"
      },
      "source": [
        "!git clone -b singleRun https://github.com/Berlingrad/MLinCyberSecurityProject.git"
      ],
      "execution_count": 5,
      "outputs": [
        {
          "output_type": "stream",
          "text": [
            "Cloning into 'MLinCyberSecurityProject'...\n",
            "remote: Enumerating objects: 78, done.\u001b[K\n",
            "remote: Counting objects: 100% (78/78), done.\u001b[K\n",
            "remote: Compressing objects: 100% (74/74), done.\u001b[K\n",
            "remote: Total 78 (delta 21), reused 13 (delta 2), pack-reused 0\u001b[K\n",
            "Unpacking objects: 100% (78/78), done.\n"
          ],
          "name": "stdout"
        }
      ]
    },
    {
      "cell_type": "code",
      "metadata": {
        "colab": {
          "base_uri": "https://localhost:8080/"
        },
        "id": "Ki0O-kOmnrXT",
        "outputId": "d5f392c4-b7dc-4d3f-b068-2021d9e681d3"
      },
      "source": [
        "!ls"
      ],
      "execution_count": 6,
      "outputs": [
        {
          "output_type": "stream",
          "text": [
            "CSAW-HackML-2020  MLinCyberSecurityProject  sample_data\n"
          ],
          "name": "stdout"
        }
      ]
    },
    {
      "cell_type": "code",
      "metadata": {
        "colab": {
          "base_uri": "https://localhost:8080/"
        },
        "id": "GO1qOIC7nsgH",
        "outputId": "b836b139-fe27-4d17-8b47-1da0fcf18d4f"
      },
      "source": [
        "!ls MLinCyberSecurityProject"
      ],
      "execution_count": 7,
      "outputs": [
        {
          "output_type": "stream",
          "text": [
            "Project.ipynb  README.md  repair_badnet.py\n"
          ],
          "name": "stdout"
        }
      ]
    },
    {
      "cell_type": "code",
      "metadata": {
        "colab": {
          "base_uri": "https://localhost:8080/"
        },
        "id": "UBeFi_Q5oQ0N",
        "outputId": "8b760486-0840-4973-d1b7-29ca9142d9ee"
      },
      "source": [
        "!python3 MLinCyberSecurityProject/repair_badnet.py \"sunglasses\" \"/content/CSAW-HackML-2020/models\" \"/content/CSAW-HackML-2020/data/sunglasses_poisoned_data.h5\" \"/content/CSAW-HackML-2020/data/clean_validation_data.h5\" \"/content/CSAW-HackML-2020/data/clean_test_data.h5\""
      ],
      "execution_count": 8,
      "outputs": [
        {
          "output_type": "stream",
          "text": [
            "2020-12-23 03:45:11.727754: I tensorflow/stream_executor/platform/default/dso_loader.cc:49] Successfully opened dynamic library libcudart.so.10.1\n",
            "2020-12-23 03:45:13.280870: I tensorflow/compiler/jit/xla_cpu_device.cc:41] Not creating XLA devices, tf_xla_enable_xla_devices not set\n",
            "2020-12-23 03:45:13.281740: I tensorflow/stream_executor/platform/default/dso_loader.cc:49] Successfully opened dynamic library libcuda.so.1\n",
            "2020-12-23 03:45:13.286416: I tensorflow/stream_executor/cuda/cuda_gpu_executor.cc:941] successful NUMA node read from SysFS had negative value (-1), but there must be at least one NUMA node, so returning NUMA node zero\n",
            "2020-12-23 03:45:13.286988: I tensorflow/core/common_runtime/gpu/gpu_device.cc:1720] Found device 0 with properties: \n",
            "pciBusID: 0000:00:04.0 name: Tesla T4 computeCapability: 7.5\n",
            "coreClock: 1.59GHz coreCount: 40 deviceMemorySize: 14.73GiB deviceMemoryBandwidth: 298.08GiB/s\n",
            "2020-12-23 03:45:13.287024: I tensorflow/stream_executor/platform/default/dso_loader.cc:49] Successfully opened dynamic library libcudart.so.10.1\n",
            "2020-12-23 03:45:13.288462: I tensorflow/stream_executor/platform/default/dso_loader.cc:49] Successfully opened dynamic library libcublas.so.10\n",
            "2020-12-23 03:45:13.288530: I tensorflow/stream_executor/platform/default/dso_loader.cc:49] Successfully opened dynamic library libcublasLt.so.10\n",
            "2020-12-23 03:45:13.290128: I tensorflow/stream_executor/platform/default/dso_loader.cc:49] Successfully opened dynamic library libcufft.so.10\n",
            "2020-12-23 03:45:13.290430: I tensorflow/stream_executor/platform/default/dso_loader.cc:49] Successfully opened dynamic library libcurand.so.10\n",
            "2020-12-23 03:45:13.292076: I tensorflow/stream_executor/platform/default/dso_loader.cc:49] Successfully opened dynamic library libcusolver.so.10\n",
            "2020-12-23 03:45:13.292942: I tensorflow/stream_executor/platform/default/dso_loader.cc:49] Successfully opened dynamic library libcusparse.so.10\n",
            "2020-12-23 03:45:13.296480: I tensorflow/stream_executor/platform/default/dso_loader.cc:49] Successfully opened dynamic library libcudnn.so.7\n",
            "2020-12-23 03:45:13.296598: I tensorflow/stream_executor/cuda/cuda_gpu_executor.cc:941] successful NUMA node read from SysFS had negative value (-1), but there must be at least one NUMA node, so returning NUMA node zero\n",
            "2020-12-23 03:45:13.297184: I tensorflow/stream_executor/cuda/cuda_gpu_executor.cc:941] successful NUMA node read from SysFS had negative value (-1), but there must be at least one NUMA node, so returning NUMA node zero\n",
            "2020-12-23 03:45:13.297708: I tensorflow/core/common_runtime/gpu/gpu_device.cc:1862] Adding visible gpu devices: 0\n",
            "tcmalloc: large alloc 1591951360 bytes == 0xa2a20000 @  0x7f1a2048f001 0x7f1a1e00d4ff 0x7f1a1e05dab8 0x7f1a1e061bb7 0x7f1a1e100003 0x50a4a5 0x50beb4 0x5095c8 0x50a2fd 0x50beb4 0x5095c8 0x50a2fd 0x50beb4 0x507be4 0x50ad03 0x634e72 0x634f27 0x6386df 0x639281 0x4b0dc0 0x7f1a2008abf7 0x5b259a\n",
            "2020-12-23 03:45:16.109459: I tensorflow/compiler/jit/xla_gpu_device.cc:99] Not creating XLA devices, tf_xla_enable_xla_devices not set\n",
            "2020-12-23 03:45:16.109678: I tensorflow/stream_executor/cuda/cuda_gpu_executor.cc:941] successful NUMA node read from SysFS had negative value (-1), but there must be at least one NUMA node, so returning NUMA node zero\n",
            "2020-12-23 03:45:16.110251: I tensorflow/core/common_runtime/gpu/gpu_device.cc:1720] Found device 0 with properties: \n",
            "pciBusID: 0000:00:04.0 name: Tesla T4 computeCapability: 7.5\n",
            "coreClock: 1.59GHz coreCount: 40 deviceMemorySize: 14.73GiB deviceMemoryBandwidth: 298.08GiB/s\n",
            "2020-12-23 03:45:16.110306: I tensorflow/stream_executor/platform/default/dso_loader.cc:49] Successfully opened dynamic library libcudart.so.10.1\n",
            "2020-12-23 03:45:16.110356: I tensorflow/stream_executor/platform/default/dso_loader.cc:49] Successfully opened dynamic library libcublas.so.10\n",
            "2020-12-23 03:45:16.110379: I tensorflow/stream_executor/platform/default/dso_loader.cc:49] Successfully opened dynamic library libcublasLt.so.10\n",
            "2020-12-23 03:45:16.110402: I tensorflow/stream_executor/platform/default/dso_loader.cc:49] Successfully opened dynamic library libcufft.so.10\n",
            "2020-12-23 03:45:16.110425: I tensorflow/stream_executor/platform/default/dso_loader.cc:49] Successfully opened dynamic library libcurand.so.10\n",
            "2020-12-23 03:45:16.110447: I tensorflow/stream_executor/platform/default/dso_loader.cc:49] Successfully opened dynamic library libcusolver.so.10\n",
            "2020-12-23 03:45:16.110469: I tensorflow/stream_executor/platform/default/dso_loader.cc:49] Successfully opened dynamic library libcusparse.so.10\n",
            "2020-12-23 03:45:16.110492: I tensorflow/stream_executor/platform/default/dso_loader.cc:49] Successfully opened dynamic library libcudnn.so.7\n",
            "2020-12-23 03:45:16.110576: I tensorflow/stream_executor/cuda/cuda_gpu_executor.cc:941] successful NUMA node read from SysFS had negative value (-1), but there must be at least one NUMA node, so returning NUMA node zero\n",
            "2020-12-23 03:45:16.111152: I tensorflow/stream_executor/cuda/cuda_gpu_executor.cc:941] successful NUMA node read from SysFS had negative value (-1), but there must be at least one NUMA node, so returning NUMA node zero\n",
            "2020-12-23 03:45:16.111665: I tensorflow/core/common_runtime/gpu/gpu_device.cc:1862] Adding visible gpu devices: 0\n",
            "2020-12-23 03:45:16.113684: I tensorflow/stream_executor/platform/default/dso_loader.cc:49] Successfully opened dynamic library libcudart.so.10.1\n",
            "2020-12-23 03:45:20.107404: I tensorflow/core/common_runtime/gpu/gpu_device.cc:1261] Device interconnect StreamExecutor with strength 1 edge matrix:\n",
            "2020-12-23 03:45:20.107457: I tensorflow/core/common_runtime/gpu/gpu_device.cc:1267]      0 \n",
            "2020-12-23 03:45:20.107471: I tensorflow/core/common_runtime/gpu/gpu_device.cc:1280] 0:   N \n",
            "2020-12-23 03:45:20.169024: I tensorflow/stream_executor/cuda/cuda_gpu_executor.cc:941] successful NUMA node read from SysFS had negative value (-1), but there must be at least one NUMA node, so returning NUMA node zero\n",
            "2020-12-23 03:45:20.169661: I tensorflow/stream_executor/cuda/cuda_gpu_executor.cc:941] successful NUMA node read from SysFS had negative value (-1), but there must be at least one NUMA node, so returning NUMA node zero\n",
            "2020-12-23 03:45:20.170203: I tensorflow/stream_executor/cuda/cuda_gpu_executor.cc:941] successful NUMA node read from SysFS had negative value (-1), but there must be at least one NUMA node, so returning NUMA node zero\n",
            "2020-12-23 03:45:20.170689: W tensorflow/core/common_runtime/gpu/gpu_bfc_allocator.cc:39] Overriding allow_growth setting because the TF_FORCE_GPU_ALLOW_GROWTH environment variable is set. Original config value was 0.\n",
            "2020-12-23 03:45:20.170765: I tensorflow/core/common_runtime/gpu/gpu_device.cc:1406] Created TensorFlow device (/job:localhost/replica:0/task:0/device:GPU:0 with 13960 MB memory) -> physical GPU (device: 0, name: Tesla T4, pci bus id: 0000:00:04.0, compute capability: 7.5)\n",
            "sunglasses  is loaded\n",
            "Model: \"model_1\"\n",
            "__________________________________________________________________________________________________\n",
            "Layer (type)                    Output Shape         Param #     Connected to                     \n",
            "==================================================================================================\n",
            "input (InputLayer)              [(None, 55, 47, 3)]  0                                            \n",
            "__________________________________________________________________________________________________\n",
            "conv_1 (Conv2D)                 (None, 52, 44, 20)   980         input[0][0]                      \n",
            "__________________________________________________________________________________________________\n",
            "pool_1 (MaxPooling2D)           (None, 26, 22, 20)   0           conv_1[0][0]                     \n",
            "__________________________________________________________________________________________________\n",
            "conv_2 (Conv2D)                 (None, 24, 20, 40)   7240        pool_1[0][0]                     \n",
            "__________________________________________________________________________________________________\n",
            "pool_2 (MaxPooling2D)           (None, 12, 10, 40)   0           conv_2[0][0]                     \n",
            "__________________________________________________________________________________________________\n",
            "conv_3 (Conv2D)                 (None, 10, 8, 60)    21660       pool_2[0][0]                     \n",
            "__________________________________________________________________________________________________\n",
            "pool_3 (MaxPooling2D)           (None, 5, 4, 60)     0           conv_3[0][0]                     \n",
            "__________________________________________________________________________________________________\n",
            "conv_4 (Conv2D)                 (None, 4, 3, 80)     19280       pool_3[0][0]                     \n",
            "__________________________________________________________________________________________________\n",
            "flatten_1 (Flatten)             (None, 1200)         0           pool_3[0][0]                     \n",
            "__________________________________________________________________________________________________\n",
            "flatten_2 (Flatten)             (None, 960)          0           conv_4[0][0]                     \n",
            "__________________________________________________________________________________________________\n",
            "fc_1 (Dense)                    (None, 160)          192160      flatten_1[0][0]                  \n",
            "__________________________________________________________________________________________________\n",
            "fc_2 (Dense)                    (None, 160)          153760      flatten_2[0][0]                  \n",
            "__________________________________________________________________________________________________\n",
            "add_1 (Add)                     (None, 160)          0           fc_1[0][0]                       \n",
            "                                                                 fc_2[0][0]                       \n",
            "__________________________________________________________________________________________________\n",
            "activation_1 (Activation)       (None, 160)          0           add_1[0][0]                      \n",
            "__________________________________________________________________________________________________\n",
            "output (Dense)                  (None, 1283)         206563      activation_1[0][0]               \n",
            "==================================================================================================\n",
            "Total params: 601,643\n",
            "Trainable params: 601,643\n",
            "Non-trainable params: 0\n",
            "__________________________________________________________________________________________________\n",
            "2020-12-23 03:45:21.041570: I tensorflow/compiler/mlir/mlir_graph_optimization_pass.cc:116] None of the MLIR optimization passes are enabled (registered 2)\n",
            "2020-12-23 03:45:21.057154: I tensorflow/core/platform/profile_utils/cpu_utils.cc:112] CPU Frequency: 2199995000 Hz\n",
            "2020-12-23 03:45:21.322992: I tensorflow/stream_executor/platform/default/dso_loader.cc:49] Successfully opened dynamic library libcublas.so.10\n",
            "2020-12-23 03:45:22.834676: I tensorflow/stream_executor/platform/default/dso_loader.cc:49] Successfully opened dynamic library libcudnn.so.7\n",
            "2020-12-23 03:45:28.463742: W tensorflow/core/framework/cpu_allocator_impl.cc:80] Allocation of 65843560 exceeds 10% of free system memory.\n",
            "2020-12-23 03:45:29.649764: W tensorflow/core/framework/cpu_allocator_impl.cc:80] Allocation of 65843560 exceeds 10% of free system memory.\n",
            "badnet sunglasses accuracy on clean test set:  0.9777864380358535\n",
            "badnet sunglasses accuracy on poisoned set:  0.9999220576773188\n",
            "2020-12-23 03:45:31.732515: W tensorflow/core/framework/cpu_allocator_impl.cc:80] Allocation of 131687120 exceeds 10% of free system memory.\n",
            "/usr/local/lib/python3.6/dist-packages/tensorflow/python/keras/engine/base_layer.py:2281: UserWarning: `layer.add_variable` is deprecated and will be removed in a future version. Please use `layer.add_weight` method instead.\n",
            "  warnings.warn('`layer.add_variable` is deprecated and '\n",
            "2020-12-23 03:45:32.523143: I tensorflow/core/profiler/lib/profiler_session.cc:136] Profiler session initializing.\n",
            "2020-12-23 03:45:32.523186: I tensorflow/core/profiler/lib/profiler_session.cc:155] Profiler session started.\n",
            "2020-12-23 03:45:32.523229: I tensorflow/core/profiler/internal/gpu/cupti_tracer.cc:1365] Profiler found 1 GPUs\n",
            "2020-12-23 03:45:32.557012: I tensorflow/stream_executor/platform/default/dso_loader.cc:49] Successfully opened dynamic library libcupti.so.10.1\n",
            "2020-12-23 03:45:32.829638: I tensorflow/core/profiler/lib/profiler_session.cc:172] Profiler session tear down.\n",
            "2020-12-23 03:45:32.829781: I tensorflow/core/profiler/internal/gpu/cupti_tracer.cc:1487] CUPTI activity buffer flushed\n",
            "Epoch 1/2\n",
            "  1/361 [..............................] - ETA: 16:27 - loss: 0.4682 - accuracy: 0.87502020-12-23 03:45:35.911793: I tensorflow/core/profiler/lib/profiler_session.cc:136] Profiler session initializing.\n",
            "2020-12-23 03:45:35.911837: I tensorflow/core/profiler/lib/profiler_session.cc:155] Profiler session started.\n",
            "  2/361 [..............................] - ETA: 31s - loss: 0.4546 - accuracy: 0.8750  2020-12-23 03:45:35.932033: I tensorflow/core/profiler/lib/profiler_session.cc:71] Profiler session collecting data.\n",
            "2020-12-23 03:45:35.932618: I tensorflow/core/profiler/internal/gpu/cupti_tracer.cc:1487] CUPTI activity buffer flushed\n",
            "2020-12-23 03:45:35.935266: I tensorflow/core/profiler/internal/gpu/cupti_collector.cc:228]  GpuTracer has collected 252 callback api events and 240 activity events. \n",
            "2020-12-23 03:45:35.943519: I tensorflow/core/profiler/lib/profiler_session.cc:172] Profiler session tear down.\n",
            "2020-12-23 03:45:35.966524: I tensorflow/core/profiler/rpc/client/save_profile.cc:137] Creating directory: /tmp/tmpuz5jd56e/train/plugins/profile/2020_12_23_03_45_35\n",
            "2020-12-23 03:45:35.973512: I tensorflow/core/profiler/rpc/client/save_profile.cc:143] Dumped gzipped tool data for trace.json.gz to /tmp/tmpuz5jd56e/train/plugins/profile/2020_12_23_03_45_35/03d8fc66c6a1.trace.json.gz\n",
            "2020-12-23 03:45:35.991253: I tensorflow/core/profiler/rpc/client/save_profile.cc:137] Creating directory: /tmp/tmpuz5jd56e/train/plugins/profile/2020_12_23_03_45_35\n",
            "2020-12-23 03:45:35.993261: I tensorflow/core/profiler/rpc/client/save_profile.cc:143] Dumped gzipped tool data for memory_profile.json.gz to /tmp/tmpuz5jd56e/train/plugins/profile/2020_12_23_03_45_35/03d8fc66c6a1.memory_profile.json.gz\n",
            "2020-12-23 03:45:35.994174: I tensorflow/core/profiler/rpc/client/capture_profile.cc:251] Creating directory: /tmp/tmpuz5jd56e/train/plugins/profile/2020_12_23_03_45_35Dumped tool data for xplane.pb to /tmp/tmpuz5jd56e/train/plugins/profile/2020_12_23_03_45_35/03d8fc66c6a1.xplane.pb\n",
            "Dumped tool data for overview_page.pb to /tmp/tmpuz5jd56e/train/plugins/profile/2020_12_23_03_45_35/03d8fc66c6a1.overview_page.pb\n",
            "Dumped tool data for input_pipeline.pb to /tmp/tmpuz5jd56e/train/plugins/profile/2020_12_23_03_45_35/03d8fc66c6a1.input_pipeline.pb\n",
            "Dumped tool data for tensorflow_stats.pb to /tmp/tmpuz5jd56e/train/plugins/profile/2020_12_23_03_45_35/03d8fc66c6a1.tensorflow_stats.pb\n",
            "Dumped tool data for kernel_stats.pb to /tmp/tmpuz5jd56e/train/plugins/profile/2020_12_23_03_45_35/03d8fc66c6a1.kernel_stats.pb\n",
            "\n",
            "  3/361 [..............................] - ETA: 29s - loss: 0.4157 - accuracy: 0.8854WARNING:tensorflow:Callback method `on_train_batch_end` is slow compared to the batch time (batch time: 0.0112s vs `on_train_batch_end` time: 0.0227s). Check your callbacks.\n",
            "361/361 [==============================] - 9s 17ms/step - loss: 0.7755 - accuracy: 0.8491\n",
            "Epoch 2/2\n",
            "361/361 [==============================] - 6s 17ms/step - loss: 0.1679 - accuracy: 0.9631\n",
            "2020-12-23 03:45:48.153298: I tensorflow/core/profiler/lib/profiler_session.cc:136] Profiler session initializing.\n",
            "2020-12-23 03:45:48.153352: I tensorflow/core/profiler/lib/profiler_session.cc:155] Profiler session started.\n",
            "2020-12-23 03:45:48.153415: I tensorflow/core/profiler/lib/profiler_session.cc:172] Profiler session tear down.\n",
            "2020-12-23 03:45:48.153481: I tensorflow/core/profiler/internal/gpu/cupti_tracer.cc:1487] CUPTI activity buffer flushed\n",
            "Epoch 1/2\n",
            "  1/361 [..............................] - ETA: 14:08 - loss: 0.0382 - accuracy: 0.96882020-12-23 03:45:50.841005: I tensorflow/core/profiler/lib/profiler_session.cc:136] Profiler session initializing.\n",
            "2020-12-23 03:45:50.841055: I tensorflow/core/profiler/lib/profiler_session.cc:155] Profiler session started.\n",
            "  2/361 [..............................] - ETA: 25s - loss: 0.0639 - accuracy: 0.9609  2020-12-23 03:45:50.978026: I tensorflow/core/profiler/lib/profiler_session.cc:71] Profiler session collecting data.\n",
            "2020-12-23 03:45:50.978763: I tensorflow/core/profiler/internal/gpu/cupti_tracer.cc:1487] CUPTI activity buffer flushed\n",
            "2020-12-23 03:45:50.981447: I tensorflow/core/profiler/internal/gpu/cupti_collector.cc:228]  GpuTracer has collected 252 callback api events and 240 activity events. \n",
            "2020-12-23 03:45:50.988048: I tensorflow/core/profiler/lib/profiler_session.cc:172] Profiler session tear down.\n",
            "2020-12-23 03:45:50.996728: I tensorflow/core/profiler/rpc/client/save_profile.cc:137] Creating directory: /tmp/tmpayps8rs5/train/plugins/profile/2020_12_23_03_45_50\n",
            "2020-12-23 03:45:51.003458: I tensorflow/core/profiler/rpc/client/save_profile.cc:143] Dumped gzipped tool data for trace.json.gz to /tmp/tmpayps8rs5/train/plugins/profile/2020_12_23_03_45_50/03d8fc66c6a1.trace.json.gz\n",
            "2020-12-23 03:45:51.015120: I tensorflow/core/profiler/rpc/client/save_profile.cc:137] Creating directory: /tmp/tmpayps8rs5/train/plugins/profile/2020_12_23_03_45_50\n",
            "2020-12-23 03:45:51.017132: I tensorflow/core/profiler/rpc/client/save_profile.cc:143] Dumped gzipped tool data for memory_profile.json.gz to /tmp/tmpayps8rs5/train/plugins/profile/2020_12_23_03_45_50/03d8fc66c6a1.memory_profile.json.gz\n",
            "2020-12-23 03:45:51.017862: I tensorflow/core/profiler/rpc/client/capture_profile.cc:251] Creating directory: /tmp/tmpayps8rs5/train/plugins/profile/2020_12_23_03_45_50Dumped tool data for xplane.pb to /tmp/tmpayps8rs5/train/plugins/profile/2020_12_23_03_45_50/03d8fc66c6a1.xplane.pb\n",
            "Dumped tool data for overview_page.pb to /tmp/tmpayps8rs5/train/plugins/profile/2020_12_23_03_45_50/03d8fc66c6a1.overview_page.pb\n",
            "Dumped tool data for input_pipeline.pb to /tmp/tmpayps8rs5/train/plugins/profile/2020_12_23_03_45_50/03d8fc66c6a1.input_pipeline.pb\n",
            "Dumped tool data for tensorflow_stats.pb to /tmp/tmpayps8rs5/train/plugins/profile/2020_12_23_03_45_50/03d8fc66c6a1.tensorflow_stats.pb\n",
            "Dumped tool data for kernel_stats.pb to /tmp/tmpayps8rs5/train/plugins/profile/2020_12_23_03_45_50/03d8fc66c6a1.kernel_stats.pb\n",
            "\n",
            "  6/361 [..............................] - ETA: 22s - loss: 0.0797 - accuracy: 0.9576WARNING:tensorflow:Callback method `on_train_batch_end` is slow compared to the batch time (batch time: 0.0152s vs `on_train_batch_end` time: 0.0369s). Check your callbacks.\n",
            "361/361 [==============================] - 9s 17ms/step - loss: 0.2731 - accuracy: 0.9218\n",
            "Epoch 2/2\n",
            "361/361 [==============================] - 6s 16ms/step - loss: 0.1457 - accuracy: 0.9610\n",
            "2020-12-23 03:46:03.009963: I tensorflow/core/profiler/lib/profiler_session.cc:136] Profiler session initializing.\n",
            "2020-12-23 03:46:03.010003: I tensorflow/core/profiler/lib/profiler_session.cc:155] Profiler session started.\n",
            "2020-12-23 03:46:03.010066: I tensorflow/core/profiler/lib/profiler_session.cc:172] Profiler session tear down.\n",
            "2020-12-23 03:46:03.010126: I tensorflow/core/profiler/internal/gpu/cupti_tracer.cc:1487] CUPTI activity buffer flushed\n",
            "Epoch 1/2\n",
            "  1/361 [..............................] - ETA: 13:09 - loss: 0.0652 - accuracy: 0.96882020-12-23 03:46:05.522023: I tensorflow/core/profiler/lib/profiler_session.cc:136] Profiler session initializing.\n",
            "2020-12-23 03:46:05.522070: I tensorflow/core/profiler/lib/profiler_session.cc:155] Profiler session started.\n",
            "  2/361 [..............................] - ETA: 25s - loss: 0.0776 - accuracy: 0.9688  2020-12-23 03:46:05.655313: I tensorflow/core/profiler/lib/profiler_session.cc:71] Profiler session collecting data.\n",
            "2020-12-23 03:46:05.655988: I tensorflow/core/profiler/internal/gpu/cupti_tracer.cc:1487] CUPTI activity buffer flushed\n",
            "2020-12-23 03:46:05.658413: I tensorflow/core/profiler/internal/gpu/cupti_collector.cc:228]  GpuTracer has collected 252 callback api events and 240 activity events. \n",
            "2020-12-23 03:46:05.664221: I tensorflow/core/profiler/lib/profiler_session.cc:172] Profiler session tear down.\n",
            "2020-12-23 03:46:05.672250: I tensorflow/core/profiler/rpc/client/save_profile.cc:137] Creating directory: /tmp/tmplrqs5rx9/train/plugins/profile/2020_12_23_03_46_05\n",
            "2020-12-23 03:46:05.678897: I tensorflow/core/profiler/rpc/client/save_profile.cc:143] Dumped gzipped tool data for trace.json.gz to /tmp/tmplrqs5rx9/train/plugins/profile/2020_12_23_03_46_05/03d8fc66c6a1.trace.json.gz\n",
            "2020-12-23 03:46:05.692971: I tensorflow/core/profiler/rpc/client/save_profile.cc:137] Creating directory: /tmp/tmplrqs5rx9/train/plugins/profile/2020_12_23_03_46_05\n",
            "2020-12-23 03:46:05.695474: I tensorflow/core/profiler/rpc/client/save_profile.cc:143] Dumped gzipped tool data for memory_profile.json.gz to /tmp/tmplrqs5rx9/train/plugins/profile/2020_12_23_03_46_05/03d8fc66c6a1.memory_profile.json.gz\n",
            "2020-12-23 03:46:05.696147: I tensorflow/core/profiler/rpc/client/capture_profile.cc:251] Creating directory: /tmp/tmplrqs5rx9/train/plugins/profile/2020_12_23_03_46_05Dumped tool data for xplane.pb to /tmp/tmplrqs5rx9/train/plugins/profile/2020_12_23_03_46_05/03d8fc66c6a1.xplane.pb\n",
            "Dumped tool data for overview_page.pb to /tmp/tmplrqs5rx9/train/plugins/profile/2020_12_23_03_46_05/03d8fc66c6a1.overview_page.pb\n",
            "Dumped tool data for input_pipeline.pb to /tmp/tmplrqs5rx9/train/plugins/profile/2020_12_23_03_46_05/03d8fc66c6a1.input_pipeline.pb\n",
            "Dumped tool data for tensorflow_stats.pb to /tmp/tmplrqs5rx9/train/plugins/profile/2020_12_23_03_46_05/03d8fc66c6a1.tensorflow_stats.pb\n",
            "Dumped tool data for kernel_stats.pb to /tmp/tmplrqs5rx9/train/plugins/profile/2020_12_23_03_46_05/03d8fc66c6a1.kernel_stats.pb\n",
            "\n",
            "  3/361 [..............................] - ETA: 44s - loss: 0.0726 - accuracy: 0.9722WARNING:tensorflow:Callback method `on_train_batch_end` is slow compared to the batch time (batch time: 0.0116s vs `on_train_batch_end` time: 0.0367s). Check your callbacks.\n",
            "361/361 [==============================] - 8s 15ms/step - loss: 0.1753 - accuracy: 0.9509\n",
            "Epoch 2/2\n",
            "361/361 [==============================] - 6s 16ms/step - loss: 0.1029 - accuracy: 0.9672\n",
            "Model: \"model_1\"\n",
            "__________________________________________________________________________________________________\n",
            "Layer (type)                    Output Shape         Param #     Connected to                     \n",
            "==================================================================================================\n",
            "input (InputLayer)              [(None, 55, 47, 3)]  0                                            \n",
            "__________________________________________________________________________________________________\n",
            "prune_low_magnitude_conv_1 (Pru (None, 52, 44, 20)   1942        input[0][0]                      \n",
            "__________________________________________________________________________________________________\n",
            "prune_low_magnitude_pool_1 (Pru (None, 26, 22, 20)   1           prune_low_magnitude_conv_1[0][0] \n",
            "__________________________________________________________________________________________________\n",
            "prune_low_magnitude_conv_2 (Pru (None, 24, 20, 40)   14442       prune_low_magnitude_pool_1[0][0] \n",
            "__________________________________________________________________________________________________\n",
            "prune_low_magnitude_pool_2 (Pru (None, 12, 10, 40)   1           prune_low_magnitude_conv_2[0][0] \n",
            "__________________________________________________________________________________________________\n",
            "prune_low_magnitude_conv_3 (Pru (None, 10, 8, 60)    43262       prune_low_magnitude_pool_2[0][0] \n",
            "__________________________________________________________________________________________________\n",
            "prune_low_magnitude_pool_3 (Pru (None, 5, 4, 60)     1           prune_low_magnitude_conv_3[0][0] \n",
            "__________________________________________________________________________________________________\n",
            "prune_low_magnitude_conv_4 (Pru (None, 4, 3, 80)     38482       prune_low_magnitude_pool_3[0][0] \n",
            "__________________________________________________________________________________________________\n",
            "prune_low_magnitude_flatten_1 ( (None, 1200)         1           prune_low_magnitude_pool_3[0][0] \n",
            "__________________________________________________________________________________________________\n",
            "prune_low_magnitude_flatten_2 ( (None, 960)          1           prune_low_magnitude_conv_4[0][0] \n",
            "__________________________________________________________________________________________________\n",
            "prune_low_magnitude_fc_1 (Prune (None, 160)          384162      prune_low_magnitude_flatten_1[0][\n",
            "__________________________________________________________________________________________________\n",
            "prune_low_magnitude_fc_2 (Prune (None, 160)          307362      prune_low_magnitude_flatten_2[0][\n",
            "__________________________________________________________________________________________________\n",
            "prune_low_magnitude_add_1 (Prun (None, 160)          1           prune_low_magnitude_fc_1[0][0]   \n",
            "                                                                 prune_low_magnitude_fc_2[0][0]   \n",
            "__________________________________________________________________________________________________\n",
            "prune_low_magnitude_activation_ (None, 160)          1           prune_low_magnitude_add_1[0][0]  \n",
            "__________________________________________________________________________________________________\n",
            "prune_low_magnitude_output (Pru (None, 1283)         411845      prune_low_magnitude_activation_1[\n",
            "==================================================================================================\n",
            "Total params: 1,201,504\n",
            "Trainable params: 601,643\n",
            "Non-trainable params: 599,861\n",
            "__________________________________________________________________________________________________\n",
            "Pruned model summary:  None\n",
            "Epoch 1/5\n",
            "361/361 [==============================] - 6s 12ms/step - loss: 0.0435 - accuracy: 0.9862\n",
            "Epoch 2/5\n",
            "361/361 [==============================] - 4s 12ms/step - loss: 0.0261 - accuracy: 0.9926\n",
            "Epoch 3/5\n",
            "361/361 [==============================] - 4s 12ms/step - loss: 0.0161 - accuracy: 0.9965\n",
            "Epoch 4/5\n",
            "361/361 [==============================] - 4s 12ms/step - loss: 0.0103 - accuracy: 0.9981\n",
            "Epoch 5/5\n",
            "361/361 [==============================] - 4s 11ms/step - loss: 0.0094 - accuracy: 0.9983\n",
            "401/401 [==============================] - 2s 4ms/step - loss: 0.7547 - accuracy: 0.9068\n",
            "401/401 [==============================] - 1s 4ms/step - loss: 19.3538 - accuracy: 0.0085\n",
            "2020-12-23 03:46:45.591251: W tensorflow/core/framework/cpu_allocator_impl.cc:80] Allocation of 65843560 exceeds 10% of free system memory.\n",
            "Validating repaired model with test data:  0.9067809820732657\n",
            "Done\n",
            "RAM cleaned\n"
          ],
          "name": "stdout"
        }
      ]
    }
  ]
}